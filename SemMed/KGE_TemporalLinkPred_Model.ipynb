{
 "cells": [
  {
   "cell_type": "markdown",
   "id": "07b78d82-c8c2-46db-93d3-102da541def2",
   "metadata": {},
   "source": [
    "* Play a little with KG embedding learning from semmed kg. - For link prediction without predicates. i.e naive graph link prediction\n",
    "* Note: `Subject : Predicate -> Object`\n",
    "    \n",
    "  * PyKeen , DL-KGE...\n",
    "  * Could use StellarGraph (keras friendly but needs old python version)? https://stellargraph.readthedocs.io/en/stable/demos/link-prediction/gcn-link-prediction.html ,\n",
    "  * Ampligraph (Also tensorflow friendly) - https://docs.ampligraph.org/en/latest/examples.html\n",
    "* https://pykeen.github.io/2020/08/07/benchmarking.html\n",
    "    * rotatE, TuckER, TransE - do well\n",
    " \n",
    "Relevant other paper did Trans-E on semmed : *\"Evaluating Explanations from AI Algorithms for Clinical Decision-Making: A Social Science-based Approach\"*\n",
    "\n",
    "\n",
    "* pyKeen + curie biomed text represntations from entities to text (e.g. for transformer text rep) ; https://pykeen.readthedocs.io/en/stable/api/pykeen.nn.representation.BiomedicalCURIERepresentation.html#pykeen.nn.representation.BiomedicalCURIERepresentation\n",
    "\n",
    "* * Load Pretrained models/representation, e.g. cui2vec : https://github.com/pykeen/pykeen/issues/637\n",
    "  *  load init - https://pykeen.readthedocs.io/en/v1.8.1/reference/nn/init.html"
   ]
  },
  {
   "cell_type": "code",
   "execution_count": 1,
   "id": "ba3b5a99-84bb-4968-8964-5ae125340e39",
   "metadata": {},
   "outputs": [],
   "source": [
    "MIN_EVIDENCE = 2#1#3#5 # filter counts/num of cases /pmids it appeared in - proxy to reduce noise\n",
    "# MIN_ENT_FREQ = 150#250#80#140#210 # keep only cases with this many occurrences\n",
    "\n",
    "# MIN_EVIDENCE = 1\n",
    "MIN_ENT_FREQ = 80#250#80#140#210 # keep only cases with this many occurrences\n",
    "\n",
    "REMOVE_NEG_PREDICATES = True # remove predicates containnig \"neg\" as I don't know if we want them for now\n",
    "\n",
    "# RETRAIN_KG_MODEL = False#True#False\n",
    "RETRAIN_KG_MODEL = True\n",
    "\n",
    "SAVE_MODEL = True#False\n",
    "\n",
    "PipeName = \"min1_80\""
   ]
  },
  {
   "cell_type": "code",
   "execution_count": 2,
   "id": "c3933c17-e187-43d0-b554-4ce13e59b58b",
   "metadata": {},
   "outputs": [],
   "source": [
    "# !export PYTORCH_ENABLE_MPS_FALLBACK=1"
   ]
  },
  {
   "cell_type": "code",
   "execution_count": 3,
   "id": "81f740d6-6a24-4e99-97ca-b9e4dd650549",
   "metadata": {},
   "outputs": [],
   "source": [
    "import pandas as pd\n",
    "import numpy as np\n",
    "## scispacy, medspacy, medcat, quickumls, semrep...\n",
    "# import spacy"
   ]
  },
  {
   "cell_type": "code",
   "execution_count": 4,
   "id": "c5f194b1-83f7-4744-9246-e2fcf00391b5",
   "metadata": {},
   "outputs": [
    {
     "data": {
      "text/plain": [
       "6"
      ]
     },
     "execution_count": 4,
     "metadata": {},
     "output_type": "execute_result"
    }
   ],
   "source": [
    "from pykeen.pipeline import pipeline\n",
    "from pykeen.models import TransE\n",
    "from pykeen.triples import TriplesFactory\n",
    "# from pykeen.models.predict import get_tail_prediction_df\n",
    "# https://pykeen.readthedocs.io/en/v1.10.2/api/pykeen.predict.predict_target.html#pykeen.predict.predict_target\n",
    "from pykeen.predict import predict_target\n",
    "\n",
    "# # https://pykeen.readthedocs.io/en/latest/tutorial/inductive_lp.html#label-based-transformer-representation\n",
    "# ### \"This is work in progress and not yet available.\" # pykeen.nn.representation import LabelBasedTransformerRepresentation\n",
    "\n",
    "## https://pykeen.readthedocs.io/en/latest/api/pykeen.nn.init.LabelBasedInitializer.html\n",
    "## Initialize entity representations as Transformer encodings of their labels. \n",
    "from pykeen.nn.init import LabelBasedInitializer\n",
    "from pykeen.models import ERMLPE, ERModel\n",
    "from pykeen.pipeline import pipeline\n",
    "from pykeen.datasets import get_dataset\n",
    "from pykeen.nn import TextRepresentation\n",
    "from pykeen.datasets import get_dataset\n",
    "from pykeen.models import ERModel, RotatE, TransR\n",
    "from pykeen.nn.init import LabelBasedInitializer\n",
    "from pykeen.pipeline import pipeline\n",
    "import torch\n",
    "import gc\n",
    "from pykeen.evaluation import RankBasedEvaluator, SampledRankBasedEvaluator\n",
    "\n",
    "from pykeen.nn.init import PretrainedInitializer, RandomWalkPositionalEncodingInitializer, LabelBasedInitializer\n",
    "## https://pykeen.readthedocs.io/en/v1.10.2/api/pykeen.nn.init.LabelBasedInitializer.html#pykeen.nn.init.LabelBasedInitializer\n",
    "\n",
    "torch.cuda.empty_cache()\n",
    "gc.collect()"
   ]
  },
  {
   "cell_type": "code",
   "execution_count": 5,
   "id": "c4e8d3c6-e190-4fe9-8acf-f981b655d244",
   "metadata": {},
   "outputs": [],
   "source": [
    "# ## load saved chkpoint from pykeen dir\n",
    "# ## https://pykeen.readthedocs.io/en/stable/tutorial/checkpoints.html\n",
    "# import torch\n",
    "# from pykeen.constants import PYKEEN_CHECKPOINTS\n",
    "# from pykeen.pipeline import pipeline\n",
    "# from pykeen.triples import TriplesFactory\n",
    "# # checkpoint = torch.load(PYKEEN_CHECKPOINTS.joinpath('my_checkpoint.pt'))\n",
    "\n",
    "# # ## more styeps\n",
    "\n",
    "# # from pykeen.models import TransE\n",
    "# # my_model = TransE(triples_factory=train)\n",
    "# # my_model.load_state_dict(checkpoint['model_state_dict'])"
   ]
  },
  {
   "cell_type": "markdown",
   "id": "551303c0-5982-49dd-95c5-43285d1aa0ce",
   "metadata": {},
   "source": [
    "#### candidate_features names_list = names of features selected in previous stages\n",
    "* candidate_feature_names_list - text names - free text. Made manually\n",
    "* Other: CUIs list (CUIs linked to feature names + target cuis)"
   ]
  },
  {
   "cell_type": "code",
   "execution_count": 6,
   "id": "3902e005-a723-4f6a-86fd-e984a38520cf",
   "metadata": {},
   "outputs": [
    {
     "data": {
      "text/plain": [
       "150"
      ]
     },
     "execution_count": 6,
     "metadata": {},
     "output_type": "execute_result"
    }
   ],
   "source": [
    "candidate_feature_names_list = pd.read_csv(\"../cand_feature_names.csv\",header=None,quoting=1)[0]\n",
    "len(candidate_feature_names_list)"
   ]
  },
  {
   "cell_type": "markdown",
   "id": "7c7adb16-dfda-4a54-a841-8e2a78d85fb9",
   "metadata": {},
   "source": [
    "* NOTE: Not all the CUIs are found i nthe KG, even without any frequency filtering"
   ]
  },
  {
   "cell_type": "code",
   "execution_count": 7,
   "id": "38d12b26-635f-4d13-9ef6-1b66f5176025",
   "metadata": {},
   "outputs": [
    {
     "data": {
      "text/html": [
       "<div>\n",
       "<style scoped>\n",
       "    .dataframe tbody tr th:only-of-type {\n",
       "        vertical-align: middle;\n",
       "    }\n",
       "\n",
       "    .dataframe tbody tr th {\n",
       "        vertical-align: top;\n",
       "    }\n",
       "\n",
       "    .dataframe thead th {\n",
       "        text-align: right;\n",
       "    }\n",
       "</style>\n",
       "<table border=\"1\" class=\"dataframe\">\n",
       "  <thead>\n",
       "    <tr style=\"text-align: right;\">\n",
       "      <th></th>\n",
       "      <th>feature_name</th>\n",
       "      <th>cui</th>\n",
       "      <th>cui_nomenclature</th>\n",
       "      <th>KG_Hits</th>\n",
       "      <th>feature_level_min_kg_hits</th>\n",
       "      <th>feature_level_max_kg_hits</th>\n",
       "    </tr>\n",
       "  </thead>\n",
       "  <tbody>\n",
       "    <tr>\n",
       "      <th>0</th>\n",
       "      <td>HDL cholesterol Blood biochemistry</td>\n",
       "      <td>C0023822</td>\n",
       "      <td>High Density Lipoprotein Cholesterol</td>\n",
       "      <td>2</td>\n",
       "      <td>0</td>\n",
       "      <td>2</td>\n",
       "    </tr>\n",
       "    <tr>\n",
       "      <th>1</th>\n",
       "      <td>HDL cholesterol Blood biochemistry</td>\n",
       "      <td>C0428472</td>\n",
       "      <td>Serum HDL cholesterol measurement</td>\n",
       "      <td>0</td>\n",
       "      <td>0</td>\n",
       "      <td>2</td>\n",
       "    </tr>\n",
       "    <tr>\n",
       "      <th>2</th>\n",
       "      <td>HDL cholesterol Blood biochemistry</td>\n",
       "      <td>C2357172</td>\n",
       "      <td>Cholesterol.in HDL</td>\n",
       "      <td>0</td>\n",
       "      <td>0</td>\n",
       "      <td>2</td>\n",
       "    </tr>\n",
       "    <tr>\n",
       "      <th>3</th>\n",
       "      <td>HDL cholesterol Blood biochemistry</td>\n",
       "      <td>C0018667</td>\n",
       "      <td>Cholesterol, HDL2</td>\n",
       "      <td>0</td>\n",
       "      <td>0</td>\n",
       "      <td>2</td>\n",
       "    </tr>\n",
       "    <tr>\n",
       "      <th>4</th>\n",
       "      <td>HDL cholesterol Blood biochemistry</td>\n",
       "      <td>C0018668</td>\n",
       "      <td>Cholesterol, HDL3</td>\n",
       "      <td>0</td>\n",
       "      <td>0</td>\n",
       "      <td>2</td>\n",
       "    </tr>\n",
       "    <tr>\n",
       "      <th>...</th>\n",
       "      <td>...</td>\n",
       "      <td>...</td>\n",
       "      <td>...</td>\n",
       "      <td>...</td>\n",
       "      <td>...</td>\n",
       "      <td>...</td>\n",
       "    </tr>\n",
       "    <tr>\n",
       "      <th>732</th>\n",
       "      <td>Cancer of oropharynx</td>\n",
       "      <td>C0006826</td>\n",
       "      <td>Malignant Neoplasms</td>\n",
       "      <td>5</td>\n",
       "      <td>0</td>\n",
       "      <td>5</td>\n",
       "    </tr>\n",
       "    <tr>\n",
       "      <th>733</th>\n",
       "      <td>Cancer of oropharynx</td>\n",
       "      <td>C0998265</td>\n",
       "      <td>Cancer Genus</td>\n",
       "      <td>0</td>\n",
       "      <td>0</td>\n",
       "      <td>5</td>\n",
       "    </tr>\n",
       "    <tr>\n",
       "      <th>734</th>\n",
       "      <td>Cancer of oropharynx</td>\n",
       "      <td>C1306459</td>\n",
       "      <td>Primary malignant neoplasm</td>\n",
       "      <td>0</td>\n",
       "      <td>0</td>\n",
       "      <td>5</td>\n",
       "    </tr>\n",
       "    <tr>\n",
       "      <th>735</th>\n",
       "      <td>Cancer of oropharynx</td>\n",
       "      <td>C1547140</td>\n",
       "      <td>Specialty Type - cancer</td>\n",
       "      <td>0</td>\n",
       "      <td>0</td>\n",
       "      <td>5</td>\n",
       "    </tr>\n",
       "    <tr>\n",
       "      <th>736</th>\n",
       "      <td>Cancer of oropharynx</td>\n",
       "      <td>C2707253</td>\n",
       "      <td>Cancer:-:Point in time:^Patient:-</td>\n",
       "      <td>0</td>\n",
       "      <td>0</td>\n",
       "      <td>5</td>\n",
       "    </tr>\n",
       "  </tbody>\n",
       "</table>\n",
       "<p>737 rows × 6 columns</p>\n",
       "</div>"
      ],
      "text/plain": [
       "                           feature_name       cui  \\\n",
       "0    HDL cholesterol Blood biochemistry  C0023822   \n",
       "1    HDL cholesterol Blood biochemistry  C0428472   \n",
       "2    HDL cholesterol Blood biochemistry  C2357172   \n",
       "3    HDL cholesterol Blood biochemistry  C0018667   \n",
       "4    HDL cholesterol Blood biochemistry  C0018668   \n",
       "..                                  ...       ...   \n",
       "732                Cancer of oropharynx  C0006826   \n",
       "733                Cancer of oropharynx  C0998265   \n",
       "734                Cancer of oropharynx  C1306459   \n",
       "735                Cancer of oropharynx  C1547140   \n",
       "736                Cancer of oropharynx  C2707253   \n",
       "\n",
       "                         cui_nomenclature  KG_Hits  feature_level_min_kg_hits  \\\n",
       "0    High Density Lipoprotein Cholesterol        2                          0   \n",
       "1       Serum HDL cholesterol measurement        0                          0   \n",
       "2                      Cholesterol.in HDL        0                          0   \n",
       "3                       Cholesterol, HDL2        0                          0   \n",
       "4                       Cholesterol, HDL3        0                          0   \n",
       "..                                    ...      ...                        ...   \n",
       "732                   Malignant Neoplasms        5                          0   \n",
       "733                          Cancer Genus        0                          0   \n",
       "734            Primary malignant neoplasm        0                          0   \n",
       "735               Specialty Type - cancer        0                          0   \n",
       "736     Cancer:-:Point in time:^Patient:-        0                          0   \n",
       "\n",
       "     feature_level_max_kg_hits  \n",
       "0                            2  \n",
       "1                            2  \n",
       "2                            2  \n",
       "3                            2  \n",
       "4                            2  \n",
       "..                         ...  \n",
       "732                          5  \n",
       "733                          5  \n",
       "734                          5  \n",
       "735                          5  \n",
       "736                          5  \n",
       "\n",
       "[737 rows x 6 columns]"
      ]
     },
     "metadata": {},
     "output_type": "display_data"
    },
    {
     "name": "stdout",
     "output_type": "stream",
     "text": [
      "411\n"
     ]
    }
   ],
   "source": [
    "df_candidates = pd.read_csv(\"../candidate_novel_cuis.csv\").drop_duplicates()\n",
    "display(df_candidates)\n",
    "candidate_feature_cuis_list = df_candidates[\"cui\"].drop_duplicates()\n",
    "print(len(candidate_feature_cuis_list))"
   ]
  },
  {
   "cell_type": "markdown",
   "id": "94b54cd4-c36c-4643-998a-e924961f17e4",
   "metadata": {},
   "source": [
    "#### Load KG and filter rare entities/relations\n",
    "* `first_year_pair` - first time pair of subject, object occurred.\n",
    "* `first_year_triple`"
   ]
  },
  {
   "cell_type": "code",
   "execution_count": 8,
   "id": "a6f10df6-3c0c-4e0e-b561-800cd0ab6fe3",
   "metadata": {},
   "outputs": [],
   "source": [
    "def check_kg_cui_overlap(df_kg,candidate_feature_cuis_list,return_all_ents = False):\n",
    "    ## check coverage of candidate CUIs in raw data  pre frequency filtering - should be 100% !\n",
    "    all_entities_list = set(df_kg[\"SUBJECT_CUI\"].unique()).union(df_kg[\"OBJECT_CUI\"].unique())\n",
    "    print(len(all_entities_list),\"# Total entities in raw data\")\n",
    "    num_candidate_cuis_covered_raw = len(set(candidate_feature_cuis_list).intersection(all_entities_list))\n",
    "    ## warning: only ~80% covered\n",
    "    print(\"% Candidate novel CUIs coverage possible data\",round(100*num_candidate_cuis_covered_raw/len(candidate_feature_cuis_list),2))\n",
    "    if return_all_ents:\n",
    "        return all_entities_list  "
   ]
  },
  {
   "cell_type": "code",
   "execution_count": 9,
   "id": "e24035b4-358c-4703-9eb4-2a6c423551c2",
   "metadata": {},
   "outputs": [
    {
     "name": "stdout",
     "output_type": "stream",
     "text": [
      "27350322\n",
      "393509 # Total entities in raw data\n",
      "% Candidate novel CUIs coverage possible data 80.05\n",
      "416050 df_map\n",
      "25677725 without neg predicates\n",
      "After filtering min count 8097789\n"
     ]
    },
    {
     "name": "stderr",
     "output_type": "stream",
     "text": [
      "<timed exec>:20: FutureWarning: The default of observed=False is deprecated and will be changed to True in a future version of pandas. Pass observed=False to retain current behavior or observed=True to adopt the future default and silence this warning.\n",
      "<timed exec>:20: FutureWarning: The default of observed=False is deprecated and will be changed to True in a future version of pandas. Pass observed=False to retain current behavior or observed=True to adopt the future default and silence this warning.\n",
      "<timed exec>:21: FutureWarning: The default of observed=False is deprecated and will be changed to True in a future version of pandas. Pass observed=False to retain current behavior or observed=True to adopt the future default and silence this warning.\n"
     ]
    },
    {
     "name": "stdout",
     "output_type": "stream",
     "text": [
      "After filtering entity count 1 5371466\n"
     ]
    },
    {
     "name": "stderr",
     "output_type": "stream",
     "text": [
      "<timed exec>:26: FutureWarning: The default of observed=False is deprecated and will be changed to True in a future version of pandas. Pass observed=False to retain current behavior or observed=True to adopt the future default and silence this warning.\n",
      "<timed exec>:26: FutureWarning: The default of observed=False is deprecated and will be changed to True in a future version of pandas. Pass observed=False to retain current behavior or observed=True to adopt the future default and silence this warning.\n",
      "<timed exec>:27: FutureWarning: The default of observed=False is deprecated and will be changed to True in a future version of pandas. Pass observed=False to retain current behavior or observed=True to adopt the future default and silence this warning.\n",
      "<timed exec>:28: FutureWarning: The default of observed=False is deprecated and will be changed to True in a future version of pandas. Pass observed=False to retain current behavior or observed=True to adopt the future default and silence this warning.\n",
      "<timed exec>:28: FutureWarning: The default of observed=False is deprecated and will be changed to True in a future version of pandas. Pass observed=False to retain current behavior or observed=True to adopt the future default and silence this warning.\n",
      "<timed exec>:29: FutureWarning: The default of observed=False is deprecated and will be changed to True in a future version of pandas. Pass observed=False to retain current behavior or observed=True to adopt the future default and silence this warning.\n",
      "<timed exec>:30: FutureWarning: The default of observed=False is deprecated and will be changed to True in a future version of pandas. Pass observed=False to retain current behavior or observed=True to adopt the future default and silence this warning.\n",
      "<timed exec>:30: FutureWarning: The default of observed=False is deprecated and will be changed to True in a future version of pandas. Pass observed=False to retain current behavior or observed=True to adopt the future default and silence this warning.\n",
      "<timed exec>:31: FutureWarning: The default of observed=False is deprecated and will be changed to True in a future version of pandas. Pass observed=False to retain current behavior or observed=True to adopt the future default and silence this warning.\n"
     ]
    },
    {
     "name": "stdout",
     "output_type": "stream",
     "text": [
      "After filtering entity count 2 5158096\n",
      "5158096\n",
      "SUBJECT_CUI        13383\n",
      "SUBJECT_NAME       16295\n",
      "PREDICATE             31\n",
      "OBJECT_CUI         11746\n",
      "OBJECT_NAME        14208\n",
      "first_year_pair      244\n",
      "counts              3880\n",
      "dtype: int64\n",
      "15780 # Total entities in raw data\n",
      "% Candidate novel CUIs coverage possible data 49.39\n",
      "5157219 Without |'s\n",
      "CPU times: user 31.4 s, sys: 13.6 s, total: 45 s\n",
      "Wall time: 38.7 s\n"
     ]
    },
    {
     "data": {
      "text/html": [
       "<div>\n",
       "<style scoped>\n",
       "    .dataframe tbody tr th:only-of-type {\n",
       "        vertical-align: middle;\n",
       "    }\n",
       "\n",
       "    .dataframe tbody tr th {\n",
       "        vertical-align: top;\n",
       "    }\n",
       "\n",
       "    .dataframe thead th {\n",
       "        text-align: right;\n",
       "    }\n",
       "</style>\n",
       "<table border=\"1\" class=\"dataframe\">\n",
       "  <thead>\n",
       "    <tr style=\"text-align: right;\">\n",
       "      <th></th>\n",
       "      <th>SUBJECT_CUI</th>\n",
       "      <th>SUBJECT_NAME</th>\n",
       "      <th>PREDICATE</th>\n",
       "      <th>OBJECT_CUI</th>\n",
       "      <th>OBJECT_NAME</th>\n",
       "      <th>first_year_pair</th>\n",
       "    </tr>\n",
       "  </thead>\n",
       "  <tbody>\n",
       "    <tr>\n",
       "      <th>0</th>\n",
       "      <td>C0087111</td>\n",
       "      <td>Therapeutic procedure</td>\n",
       "      <td>TREATS</td>\n",
       "      <td>C0030705</td>\n",
       "      <td>Patients</td>\n",
       "      <td>1902</td>\n",
       "    </tr>\n",
       "    <tr>\n",
       "      <th>2</th>\n",
       "      <td>C0012634</td>\n",
       "      <td>Disease</td>\n",
       "      <td>PROCESS_OF</td>\n",
       "      <td>C0030705</td>\n",
       "      <td>Patients</td>\n",
       "      <td>1902</td>\n",
       "    </tr>\n",
       "    <tr>\n",
       "      <th>3</th>\n",
       "      <td>C0543467</td>\n",
       "      <td>Operative Surgical Procedures</td>\n",
       "      <td>TREATS</td>\n",
       "      <td>C0030705</td>\n",
       "      <td>Patients</td>\n",
       "      <td>1821</td>\n",
       "    </tr>\n",
       "    <tr>\n",
       "      <th>4</th>\n",
       "      <td>C1457887</td>\n",
       "      <td>Symptoms</td>\n",
       "      <td>PROCESS_OF</td>\n",
       "      <td>C0030705</td>\n",
       "      <td>Patients</td>\n",
       "      <td>1898</td>\n",
       "    </tr>\n",
       "    <tr>\n",
       "      <th>5</th>\n",
       "      <td>C0006826</td>\n",
       "      <td>Malignant Neoplasms</td>\n",
       "      <td>PROCESS_OF</td>\n",
       "      <td>C0030705</td>\n",
       "      <td>Patients</td>\n",
       "      <td>1829</td>\n",
       "    </tr>\n",
       "    <tr>\n",
       "      <th>...</th>\n",
       "      <td>...</td>\n",
       "      <td>...</td>\n",
       "      <td>...</td>\n",
       "      <td>...</td>\n",
       "      <td>...</td>\n",
       "      <td>...</td>\n",
       "    </tr>\n",
       "    <tr>\n",
       "      <th>5158091</th>\n",
       "      <td>10002</td>\n",
       "      <td>NR2E3</td>\n",
       "      <td>AFFECTS</td>\n",
       "      <td>C0007590</td>\n",
       "      <td>Cell division</td>\n",
       "      <td>1993</td>\n",
       "    </tr>\n",
       "    <tr>\n",
       "      <th>5158092</th>\n",
       "      <td>10002</td>\n",
       "      <td>NR2E3</td>\n",
       "      <td>ADMINISTERED_TO</td>\n",
       "      <td>C0872076</td>\n",
       "      <td>Pluripotent Stem Cells</td>\n",
       "      <td>2008</td>\n",
       "    </tr>\n",
       "    <tr>\n",
       "      <th>5158093</th>\n",
       "      <td>10002</td>\n",
       "      <td>NR2E3</td>\n",
       "      <td>ADMINISTERED_TO</td>\n",
       "      <td>C0872076</td>\n",
       "      <td>Pluripotent Stem Cells</td>\n",
       "      <td>2008</td>\n",
       "    </tr>\n",
       "    <tr>\n",
       "      <th>5158094</th>\n",
       "      <td>10002</td>\n",
       "      <td>NR2E3</td>\n",
       "      <td>ADMINISTERED_TO</td>\n",
       "      <td>C0227525</td>\n",
       "      <td>Hepatocyte</td>\n",
       "      <td>2014</td>\n",
       "    </tr>\n",
       "    <tr>\n",
       "      <th>5158095</th>\n",
       "      <td>10002</td>\n",
       "      <td>NR2E3</td>\n",
       "      <td>ADMINISTERED_TO</td>\n",
       "      <td>C0027882</td>\n",
       "      <td>Neurons</td>\n",
       "      <td>2005</td>\n",
       "    </tr>\n",
       "  </tbody>\n",
       "</table>\n",
       "<p>5157219 rows × 6 columns</p>\n",
       "</div>"
      ],
      "text/plain": [
       "        SUBJECT_CUI                   SUBJECT_NAME        PREDICATE  \\\n",
       "0          C0087111          Therapeutic procedure           TREATS   \n",
       "2          C0012634                        Disease       PROCESS_OF   \n",
       "3          C0543467  Operative Surgical Procedures           TREATS   \n",
       "4          C1457887                       Symptoms       PROCESS_OF   \n",
       "5          C0006826            Malignant Neoplasms       PROCESS_OF   \n",
       "...             ...                            ...              ...   \n",
       "5158091       10002                          NR2E3          AFFECTS   \n",
       "5158092       10002                          NR2E3  ADMINISTERED_TO   \n",
       "5158093       10002                          NR2E3  ADMINISTERED_TO   \n",
       "5158094       10002                          NR2E3  ADMINISTERED_TO   \n",
       "5158095       10002                          NR2E3  ADMINISTERED_TO   \n",
       "\n",
       "        OBJECT_CUI             OBJECT_NAME  first_year_pair  \n",
       "0         C0030705                Patients             1902  \n",
       "2         C0030705                Patients             1902  \n",
       "3         C0030705                Patients             1821  \n",
       "4         C0030705                Patients             1898  \n",
       "5         C0030705                Patients             1829  \n",
       "...            ...                     ...              ...  \n",
       "5158091   C0007590           Cell division             1993  \n",
       "5158092   C0872076  Pluripotent Stem Cells             2008  \n",
       "5158093   C0872076  Pluripotent Stem Cells             2008  \n",
       "5158094   C0227525              Hepatocyte             2014  \n",
       "5158095   C0027882                 Neurons             2005  \n",
       "\n",
       "[5157219 rows x 6 columns]"
      ]
     },
     "execution_count": 9,
     "metadata": {},
     "output_type": "execute_result"
    }
   ],
   "source": [
    "%%time\n",
    "df_kg = pd.read_parquet(\"predications.parquet\",columns=['SUBJECT_CUI', 'SUBJECT_NAME',  'PREDICATE', 'OBJECT_CUI', 'OBJECT_NAME',\n",
    "                                                        \"first_year_pair\",\"counts\"]) \n",
    "print(df_kg.shape[0])\n",
    "\n",
    "## check coverage of candidate CUIs in raw data pre frequency filtering - We see it's not 100% !\n",
    "all_entities_list = check_kg_cui_overlap(df_kg,candidate_feature_cuis_list,return_all_ents=True)\n",
    "\n",
    "# CUI - name map for all cases in dataset\n",
    "df_map = pd.concat([df_kg[['SUBJECT_CUI', 'SUBJECT_NAME']].rename(columns={'SUBJECT_NAME':\"name\",'SUBJECT_CUI':\"CUI\"}),\n",
    "          df_kg[['OBJECT_CUI', 'OBJECT_NAME']].rename(columns={'OBJECT_NAME':\"name\",'OBJECT_CUI':\"CUI\"})]).drop_duplicates() \n",
    "print(df_map.shape[0],\"df_map\")\n",
    "\n",
    "if REMOVE_NEG_PREDICATES:\n",
    "    df_kg = df_kg.loc[~df_kg[\"PREDICATE\"].str.contains(\"neg_\",case=False)]\n",
    "    print(df_kg.shape[0],\"without neg predicates\") # 26M\n",
    "\n",
    "#########\n",
    "df_kg = df_kg.loc[df_kg[\"counts\"]>=MIN_EVIDENCE].copy()\n",
    "print(\"After filtering min count\",df_kg.shape[0])\n",
    "df_kg = df_kg.loc[(df_kg.groupby(\"SUBJECT_CUI\").transform(\"size\")>MIN_ENT_FREQ) & (df_kg.groupby(\"OBJECT_CUI\").transform(\"size\")>MIN_ENT_FREQ)\\\n",
    " & (df_kg.groupby(\"PREDICATE\").transform(\"size\")>MIN_ENT_FREQ)]\n",
    "print(\"After filtering entity count 1\",df_kg.shape[0])\n",
    "# for c in df_kg.select_dtypes(\"category\").columns:\n",
    "# # remove unobserved categories, in new filtered data\n",
    "#     df_kg[c] = df_kg[c].cat.remove_unused_categories()\n",
    "df_kg = df_kg.loc[(df_kg.groupby(\"SUBJECT_CUI\").transform(\"size\")>MIN_ENT_FREQ) & (df_kg.groupby(\"OBJECT_CUI\").transform(\"size\")>MIN_ENT_FREQ)\\\n",
    "& (df_kg.groupby(\"PREDICATE\").transform(\"size\")>MIN_ENT_FREQ)]\n",
    "df_kg = df_kg.loc[(df_kg.groupby(\"SUBJECT_CUI\").transform(\"size\")>MIN_ENT_FREQ) & (df_kg.groupby(\"OBJECT_CUI\").transform(\"size\")>MIN_ENT_FREQ)\\\n",
    "& (df_kg.groupby(\"PREDICATE\").transform(\"size\")>MIN_ENT_FREQ)]\n",
    "df_kg = df_kg.loc[(df_kg.groupby(\"SUBJECT_CUI\").transform(\"size\")>MIN_ENT_FREQ) & (df_kg.groupby(\"OBJECT_CUI\").transform(\"size\")>MIN_ENT_FREQ)\\\n",
    "& (df_kg.groupby(\"PREDICATE\").transform(\"size\")>MIN_ENT_FREQ)].copy().reset_index(drop=True)\n",
    "print(\"After filtering entity count 2\",df_kg.shape[0])\n",
    "\n",
    "# for c in df_kg.select_dtypes(\"category\").columns:\n",
    "# # remove unobserved categories, in new filtered data\n",
    "#     df_kg[c] = df_kg[c].cat.remove_unused_categories()\n",
    "print(df_kg.shape[0]) # 4M\n",
    "print(df_kg.nunique())\n",
    "df_kg.drop(columns=[\"counts\"],errors=\"ignore\",inplace=True)\n",
    "\n",
    "#########\n",
    "## following now redundnat, done in advance!\n",
    "## drop ||| gene objecgts (that require exploding \n",
    "splitter_mask = (df_kg[\"SUBJECT_CUI\"].str.contains(r\"|\",case=False,regex=False)) | (df_kg[\"OBJECT_CUI\"].str.contains(r\"|\",case=False,regex=False))\n",
    "for col in df_kg.select_dtypes(include=['category']).columns:\n",
    "  df_kg[col] = df_kg[col].astype('str')\n",
    "    \n",
    "df_kg.loc[splitter_mask,\"SUBJECT_NAME\"] = df_kg.loc[splitter_mask][\"SUBJECT_NAME\"].str.split(r\"|\",regex=False,expand=True)[0]\n",
    "df_kg.loc[splitter_mask,\"OBJECT_NAME\"] = df_kg.loc[splitter_mask][\"OBJECT_NAME\"].str.split(r\"|\",regex=False,expand=True)[0]\n",
    "\n",
    "df_kg.loc[splitter_mask,\"SUBJECT_CUI\"] = df_kg.loc[splitter_mask][\"SUBJECT_CUI\"].str.split(r\"|\",regex=False,expand=True)[0]\n",
    "df_kg.loc[splitter_mask,\"OBJECT_CUI\"] = df_kg.loc[splitter_mask][\"OBJECT_CUI\"].str.split(r\"|\",regex=False,expand=True)[0]\n",
    "\n",
    "# shouldn't matter much to do this again , but why not \n",
    "df_kg = df_kg.loc[(df_kg.groupby(\"SUBJECT_CUI\").transform(\"size\")>MIN_ENT_FREQ) & (df_kg.groupby(\"OBJECT_CUI\").transform(\"size\")>MIN_ENT_FREQ)\\\n",
    "& (df_kg.groupby(\"PREDICATE\").transform(\"size\")>MIN_ENT_FREQ)]\n",
    "\n",
    "\n",
    "check_kg_cui_overlap(df_kg,candidate_feature_cuis_list)\n",
    "\n",
    "for col in df_kg.select_dtypes(include=['O']).columns:\n",
    "  df_kg[col] = df_kg[col].astype('category')\n",
    "print(df_kg.shape[0],\"Without |'s\") # 26M\n",
    "\n",
    "df_kg.reset_index(drop=True)\n",
    "\n",
    "df_kg"
   ]
  },
  {
   "cell_type": "code",
   "execution_count": 10,
   "id": "5fef979d-98ff-485d-a318-7ebf34116c1f",
   "metadata": {},
   "outputs": [
    {
     "data": {
      "text/html": [
       "<div>\n",
       "<style scoped>\n",
       "    .dataframe tbody tr th:only-of-type {\n",
       "        vertical-align: middle;\n",
       "    }\n",
       "\n",
       "    .dataframe tbody tr th {\n",
       "        vertical-align: top;\n",
       "    }\n",
       "\n",
       "    .dataframe thead th {\n",
       "        text-align: right;\n",
       "    }\n",
       "</style>\n",
       "<table border=\"1\" class=\"dataframe\">\n",
       "  <thead>\n",
       "    <tr style=\"text-align: right;\">\n",
       "      <th></th>\n",
       "      <th>feature_name</th>\n",
       "      <th>cui</th>\n",
       "      <th>cui_nomenclature</th>\n",
       "    </tr>\n",
       "  </thead>\n",
       "  <tbody>\n",
       "    <tr>\n",
       "      <th>2</th>\n",
       "      <td>HDL cholesterol Blood biochemistry</td>\n",
       "      <td>C2357172</td>\n",
       "      <td>Cholesterol.in HDL</td>\n",
       "    </tr>\n",
       "    <tr>\n",
       "      <th>11</th>\n",
       "      <td>SHBG</td>\n",
       "      <td>C0312446</td>\n",
       "      <td>Somatotropin binding globulin</td>\n",
       "    </tr>\n",
       "    <tr>\n",
       "      <th>12</th>\n",
       "      <td>SHBG</td>\n",
       "      <td>C1366439</td>\n",
       "      <td>SHBG gene</td>\n",
       "    </tr>\n",
       "    <tr>\n",
       "      <th>15</th>\n",
       "      <td>Diaphragmatic hernia</td>\n",
       "      <td>C1840643</td>\n",
       "      <td>DIAPHRAGMATIC HERNIA 1</td>\n",
       "    </tr>\n",
       "    <tr>\n",
       "      <th>16</th>\n",
       "      <td>Diaphragmatic hernia</td>\n",
       "      <td>C1857284</td>\n",
       "      <td>Diaphragmatic Hernia 2</td>\n",
       "    </tr>\n",
       "    <tr>\n",
       "      <th>...</th>\n",
       "      <td>...</td>\n",
       "      <td>...</td>\n",
       "      <td>...</td>\n",
       "    </tr>\n",
       "    <tr>\n",
       "      <th>722</th>\n",
       "      <td>Disturbance of skin sensation</td>\n",
       "      <td>C2699787</td>\n",
       "      <td>Disturbance</td>\n",
       "    </tr>\n",
       "    <tr>\n",
       "      <th>724</th>\n",
       "      <td>Iatrogenic hypotension</td>\n",
       "      <td>C0439669</td>\n",
       "      <td>iatrogenic</td>\n",
       "    </tr>\n",
       "    <tr>\n",
       "      <th>733</th>\n",
       "      <td>Cancer of oropharynx</td>\n",
       "      <td>C0998265</td>\n",
       "      <td>Cancer Genus</td>\n",
       "    </tr>\n",
       "    <tr>\n",
       "      <th>735</th>\n",
       "      <td>Cancer of oropharynx</td>\n",
       "      <td>C1547140</td>\n",
       "      <td>Specialty Type - cancer</td>\n",
       "    </tr>\n",
       "    <tr>\n",
       "      <th>736</th>\n",
       "      <td>Cancer of oropharynx</td>\n",
       "      <td>C2707253</td>\n",
       "      <td>Cancer:-:Point in time:^Patient:-</td>\n",
       "    </tr>\n",
       "  </tbody>\n",
       "</table>\n",
       "<p>249 rows × 3 columns</p>\n",
       "</div>"
      ],
      "text/plain": [
       "                           feature_name       cui  \\\n",
       "2    HDL cholesterol Blood biochemistry  C2357172   \n",
       "11                                 SHBG  C0312446   \n",
       "12                                 SHBG  C1366439   \n",
       "15                 Diaphragmatic hernia  C1840643   \n",
       "16                 Diaphragmatic hernia  C1857284   \n",
       "..                                  ...       ...   \n",
       "722       Disturbance of skin sensation  C2699787   \n",
       "724              Iatrogenic hypotension  C0439669   \n",
       "733                Cancer of oropharynx  C0998265   \n",
       "735                Cancer of oropharynx  C1547140   \n",
       "736                Cancer of oropharynx  C2707253   \n",
       "\n",
       "                      cui_nomenclature  \n",
       "2                   Cholesterol.in HDL  \n",
       "11       Somatotropin binding globulin  \n",
       "12                           SHBG gene  \n",
       "15              DIAPHRAGMATIC HERNIA 1  \n",
       "16              Diaphragmatic Hernia 2  \n",
       "..                                 ...  \n",
       "722                        Disturbance  \n",
       "724                         iatrogenic  \n",
       "733                       Cancer Genus  \n",
       "735            Specialty Type - cancer  \n",
       "736  Cancer:-:Point in time:^Patient:-  \n",
       "\n",
       "[249 rows x 3 columns]"
      ]
     },
     "execution_count": 10,
     "metadata": {},
     "output_type": "execute_result"
    }
   ],
   "source": [
    "#### CUIs that aren't found at all in our KG: \n",
    "# x1.difference(x2) and x1 - x2 return the set of all elements that are in x1 but not in x2:\n",
    "unique_candidates_list = set(candidate_feature_cuis_list).difference(all_entities_list)\n",
    "df_candidates.loc[df_candidates[\"cui\"].isin(unique_candidates_list)].select_dtypes(\"O\").drop_duplicates()"
   ]
  },
  {
   "cell_type": "code",
   "execution_count": 11,
   "id": "5f26e5c5-e841-48ee-a47d-58fd2ecea334",
   "metadata": {},
   "outputs": [
    {
     "data": {
      "text/plain": [
       "PREDICATE\n",
       "LOCATION_OF         755010\n",
       "AFFECTS             547687\n",
       "TREATS              485070\n",
       "COEXISTS_WITH       386902\n",
       "INTERACTS_WITH      371133\n",
       "PROCESS_OF          321431\n",
       "PART_OF             294990\n",
       "ASSOCIATED_WITH     257310\n",
       "CAUSES              247806\n",
       "STIMULATES          209820\n",
       "INHIBITS            157525\n",
       "AUGMENTS            139744\n",
       "DISRUPTS            117773\n",
       "USES                111862\n",
       "PREDISPOSES          97266\n",
       "PRODUCES             86740\n",
       "compared_with        86434\n",
       "DIAGNOSES            82509\n",
       "ADMINISTERED_TO      81393\n",
       "PREVENTS             69047\n",
       "ISA                  56423\n",
       "MEASURES             53522\n",
       "PRECEDES             40427\n",
       "METHOD_OF            30915\n",
       "higher_than          20580\n",
       "OCCURS_IN            19794\n",
       "MANIFESTATION_OF      9164\n",
       "CONVERTS_TO           7659\n",
       "COMPLICATES           6376\n",
       "lower_than            2758\n",
       "same_as               2149\n",
       "Name: count, dtype: int64"
      ]
     },
     "execution_count": 11,
     "metadata": {},
     "output_type": "execute_result"
    }
   ],
   "source": [
    "df_kg.PREDICATE.value_counts()"
   ]
  },
  {
   "cell_type": "code",
   "execution_count": 12,
   "id": "12862a74-71c5-4475-87af-88a24b21b5e2",
   "metadata": {},
   "outputs": [],
   "source": [
    "# ## \"novelty\" look?\n",
    "# ## partial mini list. Not exhaustive\n",
    "# subsetPredicates = {\"AFFECTS\",\"TREATS\",\"PREVENTS\",\"INHIBITS\",\"DISRUPTS\",\"INTERACTS_WITH\",\"PREDISPOSES\",\"PREVENTS\",\n",
    "#                     \"CAUSES\",\"STIMULATES\",\"AUGMENTS\",\"PREDISPOSES\",\"PRECEDES\",\n",
    "#                     \"NEG_TREATS\",\"NEG_AFFECTS\",\"NEG_PROCESS_OF\",\"NEG_ISA\",\"NEG_ASSOCIATED_WITH\",\"NEG_CAUSES\"} # made into set instead of list\n",
    "\n",
    "\n",
    "# if REMOVE_NEG_PREDICATES:\n",
    "#     subsetPredicates = [x for x in subsetPredicates if \"NEG\" not in x]\n",
    "\n",
    "# # df_kg.loc[df_kg[\"SUBJECT_NOVELTY\"] | df_kg[\"OBJECT_NOVELTY\"]].head(10)\n",
    "# df_kg.loc[(df_kg[\"OBJECT_NOVELTY\"]) & (df_kg[\"PREDICATE\"].isin(subsetPredicates))].head(4)\n",
    "\n",
    "# # subsetPredicates = dict(subsetPredicates)"
   ]
  },
  {
   "cell_type": "markdown",
   "id": "178add48-9e3d-4e46-9a9c-439943ff9bed",
   "metadata": {},
   "source": [
    "### Use only 1 predicate - link exists or not\n",
    "* Technically, directional predicate in terms of how data was"
   ]
  },
  {
   "cell_type": "code",
   "execution_count": 13,
   "id": "31acece5-fa6a-4bed-b3f4-e83a5888abf1",
   "metadata": {},
   "outputs": [
    {
     "name": "stdout",
     "output_type": "stream",
     "text": [
      "5157219\n",
      "3880242\n"
     ]
    }
   ],
   "source": [
    "df_kg[\"PREDICATE\"] = \"link\"\n",
    "print(df_kg.shape[0])\n",
    "df_kg = df_kg.sort_values([\"first_year_pair\"],ascending=True).drop_duplicates() ## maybe need to sort by dates  efore drop duplicates? \n",
    "\n",
    "print(df_kg.shape[0])"
   ]
  },
  {
   "cell_type": "code",
   "execution_count": 14,
   "id": "698e4ea8-3360-475a-a01f-4441a47734ce",
   "metadata": {},
   "outputs": [
    {
     "data": {
      "text/html": [
       "<div>\n",
       "<style scoped>\n",
       "    .dataframe tbody tr th:only-of-type {\n",
       "        vertical-align: middle;\n",
       "    }\n",
       "\n",
       "    .dataframe tbody tr th {\n",
       "        vertical-align: top;\n",
       "    }\n",
       "\n",
       "    .dataframe thead th {\n",
       "        text-align: right;\n",
       "    }\n",
       "</style>\n",
       "<table border=\"1\" class=\"dataframe\">\n",
       "  <thead>\n",
       "    <tr style=\"text-align: right;\">\n",
       "      <th></th>\n",
       "      <th>SUBJECT_CUI</th>\n",
       "      <th>SUBJECT_NAME</th>\n",
       "      <th>PREDICATE</th>\n",
       "      <th>OBJECT_CUI</th>\n",
       "      <th>OBJECT_NAME</th>\n",
       "      <th>first_year_pair</th>\n",
       "    </tr>\n",
       "  </thead>\n",
       "  <tbody>\n",
       "    <tr>\n",
       "      <th>892534</th>\n",
       "      <td>C0038999</td>\n",
       "      <td>Swelling</td>\n",
       "      <td>link</td>\n",
       "      <td>C0007457</td>\n",
       "      <td>Caucasoid Race</td>\n",
       "      <td>1781</td>\n",
       "    </tr>\n",
       "    <tr>\n",
       "      <th>465312</th>\n",
       "      <td>C0037949</td>\n",
       "      <td>Vertebral column</td>\n",
       "      <td>link</td>\n",
       "      <td>C0333519</td>\n",
       "      <td>Caries</td>\n",
       "      <td>1781</td>\n",
       "    </tr>\n",
       "    <tr>\n",
       "      <th>892535</th>\n",
       "      <td>C0038999</td>\n",
       "      <td>Swelling</td>\n",
       "      <td>link</td>\n",
       "      <td>C0007457</td>\n",
       "      <td>Caucasian</td>\n",
       "      <td>1781</td>\n",
       "    </tr>\n",
       "    <tr>\n",
       "      <th>3245483</th>\n",
       "      <td>C0005682</td>\n",
       "      <td>Bladder</td>\n",
       "      <td>link</td>\n",
       "      <td>C0016832</td>\n",
       "      <td>fungus</td>\n",
       "      <td>1782</td>\n",
       "    </tr>\n",
       "    <tr>\n",
       "      <th>159783</th>\n",
       "      <td>C0005682</td>\n",
       "      <td>Bladder</td>\n",
       "      <td>link</td>\n",
       "      <td>C0041582</td>\n",
       "      <td>Ulcer</td>\n",
       "      <td>1782</td>\n",
       "    </tr>\n",
       "    <tr>\n",
       "      <th>...</th>\n",
       "      <td>...</td>\n",
       "      <td>...</td>\n",
       "      <td>...</td>\n",
       "      <td>...</td>\n",
       "      <td>...</td>\n",
       "      <td>...</td>\n",
       "    </tr>\n",
       "    <tr>\n",
       "      <th>5088188</th>\n",
       "      <td>C0001563</td>\n",
       "      <td>Administration, Oral</td>\n",
       "      <td>link</td>\n",
       "      <td>C4324621</td>\n",
       "      <td>Opioid Use Disorder</td>\n",
       "      <td>2024</td>\n",
       "    </tr>\n",
       "    <tr>\n",
       "      <th>3337846</th>\n",
       "      <td>C3826426</td>\n",
       "      <td>Dynamics</td>\n",
       "      <td>link</td>\n",
       "      <td>C0033975</td>\n",
       "      <td>Psychotic Disorders</td>\n",
       "      <td>2024</td>\n",
       "    </tr>\n",
       "    <tr>\n",
       "      <th>5099653</th>\n",
       "      <td>C0001128</td>\n",
       "      <td>Acids</td>\n",
       "      <td>link</td>\n",
       "      <td>C4505073</td>\n",
       "      <td>Metal-Organic Frameworks</td>\n",
       "      <td>2024</td>\n",
       "    </tr>\n",
       "    <tr>\n",
       "      <th>3331076</th>\n",
       "      <td>C4699572</td>\n",
       "      <td>High probability</td>\n",
       "      <td>link</td>\n",
       "      <td>C0242665</td>\n",
       "      <td>wife</td>\n",
       "      <td>2024</td>\n",
       "    </tr>\n",
       "    <tr>\n",
       "      <th>3599292</th>\n",
       "      <td>C0819757</td>\n",
       "      <td>Structure of parenchyma of lung</td>\n",
       "      <td>link</td>\n",
       "      <td>C1426803</td>\n",
       "      <td>FNDC5 gene</td>\n",
       "      <td>2024</td>\n",
       "    </tr>\n",
       "  </tbody>\n",
       "</table>\n",
       "<p>3880242 rows × 6 columns</p>\n",
       "</div>"
      ],
      "text/plain": [
       "        SUBJECT_CUI                     SUBJECT_NAME PREDICATE OBJECT_CUI  \\\n",
       "892534     C0038999                         Swelling      link   C0007457   \n",
       "465312     C0037949                 Vertebral column      link   C0333519   \n",
       "892535     C0038999                         Swelling      link   C0007457   \n",
       "3245483    C0005682                          Bladder      link   C0016832   \n",
       "159783     C0005682                          Bladder      link   C0041582   \n",
       "...             ...                              ...       ...        ...   \n",
       "5088188    C0001563             Administration, Oral      link   C4324621   \n",
       "3337846    C3826426                         Dynamics      link   C0033975   \n",
       "5099653    C0001128                            Acids      link   C4505073   \n",
       "3331076    C4699572                 High probability      link   C0242665   \n",
       "3599292    C0819757  Structure of parenchyma of lung      link   C1426803   \n",
       "\n",
       "                      OBJECT_NAME  first_year_pair  \n",
       "892534             Caucasoid Race             1781  \n",
       "465312                     Caries             1781  \n",
       "892535                  Caucasian             1781  \n",
       "3245483                    fungus             1782  \n",
       "159783                      Ulcer             1782  \n",
       "...                           ...              ...  \n",
       "5088188       Opioid Use Disorder             2024  \n",
       "3337846       Psychotic Disorders             2024  \n",
       "5099653  Metal-Organic Frameworks             2024  \n",
       "3331076                      wife             2024  \n",
       "3599292                FNDC5 gene             2024  \n",
       "\n",
       "[3880242 rows x 6 columns]"
      ]
     },
     "execution_count": 14,
     "metadata": {},
     "output_type": "execute_result"
    }
   ],
   "source": [
    "df_kg"
   ]
  },
  {
   "cell_type": "markdown",
   "id": "19f98885-f386-4e11-95e1-b2617ac06d58",
   "metadata": {},
   "source": [
    "### Temporal train/test/val splits\n",
    "* X years, and keep if relation only appeared in later years?\n",
    "* ALT: Keep if relation appears in alter year (even if appeared before)?"
   ]
  },
  {
   "cell_type": "code",
   "execution_count": 15,
   "id": "78960df0-9ae5-45d3-a5de-f7ec7ba621de",
   "metadata": {},
   "outputs": [
    {
     "data": {
      "text/plain": [
       "count    3634395.0\n",
       "mean        1998.0\n",
       "std           14.0\n",
       "min         1969.0\n",
       "25%         1987.0\n",
       "50%         1998.0\n",
       "75%         2009.0\n",
       "max         2024.0\n",
       "Name: first_year_pair, dtype: float64"
      ]
     },
     "execution_count": 15,
     "metadata": {},
     "output_type": "execute_result"
    }
   ],
   "source": [
    "# df.query(\"counts>2 & first_year_pair>1948\")[\"first_year_pair\"].hist()\n",
    "df_kg.query(\"first_year_pair>1968\")[\"first_year_pair\"].describe().round()"
   ]
  },
  {
   "cell_type": "code",
   "execution_count": 16,
   "id": "01a2f98d-43e4-401c-81fa-25261518fed6",
   "metadata": {},
   "outputs": [
    {
     "name": "stdout",
     "output_type": "stream",
     "text": [
      "15775 # unique entities in train\n",
      "0.004206474851413442 # len(train_entities_list)/df_train.shape[0]\n",
      "Train 3750171\n",
      "df_test rows pre filt 130071\n",
      "df_test rows post filt 129626\n"
     ]
    }
   ],
   "source": [
    "df_train = df_kg.query(\"first_year_pair<=2020\")\n",
    "train_entities_list = set(df_train[\"SUBJECT_CUI\"].unique()).union(df_train[\"OBJECT_CUI\"].unique())\n",
    "print(len(train_entities_list),\"# unique entities in train\")\n",
    "print(len(train_entities_list)/df_train.shape[0],\"# len(train_entities_list)/df_train.shape[0]\")\n",
    "print(\"Train\",df_train.shape[0])\n",
    "df_test = df_kg.query(\"first_year_pair>2020\")\n",
    "print(\"df_test rows pre filt\",df_test.shape[0])\n",
    "df_test = df_test.loc[df_test[\"SUBJECT_CUI\"].isin(train_entities_list) & df_test[\"OBJECT_CUI\"].isin(train_entities_list)]\n",
    "print(\"df_test rows post filt\",df_test.shape[0])"
   ]
  },
  {
   "cell_type": "code",
   "execution_count": 17,
   "id": "ff83453b-0bb6-4abb-be31-3e92f999af03",
   "metadata": {},
   "outputs": [
    {
     "name": "stdout",
     "output_type": "stream",
     "text": [
      "129626\n",
      "SUBJECT_CUI    9917\n",
      "OBJECT_CUI     8752\n",
      "dtype: int64\n"
     ]
    },
    {
     "name": "stderr",
     "output_type": "stream",
     "text": [
      "/tmp/ipykernel_3309/2293179532.py:21: SettingWithCopyWarning: \n",
      "A value is trying to be set on a copy of a slice from a DataFrame.\n",
      "Try using .loc[row_indexer,col_indexer] = value instead\n",
      "\n",
      "See the caveats in the documentation: https://pandas.pydata.org/pandas-docs/stable/user_guide/indexing.html#returning-a-view-versus-a-copy\n",
      "  dummy.loc[:,'dummy_col'] = 1\n"
     ]
    },
    {
     "name": "stdout",
     "output_type": "stream",
     "text": [
      "128136\n",
      "SUBJECT_CUI    9912\n",
      "OBJECT_CUI     8745\n",
      "dtype: int64\n"
     ]
    }
   ],
   "source": [
    "### pandas - do anti join\n",
    "### https://stackoverflow.com/questions/38516664/anti-join-pandas\n",
    "# df_test.drop(df_test.merge(df_train,how=\"inner\",on=[\"SUBJECT_CUI\",\"OBJECT_CUI\",\"PREDICATE\"]).index)\n",
    "\n",
    "# pd.concat([df_test,\n",
    "#           df_train.loc[~df_train[\"SUBJECT_CUI\", \"OBJECT_CUI\",\n",
    "#           \"PREDICATE\"].isin(df_test[\"SUBJECT_CUI\",\"OBJECT_CUI\",\"PREDICATE\"])]], ignore_index=True)\n",
    "\n",
    "def anti_join(tableA,tableB,on): ## check if works?\n",
    "\n",
    "   #if joining on index, make it into a column\n",
    "   if tableB.index.name is not None:\n",
    "       dummy = tableB.reset_index()[on]\n",
    "   else:\n",
    "       dummy = tableB[on]\n",
    "\n",
    "   #create a dummy columns of 1s\n",
    "   if isinstance(dummy, pd.Series):\n",
    "       dummy = dummy.to_frame()\n",
    "\n",
    "   dummy.loc[:,'dummy_col'] = 1\n",
    "\n",
    "   #preserve the index of tableA if it has one\n",
    "   if tableA.index.name is not None:\n",
    "       idx_name = tableA.index.name\n",
    "       tableA = tableA.reset_index(drop = False)\n",
    "   else:\n",
    "       idx_name = None\n",
    "\n",
    "   #do a left-join\n",
    "   merged = tableA.merge(dummy,on=on,how='left')\n",
    "\n",
    "   #keep only the non-matches\n",
    "   output = merged.loc[merged.dummy_col.isna(),tableA.columns.tolist()]\n",
    "\n",
    "   #reset the index (if applicable)\n",
    "   if idx_name is not None:\n",
    "       output = output.set_index(idx_name)\n",
    "       \n",
    "   output.drop_duplicates(subset=on,inplace=True) ## DAN added - otherwise duplicates? \n",
    "   return(output)\n",
    "print(df_test.shape[0])\n",
    "print(df_test[[\"SUBJECT_CUI\",\"OBJECT_CUI\"]].nunique())\n",
    "df_test = anti_join(df_test,df_train,[\"SUBJECT_CUI\",\"OBJECT_CUI\"]) # ,\"PREDICATE\"\n",
    "print(df_test.shape[0])\n",
    "print(df_test[[\"SUBJECT_CUI\",\"OBJECT_CUI\"]].nunique())"
   ]
  },
  {
   "cell_type": "code",
   "execution_count": 18,
   "id": "bd2c5613-f385-44c5-a7ed-482a96a62eda",
   "metadata": {},
   "outputs": [
    {
     "name": "stdout",
     "output_type": "stream",
     "text": [
      "12421 # test entities\n",
      "10.316077610498349 # len(train_entities_list)/df_train.shape[0]\n"
     ]
    }
   ],
   "source": [
    "test_entities_list = set(df_test[\"SUBJECT_CUI\"].unique()).union(df_test[\"OBJECT_CUI\"].unique())\n",
    "print(len(test_entities_list), \"# test entities\")\n",
    "print(df_test.shape[0]/len(test_entities_list),\"# len(train_entities_list)/df_train.shape[0]\")"
   ]
  },
  {
   "cell_type": "markdown",
   "id": "ca7f24cf-f76e-4907-80bb-f40ac8996424",
   "metadata": {},
   "source": [
    "#### What's the maximum novel candidates possible coverage , after we've filtered the data by min entity freq?"
   ]
  },
  {
   "cell_type": "code",
   "execution_count": 19,
   "id": "70455003-05e8-4602-a2a0-4e3e17b694a6",
   "metadata": {},
   "outputs": [
    {
     "name": "stdout",
     "output_type": "stream",
     "text": [
      "# Candidate CUIs possible in current train data 203\n",
      "% Candidate novel CUIs coverage possible in current train data 49.39\n"
     ]
    }
   ],
   "source": [
    "num_candidate_cuis_covered = len ([c for c in candidate_feature_cuis_list if c in train_entities_list.union(test_entities_list)])\n",
    "# set(candidate_feature_cuis_list.values)\n",
    "print(\"# Candidate CUIs possible in current train data\",num_candidate_cuis_covered)\n",
    "print(\"% Candidate novel CUIs coverage possible in current train data\",round(100*num_candidate_cuis_covered/len(candidate_feature_cuis_list),2))"
   ]
  },
  {
   "cell_type": "markdown",
   "id": "4a5290b1-5302-40fd-aad5-094651ce435b",
   "metadata": {},
   "source": [
    "* Training - assumption of LCWA\n",
    "* https://pykeen.readthedocs.io/en/stable/reference/training.html#local-closed-world-assumption\n",
    "* hetionet example inc loading ,eval: https://github.com/tomasonjo/blogs/blob/master/pykeen/Hetionet%20-%20RotatE.ipynb\n",
    "\n",
    "* mps -> memory issues/crashes?\n",
    "\n",
    "* Another example pykeen : https://pykeen.readthedocs.io/en/stable/tutorial/first_steps.html\n",
    "* RotatE seems good from lit, on hetionet\n",
    "* pubmedKG for text/sentencetransformer embedding?\n",
    "* GCN https://pykeen.readthedocs.io/en/stable/reference/nn/pyg_message_passing.html"
   ]
  },
  {
   "cell_type": "code",
   "execution_count": 20,
   "id": "d7c1a456-c9d8-40fc-b97b-30ed409e170d",
   "metadata": {},
   "outputs": [
    {
     "name": "stdout",
     "output_type": "stream",
     "text": [
      "CPU times: user 4 μs, sys: 1e+03 ns, total: 5 μs\n",
      "Wall time: 6.68 μs\n"
     ]
    }
   ],
   "source": [
    "%%time\n",
    "from pykeen.nn import TextRepresentation\n",
    "## https://pykeen.readthedocs.io/en/latest/tutorial/representations.html#text-based\n",
    "\n",
    "# ### load new data example: https://towardsdatascience.com/knowledge-graph-completion-with-pykeen-and-neo4j-6bca734edf43\n",
    "# # .astype(\"category\")\n",
    "# tf = TriplesFactory.from_labeled_triples(\n",
    "#   df_kg.rename(columns={\"SUBJECT_NAME\":\"source\",\n",
    "#                         \"PREDICATE\":\"type\",\n",
    "#                         \"OBJECT_NAME\":\"target\"})[[\"source\", \"type\", \"target\"]].values ,\n",
    "# )"
   ]
  },
  {
   "cell_type": "code",
   "execution_count": 21,
   "id": "25b3c718-95d5-4481-8945-9dd5048101a4",
   "metadata": {
    "scrolled": true
   },
   "outputs": [
    {
     "name": "stderr",
     "output_type": "stream",
     "text": [
      "using automatically assigned random_state=1633695571\n"
     ]
    }
   ],
   "source": [
    "# training, testing, validation = tf.split([.96, .02, .02])\n",
    "# # training, testing, validation = tf.split([.8, .1, .1])\n",
    "\n",
    "## new splits\n",
    "training = TriplesFactory.from_labeled_triples(\n",
    "  df_train.rename(columns={\"SUBJECT_CUI\":\"source\",\n",
    "                        \"PREDICATE\":\"type\",\n",
    "                        \"OBJECT_CUI\":\"target\"})[[\"source\", \"type\", \"target\"]].values ,\n",
    ")\n",
    "\n",
    "tf = training\n",
    "\n",
    "tf_future = TriplesFactory.from_labeled_triples(\n",
    "  df_test.rename(columns={\"SUBJECT_CUI\":\"source\",\n",
    "                        \"PREDICATE\":\"type\",\n",
    "                        \"OBJECT_CUI\":\"target\"})[[\"source\", \"type\", \"target\"]].values ,\n",
    ")\n",
    "\n",
    "testing, validation = tf_future.split([0.8,0.2])"
   ]
  },
  {
   "cell_type": "markdown",
   "id": "03544b55-cc69-4890-9bd5-b8276bc2deb3",
   "metadata": {},
   "source": [
    "* Another text-kg example code inc triples:\n",
    "    * https://gist.github.com/airysen/2b4f8b5dff8cc72b8951d4457228a7bd\n",
    "Example of using LM embeddings in pykeen\n",
    "```\n",
    "\n",
    "from pykeen.training import SLCWATrainingLoop\n",
    "from pykeen.datasets import get_dataset\n",
    "from pykeen.nn.representation import TextRepresentation\n",
    "from pykeen.models import ERModel\n",
    "\n",
    "from pykeen.pipeline import pipeline\n",
    "\n",
    "from torch.optim import Adam\n",
    "\n",
    "\n",
    "dataset = get_dataset(dataset=\"nations\")\n",
    "entity_representations = TextRepresentation.from_triples_factory(\n",
    "    triples_factory=dataset.training,\n",
    "    encoder=\"transformer\",\n",
    "    encoder_kwargs=dict(pretrained_model_name_or_path=\"bert-base-multilingual-uncased\", max_length=512)\n",
    ")\n",
    "\n",
    "\n",
    "model = ERModel(\n",
    "    triples_factory=dataset.training,\n",
    "    interaction=\"ermlpe\",\n",
    "    entity_representations=entity_representations,\n",
    "    relation_representations_kwargs=dict(shape=entity_representations.shape),\n",
    "    interaction_kwargs=dict(embedding_dim=entity_representations.shape[0], input_dropout=0.1, hidden_dim=256, hidden_dropout=0.2),\n",
    "    entity_representations_kwargs=dict(max_length=512),\n",
    "    random_seed=42,\n",
    "    # relation_representations_kwargs=dict(embedding_dim=3, dropout=0.1),\n",
    ")\n",
    "\n",
    "\n",
    "```"
   ]
  },
  {
   "cell_type": "code",
   "execution_count": 22,
   "id": "5504150e-ddd0-4e6a-ab57-f28115167393",
   "metadata": {},
   "outputs": [
    {
     "data": {
      "text/plain": [
       "28"
      ]
     },
     "execution_count": 22,
     "metadata": {},
     "output_type": "execute_result"
    }
   ],
   "source": [
    "import gc\n",
    "torch.cuda.empty_cache()\n",
    "gc.collect()"
   ]
  },
  {
   "cell_type": "code",
   "execution_count": 23,
   "id": "3f38f471-7ea2-42ed-9f6c-d248a3f9fbb6",
   "metadata": {},
   "outputs": [],
   "source": [
    "# %%time\n",
    "# try: # load already trained model (not same as results!)\n",
    "#     model = torch.load('./saved/trained_model.pkl') # try this ?  - loads model , not results...\n",
    "#     model\n",
    "# except:\n",
    "#     try:\n",
    "#         model = torch.load('./saved/trained_model.pkl',map_location=torch.device('cpu')) # try this ? \n",
    "#         model\n",
    "#     except: print(\"No saved model loaded\")"
   ]
  },
  {
   "cell_type": "markdown",
   "id": "3a5f7425-e21a-4e13-aa07-35803a0df981",
   "metadata": {},
   "source": [
    "* example with pykeen, graphsage, sampledRankEval - https://medium.com/@sauravjoshi23/knowledge-graph-reasoning-from-node2vec-to-ultra-across-transductive-and-inductive-tasks-2a234aafbffc\n",
    "\n",
    "\n",
    "https://pykeen.readthedocs.io/en/stable/tutorial/first_steps.html#using-learned-embeddings\n",
    "* https://github.com/pykeen/pykeen/issues/1365\n",
    "    * Get/save embeddings (e.f. Transe)\n",
    "    * ```\n",
    "      entity_embeddings = model.entity_representations[0]\n",
    "      entity_embedding_tensor: torch.FloatTensor = entity_embeddings(indices=None)\n",
    "      relation_embeddings: pykeen.nn.Embedding = model.relation_representations[0]\n",
    "      ```\n",
    "      "
   ]
  },
  {
   "cell_type": "code",
   "execution_count": 24,
   "id": "46e3c4d4-353a-4cf7-9fdb-9f7e09f8d8a3",
   "metadata": {},
   "outputs": [
    {
     "name": "stderr",
     "output_type": "stream",
     "text": [
      "INFO:pykeen.training.training_loop:=> no checkpoint found at 'saved/min1_80.pt'. Creating a new file.\n"
     ]
    },
    {
     "data": {
      "application/vnd.jupyter.widget-view+json": {
       "model_id": "b8feafef51c8431880f50b48efca5344",
       "version_major": 2,
       "version_minor": 0
      },
      "text/plain": [
       "Training epochs on cuda:0:   0%|          | 0/60 [00:00<?, ?epoch/s]"
      ]
     },
     "metadata": {},
     "output_type": "display_data"
    },
    {
     "data": {
      "application/vnd.jupyter.widget-view+json": {
       "model_id": "",
       "version_major": 2,
       "version_minor": 0
      },
      "text/plain": [
       "Training batches on cuda:0:   0%|          | 0/12929 [00:00<?, ?batch/s]"
      ]
     },
     "metadata": {},
     "output_type": "display_data"
    },
    {
     "data": {
      "application/vnd.jupyter.widget-view+json": {
       "model_id": "",
       "version_major": 2,
       "version_minor": 0
      },
      "text/plain": [
       "Training batches on cuda:0:   0%|          | 0/12929 [00:00<?, ?batch/s]"
      ]
     },
     "metadata": {},
     "output_type": "display_data"
    },
    {
     "data": {
      "application/vnd.jupyter.widget-view+json": {
       "model_id": "",
       "version_major": 2,
       "version_minor": 0
      },
      "text/plain": [
       "Training batches on cuda:0:   0%|          | 0/12929 [00:00<?, ?batch/s]"
      ]
     },
     "metadata": {},
     "output_type": "display_data"
    },
    {
     "data": {
      "application/vnd.jupyter.widget-view+json": {
       "model_id": "",
       "version_major": 2,
       "version_minor": 0
      },
      "text/plain": [
       "Training batches on cuda:0:   0%|          | 0/12929 [00:00<?, ?batch/s]"
      ]
     },
     "metadata": {},
     "output_type": "display_data"
    },
    {
     "data": {
      "application/vnd.jupyter.widget-view+json": {
       "model_id": "",
       "version_major": 2,
       "version_minor": 0
      },
      "text/plain": [
       "Training batches on cuda:0:   0%|          | 0/12929 [00:00<?, ?batch/s]"
      ]
     },
     "metadata": {},
     "output_type": "display_data"
    },
    {
     "data": {
      "application/vnd.jupyter.widget-view+json": {
       "model_id": "",
       "version_major": 2,
       "version_minor": 0
      },
      "text/plain": [
       "Training batches on cuda:0:   0%|          | 0/12929 [00:00<?, ?batch/s]"
      ]
     },
     "metadata": {},
     "output_type": "display_data"
    },
    {
     "data": {
      "application/vnd.jupyter.widget-view+json": {
       "model_id": "",
       "version_major": 2,
       "version_minor": 0
      },
      "text/plain": [
       "Training batches on cuda:0:   0%|          | 0/12929 [00:00<?, ?batch/s]"
      ]
     },
     "metadata": {},
     "output_type": "display_data"
    },
    {
     "data": {
      "application/vnd.jupyter.widget-view+json": {
       "model_id": "",
       "version_major": 2,
       "version_minor": 0
      },
      "text/plain": [
       "Training batches on cuda:0:   0%|          | 0/12929 [00:00<?, ?batch/s]"
      ]
     },
     "metadata": {},
     "output_type": "display_data"
    },
    {
     "data": {
      "application/vnd.jupyter.widget-view+json": {
       "model_id": "",
       "version_major": 2,
       "version_minor": 0
      },
      "text/plain": [
       "Training batches on cuda:0:   0%|          | 0/12929 [00:00<?, ?batch/s]"
      ]
     },
     "metadata": {},
     "output_type": "display_data"
    },
    {
     "data": {
      "application/vnd.jupyter.widget-view+json": {
       "model_id": "",
       "version_major": 2,
       "version_minor": 0
      },
      "text/plain": [
       "Training batches on cuda:0:   0%|          | 0/12929 [00:00<?, ?batch/s]"
      ]
     },
     "metadata": {},
     "output_type": "display_data"
    },
    {
     "data": {
      "application/vnd.jupyter.widget-view+json": {
       "model_id": "e0793dc57c184ffabdf6d13ba30ff283",
       "version_major": 2,
       "version_minor": 0
      },
      "text/plain": [
       "Evaluating on cuda:0:   0%|          | 0.00/25.6k [00:00<?, ?triple/s]"
      ]
     },
     "metadata": {},
     "output_type": "display_data"
    },
    {
     "name": "stderr",
     "output_type": "stream",
     "text": [
      "INFO:pykeen.evaluation.evaluator:Evaluation took 242.44s seconds\n",
      "INFO:pykeen.stoppers.early_stopping:New best result at epoch 10: 1.0. Saved model weights to /home/ddofer/.data/pykeen/checkpoints/best-model-weights-6f45aed1-d358-4ccd-a3c2-5f01af49a568.pt\n",
      "INFO:pykeen.training.training_loop:=> Saved checkpoint after having finished epoch 10.\n"
     ]
    },
    {
     "data": {
      "application/vnd.jupyter.widget-view+json": {
       "model_id": "",
       "version_major": 2,
       "version_minor": 0
      },
      "text/plain": [
       "Training batches on cuda:0:   0%|          | 0/12929 [00:00<?, ?batch/s]"
      ]
     },
     "metadata": {},
     "output_type": "display_data"
    },
    {
     "data": {
      "application/vnd.jupyter.widget-view+json": {
       "model_id": "",
       "version_major": 2,
       "version_minor": 0
      },
      "text/plain": [
       "Training batches on cuda:0:   0%|          | 0/12929 [00:00<?, ?batch/s]"
      ]
     },
     "metadata": {},
     "output_type": "display_data"
    },
    {
     "data": {
      "application/vnd.jupyter.widget-view+json": {
       "model_id": "",
       "version_major": 2,
       "version_minor": 0
      },
      "text/plain": [
       "Training batches on cuda:0:   0%|          | 0/12929 [00:00<?, ?batch/s]"
      ]
     },
     "metadata": {},
     "output_type": "display_data"
    },
    {
     "data": {
      "application/vnd.jupyter.widget-view+json": {
       "model_id": "",
       "version_major": 2,
       "version_minor": 0
      },
      "text/plain": [
       "Training batches on cuda:0:   0%|          | 0/12929 [00:00<?, ?batch/s]"
      ]
     },
     "metadata": {},
     "output_type": "display_data"
    },
    {
     "data": {
      "application/vnd.jupyter.widget-view+json": {
       "model_id": "",
       "version_major": 2,
       "version_minor": 0
      },
      "text/plain": [
       "Training batches on cuda:0:   0%|          | 0/12929 [00:00<?, ?batch/s]"
      ]
     },
     "metadata": {},
     "output_type": "display_data"
    },
    {
     "data": {
      "application/vnd.jupyter.widget-view+json": {
       "model_id": "",
       "version_major": 2,
       "version_minor": 0
      },
      "text/plain": [
       "Training batches on cuda:0:   0%|          | 0/12929 [00:00<?, ?batch/s]"
      ]
     },
     "metadata": {},
     "output_type": "display_data"
    },
    {
     "data": {
      "application/vnd.jupyter.widget-view+json": {
       "model_id": "",
       "version_major": 2,
       "version_minor": 0
      },
      "text/plain": [
       "Training batches on cuda:0:   0%|          | 0/12929 [00:00<?, ?batch/s]"
      ]
     },
     "metadata": {},
     "output_type": "display_data"
    },
    {
     "data": {
      "application/vnd.jupyter.widget-view+json": {
       "model_id": "",
       "version_major": 2,
       "version_minor": 0
      },
      "text/plain": [
       "Training batches on cuda:0:   0%|          | 0/12929 [00:00<?, ?batch/s]"
      ]
     },
     "metadata": {},
     "output_type": "display_data"
    },
    {
     "data": {
      "application/vnd.jupyter.widget-view+json": {
       "model_id": "",
       "version_major": 2,
       "version_minor": 0
      },
      "text/plain": [
       "Training batches on cuda:0:   0%|          | 0/12929 [00:00<?, ?batch/s]"
      ]
     },
     "metadata": {},
     "output_type": "display_data"
    },
    {
     "data": {
      "application/vnd.jupyter.widget-view+json": {
       "model_id": "",
       "version_major": 2,
       "version_minor": 0
      },
      "text/plain": [
       "Training batches on cuda:0:   0%|          | 0/12929 [00:00<?, ?batch/s]"
      ]
     },
     "metadata": {},
     "output_type": "display_data"
    },
    {
     "data": {
      "application/vnd.jupyter.widget-view+json": {
       "model_id": "411a3c5058c34d72af65c8d30af57752",
       "version_major": 2,
       "version_minor": 0
      },
      "text/plain": [
       "Evaluating on cuda:0:   0%|          | 0.00/25.6k [00:00<?, ?triple/s]"
      ]
     },
     "metadata": {},
     "output_type": "display_data"
    },
    {
     "name": "stderr",
     "output_type": "stream",
     "text": [
      "INFO:pykeen.evaluation.evaluator:Evaluation took 47.31s seconds\n"
     ]
    },
    {
     "data": {
      "application/vnd.jupyter.widget-view+json": {
       "model_id": "",
       "version_major": 2,
       "version_minor": 0
      },
      "text/plain": [
       "Training batches on cuda:0:   0%|          | 0/12929 [00:00<?, ?batch/s]"
      ]
     },
     "metadata": {},
     "output_type": "display_data"
    },
    {
     "data": {
      "application/vnd.jupyter.widget-view+json": {
       "model_id": "",
       "version_major": 2,
       "version_minor": 0
      },
      "text/plain": [
       "Training batches on cuda:0:   0%|          | 0/12929 [00:00<?, ?batch/s]"
      ]
     },
     "metadata": {},
     "output_type": "display_data"
    },
    {
     "data": {
      "application/vnd.jupyter.widget-view+json": {
       "model_id": "",
       "version_major": 2,
       "version_minor": 0
      },
      "text/plain": [
       "Training batches on cuda:0:   0%|          | 0/12929 [00:00<?, ?batch/s]"
      ]
     },
     "metadata": {},
     "output_type": "display_data"
    },
    {
     "data": {
      "application/vnd.jupyter.widget-view+json": {
       "model_id": "",
       "version_major": 2,
       "version_minor": 0
      },
      "text/plain": [
       "Training batches on cuda:0:   0%|          | 0/12929 [00:00<?, ?batch/s]"
      ]
     },
     "metadata": {},
     "output_type": "display_data"
    },
    {
     "data": {
      "application/vnd.jupyter.widget-view+json": {
       "model_id": "",
       "version_major": 2,
       "version_minor": 0
      },
      "text/plain": [
       "Training batches on cuda:0:   0%|          | 0/12929 [00:00<?, ?batch/s]"
      ]
     },
     "metadata": {},
     "output_type": "display_data"
    },
    {
     "data": {
      "application/vnd.jupyter.widget-view+json": {
       "model_id": "",
       "version_major": 2,
       "version_minor": 0
      },
      "text/plain": [
       "Training batches on cuda:0:   0%|          | 0/12929 [00:00<?, ?batch/s]"
      ]
     },
     "metadata": {},
     "output_type": "display_data"
    },
    {
     "data": {
      "application/vnd.jupyter.widget-view+json": {
       "model_id": "",
       "version_major": 2,
       "version_minor": 0
      },
      "text/plain": [
       "Training batches on cuda:0:   0%|          | 0/12929 [00:00<?, ?batch/s]"
      ]
     },
     "metadata": {},
     "output_type": "display_data"
    },
    {
     "data": {
      "application/vnd.jupyter.widget-view+json": {
       "model_id": "",
       "version_major": 2,
       "version_minor": 0
      },
      "text/plain": [
       "Training batches on cuda:0:   0%|          | 0/12929 [00:00<?, ?batch/s]"
      ]
     },
     "metadata": {},
     "output_type": "display_data"
    },
    {
     "data": {
      "application/vnd.jupyter.widget-view+json": {
       "model_id": "",
       "version_major": 2,
       "version_minor": 0
      },
      "text/plain": [
       "Training batches on cuda:0:   0%|          | 0/12929 [00:00<?, ?batch/s]"
      ]
     },
     "metadata": {},
     "output_type": "display_data"
    },
    {
     "data": {
      "application/vnd.jupyter.widget-view+json": {
       "model_id": "",
       "version_major": 2,
       "version_minor": 0
      },
      "text/plain": [
       "Training batches on cuda:0:   0%|          | 0/12929 [00:00<?, ?batch/s]"
      ]
     },
     "metadata": {},
     "output_type": "display_data"
    },
    {
     "data": {
      "application/vnd.jupyter.widget-view+json": {
       "model_id": "d85966b39f714f5999b7f6f1d558ddb5",
       "version_major": 2,
       "version_minor": 0
      },
      "text/plain": [
       "Evaluating on cuda:0:   0%|          | 0.00/25.6k [00:00<?, ?triple/s]"
      ]
     },
     "metadata": {},
     "output_type": "display_data"
    },
    {
     "name": "stderr",
     "output_type": "stream",
     "text": [
      "INFO:pykeen.evaluation.evaluator:Evaluation took 44.80s seconds\n",
      "INFO:pykeen.stoppers.early_stopping:Stopping early at epoch 30. The best result 1.0 occurred at epoch 10.\n",
      "INFO:pykeen.stoppers.early_stopping:Re-loading weights from best epoch from /home/ddofer/.data/pykeen/checkpoints/best-model-weights-6f45aed1-d358-4ccd-a3c2-5f01af49a568.pt\n",
      "INFO:pykeen.training.training_loop:=> Saved checkpoint after having finished epoch 30.\n"
     ]
    },
    {
     "data": {
      "application/vnd.jupyter.widget-view+json": {
       "model_id": "019100ddeae849d18539d1e6d98c5cf3",
       "version_major": 2,
       "version_minor": 0
      },
      "text/plain": [
       "Evaluating on cuda:0:   0%|          | 0.00/25.6k [00:00<?, ?triple/s]"
      ]
     },
     "metadata": {},
     "output_type": "display_data"
    },
    {
     "name": "stderr",
     "output_type": "stream",
     "text": [
      "INFO:pykeen.evaluation.evaluator:Evaluation took 44.77s seconds\n",
      "INFO:pykeen.triples.triples_factory:Stored TriplesFactory(num_entities=15775, num_relations=1, create_inverse_triples=False, num_triples=3309716) to file:///mnt/c/Users/ddofe/OneDrive%20-%20Medtronic%20PLC/Documents/research/InterestingFeats/SemMed/min1_80/training_triples\n",
      "INFO:pykeen.pipeline.api:Saved to directory: /mnt/c/Users/ddofe/OneDrive - Medtronic PLC/Documents/research/InterestingFeats/SemMed/min1_80\n"
     ]
    },
    {
     "name": "stdout",
     "output_type": "stream",
     "text": [
      "CPU times: user 18min 45s, sys: 1min 24s, total: 20min 9s\n",
      "Wall time: 20min 54s\n"
     ]
    },
    {
     "data": {
      "image/png": "[encoded data removed]",
      "text/plain": [
       "<Figure size 1000x400 with 2 Axes>"
      ]
     },
     "metadata": {},
     "output_type": "display_data"
    }
   ],
   "source": [
    "%%time\n",
    "## https://pykeen.readthedocs.io/en/stable/api/pykeen.pipeline.pipeline.html#pykeen.pipeline.pipeline\n",
    "\n",
    "if RETRAIN_KG_MODEL:\n",
    "    \n",
    "    results = pipeline(\n",
    "        training=training,\n",
    "        testing=testing,\n",
    "        validation=validation,\n",
    "        # model= \"TransD\" #\"TransH\"#\"TuckER\"#\"TransD\"#'Complex',#\"TuckER\",\n",
    "        # model='DistMult' ## this seems to work, without crashing, on cpu\n",
    "         # model=\"ermlpe\"\n",
    "        # model=\"ComplEx\"\n",
    "        model=\"RotatE\"\n",
    "        \n",
    "        # model=\"TuckER\"\n",
    "        # model=\"convKB\" ## - Should initialize entity and relation embeddings from TransE with this. # SLooooow to evaluate\n",
    "        # model=\"RGCN\" # https://pykeen.readthedocs.io/en/v1.10.2/api/pykeen.models.RGCN.html\n",
    "        \n",
    "        ,epochs=  60#15 #60#3#80\n",
    "        # ,dimensions= 16#400#500#128\n",
    "        ,dimensions= 400\n",
    "        ,random_seed=42,\n",
    "        # ,device='mps', ## apple silicon - crashes OOM ; but works with cpu? depends on size, embed size\n",
    "        # device=\"cpu\", # \"cuda\" # runs stably on cuda\n",
    "         device=\"cuda\",\n",
    "        # evaluation_fallback = True,\n",
    "        stopper='early', ## may crash? \n",
    "        # stopper = None,\n",
    "        evaluator = SampledRankBasedEvaluator(\n",
    "            num_negatives=5, evaluation_factory=tf_future,\n",
    "                         additional_filter_triples=[training.mapped_triples] # add? \n",
    "            # testing.mapped_triples,\n",
    "        # validation.mapped_triples\n",
    "               ## testing \n",
    "        ) # speed up, but optimistic\n",
    "        # entity_initializer=RandomWalkPositionalEncodingInitializer(#LabelBasedInitializer.from_triples_factory(\n",
    "        # triples_factory=training, dim=200,\n",
    "        # # encoder=\"transformer\",\n",
    "        # ),\n",
    "        \n",
    "        # model_kwargs=dict( , embedding_dim=256, num_layers=1)  # https://pykeen.readthedocs.io/en/v1.10.2/api/pykeen.models.RGCN.html  -reduce rgcn defaults\n",
    "            \n",
    "        # evaluation_relation_whitelist=subsetPredicates ## evaluate only on subset of relations\n",
    "        ,evaluation_entity_whitelist=test_entities_list, # only eval on subset of entities\n",
    "    \n",
    "        # ## following relevant when not running with cuda (due to automatic_memory_optimization bugs):\n",
    "        # training_loop_kwargs=dict(automatic_memory_optimization=False), # ,batch_size=1024\n",
    "        # training_kwargs=dict(batch_size=32),\n",
    "        # evaluator_kwargs=dict(automatic_memory_optimization=False,batch_size=8), # batch_size\n",
    "        # # evaluation_kwargs=dict(automatic_memory_optimization=False,batch_size=8),\n",
    "        # # result_tracker='csv', # added - not sure if needed?\n",
    "\n",
    "        use_testing_data = False, ## Will make it use eval; not recommended default for the pykeen assumptions!\n",
    "        training_kwargs=dict(\n",
    "        # num_epochs=2000,\n",
    "        # checkpoint_name='my_checkpoint.pt',\n",
    "        checkpoint_directory='./saved/',\n",
    "        checkpoint_name=f'{PipeName}.pt',\n",
    "        # checkpoint_directory=f'./{PipeName}/',\n",
    "            \n",
    "        checkpoint_on_failure=True,\n",
    "        ),\n",
    "    )\n",
    "    \n",
    "    try:\n",
    "        results.plot()\n",
    "    except:()\n",
    "    if SAVE_MODEL:\n",
    "        # results.save_to_directory('./saved/')\n",
    "        results.save_to_directory(f'./{PipeName}/')\n",
    "\n",
    "    model=results.model\n",
    "    \n",
    "    results\n",
    "\n",
    "# model = torch.load('./saved/trained_model.pkl')"
   ]
  },
  {
   "cell_type": "code",
   "execution_count": 25,
   "id": "8f76ec0d-ff5b-4183-a8ec-00a3f04e77ea",
   "metadata": {},
   "outputs": [],
   "source": [
    "# len(results.losses)\n",
    "# results.training_loop()"
   ]
  },
  {
   "cell_type": "markdown",
   "id": "803de874-b9bf-46cc-974c-51aaa1ac4796",
   "metadata": {},
   "source": [
    "### how to display results?\n"
   ]
  },
  {
   "cell_type": "code",
   "execution_count": 26,
   "id": "fb98e5ce-4dd4-4854-a873-8de0f94692b8",
   "metadata": {},
   "outputs": [],
   "source": [
    "# %%time\n",
    "# # Train your model (code is omitted for brevity)\n",
    "\n",
    "# # Define evaluator\n",
    "# ## SampledRankBasedEvaluator\n",
    "# # \n",
    "# evaluator =RankBasedEvaluator(filtered=True)\n",
    "# # evaluator = SampledRankBasedEvaluator(\n",
    "# #     evaluation_factory=tf_future,\n",
    "# #     # filtered=True,  # Note: this is True by default; we're just being explicit\n",
    "# #     filtered=False,\n",
    "# #      num_negatives=15,\n",
    "# #         additional_filter_triples=[\n",
    "# #         training.mapped_triples,\n",
    "# #         validation.mapped_triples,\n",
    "# #     ],\n",
    "# # ) ## error - \"SampledRankBasedEvaluator needs the true scores!\"\n",
    "\n",
    "# # Evaluate your model with not only testing triples,\n",
    "# # but also filter on validation triples\n",
    "# eval_results = evaluator.evaluate(\n",
    "#     # model=results.model,\n",
    "#     model = model,\n",
    "#     # restrict_entities_to=test_entities_list, # only eval on subset of entities - fails ?\n",
    "#     # pre_filtered_triples=False,\n",
    "#         mapped_triples=testing.mapped_triples,\n",
    "#     additional_filter_triples=[\n",
    "#         training.mapped_triples,\n",
    "#         validation.mapped_triples,\n",
    "#     ],\n",
    "# )\n",
    "\n",
    "\n",
    "# df_rank_eval = eval_results.to_df()\n",
    "# df_rank_eval = df_rank_eval.query(\"Rank_type == 'optimistic'\")\n",
    "# # df_rank_eval\n",
    "# df_rank_eval.query(\"Side == 'both'\") # vs head, tail"
   ]
  },
  {
   "cell_type": "code",
   "execution_count": null,
   "id": "97ff5607-dd72-4b92-8590-c4c6b004671e",
   "metadata": {},
   "outputs": [],
   "source": []
  },
  {
   "cell_type": "code",
   "execution_count": 27,
   "id": "dc419fa4-edbf-4f48-9967-60e7adcf19a0",
   "metadata": {},
   "outputs": [],
   "source": [
    "# results.save_to_directory('./saved/')"
   ]
  },
  {
   "cell_type": "markdown",
   "id": "2be403f8-b6dd-4803-9e6b-8da0cd0fcbbd",
   "metadata": {},
   "source": [
    "#### Transformer embeedder after this - I couldn't get it working great? "
   ]
  },
  {
   "cell_type": "code",
   "execution_count": 28,
   "id": "a6bd8e2d-708c-472e-afe6-605fdb5fdaed",
   "metadata": {},
   "outputs": [],
   "source": [
    "# ## try new \n",
    "# entity_initializer = LabelBasedInitializer.from_triples_factory(\n",
    "#     triples_factory=training,\n",
    "#     for_entities=True,\n",
    "#     encoder=\"transformer\",\n",
    "#      # model_kwargs=dict(device=\"mps\") # doesn't work\n",
    "# )\n",
    "\n",
    "# ### https://pykeen.readthedocs.io/en/latest/tutorial/representations.html#text-based"
   ]
  },
  {
   "cell_type": "code",
   "execution_count": 29,
   "id": "41d01118-f087-4791-9fc2-19cef0842d1d",
   "metadata": {},
   "outputs": [],
   "source": [
    "# # entity_representations = TextRepresentation.from_dataset(\n",
    "# #     dataset=tf,\n",
    "# #     encoder=\"transformer\",\n",
    "# # )\n",
    "\n",
    "# entity_representations = TextRepresentation.from_triples_factory(\n",
    "#     triples_factory=tf,\n",
    "#     encoder=\"transformer\",\n",
    "# )"
   ]
  },
  {
   "cell_type": "code",
   "execution_count": 30,
   "id": "9418c757-fc5b-428e-b8e2-ac07bcbbbb1e",
   "metadata": {
    "scrolled": true
   },
   "outputs": [],
   "source": [
    "# dataset = get_dataset(dataset=\"nations\")\n",
    "# entity_representations = TextRepresentation.from_dataset(\n",
    "#     dataset=dataset,\n",
    "#     encoder=\"transformer\",\n",
    "# )\n",
    "# result = pipeline(\n",
    "#     dataset=dataset,\n",
    "#     model=ERModel,\n",
    "#     model_kwargs=dict(\n",
    "#         # interaction= \"TransE\",, # not using ermlpe -> error\n",
    "#         interaction=\"ermlpe\", # not using ermlpe -> error\n",
    "        \n",
    "#         interaction_kwargs=dict(\n",
    "#             embedding_dim=entity_representations.shape[0],\n",
    "#         ),\n",
    "#         entity_representations=entity_representations,\n",
    "#         relation_representations_kwargs=dict(\n",
    "#             shape=entity_representations.shape,\n",
    "#         ),\n",
    "#     ),\n",
    "#     training_kwargs=dict(\n",
    "#         num_epochs=2,\n",
    "#     ),\n",
    "# )\n",
    "# model = result.model\n",
    "# result.plot()"
   ]
  },
  {
   "cell_type": "code",
   "execution_count": 31,
   "id": "a6c0422a-5256-44c8-87a9-f1eedfa13127",
   "metadata": {},
   "outputs": [],
   "source": [
    "# %%time\n",
    "# from pykeen.models import ERModel\n",
    "# ## memory crash on apple silicon in eval\n",
    "# ## may have cpu memory leak - when running with more epochs. \n",
    "\n",
    "# rot_results = pipeline(\n",
    "#     training=training,\n",
    "#     testing=testing,\n",
    "#     validation=validation,\n",
    "#     model=ERModel, #\"TransE\",#\"TransH\", #\"TransR\",#\"TransE\",#\"TransH\", #'RotatE', # aten::complex.out - not supported on mps\n",
    "#      # model= \"QuatE\",\n",
    "#     # model=\"convKB\", ## To be consistent with the paper, should initialize entity and relation embeddings from TransE.\n",
    "#     # model=\"RotatE\",\n",
    "#     # model=\"TuckER\",\n",
    "#     # epochs=2#35,\n",
    "#     epochs=2,\n",
    "#     # dimensions= 512,\n",
    "#     random_seed=42,\n",
    "#     # device='mps', ## apple silicon - crashes OOM ; but works with cpu? depends on size, embed size\n",
    "#     # device=\"cpu\", # \"cuda\" # runs stably on cuda\n",
    "#     evaluation_fallback = True,\n",
    "#     stopper='early', ## may crash? \n",
    "#     # evaluation_relation_whitelist=subsetPredicates, ## evaluate only on subset of relations\n",
    "    \n",
    "#     # # ## try adding for Transformer embed\n",
    "#     # model_kwargs=dict(entity_representations_kwargs=dict(\n",
    "#     #         # triples_factory=dataset.training,\n",
    "#     #         base_kwargs=dict(\n",
    "#     #             # shape=embedding_dim,\n",
    "#     #             initializer=entity_initializer,\n",
    "#     #         ))),\n",
    "\n",
    "#     model_kwargs=dict(\n",
    "#         interaction=\"ermlpe\",\n",
    "#         # interaction=\"transe\",\n",
    "#         interaction_kwargs=dict(\n",
    "#             embedding_dim=entity_representations.shape[0],\n",
    "#         ),\n",
    "#         entity_representations=entity_representations,\n",
    "#         relation_representations_kwargs=dict(\n",
    "#             shape=entity_representations.shape,\n",
    "#         ),\n",
    "#         ),\n",
    "# )\n",
    "\n",
    "# try:\n",
    "#     rot_results.plot()\n",
    "# except:()\n",
    "\n",
    "# ## 79/80 [39:19<00:11, 11.65s/epoch, loss=0.0471, prev_loss=0.0475]"
   ]
  },
  {
   "cell_type": "code",
   "execution_count": 32,
   "id": "f898825b-3e45-461f-a24a-7a17b687d86c",
   "metadata": {},
   "outputs": [],
   "source": [
    "# from pykeen.models import *\n",
    "# ## not working\n",
    "# model = ERMLPE(\n",
    "#     triples_factory=tf, #I added - try\n",
    "#     embedding_dim=768,  # for BERT base\n",
    "#     entity_initializer=LabelBasedInitializer.from_triples_factory(\n",
    "#         triples_factory=tf #tf #training, #dataset.training,\n",
    "#         ,encoder=\"transformer\",\n",
    "#     ),\n",
    "# )"
   ]
  },
  {
   "cell_type": "code",
   "execution_count": 33,
   "id": "1bd07538-6d38-47e8-afa6-a8e7cc1eeb22",
   "metadata": {},
   "outputs": [
    {
     "data": {
      "text/plain": [
       "RotatE(\n",
       "  (loss): MarginRankingLoss(\n",
       "    (margin_activation): ReLU()\n",
       "  )\n",
       "  (interaction): RotatEInteraction()\n",
       "  (entity_representations): ModuleList(\n",
       "    (0): Embedding(\n",
       "      (_embeddings): Embedding(15775, 400)\n",
       "    )\n",
       "  )\n",
       "  (relation_representations): ModuleList(\n",
       "    (0): Embedding(\n",
       "      (_embeddings): Embedding(1, 400)\n",
       "    )\n",
       "  )\n",
       "  (weight_regularizers): ModuleList()\n",
       ")"
      ]
     },
     "execution_count": 33,
     "metadata": {},
     "output_type": "execute_result"
    }
   ],
   "source": [
    "results.model"
   ]
  },
  {
   "cell_type": "markdown",
   "id": "a36cdc04-556e-479f-98ea-f8292481fd93",
   "metadata": {},
   "source": [
    "### Scoring/try - link prediction\n",
    "* https://pykeen.readthedocs.io/en/v1.10.2/api/pykeen.predict.predict_target.html#pykeen.predict.predict_target\n",
    "\n",
    "* https://pykeen.readthedocs.io/en/stable/api/pykeen.predict.predict_all.html#pykeen.predict.predict_all\n",
    "  * `predict.predict_all`"
   ]
  },
  {
   "cell_type": "code",
   "execution_count": 34,
   "id": "01ec2151-0c55-424a-aa12-a01db43385e7",
   "metadata": {},
   "outputs": [
    {
     "data": {
      "text/html": [
       "<div>\n",
       "<style scoped>\n",
       "    .dataframe tbody tr th:only-of-type {\n",
       "        vertical-align: middle;\n",
       "    }\n",
       "\n",
       "    .dataframe tbody tr th {\n",
       "        vertical-align: top;\n",
       "    }\n",
       "\n",
       "    .dataframe thead th {\n",
       "        text-align: right;\n",
       "    }\n",
       "</style>\n",
       "<table border=\"1\" class=\"dataframe\">\n",
       "  <thead>\n",
       "    <tr style=\"text-align: right;\">\n",
       "      <th></th>\n",
       "      <th>SUBJECT_CUI</th>\n",
       "      <th>SUBJECT_NAME</th>\n",
       "      <th>PREDICATE</th>\n",
       "      <th>OBJECT_CUI</th>\n",
       "      <th>OBJECT_NAME</th>\n",
       "      <th>first_year_pair</th>\n",
       "    </tr>\n",
       "  </thead>\n",
       "  <tbody>\n",
       "    <tr>\n",
       "      <th>1225176</th>\n",
       "      <td>C0020885</td>\n",
       "      <td>ileum</td>\n",
       "      <td>link</td>\n",
       "      <td>C0008350</td>\n",
       "      <td>Cholelithiasis</td>\n",
       "      <td>1887</td>\n",
       "    </tr>\n",
       "    <tr>\n",
       "      <th>1460627</th>\n",
       "      <td>C1185740</td>\n",
       "      <td>Tract</td>\n",
       "      <td>link</td>\n",
       "      <td>C0008350</td>\n",
       "      <td>Cholelithiasis</td>\n",
       "      <td>1910</td>\n",
       "    </tr>\n",
       "    <tr>\n",
       "      <th>4906925</th>\n",
       "      <td>C0008350</td>\n",
       "      <td>Cholelithiasis</td>\n",
       "      <td>link</td>\n",
       "      <td>C0560175</td>\n",
       "      <td>Carrier of disorder</td>\n",
       "      <td>1911</td>\n",
       "    </tr>\n",
       "    <tr>\n",
       "      <th>1947503</th>\n",
       "      <td>C0008350</td>\n",
       "      <td>Cholelithiasis</td>\n",
       "      <td>link</td>\n",
       "      <td>C0023891</td>\n",
       "      <td>Liver Cirrhosis, Alcoholic</td>\n",
       "      <td>1916</td>\n",
       "    </tr>\n",
       "    <tr>\n",
       "      <th>687439</th>\n",
       "      <td>C0005400</td>\n",
       "      <td>Bile duct structure</td>\n",
       "      <td>link</td>\n",
       "      <td>C0008350</td>\n",
       "      <td>Cholelithiasis</td>\n",
       "      <td>1916</td>\n",
       "    </tr>\n",
       "    <tr>\n",
       "      <th>...</th>\n",
       "      <td>...</td>\n",
       "      <td>...</td>\n",
       "      <td>...</td>\n",
       "      <td>...</td>\n",
       "      <td>...</td>\n",
       "      <td>...</td>\n",
       "    </tr>\n",
       "    <tr>\n",
       "      <th>5108386</th>\n",
       "      <td>C0000737</td>\n",
       "      <td>Abdominal Pain</td>\n",
       "      <td>link</td>\n",
       "      <td>C0008350</td>\n",
       "      <td>Cholelithiasis</td>\n",
       "      <td>2023</td>\n",
       "    </tr>\n",
       "    <tr>\n",
       "      <th>3333630</th>\n",
       "      <td>C4284302</td>\n",
       "      <td>EHD1 wt Allele</td>\n",
       "      <td>link</td>\n",
       "      <td>C0008350</td>\n",
       "      <td>Cholelithiasis</td>\n",
       "      <td>2023</td>\n",
       "    </tr>\n",
       "    <tr>\n",
       "      <th>4827660</th>\n",
       "      <td>C0012497</td>\n",
       "      <td>Diosgenin</td>\n",
       "      <td>link</td>\n",
       "      <td>C0008350</td>\n",
       "      <td>Cholelithiasis</td>\n",
       "      <td>2023</td>\n",
       "    </tr>\n",
       "    <tr>\n",
       "      <th>4906878</th>\n",
       "      <td>C0008350</td>\n",
       "      <td>Cholelithiasis</td>\n",
       "      <td>link</td>\n",
       "      <td>C0010054</td>\n",
       "      <td>Coronary Arteriosclerosis</td>\n",
       "      <td>2023</td>\n",
       "    </tr>\n",
       "    <tr>\n",
       "      <th>4983106</th>\n",
       "      <td>C0005516</td>\n",
       "      <td>Biological Markers</td>\n",
       "      <td>link</td>\n",
       "      <td>C0008350</td>\n",
       "      <td>Cholelithiasis</td>\n",
       "      <td>2023</td>\n",
       "    </tr>\n",
       "  </tbody>\n",
       "</table>\n",
       "<p>535 rows × 6 columns</p>\n",
       "</div>"
      ],
      "text/plain": [
       "        SUBJECT_CUI         SUBJECT_NAME PREDICATE OBJECT_CUI  \\\n",
       "1225176    C0020885                ileum      link   C0008350   \n",
       "1460627    C1185740                Tract      link   C0008350   \n",
       "4906925    C0008350       Cholelithiasis      link   C0560175   \n",
       "1947503    C0008350       Cholelithiasis      link   C0023891   \n",
       "687439     C0005400  Bile duct structure      link   C0008350   \n",
       "...             ...                  ...       ...        ...   \n",
       "5108386    C0000737       Abdominal Pain      link   C0008350   \n",
       "3333630    C4284302       EHD1 wt Allele      link   C0008350   \n",
       "4827660    C0012497            Diosgenin      link   C0008350   \n",
       "4906878    C0008350       Cholelithiasis      link   C0010054   \n",
       "4983106    C0005516   Biological Markers      link   C0008350   \n",
       "\n",
       "                        OBJECT_NAME  first_year_pair  \n",
       "1225176              Cholelithiasis             1887  \n",
       "1460627              Cholelithiasis             1910  \n",
       "4906925         Carrier of disorder             1911  \n",
       "1947503  Liver Cirrhosis, Alcoholic             1916  \n",
       "687439               Cholelithiasis             1916  \n",
       "...                             ...              ...  \n",
       "5108386              Cholelithiasis             2023  \n",
       "3333630              Cholelithiasis             2023  \n",
       "4827660              Cholelithiasis             2023  \n",
       "4906878   Coronary Arteriosclerosis             2023  \n",
       "4983106              Cholelithiasis             2023  \n",
       "\n",
       "[535 rows x 6 columns]"
      ]
     },
     "execution_count": 34,
     "metadata": {},
     "output_type": "execute_result"
    }
   ],
   "source": [
    "# # query = \"Multiple Sclerosis\"#\"Termination of pregnancy\" #\"Pregnancy\" #\"Diet\"\n",
    "# query = \"Cholelithiasis\" # C0008350\n",
    "# df_known = df_kg.loc[(df_kg['SUBJECT_NAME'].str.contains(query,case=False))|(df_kg['OBJECT_NAME'].str.contains(query,case=False))].drop_duplicates()\n",
    "\n",
    "query = \"C0008350\"\n",
    "df_known = df_kg.loc[(df_kg['SUBJECT_CUI'].str.contains(query,case=False))|(df_kg['OBJECT_CUI'].str.contains(query,case=False))].drop_duplicates()\n",
    "df_known"
   ]
  },
  {
   "cell_type": "code",
   "execution_count": 35,
   "id": "29cc6e47-285b-467e-b935-0f815e046065",
   "metadata": {},
   "outputs": [
    {
     "data": {
      "text/html": [
       "<div>\n",
       "<style scoped>\n",
       "    .dataframe tbody tr th:only-of-type {\n",
       "        vertical-align: middle;\n",
       "    }\n",
       "\n",
       "    .dataframe tbody tr th {\n",
       "        vertical-align: top;\n",
       "    }\n",
       "\n",
       "    .dataframe thead th {\n",
       "        text-align: right;\n",
       "    }\n",
       "</style>\n",
       "<table border=\"1\" class=\"dataframe\">\n",
       "  <thead>\n",
       "    <tr style=\"text-align: right;\">\n",
       "      <th></th>\n",
       "      <th>tail_id</th>\n",
       "      <th>score</th>\n",
       "      <th>tail_label</th>\n",
       "      <th>name</th>\n",
       "    </tr>\n",
       "  </thead>\n",
       "  <tbody>\n",
       "    <tr>\n",
       "      <th>12067</th>\n",
       "      <td>12067</td>\n",
       "      <td>-8.18</td>\n",
       "      <td>C0683971</td>\n",
       "      <td>General Population</td>\n",
       "    </tr>\n",
       "    <tr>\n",
       "      <th>4068</th>\n",
       "      <td>4068</td>\n",
       "      <td>-8.19</td>\n",
       "      <td>C0025266</td>\n",
       "      <td>Male population group</td>\n",
       "    </tr>\n",
       "    <tr>\n",
       "      <th>3489</th>\n",
       "      <td>3489</td>\n",
       "      <td>-8.36</td>\n",
       "      <td>C0021270</td>\n",
       "      <td>Infant</td>\n",
       "    </tr>\n",
       "    <tr>\n",
       "      <th>13627</th>\n",
       "      <td>13627</td>\n",
       "      <td>-8.38</td>\n",
       "      <td>C1257890</td>\n",
       "      <td>Population Group</td>\n",
       "    </tr>\n",
       "    <tr>\n",
       "      <th>9240</th>\n",
       "      <td>9240</td>\n",
       "      <td>-8.40</td>\n",
       "      <td>C0238598</td>\n",
       "      <td>Young adult</td>\n",
       "    </tr>\n",
       "    <tr>\n",
       "      <th>...</th>\n",
       "      <td>...</td>\n",
       "      <td>...</td>\n",
       "      <td>...</td>\n",
       "      <td>...</td>\n",
       "    </tr>\n",
       "    <tr>\n",
       "      <th>11807</th>\n",
       "      <td>11807</td>\n",
       "      <td>-15.15</td>\n",
       "      <td>C0667301</td>\n",
       "      <td>Y 27632</td>\n",
       "    </tr>\n",
       "    <tr>\n",
       "      <th>11164</th>\n",
       "      <td>11164</td>\n",
       "      <td>-15.16</td>\n",
       "      <td>C0537408</td>\n",
       "      <td>ORF74 protein, Human herpesvirus 8</td>\n",
       "    </tr>\n",
       "    <tr>\n",
       "      <th>13261</th>\n",
       "      <td>13261</td>\n",
       "      <td>-15.16</td>\n",
       "      <td>C1136111</td>\n",
       "      <td>Ephrins</td>\n",
       "    </tr>\n",
       "    <tr>\n",
       "      <th>3544</th>\n",
       "      <td>3544</td>\n",
       "      <td>-15.25</td>\n",
       "      <td>C0021721</td>\n",
       "      <td>Intercellular Junctions</td>\n",
       "    </tr>\n",
       "    <tr>\n",
       "      <th>9864</th>\n",
       "      <td>9864</td>\n",
       "      <td>-15.60</td>\n",
       "      <td>C0286185</td>\n",
       "      <td>Mibefradil</td>\n",
       "    </tr>\n",
       "  </tbody>\n",
       "</table>\n",
       "<p>15237 rows × 4 columns</p>\n",
       "</div>"
      ],
      "text/plain": [
       "       tail_id  score tail_label                                name\n",
       "12067    12067  -8.18   C0683971                  General Population\n",
       "4068      4068  -8.19   C0025266               Male population group\n",
       "3489      3489  -8.36   C0021270                              Infant\n",
       "13627    13627  -8.38   C1257890                    Population Group\n",
       "9240      9240  -8.40   C0238598                         Young adult\n",
       "...        ...    ...        ...                                 ...\n",
       "11807    11807 -15.15   C0667301                             Y 27632\n",
       "11164    11164 -15.16   C0537408  ORF74 protein, Human herpesvirus 8\n",
       "13261    13261 -15.16   C1136111                             Ephrins\n",
       "3544      3544 -15.25   C0021721             Intercellular Junctions\n",
       "9864      9864 -15.60   C0286185                          Mibefradil\n",
       "\n",
       "[15237 rows x 4 columns]"
      ]
     },
     "execution_count": 35,
     "metadata": {},
     "output_type": "execute_result"
    }
   ],
   "source": [
    "# df = get_tail_prediction_df(\n",
    "#     model=result.model,\n",
    "#     head_label=\"belgium\",\n",
    "#     relation_label=\"locatedin\",\n",
    "#     triples_factory=result.training,\n",
    "#     add_novelties=False,\n",
    "# )\n",
    "\n",
    "df_preds_res = predict_target(model=results.model,\n",
    "    head=query,\n",
    "      # tail=query,\n",
    "    # relation=\"AFFECTS\",\n",
    "      relation=\"link\",\n",
    "    # triples_factory=results.testing,\n",
    "               triples_factory=tf\n",
    "    ).df\n",
    "\n",
    "df_preds_res = df_preds_res.round(2)\n",
    "df_preds_res = df_preds_res.merge(df_map.set_index(\"CUI\"),left_on=\"tail_label\",right_index=True,how=\"inner\").drop_duplicates([\"tail_label\"])\n",
    "df_preds_res"
   ]
  },
  {
   "cell_type": "code",
   "execution_count": 36,
   "id": "3eed7b6b-2090-4433-b806-d1bceff44856",
   "metadata": {},
   "outputs": [
    {
     "name": "stdout",
     "output_type": "stream",
     "text": [
      "Cases in known 192\n",
      "count    192.0\n",
      "mean      -9.7\n",
      "std        0.7\n",
      "min      -11.7\n",
      "25%      -10.2\n",
      "50%       -9.6\n",
      "75%       -9.3\n",
      "max       -8.2\n",
      "Name: score, dtype: float64\n",
      "lowest scored of real known cases -11.67\n"
     ]
    }
   ],
   "source": [
    "## known preds\n",
    "print(\"Cases in known\",df_preds_res.loc[df_preds_res[\"tail_label\"].isin(df_known[\"OBJECT_CUI\"])].shape[0])\n",
    "print(df_preds_res.loc[df_preds_res[\"tail_label\"].isin(df_known[\"OBJECT_CUI\"])][\"score\"].describe().round(1))\n",
    "min_score_real = df_preds_res.loc[df_preds_res[\"tail_label\"].isin(df_known[\"OBJECT_CUI\"])][\"score\"].min()\n",
    "\n",
    "print(\"lowest scored of real known cases\",min_score_real)"
   ]
  },
  {
   "cell_type": "code",
   "execution_count": 37,
   "id": "cb70ea33-8568-4a31-92a5-8d61959eec6f",
   "metadata": {},
   "outputs": [
    {
     "name": "stdout",
     "output_type": "stream",
     "text": [
      "15045 total unfil novel candidates\n",
      "2340 Filtered score novel candidates\n"
     ]
    },
    {
     "data": {
      "text/html": [
       "<div>\n",
       "<style scoped>\n",
       "    .dataframe tbody tr th:only-of-type {\n",
       "        vertical-align: middle;\n",
       "    }\n",
       "\n",
       "    .dataframe tbody tr th {\n",
       "        vertical-align: top;\n",
       "    }\n",
       "\n",
       "    .dataframe thead th {\n",
       "        text-align: right;\n",
       "    }\n",
       "</style>\n",
       "<table border=\"1\" class=\"dataframe\">\n",
       "  <thead>\n",
       "    <tr style=\"text-align: right;\">\n",
       "      <th></th>\n",
       "      <th>tail_id</th>\n",
       "      <th>score</th>\n",
       "      <th>tail_label</th>\n",
       "      <th>name</th>\n",
       "    </tr>\n",
       "  </thead>\n",
       "  <tbody>\n",
       "    <tr>\n",
       "      <th>7280</th>\n",
       "      <td>7280</td>\n",
       "      <td>-8.66</td>\n",
       "      <td>C0078988</td>\n",
       "      <td>Asians</td>\n",
       "    </tr>\n",
       "    <tr>\n",
       "      <th>11085</th>\n",
       "      <td>11085</td>\n",
       "      <td>-8.90</td>\n",
       "      <td>C0524337</td>\n",
       "      <td>Elderly man</td>\n",
       "    </tr>\n",
       "    <tr>\n",
       "      <th>5703</th>\n",
       "      <td>5703</td>\n",
       "      <td>-8.93</td>\n",
       "      <td>C0037047</td>\n",
       "      <td>sibling</td>\n",
       "    </tr>\n",
       "    <tr>\n",
       "      <th>1693</th>\n",
       "      <td>1693</td>\n",
       "      <td>-9.01</td>\n",
       "      <td>C0008340</td>\n",
       "      <td>Choledochal Cyst</td>\n",
       "    </tr>\n",
       "    <tr>\n",
       "      <th>6345</th>\n",
       "      <td>6345</td>\n",
       "      <td>-9.05</td>\n",
       "      <td>C0041935</td>\n",
       "      <td>Urban Population</td>\n",
       "    </tr>\n",
       "    <tr>\n",
       "      <th>...</th>\n",
       "      <td>...</td>\n",
       "      <td>...</td>\n",
       "      <td>...</td>\n",
       "      <td>...</td>\n",
       "    </tr>\n",
       "    <tr>\n",
       "      <th>2922</th>\n",
       "      <td>2922</td>\n",
       "      <td>-11.67</td>\n",
       "      <td>C0017687</td>\n",
       "      <td>Glucagon</td>\n",
       "    </tr>\n",
       "    <tr>\n",
       "      <th>2094</th>\n",
       "      <td>2094</td>\n",
       "      <td>-11.67</td>\n",
       "      <td>C0011603</td>\n",
       "      <td>Dermatitis</td>\n",
       "    </tr>\n",
       "    <tr>\n",
       "      <th>14009</th>\n",
       "      <td>14009</td>\n",
       "      <td>-11.67</td>\n",
       "      <td>C1306587</td>\n",
       "      <td>Acute encephalopathy</td>\n",
       "    </tr>\n",
       "    <tr>\n",
       "      <th>9829</th>\n",
       "      <td>9829</td>\n",
       "      <td>-11.67</td>\n",
       "      <td>C0282583</td>\n",
       "      <td>Bacterial Translocation</td>\n",
       "    </tr>\n",
       "    <tr>\n",
       "      <th>976</th>\n",
       "      <td>976</td>\n",
       "      <td>-11.67</td>\n",
       "      <td>C0003578</td>\n",
       "      <td>Apnea</td>\n",
       "    </tr>\n",
       "  </tbody>\n",
       "</table>\n",
       "<p>2340 rows × 4 columns</p>\n",
       "</div>"
      ],
      "text/plain": [
       "       tail_id  score tail_label                     name\n",
       "7280      7280  -8.66   C0078988                   Asians\n",
       "11085    11085  -8.90   C0524337              Elderly man\n",
       "5703      5703  -8.93   C0037047                  sibling\n",
       "1693      1693  -9.01   C0008340         Choledochal Cyst\n",
       "6345      6345  -9.05   C0041935         Urban Population\n",
       "...        ...    ...        ...                      ...\n",
       "2922      2922 -11.67   C0017687                 Glucagon\n",
       "2094      2094 -11.67   C0011603               Dermatitis\n",
       "14009    14009 -11.67   C1306587     Acute encephalopathy\n",
       "9829      9829 -11.67   C0282583  Bacterial Translocation\n",
       "976        976 -11.67   C0003578                    Apnea\n",
       "\n",
       "[2340 rows x 4 columns]"
      ]
     },
     "execution_count": 37,
     "metadata": {},
     "output_type": "execute_result"
    }
   ],
   "source": [
    "## novel preds\n",
    "df_novel_cand = df_preds_res.loc[~df_preds_res[\"tail_label\"].isin(df_known[\"OBJECT_CUI\"])]\n",
    "print(df_novel_cand.shape[0],\"total unfil novel candidates\")\n",
    "df_novel_cand = df_novel_cand.loc[df_novel_cand[\"score\"]>=min_score_real]\n",
    "print(df_novel_cand.shape[0],\"Filtered score novel candidates\")\n",
    "# df_novel_cand\n",
    "\n",
    "# ## get CUIs and free text (for comparing/m,atching)\n",
    "# df_novel_cand = df_novel_cand.merge(df_map,left_on=\"tail_label\",right_on=\"name\",how=\"inner\").drop(columns=\"name\").drop_duplicates()\n",
    "df_novel_cand"
   ]
  },
  {
   "cell_type": "markdown",
   "id": "fad87d5f-bfc4-415a-a445-069147d19b75",
   "metadata": {},
   "source": [
    "### Novel candidates that are also likely to be missing links (from our preds): "
   ]
  },
  {
   "cell_type": "code",
   "execution_count": 38,
   "id": "b135f7fa-55e1-4b2f-82e1-ddb784ed6f44",
   "metadata": {},
   "outputs": [
    {
     "data": {
      "text/plain": [
       "411"
      ]
     },
     "execution_count": 38,
     "metadata": {},
     "output_type": "execute_result"
    }
   ],
   "source": [
    "# len(set(candidate_feature_cuis_list))\n",
    "len(set(candidate_feature_cuis_list))"
   ]
  },
  {
   "cell_type": "code",
   "execution_count": 39,
   "id": "bfea1e2a-af84-4a4e-8ce4-c751c802d05d",
   "metadata": {},
   "outputs": [
    {
     "name": "stdout",
     "output_type": "stream",
     "text": [
      "28.710462287104622 % Candidate CUIS covered\n"
     ]
    },
    {
     "data": {
      "text/html": [
       "<div>\n",
       "<style scoped>\n",
       "    .dataframe tbody tr th:only-of-type {\n",
       "        vertical-align: middle;\n",
       "    }\n",
       "\n",
       "    .dataframe tbody tr th {\n",
       "        vertical-align: top;\n",
       "    }\n",
       "\n",
       "    .dataframe thead th {\n",
       "        text-align: right;\n",
       "    }\n",
       "</style>\n",
       "<table border=\"1\" class=\"dataframe\">\n",
       "  <thead>\n",
       "    <tr style=\"text-align: right;\">\n",
       "      <th></th>\n",
       "      <th>tail_id</th>\n",
       "      <th>score</th>\n",
       "      <th>tail_label</th>\n",
       "      <th>name</th>\n",
       "    </tr>\n",
       "  </thead>\n",
       "  <tbody>\n",
       "    <tr>\n",
       "      <th>1871</th>\n",
       "      <td>1871</td>\n",
       "      <td>-9.56</td>\n",
       "      <td>C0009806</td>\n",
       "      <td>Constipation</td>\n",
       "    </tr>\n",
       "    <tr>\n",
       "      <th>8051</th>\n",
       "      <td>8051</td>\n",
       "      <td>-9.65</td>\n",
       "      <td>C0162316</td>\n",
       "      <td>Iron deficiency anemia</td>\n",
       "    </tr>\n",
       "    <tr>\n",
       "      <th>3679</th>\n",
       "      <td>3679</td>\n",
       "      <td>-9.66</td>\n",
       "      <td>C0022661</td>\n",
       "      <td>Kidney Failure, Chronic</td>\n",
       "    </tr>\n",
       "    <tr>\n",
       "      <th>8259</th>\n",
       "      <td>8259</td>\n",
       "      <td>-9.66</td>\n",
       "      <td>C0178282</td>\n",
       "      <td>Hernia of abdominal cavity</td>\n",
       "    </tr>\n",
       "    <tr>\n",
       "      <th>5657</th>\n",
       "      <td>5657</td>\n",
       "      <td>-9.70</td>\n",
       "      <td>C0036690</td>\n",
       "      <td>Septicemia</td>\n",
       "    </tr>\n",
       "    <tr>\n",
       "      <th>...</th>\n",
       "      <td>...</td>\n",
       "      <td>...</td>\n",
       "      <td>...</td>\n",
       "      <td>...</td>\n",
       "    </tr>\n",
       "    <tr>\n",
       "      <th>7956</th>\n",
       "      <td>7956</td>\n",
       "      <td>-11.60</td>\n",
       "      <td>C0151718</td>\n",
       "      <td>Hypocholesterolemia</td>\n",
       "    </tr>\n",
       "    <tr>\n",
       "      <th>5066</th>\n",
       "      <td>5066</td>\n",
       "      <td>-11.60</td>\n",
       "      <td>C0032533</td>\n",
       "      <td>Polymyalgia Rheumatica</td>\n",
       "    </tr>\n",
       "    <tr>\n",
       "      <th>9612</th>\n",
       "      <td>9612</td>\n",
       "      <td>-11.66</td>\n",
       "      <td>C0264490</td>\n",
       "      <td>Acute respiratory failure</td>\n",
       "    </tr>\n",
       "    <tr>\n",
       "      <th>4909</th>\n",
       "      <td>4909</td>\n",
       "      <td>-11.67</td>\n",
       "      <td>C0031542</td>\n",
       "      <td>Phlebitis</td>\n",
       "    </tr>\n",
       "    <tr>\n",
       "      <th>1586</th>\n",
       "      <td>1586</td>\n",
       "      <td>-11.67</td>\n",
       "      <td>C0007642</td>\n",
       "      <td>Cellulitis</td>\n",
       "    </tr>\n",
       "  </tbody>\n",
       "</table>\n",
       "<p>118 rows × 4 columns</p>\n",
       "</div>"
      ],
      "text/plain": [
       "      tail_id  score tail_label                        name\n",
       "1871     1871  -9.56   C0009806                Constipation\n",
       "8051     8051  -9.65   C0162316      Iron deficiency anemia\n",
       "3679     3679  -9.66   C0022661     Kidney Failure, Chronic\n",
       "8259     8259  -9.66   C0178282  Hernia of abdominal cavity\n",
       "5657     5657  -9.70   C0036690                  Septicemia\n",
       "...       ...    ...        ...                         ...\n",
       "7956     7956 -11.60   C0151718         Hypocholesterolemia\n",
       "5066     5066 -11.60   C0032533      Polymyalgia Rheumatica\n",
       "9612     9612 -11.66   C0264490   Acute respiratory failure\n",
       "4909     4909 -11.67   C0031542                   Phlebitis\n",
       "1586     1586 -11.67   C0007642                  Cellulitis\n",
       "\n",
       "[118 rows x 4 columns]"
      ]
     },
     "execution_count": 39,
     "metadata": {},
     "output_type": "execute_result"
    }
   ],
   "source": [
    "print(100*df_novel_cand.loc[df_novel_cand[\"tail_label\"].isin(candidate_feature_cuis_list)].drop_duplicates(\"tail_label\").shape[0]/len(set(candidate_feature_cuis_list)),\"% Candidate CUIS covered\")\n",
    "df_novel_cand.loc[df_novel_cand[\"tail_label\"].isin(candidate_feature_cuis_list)].drop_duplicates(\"tail_label\")"
   ]
  },
  {
   "cell_type": "markdown",
   "id": "216eeade-1484-4f1b-8cb4-2ad2002e40c9",
   "metadata": {},
   "source": [
    "* Alt: candidates for what prevents a disease (mayu also want to look at \"neagtuively affected by\")"
   ]
  },
  {
   "cell_type": "code",
   "execution_count": 40,
   "id": "5f7a93ac-9a2a-4a67-98a2-259d6d122ae4",
   "metadata": {},
   "outputs": [],
   "source": [
    "# object_cand_query = \"Multiple Sclerosis\"\n",
    "# object_cand_query = \"Cholelithiasis\"\n",
    "object_cand_query = \"C0008350\" # \"Cholelithiasis\" - CUI"
   ]
  },
  {
   "cell_type": "code",
   "execution_count": 41,
   "id": "f9af468e-ae62-46f9-a968-ab354075cbb4",
   "metadata": {},
   "outputs": [
    {
     "name": "stdout",
     "output_type": "stream",
     "text": [
      "link\n"
     ]
    },
    {
     "data": {
      "text/plain": [
       "8831"
      ]
     },
     "execution_count": 41,
     "metadata": {},
     "output_type": "execute_result"
    }
   ],
   "source": [
    "\n",
    "# NEG_PREDICATES = [\"CAUSES\",'INHIBITS','PREVENTS', 'TREATS'] # ,'DISRUPTS',  - most common res, includes cytokines\n",
    "NEG_PREDICATES = [\"link\"]\n",
    "df_preds_res = pd.DataFrame()\n",
    "\n",
    "for p in NEG_PREDICATES:\n",
    "    print(p)\n",
    "    df_temp = predict_target(model=results.model,\n",
    "        # head=query,\n",
    "        relation= p,#\"PREVENTS\", ##subsetPredicates\n",
    "         tail=object_cand_query,\n",
    "         triples_factory=tf).df\n",
    "    df_temp[\"predicate\"]= p\n",
    "    df_preds_res = pd.concat([df_preds_res,df_temp])\n",
    "    \n",
    "df_preds_res = df_preds_res.drop_duplicates(subset=[\"head_label\",\"predicate\"]).round(1)\n",
    "\n",
    "# df_known = df_kg.loc[(df_kg['OBJECT_NAME']==object_cand_query)&(df_kg['PREDICATE']==\"PREVENTS\")]\n",
    "df_known = df_kg.loc[(df_kg['OBJECT_CUI']==object_cand_query)&(df_kg['PREDICATE'].isin(NEG_PREDICATES))]\n",
    "df_preds_res = df_preds_res.loc[~df_preds_res[\"head_label\"].isin(df_known[\"OBJECT_CUI\"])].sort_values(\"score\",ascending=False)#.head(25)\n",
    "\n",
    "df_preds_res = df_preds_res.merge(df_map.set_index(\"CUI\"),left_on=\"head_label\",right_index=True,how=\"inner\").drop_duplicates(\"head_label\")\n",
    "\n",
    "### filterr by min real score i.e score of known cases\n",
    "min_score_real = df_preds_res.loc[df_preds_res[\"head_label\"].isin(df_known[\"SUBJECT_CUI\"])][\"score\"].min()\n",
    "df_preds_res = df_preds_res.loc[df_preds_res[\"score\"]>=min_score_real]\n",
    "\n",
    "df_preds_res.shape[0]#.head(25)"
   ]
  },
  {
   "cell_type": "code",
   "execution_count": 42,
   "id": "9a9998c7-5174-4c5d-bcb2-ce0566d2c804",
   "metadata": {},
   "outputs": [
    {
     "name": "stdout",
     "output_type": "stream",
     "text": [
      "8831\n"
     ]
    },
    {
     "data": {
      "text/html": [
       "<div>\n",
       "<style scoped>\n",
       "    .dataframe tbody tr th:only-of-type {\n",
       "        vertical-align: middle;\n",
       "    }\n",
       "\n",
       "    .dataframe tbody tr th {\n",
       "        vertical-align: top;\n",
       "    }\n",
       "\n",
       "    .dataframe thead th {\n",
       "        text-align: right;\n",
       "    }\n",
       "</style>\n",
       "<table border=\"1\" class=\"dataframe\">\n",
       "  <thead>\n",
       "    <tr style=\"text-align: right;\">\n",
       "      <th></th>\n",
       "      <th>head_id</th>\n",
       "      <th>score</th>\n",
       "      <th>head_label</th>\n",
       "      <th>predicate</th>\n",
       "      <th>name</th>\n",
       "    </tr>\n",
       "  </thead>\n",
       "  <tbody>\n",
       "    <tr>\n",
       "      <th>1855</th>\n",
       "      <td>1855</td>\n",
       "      <td>-8.3</td>\n",
       "      <td>C0009566</td>\n",
       "      <td>link</td>\n",
       "      <td>Complication</td>\n",
       "    </tr>\n",
       "    <tr>\n",
       "      <th>2205</th>\n",
       "      <td>2205</td>\n",
       "      <td>-8.4</td>\n",
       "      <td>C0012634</td>\n",
       "      <td>link</td>\n",
       "      <td>Disease</td>\n",
       "    </tr>\n",
       "    <tr>\n",
       "      <th>4560</th>\n",
       "      <td>4560</td>\n",
       "      <td>-8.4</td>\n",
       "      <td>C0028754</td>\n",
       "      <td>link</td>\n",
       "      <td>Obesity</td>\n",
       "    </tr>\n",
       "    <tr>\n",
       "      <th>1420</th>\n",
       "      <td>1420</td>\n",
       "      <td>-8.7</td>\n",
       "      <td>C0006826</td>\n",
       "      <td>link</td>\n",
       "      <td>Malignant Neoplasms</td>\n",
       "    </tr>\n",
       "    <tr>\n",
       "      <th>14654</th>\n",
       "      <td>14654</td>\n",
       "      <td>-8.9</td>\n",
       "      <td>C1457887</td>\n",
       "      <td>link</td>\n",
       "      <td>Symptoms</td>\n",
       "    </tr>\n",
       "    <tr>\n",
       "      <th>...</th>\n",
       "      <td>...</td>\n",
       "      <td>...</td>\n",
       "      <td>...</td>\n",
       "      <td>...</td>\n",
       "      <td>...</td>\n",
       "    </tr>\n",
       "    <tr>\n",
       "      <th>5842</th>\n",
       "      <td>5842</td>\n",
       "      <td>-12.4</td>\n",
       "      <td>C0038160</td>\n",
       "      <td>link</td>\n",
       "      <td>Staphylococcal Infections</td>\n",
       "    </tr>\n",
       "    <tr>\n",
       "      <th>10390</th>\n",
       "      <td>10390</td>\n",
       "      <td>-12.4</td>\n",
       "      <td>C0376196</td>\n",
       "      <td>link</td>\n",
       "      <td>Opiates</td>\n",
       "    </tr>\n",
       "    <tr>\n",
       "      <th>14006</th>\n",
       "      <td>14006</td>\n",
       "      <td>-12.4</td>\n",
       "      <td>C1306459</td>\n",
       "      <td>link</td>\n",
       "      <td>Primary malignant neoplasm</td>\n",
       "    </tr>\n",
       "    <tr>\n",
       "      <th>1625</th>\n",
       "      <td>1625</td>\n",
       "      <td>-12.4</td>\n",
       "      <td>C0007859</td>\n",
       "      <td>link</td>\n",
       "      <td>Neck Pain</td>\n",
       "    </tr>\n",
       "    <tr>\n",
       "      <th>5260</th>\n",
       "      <td>5260</td>\n",
       "      <td>-12.4</td>\n",
       "      <td>C0034067</td>\n",
       "      <td>link</td>\n",
       "      <td>Pulmonary Emphysema</td>\n",
       "    </tr>\n",
       "  </tbody>\n",
       "</table>\n",
       "<p>179 rows × 5 columns</p>\n",
       "</div>"
      ],
      "text/plain": [
       "       head_id  score head_label predicate                        name\n",
       "1855      1855   -8.3   C0009566      link                Complication\n",
       "2205      2205   -8.4   C0012634      link                     Disease\n",
       "4560      4560   -8.4   C0028754      link                     Obesity\n",
       "1420      1420   -8.7   C0006826      link         Malignant Neoplasms\n",
       "14654    14654   -8.9   C1457887      link                    Symptoms\n",
       "...        ...    ...        ...       ...                         ...\n",
       "5842      5842  -12.4   C0038160      link   Staphylococcal Infections\n",
       "10390    10390  -12.4   C0376196      link                     Opiates\n",
       "14006    14006  -12.4   C1306459      link  Primary malignant neoplasm\n",
       "1625      1625  -12.4   C0007859      link                   Neck Pain\n",
       "5260      5260  -12.4   C0034067      link         Pulmonary Emphysema\n",
       "\n",
       "[179 rows x 5 columns]"
      ]
     },
     "execution_count": 42,
     "metadata": {},
     "output_type": "execute_result"
    }
   ],
   "source": [
    "## get CUIs and free text (for comparing/m,atching)\n",
    "# df_preds_res = df_preds_res.merge(df_map,left_on=\"head_label\",right_on=\"name\",how=\"inner\").drop(columns=\"name\").drop_duplicates()\n",
    "print(df_preds_res.shape[0])\n",
    "\n",
    "df_preds_res.loc[df_preds_res[\"head_label\"].isin(candidate_feature_cuis_list)]"
   ]
  },
  {
   "cell_type": "markdown",
   "id": "2733ca43-ed17-45f3-89c7-8896d209aa03",
   "metadata": {},
   "source": [
    "Example feature: (low score but passes)\n",
    "`1.72\tShared Paranoid Disorder\tC0036939`\n",
    "* This actually makes sense! e.g. see: \n",
    "* \"The Surprising Link Between the Liver and Mental Health\"\r",
    "\"ve, liver disease can be a direct cause of mental health symptoms because a compromised liver cannot prevent toxin\"...\n",
    "* \"When liver function is disrupted, toxins accumulate in the blood and often travel to the brain, increasing the likelihood of affecting brain function. Liver disease patients are three times more likely to simultaneously be living with depressive disorders\".\n",
    "\n",
    "\n",
    "Another: `1.72\t Dyspareunia\t\tC1384606`\n",
    "* \"A Case of Gallstones Causing Pelvic Pain\"\n",
    "* \"Missed Gallstones in the Bile Duct and Abdominal Cavity\"v)\r\n",
    "https://www.ncbi.nlm.nih.gov › articles › PMC2664139\r\n",
    "by O Irkorucu · 20,5 The other rare complications of LC are as follows: ovarian stone implantation, tubalithiasis, dyspareunia, chronic pelvic pain, small bowel ..."
   ]
  },
  {
   "cell_type": "code",
   "execution_count": 43,
   "id": "1759731b-d532-4509-8e86-9918643454be",
   "metadata": {},
   "outputs": [
    {
     "data": {
      "text/plain": [
       "count    8831.000000\n",
       "mean      -11.530223\n",
       "std         0.708862\n",
       "min       -12.400000\n",
       "25%       -12.100000\n",
       "50%       -11.700000\n",
       "75%       -11.100000\n",
       "max        -8.300000\n",
       "Name: score, dtype: float64"
      ]
     },
     "execution_count": 43,
     "metadata": {},
     "output_type": "execute_result"
    }
   ],
   "source": [
    "df_preds_res.score.describe()"
   ]
  },
  {
   "cell_type": "code",
   "execution_count": 44,
   "id": "98154dcc-010c-4401-9dc7-3155f012e568",
   "metadata": {},
   "outputs": [
    {
     "data": {
      "text/html": [
       "<div>\n",
       "<style scoped>\n",
       "    .dataframe tbody tr th:only-of-type {\n",
       "        vertical-align: middle;\n",
       "    }\n",
       "\n",
       "    .dataframe tbody tr th {\n",
       "        vertical-align: top;\n",
       "    }\n",
       "\n",
       "    .dataframe thead th {\n",
       "        text-align: right;\n",
       "    }\n",
       "</style>\n",
       "<table border=\"1\" class=\"dataframe\">\n",
       "  <thead>\n",
       "    <tr style=\"text-align: right;\">\n",
       "      <th></th>\n",
       "      <th>head_label</th>\n",
       "      <th>predicate</th>\n",
       "    </tr>\n",
       "  </thead>\n",
       "  <tbody>\n",
       "  </tbody>\n",
       "</table>\n",
       "</div>"
      ],
      "text/plain": [
       "Empty DataFrame\n",
       "Columns: [head_label, predicate]\n",
       "Index: []"
      ]
     },
     "execution_count": 44,
     "metadata": {},
     "output_type": "execute_result"
    }
   ],
   "source": [
    "# df_preds_res.loc[df_preds_res[\"predicate\"]==\"PREVENTS\"][[\"head_label\",\"predicate\"]].head(24)[\"head_label\"].values.to_clipboard()\n",
    "df_preds_res.loc[df_preds_res[\"predicate\"]==\"PREVENTS\"][[\"head_label\",\"predicate\"]].head(24)"
   ]
  },
  {
   "cell_type": "code",
   "execution_count": 45,
   "id": "e0039c01-3d55-4f8f-9e36-b87e3fe0fc71",
   "metadata": {},
   "outputs": [
    {
     "data": {
      "text/html": [
       "<div>\n",
       "<style scoped>\n",
       "    .dataframe tbody tr th:only-of-type {\n",
       "        vertical-align: middle;\n",
       "    }\n",
       "\n",
       "    .dataframe tbody tr th {\n",
       "        vertical-align: top;\n",
       "    }\n",
       "\n",
       "    .dataframe thead th {\n",
       "        text-align: right;\n",
       "    }\n",
       "</style>\n",
       "<table border=\"1\" class=\"dataframe\">\n",
       "  <thead>\n",
       "    <tr style=\"text-align: right;\">\n",
       "      <th></th>\n",
       "      <th>head_label</th>\n",
       "      <th>predicate</th>\n",
       "    </tr>\n",
       "  </thead>\n",
       "  <tbody>\n",
       "  </tbody>\n",
       "</table>\n",
       "</div>"
      ],
      "text/plain": [
       "Empty DataFrame\n",
       "Columns: [head_label, predicate]\n",
       "Index: []"
      ]
     },
     "execution_count": 45,
     "metadata": {},
     "output_type": "execute_result"
    }
   ],
   "source": [
    "# df_preds_res.loc[df_preds_res[\"predicate\"]==\"TREATS\"][[\"head_label\",\"predicate\"]].head(30).to_clipboard()\n",
    "\n",
    "df_preds_res.loc[df_preds_res[\"predicate\"]==\"INHIBITS\"][[\"head_label\",\"predicate\"]].head(30)#.to_clipboard()"
   ]
  },
  {
   "cell_type": "code",
   "execution_count": 46,
   "id": "a42f7ee8-5770-483e-a9ce-46f6a79ba7e9",
   "metadata": {
    "scrolled": true
   },
   "outputs": [
    {
     "data": {
      "text/html": [
       "<div>\n",
       "<style scoped>\n",
       "    .dataframe tbody tr th:only-of-type {\n",
       "        vertical-align: middle;\n",
       "    }\n",
       "\n",
       "    .dataframe tbody tr th {\n",
       "        vertical-align: top;\n",
       "    }\n",
       "\n",
       "    .dataframe thead th {\n",
       "        text-align: right;\n",
       "    }\n",
       "</style>\n",
       "<table border=\"1\" class=\"dataframe\">\n",
       "  <thead>\n",
       "    <tr style=\"text-align: right;\">\n",
       "      <th></th>\n",
       "      <th>head_label</th>\n",
       "      <th>predicate</th>\n",
       "    </tr>\n",
       "  </thead>\n",
       "  <tbody>\n",
       "    <tr>\n",
       "      <th>1855</th>\n",
       "      <td>C0009566</td>\n",
       "      <td>link</td>\n",
       "    </tr>\n",
       "    <tr>\n",
       "      <th>11193</th>\n",
       "      <td>C0543467</td>\n",
       "      <td>link</td>\n",
       "    </tr>\n",
       "    <tr>\n",
       "      <th>2205</th>\n",
       "      <td>C0012634</td>\n",
       "      <td>link</td>\n",
       "    </tr>\n",
       "    <tr>\n",
       "      <th>4560</th>\n",
       "      <td>C0028754</td>\n",
       "      <td>link</td>\n",
       "    </tr>\n",
       "    <tr>\n",
       "      <th>2813</th>\n",
       "      <td>C0017118</td>\n",
       "      <td>link</td>\n",
       "    </tr>\n",
       "    <tr>\n",
       "      <th>2117</th>\n",
       "      <td>C0011847</td>\n",
       "      <td>link</td>\n",
       "    </tr>\n",
       "    <tr>\n",
       "      <th>3504</th>\n",
       "      <td>C0021368</td>\n",
       "      <td>link</td>\n",
       "    </tr>\n",
       "    <tr>\n",
       "      <th>1690</th>\n",
       "      <td>C0008320</td>\n",
       "      <td>link</td>\n",
       "    </tr>\n",
       "    <tr>\n",
       "      <th>12232</th>\n",
       "      <td>C0728940</td>\n",
       "      <td>link</td>\n",
       "    </tr>\n",
       "    <tr>\n",
       "      <th>1420</th>\n",
       "      <td>C0006826</td>\n",
       "      <td>link</td>\n",
       "    </tr>\n",
       "    <tr>\n",
       "      <th>2152</th>\n",
       "      <td>C0012155</td>\n",
       "      <td>link</td>\n",
       "    </tr>\n",
       "    <tr>\n",
       "      <th>15017</th>\n",
       "      <td>C1522577</td>\n",
       "      <td>link</td>\n",
       "    </tr>\n",
       "    <tr>\n",
       "      <th>8559</th>\n",
       "      <td>C0205054</td>\n",
       "      <td>link</td>\n",
       "    </tr>\n",
       "    <tr>\n",
       "      <th>6226</th>\n",
       "      <td>C0040732</td>\n",
       "      <td>link</td>\n",
       "    </tr>\n",
       "    <tr>\n",
       "      <th>10562</th>\n",
       "      <td>C0400966</td>\n",
       "      <td>link</td>\n",
       "    </tr>\n",
       "    <tr>\n",
       "      <th>13056</th>\n",
       "      <td>C0948265</td>\n",
       "      <td>link</td>\n",
       "    </tr>\n",
       "    <tr>\n",
       "      <th>2119</th>\n",
       "      <td>C0011849</td>\n",
       "      <td>link</td>\n",
       "    </tr>\n",
       "    <tr>\n",
       "      <th>5990</th>\n",
       "      <td>C0039082</td>\n",
       "      <td>link</td>\n",
       "    </tr>\n",
       "    <tr>\n",
       "      <th>8373</th>\n",
       "      <td>C0184661</td>\n",
       "      <td>link</td>\n",
       "    </tr>\n",
       "    <tr>\n",
       "      <th>14654</th>\n",
       "      <td>C1457887</td>\n",
       "      <td>link</td>\n",
       "    </tr>\n",
       "    <tr>\n",
       "      <th>1198</th>\n",
       "      <td>C0005390</td>\n",
       "      <td>link</td>\n",
       "    </tr>\n",
       "    <tr>\n",
       "      <th>3140</th>\n",
       "      <td>C0019080</td>\n",
       "      <td>link</td>\n",
       "    </tr>\n",
       "    <tr>\n",
       "      <th>2675</th>\n",
       "      <td>C0016059</td>\n",
       "      <td>link</td>\n",
       "    </tr>\n",
       "    <tr>\n",
       "      <th>6327</th>\n",
       "      <td>C0041618</td>\n",
       "      <td>link</td>\n",
       "    </tr>\n",
       "    <tr>\n",
       "      <th>12113</th>\n",
       "      <td>C0687732</td>\n",
       "      <td>link</td>\n",
       "    </tr>\n",
       "    <tr>\n",
       "      <th>4735</th>\n",
       "      <td>C0030305</td>\n",
       "      <td>link</td>\n",
       "    </tr>\n",
       "    <tr>\n",
       "      <th>2128</th>\n",
       "      <td>C0011900</td>\n",
       "      <td>link</td>\n",
       "    </tr>\n",
       "    <tr>\n",
       "      <th>14734</th>\n",
       "      <td>C1511790</td>\n",
       "      <td>link</td>\n",
       "    </tr>\n",
       "    <tr>\n",
       "      <th>9693</th>\n",
       "      <td>C0277785</td>\n",
       "      <td>link</td>\n",
       "    </tr>\n",
       "    <tr>\n",
       "      <th>4852</th>\n",
       "      <td>C0031150</td>\n",
       "      <td>link</td>\n",
       "    </tr>\n",
       "    <tr>\n",
       "      <th>11444</th>\n",
       "      <td>C0596473</td>\n",
       "      <td>link</td>\n",
       "    </tr>\n",
       "    <tr>\n",
       "      <th>8828</th>\n",
       "      <td>C0220908</td>\n",
       "      <td>link</td>\n",
       "    </tr>\n",
       "    <tr>\n",
       "      <th>14641</th>\n",
       "      <td>C1456587</td>\n",
       "      <td>link</td>\n",
       "    </tr>\n",
       "  </tbody>\n",
       "</table>\n",
       "</div>"
      ],
      "text/plain": [
       "      head_label predicate\n",
       "1855    C0009566      link\n",
       "11193   C0543467      link\n",
       "2205    C0012634      link\n",
       "4560    C0028754      link\n",
       "2813    C0017118      link\n",
       "2117    C0011847      link\n",
       "3504    C0021368      link\n",
       "1690    C0008320      link\n",
       "12232   C0728940      link\n",
       "1420    C0006826      link\n",
       "2152    C0012155      link\n",
       "15017   C1522577      link\n",
       "8559    C0205054      link\n",
       "6226    C0040732      link\n",
       "10562   C0400966      link\n",
       "13056   C0948265      link\n",
       "2119    C0011849      link\n",
       "5990    C0039082      link\n",
       "8373    C0184661      link\n",
       "14654   C1457887      link\n",
       "1198    C0005390      link\n",
       "3140    C0019080      link\n",
       "2675    C0016059      link\n",
       "6327    C0041618      link\n",
       "12113   C0687732      link\n",
       "4735    C0030305      link\n",
       "2128    C0011900      link\n",
       "14734   C1511790      link\n",
       "9693    C0277785      link\n",
       "4852    C0031150      link\n",
       "11444   C0596473      link\n",
       "8828    C0220908      link\n",
       "14641   C1456587      link"
      ]
     },
     "execution_count": 46,
     "metadata": {},
     "output_type": "execute_result"
    }
   ],
   "source": [
    "df_preds_res[[\"head_label\",\"predicate\"]].head(33)"
   ]
  },
  {
   "cell_type": "code",
   "execution_count": null,
   "id": "0bcf1eee-d027-478a-85e9-964a913c200a",
   "metadata": {},
   "outputs": [],
   "source": []
  },
  {
   "cell_type": "code",
   "execution_count": 47,
   "id": "4fd24be0-9ae4-4ae3-bf02-06d57758ab7f",
   "metadata": {},
   "outputs": [
    {
     "data": {
      "application/vnd.jupyter.widget-view+json": {
       "model_id": "c67b4c80dfa64127b2863d218a6d7e0b",
       "version_major": 2,
       "version_minor": 0
      },
      "text/plain": [
       "Evaluating on cuda:0:   0%|          | 0.00/103k [00:00<?, ?triple/s]"
      ]
     },
     "metadata": {},
     "output_type": "display_data"
    },
    {
     "name": "stderr",
     "output_type": "stream",
     "text": [
      "INFO:pykeen.evaluation.evaluator:Evaluation took 379.31s seconds\n"
     ]
    },
    {
     "name": "stdout",
     "output_type": "stream",
     "text": [
      "CPU times: user 4min 10s, sys: 1.16 s, total: 4min 11s\n",
      "Wall time: 6min 19s\n"
     ]
    },
    {
     "data": {
      "text/html": [
       "<div>\n",
       "<style scoped>\n",
       "    .dataframe tbody tr th:only-of-type {\n",
       "        vertical-align: middle;\n",
       "    }\n",
       "\n",
       "    .dataframe tbody tr th {\n",
       "        vertical-align: top;\n",
       "    }\n",
       "\n",
       "    .dataframe thead th {\n",
       "        text-align: right;\n",
       "    }\n",
       "</style>\n",
       "<table border=\"1\" class=\"dataframe\">\n",
       "  <thead>\n",
       "    <tr style=\"text-align: right;\">\n",
       "      <th></th>\n",
       "      <th>Side</th>\n",
       "      <th>Rank_type</th>\n",
       "      <th>Metric</th>\n",
       "      <th>Value</th>\n",
       "    </tr>\n",
       "  </thead>\n",
       "  <tbody>\n",
       "    <tr>\n",
       "      <th>2</th>\n",
       "      <td>both</td>\n",
       "      <td>optimistic</td>\n",
       "      <td>z_geometric_mean_rank</td>\n",
       "      <td>3.063503e+01</td>\n",
       "    </tr>\n",
       "    <tr>\n",
       "      <th>11</th>\n",
       "      <td>both</td>\n",
       "      <td>optimistic</td>\n",
       "      <td>inverse_geometric_mean_rank</td>\n",
       "      <td>1.883036e-04</td>\n",
       "    </tr>\n",
       "    <tr>\n",
       "      <th>20</th>\n",
       "      <td>both</td>\n",
       "      <td>optimistic</td>\n",
       "      <td>inverse_arithmetic_mean_rank</td>\n",
       "      <td>1.319772e-04</td>\n",
       "    </tr>\n",
       "    <tr>\n",
       "      <th>29</th>\n",
       "      <td>both</td>\n",
       "      <td>optimistic</td>\n",
       "      <td>adjusted_inverse_harmonic_mean_rank</td>\n",
       "      <td>1.273286e-03</td>\n",
       "    </tr>\n",
       "    <tr>\n",
       "      <th>38</th>\n",
       "      <td>both</td>\n",
       "      <td>optimistic</td>\n",
       "      <td>variance</td>\n",
       "      <td>2.042155e+07</td>\n",
       "    </tr>\n",
       "    <tr>\n",
       "      <th>47</th>\n",
       "      <td>both</td>\n",
       "      <td>optimistic</td>\n",
       "      <td>adjusted_arithmetic_mean_rank_index</td>\n",
       "      <td>2.122002e-02</td>\n",
       "    </tr>\n",
       "    <tr>\n",
       "      <th>56</th>\n",
       "      <td>both</td>\n",
       "      <td>optimistic</td>\n",
       "      <td>inverse_median_rank</td>\n",
       "      <td>1.327580e-04</td>\n",
       "    </tr>\n",
       "    <tr>\n",
       "      <th>65</th>\n",
       "      <td>both</td>\n",
       "      <td>optimistic</td>\n",
       "      <td>geometric_mean_rank</td>\n",
       "      <td>5.310574e+03</td>\n",
       "    </tr>\n",
       "    <tr>\n",
       "      <th>74</th>\n",
       "      <td>both</td>\n",
       "      <td>optimistic</td>\n",
       "      <td>adjusted_arithmetic_mean_rank</td>\n",
       "      <td>9.787827e-01</td>\n",
       "    </tr>\n",
       "    <tr>\n",
       "      <th>83</th>\n",
       "      <td>both</td>\n",
       "      <td>optimistic</td>\n",
       "      <td>arithmetic_mean_rank</td>\n",
       "      <td>7.577068e+03</td>\n",
       "    </tr>\n",
       "    <tr>\n",
       "      <th>92</th>\n",
       "      <td>both</td>\n",
       "      <td>optimistic</td>\n",
       "      <td>z_inverse_harmonic_mean_rank</td>\n",
       "      <td>5.598584e+01</td>\n",
       "    </tr>\n",
       "    <tr>\n",
       "      <th>101</th>\n",
       "      <td>both</td>\n",
       "      <td>optimistic</td>\n",
       "      <td>z_arithmetic_mean_rank</td>\n",
       "      <td>1.663478e+01</td>\n",
       "    </tr>\n",
       "    <tr>\n",
       "      <th>110</th>\n",
       "      <td>both</td>\n",
       "      <td>optimistic</td>\n",
       "      <td>adjusted_geometric_mean_rank_index</td>\n",
       "      <td>6.754492e-02</td>\n",
       "    </tr>\n",
       "    <tr>\n",
       "      <th>119</th>\n",
       "      <td>both</td>\n",
       "      <td>optimistic</td>\n",
       "      <td>count</td>\n",
       "      <td>2.050160e+05</td>\n",
       "    </tr>\n",
       "    <tr>\n",
       "      <th>128</th>\n",
       "      <td>both</td>\n",
       "      <td>optimistic</td>\n",
       "      <td>standard_deviation</td>\n",
       "      <td>4.519021e+03</td>\n",
       "    </tr>\n",
       "    <tr>\n",
       "      <th>137</th>\n",
       "      <td>both</td>\n",
       "      <td>optimistic</td>\n",
       "      <td>median_rank</td>\n",
       "      <td>7.532500e+03</td>\n",
       "    </tr>\n",
       "    <tr>\n",
       "      <th>146</th>\n",
       "      <td>both</td>\n",
       "      <td>optimistic</td>\n",
       "      <td>harmonic_mean_rank</td>\n",
       "      <td>5.172304e+02</td>\n",
       "    </tr>\n",
       "    <tr>\n",
       "      <th>155</th>\n",
       "      <td>both</td>\n",
       "      <td>optimistic</td>\n",
       "      <td>inverse_harmonic_mean_rank</td>\n",
       "      <td>1.933374e-03</td>\n",
       "    </tr>\n",
       "    <tr>\n",
       "      <th>164</th>\n",
       "      <td>both</td>\n",
       "      <td>optimistic</td>\n",
       "      <td>median_absolute_deviation</td>\n",
       "      <td>5.782890e+03</td>\n",
       "    </tr>\n",
       "    <tr>\n",
       "      <th>173</th>\n",
       "      <td>both</td>\n",
       "      <td>optimistic</td>\n",
       "      <td>hits_at_1</td>\n",
       "      <td>6.292192e-04</td>\n",
       "    </tr>\n",
       "    <tr>\n",
       "      <th>182</th>\n",
       "      <td>both</td>\n",
       "      <td>optimistic</td>\n",
       "      <td>hits_at_3</td>\n",
       "      <td>1.512077e-03</td>\n",
       "    </tr>\n",
       "    <tr>\n",
       "      <th>191</th>\n",
       "      <td>both</td>\n",
       "      <td>optimistic</td>\n",
       "      <td>hits_at_5</td>\n",
       "      <td>2.146174e-03</td>\n",
       "    </tr>\n",
       "    <tr>\n",
       "      <th>200</th>\n",
       "      <td>both</td>\n",
       "      <td>optimistic</td>\n",
       "      <td>hits_at_10</td>\n",
       "      <td>3.209506e-03</td>\n",
       "    </tr>\n",
       "    <tr>\n",
       "      <th>209</th>\n",
       "      <td>both</td>\n",
       "      <td>optimistic</td>\n",
       "      <td>z_hits_at_k</td>\n",
       "      <td>4.565635e+01</td>\n",
       "    </tr>\n",
       "    <tr>\n",
       "      <th>218</th>\n",
       "      <td>both</td>\n",
       "      <td>optimistic</td>\n",
       "      <td>adjusted_hits_at_k</td>\n",
       "      <td>2.564667e-03</td>\n",
       "    </tr>\n",
       "  </tbody>\n",
       "</table>\n",
       "</div>"
      ],
      "text/plain": [
       "     Side   Rank_type                               Metric         Value\n",
       "2    both  optimistic                z_geometric_mean_rank  3.063503e+01\n",
       "11   both  optimistic          inverse_geometric_mean_rank  1.883036e-04\n",
       "20   both  optimistic         inverse_arithmetic_mean_rank  1.319772e-04\n",
       "29   both  optimistic  adjusted_inverse_harmonic_mean_rank  1.273286e-03\n",
       "38   both  optimistic                             variance  2.042155e+07\n",
       "47   both  optimistic  adjusted_arithmetic_mean_rank_index  2.122002e-02\n",
       "56   both  optimistic                  inverse_median_rank  1.327580e-04\n",
       "65   both  optimistic                  geometric_mean_rank  5.310574e+03\n",
       "74   both  optimistic        adjusted_arithmetic_mean_rank  9.787827e-01\n",
       "83   both  optimistic                 arithmetic_mean_rank  7.577068e+03\n",
       "92   both  optimistic         z_inverse_harmonic_mean_rank  5.598584e+01\n",
       "101  both  optimistic               z_arithmetic_mean_rank  1.663478e+01\n",
       "110  both  optimistic   adjusted_geometric_mean_rank_index  6.754492e-02\n",
       "119  both  optimistic                                count  2.050160e+05\n",
       "128  both  optimistic                   standard_deviation  4.519021e+03\n",
       "137  both  optimistic                          median_rank  7.532500e+03\n",
       "146  both  optimistic                   harmonic_mean_rank  5.172304e+02\n",
       "155  both  optimistic           inverse_harmonic_mean_rank  1.933374e-03\n",
       "164  both  optimistic            median_absolute_deviation  5.782890e+03\n",
       "173  both  optimistic                            hits_at_1  6.292192e-04\n",
       "182  both  optimistic                            hits_at_3  1.512077e-03\n",
       "191  both  optimistic                            hits_at_5  2.146174e-03\n",
       "200  both  optimistic                           hits_at_10  3.209506e-03\n",
       "209  both  optimistic                          z_hits_at_k  4.565635e+01\n",
       "218  both  optimistic                   adjusted_hits_at_k  2.564667e-03"
      ]
     },
     "execution_count": 47,
     "metadata": {},
     "output_type": "execute_result"
    }
   ],
   "source": [
    "%%time\n",
    "evaluator =RankBasedEvaluator(filtered=True)\n",
    "\n",
    "# Evaluate your model with not only testing triples,\n",
    "# but also filter on validation triples\n",
    "eval_results = evaluator.evaluate(\n",
    "    # model=results.model,\n",
    "    model = model,\n",
    "    # restrict_entities_to=test_entities_list, # only eval on subset of entities - fails ?\n",
    "    # pre_filtered_triples=False,\n",
    "        mapped_triples=testing.mapped_triples,\n",
    "    additional_filter_triples=[\n",
    "        training.mapped_triples,\n",
    "        validation.mapped_triples,\n",
    "    ],\n",
    ")\n",
    "\n",
    "df_rank_eval = eval_results.to_df()\n",
    "df_rank_eval = df_rank_eval.query(\"Rank_type == 'optimistic'\")\n",
    "# df_rank_eval\n",
    "df_rank_eval.query(\"Side == 'both'\") # vs head, tail"
   ]
  }
 ],
 "metadata": {
  "kernelspec": {
   "display_name": "Python 3 (ipykernel)",
   "language": "python",
   "name": "python3"
  },
  "language_info": {
   "codemirror_mode": {
    "name": "ipython",
    "version": 3
   },
   "file_extension": ".py",
   "mimetype": "text/x-python",
   "name": "python",
   "nbconvert_exporter": "python",
   "pygments_lexer": "ipython3",
   "version": "3.9.7"
  }
 },
 "nbformat": 4,
 "nbformat_minor": 5
}
