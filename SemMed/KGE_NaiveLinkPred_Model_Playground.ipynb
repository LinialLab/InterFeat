{
 "cells": [
  {
   "cell_type": "markdown",
   "id": "07b78d82-c8c2-46db-93d3-102da541def2",
   "metadata": {},
   "source": [
    "* Play a little with KG embedding learning from semmed kg. - For link prediction without predicates. i.e naive graph link prediction\n",
    "* Note: `Subject : Predicate -> Object`\n",
    "    \n",
    "  * PyKeen , DL-KGE...\n",
    "  * Could use StellarGraph (keras friendly but needs old python version)? https://stellargraph.readthedocs.io/en/stable/demos/link-prediction/gcn-link-prediction.html ,\n",
    "  * Ampligraph (Also tensorflow friendly) - https://docs.ampligraph.org/en/latest/examples.html\n",
    "* https://pykeen.github.io/2020/08/07/benchmarking.html\n",
    "    * rotatE, TuckER, TransE - do well\n",
    " \n",
    "Relevant other paper did Trans-E on semmed : *\"Evaluating Explanations from AI Algorithms for Clinical Decision-Making: A Social Science-based Approach\"*\n",
    "\n",
    "\n",
    "* pyKeen + curie biomed text represntations from entities to text (e.g. for transformer text rep) ; https://pykeen.readthedocs.io/en/stable/api/pykeen.nn.representation.BiomedicalCURIERepresentation.html#pykeen.nn.representation.BiomedicalCURIERepresentation\n",
    "\n",
    "* * Load Pretrained models/representation, e.g. cui2vec : https://github.com/pykeen/pykeen/issues/637\n",
    "  *  load init - https://pykeen.readthedocs.io/en/v1.8.1/reference/nn/init.html"
   ]
  },
  {
   "cell_type": "code",
   "execution_count": 1,
   "id": "fc2e90de-3636-492c-bf89-de64b794648f",
   "metadata": {},
   "outputs": [],
   "source": [
    "MIN_EVIDENCE = 1#3#5 # filter counts/num of cases /pmids it appeared in - proxy to reduce noise\n",
    "MIN_ENT_FREQ = 30#140#210 # keep only cases with this many occurrences\n",
    "\n",
    "REMOVE_NEG_PREDICATES = False#True # remove predicates containnig \"neg\" as I don't know if we want them for now\n",
    "\n",
    "RETRAIN_KG_MODEL = False"
   ]
  },
  {
   "cell_type": "code",
   "execution_count": 2,
   "id": "c3933c17-e187-43d0-b554-4ce13e59b58b",
   "metadata": {},
   "outputs": [],
   "source": [
    "# !export PYTORCH_ENABLE_MPS_FALLBACK=1"
   ]
  },
  {
   "cell_type": "code",
   "execution_count": 3,
   "id": "81f740d6-6a24-4e99-97ca-b9e4dd650549",
   "metadata": {},
   "outputs": [],
   "source": [
    "import pandas as pd\n",
    "import numpy as np\n",
    "## scispacy, medspacy, medcat, quickumls, semrep...\n",
    "# import spacy"
   ]
  },
  {
   "cell_type": "code",
   "execution_count": 4,
   "id": "b79ae4f8-bd40-4874-8bfe-9913fba5f3ca",
   "metadata": {},
   "outputs": [],
   "source": [
    "# !pip install -U scikit-learn pykeen pandas"
   ]
  },
  {
   "cell_type": "code",
   "execution_count": 5,
   "id": "c5f194b1-83f7-4744-9246-e2fcf00391b5",
   "metadata": {},
   "outputs": [
    {
     "name": "stderr",
     "output_type": "stream",
     "text": [
      "/opt/anaconda3/envs/nlp/lib/python3.9/site-packages/transformers/utils/generic.py:441: UserWarning: torch.utils._pytree._register_pytree_node is deprecated. Please use torch.utils._pytree.register_pytree_node instead.\n",
      "  _torch_pytree._register_pytree_node(\n"
     ]
    },
    {
     "data": {
      "text/plain": [
       "0"
      ]
     },
     "execution_count": 5,
     "metadata": {},
     "output_type": "execute_result"
    }
   ],
   "source": [
    "from pykeen.pipeline import pipeline\n",
    "from pykeen.models import TransE\n",
    "from pykeen.triples import TriplesFactory\n",
    "# from pykeen.models.predict import get_tail_prediction_df\n",
    "# https://pykeen.readthedocs.io/en/v1.10.2/api/pykeen.predict.predict_target.html#pykeen.predict.predict_target\n",
    "from pykeen.predict import predict_target\n",
    "\n",
    "# # https://pykeen.readthedocs.io/en/latest/tutorial/inductive_lp.html#label-based-transformer-representation\n",
    "# ### \"This is work in progress and not yet available.\" # pykeen.nn.representation import LabelBasedTransformerRepresentation\n",
    "\n",
    "## https://pykeen.readthedocs.io/en/latest/api/pykeen.nn.init.LabelBasedInitializer.html\n",
    "## Initialize entity representations as Transformer encodings of their labels. \n",
    "from pykeen.nn.init import LabelBasedInitializer\n",
    "from pykeen.models import ERMLPE, ERModel\n",
    "from pykeen.pipeline import pipeline\n",
    "from pykeen.datasets import get_dataset\n",
    "from pykeen.nn import TextRepresentation\n",
    "\n",
    "import torch\n",
    "import gc\n",
    "torch.cuda.empty_cache()\n",
    "gc.collect()"
   ]
  },
  {
   "cell_type": "code",
   "execution_count": 6,
   "id": "0902ac89-d746-4aed-8689-e59d9ef64011",
   "metadata": {},
   "outputs": [],
   "source": [
    "from pykeen.datasets import get_dataset\n",
    "from pykeen.models import ERModel, RotatE, TransR\n",
    "from pykeen.nn.init import LabelBasedInitializer\n",
    "from pykeen.pipeline import pipeline\n",
    "\n",
    "# dataset = get_dataset(dataset=\"nations\", dataset_kwargs=dict(create_inverse_triples=True))\n",
    "# entity_initializer = LabelBasedInitializer.from_triples_factory(\n",
    "#     triples_factory=dataset.training,\n",
    "#     for_entities=True,\n",
    "# )\n",
    "\n",
    "# results = pipeline(\n",
    "#     dataset=dataset,\n",
    "#     # training=training,\n",
    "#     # testing=testing,\n",
    "#     # validation=validation,\n",
    "#     model=\"distmult\",\n",
    "#     epochs=11,\n",
    "#     evaluation_fallback = True,\n",
    "#     stopper='early',\n",
    "#     # device=\"mps\",\n",
    "# )\n"
   ]
  },
  {
   "cell_type": "code",
   "execution_count": 7,
   "id": "c4e8d3c6-e190-4fe9-8acf-f981b655d244",
   "metadata": {},
   "outputs": [],
   "source": [
    "# ## load saved chkpoint from pykeen dir\n",
    "# ## https://pykeen.readthedocs.io/en/stable/tutorial/checkpoints.html\n",
    "# import torch\n",
    "# from pykeen.constants import PYKEEN_CHECKPOINTS\n",
    "# from pykeen.pipeline import pipeline\n",
    "# from pykeen.triples import TriplesFactory\n",
    "# # checkpoint = torch.load(PYKEEN_CHECKPOINTS.joinpath('my_checkpoint.pt'))\n",
    "\n",
    "# # ## more styeps\n",
    "\n",
    "# # from pykeen.models import TransE\n",
    "# # my_model = TransE(triples_factory=train)\n",
    "# # my_model.load_state_dict(checkpoint['model_state_dict'])"
   ]
  },
  {
   "cell_type": "markdown",
   "id": "551303c0-5982-49dd-95c5-43285d1aa0ce",
   "metadata": {},
   "source": [
    "#### candidate_features names_list = names of features selected in previous stages\n",
    "* candidate_feature_names_list - text names - free text. Made manually\n",
    "* Other: CUIs list (CUIs linked to feature names + target cuis)"
   ]
  },
  {
   "cell_type": "code",
   "execution_count": 8,
   "id": "3902e005-a723-4f6a-86fd-e984a38520cf",
   "metadata": {},
   "outputs": [
    {
     "data": {
      "text/plain": [
       "0                          'Age * Gender interaction'\n",
       "1                                    'Abdominal pain'\n",
       "2                                               'Sex'\n",
       "3                            'Essential hypertension'\n",
       "4                                               'age'\n",
       "                            ...                      \n",
       "145         'Other infectious and parasitic diseases'\n",
       "146                          'Appendiceal conditions'\n",
       "147     'Nystagmus and other irregular eye movements'\n",
       "148                 'Fracture of clavicle or scapula'\n",
       "149                                       'Fasciitis'\n",
       "Name: 0, Length: 150, dtype: object"
      ]
     },
     "execution_count": 8,
     "metadata": {},
     "output_type": "execute_result"
    }
   ],
   "source": [
    "candidate_feature_names_list = pd.read_csv(\"../cand_feature_names.csv\",header=None,quoting=1)[0]\n",
    "candidate_feature_names_list"
   ]
  },
  {
   "cell_type": "code",
   "execution_count": 9,
   "id": "38d12b26-635f-4d13-9ef6-1b66f5176025",
   "metadata": {},
   "outputs": [
    {
     "data": {
      "text/html": [
       "<div>\n",
       "<style scoped>\n",
       "    .dataframe tbody tr th:only-of-type {\n",
       "        vertical-align: middle;\n",
       "    }\n",
       "\n",
       "    .dataframe tbody tr th {\n",
       "        vertical-align: top;\n",
       "    }\n",
       "\n",
       "    .dataframe thead th {\n",
       "        text-align: right;\n",
       "    }\n",
       "</style>\n",
       "<table border=\"1\" class=\"dataframe\">\n",
       "  <thead>\n",
       "    <tr style=\"text-align: right;\">\n",
       "      <th></th>\n",
       "      <th>cui</th>\n",
       "    </tr>\n",
       "  </thead>\n",
       "  <tbody>\n",
       "    <tr>\n",
       "      <th>0</th>\n",
       "      <td>C0027497</td>\n",
       "    </tr>\n",
       "    <tr>\n",
       "      <th>1</th>\n",
       "      <td>C4255480</td>\n",
       "    </tr>\n",
       "    <tr>\n",
       "      <th>2</th>\n",
       "      <td>C1171206</td>\n",
       "    </tr>\n",
       "    <tr>\n",
       "      <th>3</th>\n",
       "      <td>C0264694</td>\n",
       "    </tr>\n",
       "    <tr>\n",
       "      <th>4</th>\n",
       "      <td>C0151744</td>\n",
       "    </tr>\n",
       "    <tr>\n",
       "      <th>...</th>\n",
       "      <td>...</td>\n",
       "    </tr>\n",
       "    <tr>\n",
       "      <th>297</th>\n",
       "      <td>C0242401</td>\n",
       "    </tr>\n",
       "    <tr>\n",
       "      <th>298</th>\n",
       "      <td>C0376196</td>\n",
       "    </tr>\n",
       "    <tr>\n",
       "      <th>299</th>\n",
       "      <td>C0008350</td>\n",
       "    </tr>\n",
       "    <tr>\n",
       "      <th>300</th>\n",
       "      <td>C0242216</td>\n",
       "    </tr>\n",
       "    <tr>\n",
       "      <th>301</th>\n",
       "      <td>C0947622</td>\n",
       "    </tr>\n",
       "  </tbody>\n",
       "</table>\n",
       "<p>302 rows × 1 columns</p>\n",
       "</div>"
      ],
      "text/plain": [
       "          cui\n",
       "0    C0027497\n",
       "1    C4255480\n",
       "2    C1171206\n",
       "3    C0264694\n",
       "4    C0151744\n",
       "..        ...\n",
       "297  C0242401\n",
       "298  C0376196\n",
       "299  C0008350\n",
       "300  C0242216\n",
       "301  C0947622\n",
       "\n",
       "[302 rows x 1 columns]"
      ]
     },
     "execution_count": 9,
     "metadata": {},
     "output_type": "execute_result"
    }
   ],
   "source": [
    "candidate_feature_cuis_list = pd.read_csv(\"../candidate_novel_cuis.csv\",usecols=[\"cui\"])#[0]\n",
    "candidate_feature_cuis_list"
   ]
  },
  {
   "cell_type": "markdown",
   "id": "94b54cd4-c36c-4643-998a-e924961f17e4",
   "metadata": {},
   "source": [
    "#### Load KG and filter rare entities/relations"
   ]
  },
  {
   "cell_type": "code",
   "execution_count": 10,
   "id": "e24035b4-358c-4703-9eb4-2a6c423551c2",
   "metadata": {},
   "outputs": [
    {
     "name": "stdout",
     "output_type": "stream",
     "text": [
      "27350365\n",
      "416050 df_map\n",
      "23216325 Without |'s\n",
      "After filtering min count 23216325\n"
     ]
    },
    {
     "name": "stderr",
     "output_type": "stream",
     "text": [
      "<timed exec>:19: FutureWarning: The default of observed=False is deprecated and will be changed to True in a future version of pandas. Pass observed=False to retain current behavior or observed=True to adopt the future default and silence this warning.\n",
      "<timed exec>:19: FutureWarning: The default of observed=False is deprecated and will be changed to True in a future version of pandas. Pass observed=False to retain current behavior or observed=True to adopt the future default and silence this warning.\n",
      "<timed exec>:20: FutureWarning: The default of observed=False is deprecated and will be changed to True in a future version of pandas. Pass observed=False to retain current behavior or observed=True to adopt the future default and silence this warning.\n"
     ]
    },
    {
     "name": "stdout",
     "output_type": "stream",
     "text": [
      "After filtering entity count 1 21292838\n",
      "21292838\n",
      "SUBJECT_CUI     81542\n",
      "SUBJECT_NAME    92959\n",
      "PREDICATE          63\n",
      "OBJECT_CUI      71507\n",
      "OBJECT_NAME     82192\n",
      "counts           3945\n",
      "dtype: int64\n",
      "CPU times: user 15.7 s, sys: 2.3 s, total: 18 s\n",
      "Wall time: 14.2 s\n"
     ]
    },
    {
     "data": {
      "text/html": [
       "<div>\n",
       "<style scoped>\n",
       "    .dataframe tbody tr th:only-of-type {\n",
       "        vertical-align: middle;\n",
       "    }\n",
       "\n",
       "    .dataframe tbody tr th {\n",
       "        vertical-align: top;\n",
       "    }\n",
       "\n",
       "    .dataframe thead th {\n",
       "        text-align: right;\n",
       "    }\n",
       "</style>\n",
       "<table border=\"1\" class=\"dataframe\">\n",
       "  <thead>\n",
       "    <tr style=\"text-align: right;\">\n",
       "      <th></th>\n",
       "      <th>SUBJECT_CUI</th>\n",
       "      <th>SUBJECT_NAME</th>\n",
       "      <th>PREDICATE</th>\n",
       "      <th>OBJECT_CUI</th>\n",
       "      <th>OBJECT_NAME</th>\n",
       "    </tr>\n",
       "  </thead>\n",
       "  <tbody>\n",
       "    <tr>\n",
       "      <th>2101</th>\n",
       "      <td>C0087111</td>\n",
       "      <td>Therapeutic procedure</td>\n",
       "      <td>TREATS</td>\n",
       "      <td>C0030705</td>\n",
       "      <td>Patients</td>\n",
       "    </tr>\n",
       "    <tr>\n",
       "      <th>747</th>\n",
       "      <td>C0040395</td>\n",
       "      <td>tomography</td>\n",
       "      <td>USES</td>\n",
       "      <td>C1441526</td>\n",
       "      <td>COMPUTED</td>\n",
       "    </tr>\n",
       "    <tr>\n",
       "      <th>3274</th>\n",
       "      <td>C0012634</td>\n",
       "      <td>Disease</td>\n",
       "      <td>PROCESS_OF</td>\n",
       "      <td>C0030705</td>\n",
       "      <td>Patients</td>\n",
       "    </tr>\n",
       "    <tr>\n",
       "      <th>5161</th>\n",
       "      <td>C0543467</td>\n",
       "      <td>Operative Surgical Procedures</td>\n",
       "      <td>TREATS</td>\n",
       "      <td>C0030705</td>\n",
       "      <td>Patients</td>\n",
       "    </tr>\n",
       "    <tr>\n",
       "      <th>33</th>\n",
       "      <td>C1457887</td>\n",
       "      <td>Symptoms</td>\n",
       "      <td>PROCESS_OF</td>\n",
       "      <td>C0030705</td>\n",
       "      <td>Patients</td>\n",
       "    </tr>\n",
       "    <tr>\n",
       "      <th>...</th>\n",
       "      <td>...</td>\n",
       "      <td>...</td>\n",
       "      <td>...</td>\n",
       "      <td>...</td>\n",
       "      <td>...</td>\n",
       "    </tr>\n",
       "    <tr>\n",
       "      <th>101678940</th>\n",
       "      <td>1</td>\n",
       "      <td>A1BG</td>\n",
       "      <td>AFFECTS</td>\n",
       "      <td>C0036421</td>\n",
       "      <td>Systemic Scleroderma</td>\n",
       "    </tr>\n",
       "    <tr>\n",
       "      <th>69169934</th>\n",
       "      <td>1</td>\n",
       "      <td>A1BG</td>\n",
       "      <td>AFFECTS</td>\n",
       "      <td>C0028754</td>\n",
       "      <td>Obesity</td>\n",
       "    </tr>\n",
       "    <tr>\n",
       "      <th>29880800</th>\n",
       "      <td>1</td>\n",
       "      <td>A1BG</td>\n",
       "      <td>AFFECTS</td>\n",
       "      <td>C0020291</td>\n",
       "      <td>Hydrolysis</td>\n",
       "    </tr>\n",
       "    <tr>\n",
       "      <th>66983871</th>\n",
       "      <td>1</td>\n",
       "      <td>A1BG</td>\n",
       "      <td>AFFECTS</td>\n",
       "      <td>C0005935</td>\n",
       "      <td>Bone Conduction</td>\n",
       "    </tr>\n",
       "    <tr>\n",
       "      <th>4613125</th>\n",
       "      <td>1</td>\n",
       "      <td>A1BG</td>\n",
       "      <td>ADMINISTERED_TO</td>\n",
       "      <td>C0007634</td>\n",
       "      <td>Cells</td>\n",
       "    </tr>\n",
       "  </tbody>\n",
       "</table>\n",
       "<p>21292838 rows × 5 columns</p>\n",
       "</div>"
      ],
      "text/plain": [
       "          SUBJECT_CUI                   SUBJECT_NAME        PREDICATE  \\\n",
       "2101         C0087111          Therapeutic procedure           TREATS   \n",
       "747          C0040395                     tomography             USES   \n",
       "3274         C0012634                        Disease       PROCESS_OF   \n",
       "5161         C0543467  Operative Surgical Procedures           TREATS   \n",
       "33           C1457887                       Symptoms       PROCESS_OF   \n",
       "...               ...                            ...              ...   \n",
       "101678940           1                           A1BG          AFFECTS   \n",
       "69169934            1                           A1BG          AFFECTS   \n",
       "29880800            1                           A1BG          AFFECTS   \n",
       "66983871            1                           A1BG          AFFECTS   \n",
       "4613125             1                           A1BG  ADMINISTERED_TO   \n",
       "\n",
       "          OBJECT_CUI           OBJECT_NAME  \n",
       "2101        C0030705              Patients  \n",
       "747         C1441526              COMPUTED  \n",
       "3274        C0030705              Patients  \n",
       "5161        C0030705              Patients  \n",
       "33          C0030705              Patients  \n",
       "...              ...                   ...  \n",
       "101678940   C0036421  Systemic Scleroderma  \n",
       "69169934    C0028754               Obesity  \n",
       "29880800    C0020291            Hydrolysis  \n",
       "66983871    C0005935       Bone Conduction  \n",
       "4613125     C0007634                 Cells  \n",
       "\n",
       "[21292838 rows x 5 columns]"
      ]
     },
     "execution_count": 10,
     "metadata": {},
     "output_type": "execute_result"
    }
   ],
   "source": [
    "%%time\n",
    "df_kg = pd.read_parquet(\"predications.parquet\",columns=['SUBJECT_CUI', 'SUBJECT_NAME',  'PREDICATE', 'OBJECT_CUI', 'OBJECT_NAME',\"counts\"])\n",
    "print(df_kg.shape[0])\n",
    "\n",
    "# CUI - name map for all cases in dataset\n",
    "df_map = pd.concat([df_kg[['SUBJECT_CUI', 'SUBJECT_NAME']].rename(columns={'SUBJECT_NAME':\"name\",'SUBJECT_CUI':\"CUI\"}),\n",
    "          df_kg[['OBJECT_CUI', 'OBJECT_NAME']].rename(columns={'OBJECT_NAME':\"name\",'OBJECT_CUI':\"CUI\"})]).drop_duplicates() \n",
    "print(df_map.shape[0],\"df_map\")\n",
    "\n",
    "if REMOVE_NEG_PREDICATES:\n",
    "    df_kg = df_kg.loc[~df_kg[\"PREDICATE\"].str.contains(\"neg_\",case=False)]\n",
    "    print(df_kg.shape[0],\"without neg predicates\") # 26M\n",
    "    \n",
    "#########\n",
    "\n",
    "df_kg = df_kg.loc[df_kg[\"counts\"]>=MIN_EVIDENCE].copy()\n",
    "print(\"After filtering min count\",df_kg.shape[0])\n",
    "df_kg = df_kg.loc[(df_kg.groupby(\"SUBJECT_CUI\").transform(\"size\")>MIN_ENT_FREQ) & (df_kg.groupby(\"OBJECT_CUI\").transform(\"size\")>MIN_ENT_FREQ)\\\n",
    " & (df_kg.groupby(\"PREDICATE\").transform(\"size\")>MIN_ENT_FREQ)].copy()\n",
    "print(\"After filtering entity count 1\",df_kg.shape[0])\n",
    "for c in df_kg.select_dtypes(\"category\").columns:\n",
    "# remove unobserved categories, in new filtered data\n",
    "    df_kg[c] = df_kg[c].cat.remove_unused_categories()\n",
    "# df_kg = df_kg.loc[(df_kg.groupby(\"SUBJECT_CUI\").transform(\"size\")>MIN_ENT_FREQ) & (df_kg.groupby(\"OBJECT_CUI\").transform(\"size\")>MIN_ENT_FREQ)\\\n",
    "# & (df_kg.groupby(\"PREDICATE\").transform(\"size\")>MIN_ENT_FREQ)].copy()\n",
    "# print(\"After filtering entity count 2\",df_kg.shape[0])\n",
    "\n",
    "# for c in df_kg.select_dtypes(\"category\").columns:\n",
    "# # remove unobserved categories, in new filtered data\n",
    "#     df_kg[c] = df_kg[c].cat.remove_unused_categories()\n",
    "print(df_kg.shape[0]) # 4M\n",
    "print(df_kg.nunique())\n",
    "df_kg.drop(columns=[\"counts\"],errors=\"ignore\",inplace=True)\n",
    "\n",
    "#########\n",
    "## drop ||| gene objecgts (that require exploding \n",
    "#Old: dropped them instead of getting just the first : # df_kg = df_kg.loc[(~df_kg[\"SUBJECT_NAME\"].str.contains(r\"|\",case=False,regex=False))&(~df_kg[\"OBJECT_NAME\"].str.contains(\"|\",case=False,regex=False))]\n",
    "splitter_mask = (df_kg[\"SUBJECT_CUI\"].str.contains(r\"|\",case=False,regex=False)) | (df_kg[\"OBJECT_CUI\"].str.contains(r\"|\",case=False,regex=False))\n",
    "for col in df_kg.select_dtypes(include=['category']).columns:\n",
    "  df_kg[col] = df_kg[col].astype('str')\n",
    "    \n",
    "df_kg.loc[splitter_mask,\"SUBJECT_NAME\"] = df_kg.loc[splitter_mask][\"SUBJECT_NAME\"].str.split(r\"|\",regex=False,expand=True)[0]\n",
    "df_kg.loc[splitter_mask,\"OBJECT_NAME\"] = df_kg.loc[splitter_mask][\"OBJECT_NAME\"].str.split(r\"|\",regex=False,expand=True)[0]\n",
    "\n",
    "df_kg.loc[splitter_mask,\"SUBJECT_CUI\"] = df_kg.loc[splitter_mask][\"SUBJECT_CUI\"].str.split(r\"|\",regex=False,expand=True)[0]\n",
    "df_kg.loc[splitter_mask,\"OBJECT_CUI\"] = df_kg.loc[splitter_mask][\"OBJECT_CUI\"].str.split(r\"|\",regex=False,expand=True)[0]\n",
    "\n",
    "for col in df_kg.select_dtypes(include=['O']).columns:\n",
    "  df_kg[col] = df_kg[col].astype('category')\n",
    "df_kg.loc[splitter_mask]\n",
    "print(df_kg.shape[0],\"Without |'s\") # 26M\n",
    "\n",
    "df_kg.reset_index(drop=True)\n",
    "\n",
    "df_kg"
   ]
  },
  {
   "cell_type": "code",
   "execution_count": 11,
   "id": "5f26e5c5-e841-48ee-a47d-58fd2ecea334",
   "metadata": {},
   "outputs": [
    {
     "data": {
      "text/plain": [
       "PREDICATE\n",
       "LOCATION_OF           2659312\n",
       "AFFECTS               2088043\n",
       "COEXISTS_WITH         1756359\n",
       "TREATS                1737930\n",
       "INTERACTS_WITH        1425989\n",
       "                       ...   \n",
       "NEG_COMPLICATES          1371\n",
       "NEG_CONVERTS_TO           943\n",
       "NEG_lower_than            553\n",
       "MEASUREMENT_OF            485\n",
       "NEG_MEASUREMENT_OF         21\n",
       "Name: count, Length: 63, dtype: int64"
      ]
     },
     "execution_count": 11,
     "metadata": {},
     "output_type": "execute_result"
    }
   ],
   "source": [
    "df_kg.PREDICATE.value_counts()"
   ]
  },
  {
   "cell_type": "code",
   "execution_count": 12,
   "id": "12862a74-71c5-4475-87af-88a24b21b5e2",
   "metadata": {},
   "outputs": [],
   "source": [
    "# ## \"novelty\" look?\n",
    "# ## partial mini list. Not exhaustive\n",
    "# subsetPredicates = {\"AFFECTS\",\"TREATS\",\"PREVENTS\",\"INHIBITS\",\"DISRUPTS\",\"INTERACTS_WITH\",\"PREDISPOSES\",\"PREVENTS\",\n",
    "#                     \"CAUSES\",\"STIMULATES\",\"AUGMENTS\",\"PREDISPOSES\",\"PRECEDES\",\n",
    "#                     \"NEG_TREATS\",\"NEG_AFFECTS\",\"NEG_PROCESS_OF\",\"NEG_ISA\",\"NEG_ASSOCIATED_WITH\",\"NEG_CAUSES\"} # made into set instead of list\n",
    "\n",
    "\n",
    "# if REMOVE_NEG_PREDICATES:\n",
    "#     subsetPredicates = [x for x in subsetPredicates if \"NEG\" not in x]\n",
    "\n",
    "# # df_kg.loc[df_kg[\"SUBJECT_NOVELTY\"] | df_kg[\"OBJECT_NOVELTY\"]].head(10)\n",
    "# df_kg.loc[(df_kg[\"OBJECT_NOVELTY\"]) & (df_kg[\"PREDICATE\"].isin(subsetPredicates))].head(4)\n",
    "\n",
    "# # subsetPredicates = dict(subsetPredicates)"
   ]
  },
  {
   "cell_type": "markdown",
   "id": "178add48-9e3d-4e46-9a9c-439943ff9bed",
   "metadata": {},
   "source": [
    "### Use only 1 predicate - link exists or not\n",
    "* Technically, directional predicate in terms of how data was"
   ]
  },
  {
   "cell_type": "code",
   "execution_count": 13,
   "id": "31acece5-fa6a-4bed-b3f4-e83a5888abf1",
   "metadata": {},
   "outputs": [
    {
     "name": "stdout",
     "output_type": "stream",
     "text": [
      "21292838\n",
      "16522876\n"
     ]
    }
   ],
   "source": [
    "df_kg[\"PREDICATE\"] = \"link\"\n",
    "print(df_kg.shape[0])\n",
    "df_kg.drop_duplicates(inplace=True)\n",
    "print(df_kg.shape[0])"
   ]
  },
  {
   "cell_type": "code",
   "execution_count": 14,
   "id": "698e4ea8-3360-475a-a01f-4441a47734ce",
   "metadata": {},
   "outputs": [
    {
     "data": {
      "text/html": [
       "<div>\n",
       "<style scoped>\n",
       "    .dataframe tbody tr th:only-of-type {\n",
       "        vertical-align: middle;\n",
       "    }\n",
       "\n",
       "    .dataframe tbody tr th {\n",
       "        vertical-align: top;\n",
       "    }\n",
       "\n",
       "    .dataframe thead th {\n",
       "        text-align: right;\n",
       "    }\n",
       "</style>\n",
       "<table border=\"1\" class=\"dataframe\">\n",
       "  <thead>\n",
       "    <tr style=\"text-align: right;\">\n",
       "      <th></th>\n",
       "      <th>SUBJECT_CUI</th>\n",
       "      <th>SUBJECT_NAME</th>\n",
       "      <th>PREDICATE</th>\n",
       "      <th>OBJECT_CUI</th>\n",
       "      <th>OBJECT_NAME</th>\n",
       "    </tr>\n",
       "  </thead>\n",
       "  <tbody>\n",
       "    <tr>\n",
       "      <th>2101</th>\n",
       "      <td>C0087111</td>\n",
       "      <td>Therapeutic procedure</td>\n",
       "      <td>link</td>\n",
       "      <td>C0030705</td>\n",
       "      <td>Patients</td>\n",
       "    </tr>\n",
       "    <tr>\n",
       "      <th>747</th>\n",
       "      <td>C0040395</td>\n",
       "      <td>tomography</td>\n",
       "      <td>link</td>\n",
       "      <td>C1441526</td>\n",
       "      <td>COMPUTED</td>\n",
       "    </tr>\n",
       "    <tr>\n",
       "      <th>3274</th>\n",
       "      <td>C0012634</td>\n",
       "      <td>Disease</td>\n",
       "      <td>link</td>\n",
       "      <td>C0030705</td>\n",
       "      <td>Patients</td>\n",
       "    </tr>\n",
       "    <tr>\n",
       "      <th>5161</th>\n",
       "      <td>C0543467</td>\n",
       "      <td>Operative Surgical Procedures</td>\n",
       "      <td>link</td>\n",
       "      <td>C0030705</td>\n",
       "      <td>Patients</td>\n",
       "    </tr>\n",
       "    <tr>\n",
       "      <th>33</th>\n",
       "      <td>C1457887</td>\n",
       "      <td>Symptoms</td>\n",
       "      <td>link</td>\n",
       "      <td>C0030705</td>\n",
       "      <td>Patients</td>\n",
       "    </tr>\n",
       "    <tr>\n",
       "      <th>...</th>\n",
       "      <td>...</td>\n",
       "      <td>...</td>\n",
       "      <td>...</td>\n",
       "      <td>...</td>\n",
       "      <td>...</td>\n",
       "    </tr>\n",
       "    <tr>\n",
       "      <th>17949225</th>\n",
       "      <td>1</td>\n",
       "      <td>A1BG</td>\n",
       "      <td>link</td>\n",
       "      <td>C0597304</td>\n",
       "      <td>Proteolysis</td>\n",
       "    </tr>\n",
       "    <tr>\n",
       "      <th>114264339</th>\n",
       "      <td>1</td>\n",
       "      <td>A1BG</td>\n",
       "      <td>link</td>\n",
       "      <td>C0549099</td>\n",
       "      <td>Perforation (observation)</td>\n",
       "    </tr>\n",
       "    <tr>\n",
       "      <th>69169934</th>\n",
       "      <td>1</td>\n",
       "      <td>A1BG</td>\n",
       "      <td>link</td>\n",
       "      <td>C0028754</td>\n",
       "      <td>Obesity</td>\n",
       "    </tr>\n",
       "    <tr>\n",
       "      <th>29880800</th>\n",
       "      <td>1</td>\n",
       "      <td>A1BG</td>\n",
       "      <td>link</td>\n",
       "      <td>C0020291</td>\n",
       "      <td>Hydrolysis</td>\n",
       "    </tr>\n",
       "    <tr>\n",
       "      <th>66983871</th>\n",
       "      <td>1</td>\n",
       "      <td>A1BG</td>\n",
       "      <td>link</td>\n",
       "      <td>C0005935</td>\n",
       "      <td>Bone Conduction</td>\n",
       "    </tr>\n",
       "  </tbody>\n",
       "</table>\n",
       "<p>16522876 rows × 5 columns</p>\n",
       "</div>"
      ],
      "text/plain": [
       "          SUBJECT_CUI                   SUBJECT_NAME PREDICATE OBJECT_CUI  \\\n",
       "2101         C0087111          Therapeutic procedure      link   C0030705   \n",
       "747          C0040395                     tomography      link   C1441526   \n",
       "3274         C0012634                        Disease      link   C0030705   \n",
       "5161         C0543467  Operative Surgical Procedures      link   C0030705   \n",
       "33           C1457887                       Symptoms      link   C0030705   \n",
       "...               ...                            ...       ...        ...   \n",
       "17949225            1                           A1BG      link   C0597304   \n",
       "114264339           1                           A1BG      link   C0549099   \n",
       "69169934            1                           A1BG      link   C0028754   \n",
       "29880800            1                           A1BG      link   C0020291   \n",
       "66983871            1                           A1BG      link   C0005935   \n",
       "\n",
       "                         OBJECT_NAME  \n",
       "2101                        Patients  \n",
       "747                         COMPUTED  \n",
       "3274                        Patients  \n",
       "5161                        Patients  \n",
       "33                          Patients  \n",
       "...                              ...  \n",
       "17949225                 Proteolysis  \n",
       "114264339  Perforation (observation)  \n",
       "69169934                     Obesity  \n",
       "29880800                  Hydrolysis  \n",
       "66983871             Bone Conduction  \n",
       "\n",
       "[16522876 rows x 5 columns]"
      ]
     },
     "execution_count": 14,
     "metadata": {},
     "output_type": "execute_result"
    }
   ],
   "source": [
    "df_kg"
   ]
  },
  {
   "cell_type": "markdown",
   "id": "4a5290b1-5302-40fd-aad5-094651ce435b",
   "metadata": {},
   "source": [
    "* Training - assumption of LCWA\n",
    "* https://pykeen.readthedocs.io/en/stable/reference/training.html#local-closed-world-assumption\n",
    "* hetionet example inc loading ,eval: https://github.com/tomasonjo/blogs/blob/master/pykeen/Hetionet%20-%20RotatE.ipynb\n",
    "\n",
    "* mps -> memory issues/crashes?\n",
    "\n",
    "* Another example pykeen : https://pykeen.readthedocs.io/en/stable/tutorial/first_steps.html\n",
    "* RotatE seems good from lit, on hetionet\n",
    "* pubmedKG for text/sentencetransformer embedding?\n",
    "* GCN https://pykeen.readthedocs.io/en/stable/reference/nn/pyg_message_passing.html"
   ]
  },
  {
   "cell_type": "code",
   "execution_count": 15,
   "id": "d7c1a456-c9d8-40fc-b97b-30ed409e170d",
   "metadata": {},
   "outputs": [
    {
     "name": "stdout",
     "output_type": "stream",
     "text": [
      "CPU times: user 21.3 s, sys: 1.34 s, total: 22.7 s\n",
      "Wall time: 21.2 s\n"
     ]
    }
   ],
   "source": [
    "%%time\n",
    "from pykeen.nn import TextRepresentation\n",
    "## https://pykeen.readthedocs.io/en/latest/tutorial/representations.html#text-based\n",
    "\n",
    "### load new data example: https://towardsdatascience.com/knowledge-graph-completion-with-pykeen-and-neo4j-6bca734edf43\n",
    "# .astype(\"category\")\n",
    "tf = TriplesFactory.from_labeled_triples(\n",
    "  df_kg.rename(columns={\"SUBJECT_NAME\":\"source\",\n",
    "                        \"PREDICATE\":\"type\",\n",
    "                        \"OBJECT_NAME\":\"target\"})[[\"source\", \"type\", \"target\"]].values ,\n",
    ")"
   ]
  },
  {
   "cell_type": "code",
   "execution_count": null,
   "id": "8c1672ec-e723-4a6d-816a-16ebc3f40af8",
   "metadata": {},
   "outputs": [],
   "source": []
  },
  {
   "cell_type": "code",
   "execution_count": 16,
   "id": "25b3c718-95d5-4481-8945-9dd5048101a4",
   "metadata": {
    "scrolled": true
   },
   "outputs": [
    {
     "name": "stderr",
     "output_type": "stream",
     "text": [
      "using automatically assigned random_state=1791497232\n"
     ]
    }
   ],
   "source": [
    "training, testing, validation = tf.split([.96, .02, .02])\n",
    "# training, testing, validation = tf.split([.8, .1, .1])"
   ]
  },
  {
   "cell_type": "markdown",
   "id": "03544b55-cc69-4890-9bd5-b8276bc2deb3",
   "metadata": {},
   "source": [
    "* Another text-kg example code inc triples:\n",
    "    * https://gist.github.com/airysen/2b4f8b5dff8cc72b8951d4457228a7bd\n",
    "Example of using LM embeddings in pykeen\n",
    "```\n",
    "\n",
    "from pykeen.training import SLCWATrainingLoop\n",
    "from pykeen.datasets import get_dataset\n",
    "from pykeen.nn.representation import TextRepresentation\n",
    "from pykeen.models import ERModel\n",
    "\n",
    "from pykeen.pipeline import pipeline\n",
    "\n",
    "from torch.optim import Adam\n",
    "\n",
    "\n",
    "dataset = get_dataset(dataset=\"nations\")\n",
    "entity_representations = TextRepresentation.from_triples_factory(\n",
    "    triples_factory=dataset.training,\n",
    "    encoder=\"transformer\",\n",
    "    encoder_kwargs=dict(pretrained_model_name_or_path=\"bert-base-multilingual-uncased\", max_length=512)\n",
    ")\n",
    "\n",
    "\n",
    "model = ERModel(\n",
    "    triples_factory=dataset.training,\n",
    "    interaction=\"ermlpe\",\n",
    "    entity_representations=entity_representations,\n",
    "    relation_representations_kwargs=dict(shape=entity_representations.shape),\n",
    "    interaction_kwargs=dict(embedding_dim=entity_representations.shape[0], input_dropout=0.1, hidden_dim=256, hidden_dropout=0.2),\n",
    "    entity_representations_kwargs=dict(max_length=512),\n",
    "    random_seed=42,\n",
    "    # relation_representations_kwargs=dict(embedding_dim=3, dropout=0.1),\n",
    ")\n",
    "\n",
    "\n",
    "```"
   ]
  },
  {
   "cell_type": "code",
   "execution_count": 17,
   "id": "5504150e-ddd0-4e6a-ab57-f28115167393",
   "metadata": {},
   "outputs": [
    {
     "data": {
      "text/plain": [
       "0"
      ]
     },
     "execution_count": 17,
     "metadata": {},
     "output_type": "execute_result"
    }
   ],
   "source": [
    "import gc\n",
    "torch.cuda.empty_cache()\n",
    "gc.collect()"
   ]
  },
  {
   "cell_type": "code",
   "execution_count": 21,
   "id": "3f38f471-7ea2-42ed-9f6c-d248a3f9fbb6",
   "metadata": {},
   "outputs": [
    {
     "name": "stdout",
     "output_type": "stream",
     "text": [
      "CPU times: user 3.41 ms, sys: 15.6 ms, total: 19 ms\n",
      "Wall time: 55.2 ms\n"
     ]
    }
   ],
   "source": [
    "%%time\n",
    "try: # load already trained res\n",
    "    results = torch.load('./saved/trained_model.pkl') # try this ? \n",
    "except:\n",
    "    try:\n",
    "        results = torch.load('./saved/trained_model.pkl',map_location=torch.device('cpu')) # try this ? \n",
    "    except:()\n",
    "    "
   ]
  },
  {
   "cell_type": "code",
   "execution_count": 19,
   "id": "46e3c4d4-353a-4cf7-9fdb-9f7e09f8d8a3",
   "metadata": {},
   "outputs": [
    {
     "data": {
      "application/vnd.jupyter.widget-view+json": {
       "model_id": "7709d9297f19482b9985e36bfaddc0f5",
       "version_major": 2,
       "version_minor": 0
      },
      "text/plain": [
       "Training epochs on cuda:0:   0%|          | 0/60 [00:00<?, ?epoch/s]"
      ]
     },
     "metadata": {},
     "output_type": "display_data"
    },
    {
     "data": {
      "application/vnd.jupyter.widget-view+json": {
       "model_id": "",
       "version_major": 2,
       "version_minor": 0
      },
      "text/plain": [
       "Training batches on cuda:0:   0%|          | 0/61914 [00:00<?, ?batch/s]"
      ]
     },
     "metadata": {},
     "output_type": "display_data"
    },
    {
     "data": {
      "application/vnd.jupyter.widget-view+json": {
       "model_id": "",
       "version_major": 2,
       "version_minor": 0
      },
      "text/plain": [
       "Training batches on cuda:0:   0%|          | 0/61914 [00:00<?, ?batch/s]"
      ]
     },
     "metadata": {},
     "output_type": "display_data"
    },
    {
     "data": {
      "application/vnd.jupyter.widget-view+json": {
       "model_id": "",
       "version_major": 2,
       "version_minor": 0
      },
      "text/plain": [
       "Training batches on cuda:0:   0%|          | 0/61914 [00:00<?, ?batch/s]"
      ]
     },
     "metadata": {},
     "output_type": "display_data"
    },
    {
     "data": {
      "application/vnd.jupyter.widget-view+json": {
       "model_id": "",
       "version_major": 2,
       "version_minor": 0
      },
      "text/plain": [
       "Training batches on cuda:0:   0%|          | 0/61914 [00:00<?, ?batch/s]"
      ]
     },
     "metadata": {},
     "output_type": "display_data"
    },
    {
     "data": {
      "application/vnd.jupyter.widget-view+json": {
       "model_id": "",
       "version_major": 2,
       "version_minor": 0
      },
      "text/plain": [
       "Training batches on cuda:0:   0%|          | 0/61914 [00:00<?, ?batch/s]"
      ]
     },
     "metadata": {},
     "output_type": "display_data"
    },
    {
     "data": {
      "application/vnd.jupyter.widget-view+json": {
       "model_id": "",
       "version_major": 2,
       "version_minor": 0
      },
      "text/plain": [
       "Training batches on cuda:0:   0%|          | 0/61914 [00:00<?, ?batch/s]"
      ]
     },
     "metadata": {},
     "output_type": "display_data"
    },
    {
     "data": {
      "application/vnd.jupyter.widget-view+json": {
       "model_id": "",
       "version_major": 2,
       "version_minor": 0
      },
      "text/plain": [
       "Training batches on cuda:0:   0%|          | 0/61914 [00:00<?, ?batch/s]"
      ]
     },
     "metadata": {},
     "output_type": "display_data"
    },
    {
     "data": {
      "application/vnd.jupyter.widget-view+json": {
       "model_id": "",
       "version_major": 2,
       "version_minor": 0
      },
      "text/plain": [
       "Training batches on cuda:0:   0%|          | 0/61914 [00:00<?, ?batch/s]"
      ]
     },
     "metadata": {},
     "output_type": "display_data"
    },
    {
     "data": {
      "application/vnd.jupyter.widget-view+json": {
       "model_id": "",
       "version_major": 2,
       "version_minor": 0
      },
      "text/plain": [
       "Training batches on cuda:0:   0%|          | 0/61914 [00:00<?, ?batch/s]"
      ]
     },
     "metadata": {},
     "output_type": "display_data"
    },
    {
     "data": {
      "application/vnd.jupyter.widget-view+json": {
       "model_id": "",
       "version_major": 2,
       "version_minor": 0
      },
      "text/plain": [
       "Training batches on cuda:0:   0%|          | 0/61914 [00:00<?, ?batch/s]"
      ]
     },
     "metadata": {},
     "output_type": "display_data"
    },
    {
     "data": {
      "application/vnd.jupyter.widget-view+json": {
       "model_id": "e99527166db24bdfbc3cdca2f3f808ad",
       "version_major": 2,
       "version_minor": 0
      },
      "text/plain": [
       "Evaluating on cuda:0:   0%|          | 0.00/330k [00:00<?, ?triple/s]"
      ]
     },
     "metadata": {},
     "output_type": "display_data"
    },
    {
     "name": "stderr",
     "output_type": "stream",
     "text": [
      "INFO:pykeen.evaluation.evaluator:Evaluation took 2075.34s seconds\n",
      "INFO:pykeen.stoppers.early_stopping:New best result at epoch 10: 0.03873316212811319. Saved model weights to /home/ddofer/.data/pykeen/checkpoints/best-model-weights-840cf381-788a-4243-a951-4ace4f5e72eb.pt\n",
      "INFO:pykeen.training.training_loop:=> Saved checkpoint after having finished epoch 10.\n"
     ]
    },
    {
     "data": {
      "application/vnd.jupyter.widget-view+json": {
       "model_id": "",
       "version_major": 2,
       "version_minor": 0
      },
      "text/plain": [
       "Training batches on cuda:0:   0%|          | 0/61914 [00:00<?, ?batch/s]"
      ]
     },
     "metadata": {},
     "output_type": "display_data"
    },
    {
     "data": {
      "application/vnd.jupyter.widget-view+json": {
       "model_id": "",
       "version_major": 2,
       "version_minor": 0
      },
      "text/plain": [
       "Training batches on cuda:0:   0%|          | 0/61914 [00:00<?, ?batch/s]"
      ]
     },
     "metadata": {},
     "output_type": "display_data"
    },
    {
     "data": {
      "application/vnd.jupyter.widget-view+json": {
       "model_id": "",
       "version_major": 2,
       "version_minor": 0
      },
      "text/plain": [
       "Training batches on cuda:0:   0%|          | 0/61914 [00:00<?, ?batch/s]"
      ]
     },
     "metadata": {},
     "output_type": "display_data"
    },
    {
     "data": {
      "application/vnd.jupyter.widget-view+json": {
       "model_id": "",
       "version_major": 2,
       "version_minor": 0
      },
      "text/plain": [
       "Training batches on cuda:0:   0%|          | 0/61914 [00:00<?, ?batch/s]"
      ]
     },
     "metadata": {},
     "output_type": "display_data"
    },
    {
     "data": {
      "application/vnd.jupyter.widget-view+json": {
       "model_id": "",
       "version_major": 2,
       "version_minor": 0
      },
      "text/plain": [
       "Training batches on cuda:0:   0%|          | 0/61914 [00:00<?, ?batch/s]"
      ]
     },
     "metadata": {},
     "output_type": "display_data"
    },
    {
     "data": {
      "application/vnd.jupyter.widget-view+json": {
       "model_id": "",
       "version_major": 2,
       "version_minor": 0
      },
      "text/plain": [
       "Training batches on cuda:0:   0%|          | 0/61914 [00:00<?, ?batch/s]"
      ]
     },
     "metadata": {},
     "output_type": "display_data"
    },
    {
     "data": {
      "application/vnd.jupyter.widget-view+json": {
       "model_id": "",
       "version_major": 2,
       "version_minor": 0
      },
      "text/plain": [
       "Training batches on cuda:0:   0%|          | 0/61914 [00:00<?, ?batch/s]"
      ]
     },
     "metadata": {},
     "output_type": "display_data"
    },
    {
     "data": {
      "application/vnd.jupyter.widget-view+json": {
       "model_id": "",
       "version_major": 2,
       "version_minor": 0
      },
      "text/plain": [
       "Training batches on cuda:0:   0%|          | 0/61914 [00:00<?, ?batch/s]"
      ]
     },
     "metadata": {},
     "output_type": "display_data"
    },
    {
     "data": {
      "application/vnd.jupyter.widget-view+json": {
       "model_id": "",
       "version_major": 2,
       "version_minor": 0
      },
      "text/plain": [
       "Training batches on cuda:0:   0%|          | 0/61914 [00:00<?, ?batch/s]"
      ]
     },
     "metadata": {},
     "output_type": "display_data"
    },
    {
     "data": {
      "application/vnd.jupyter.widget-view+json": {
       "model_id": "",
       "version_major": 2,
       "version_minor": 0
      },
      "text/plain": [
       "Training batches on cuda:0:   0%|          | 0/61914 [00:00<?, ?batch/s]"
      ]
     },
     "metadata": {},
     "output_type": "display_data"
    },
    {
     "data": {
      "application/vnd.jupyter.widget-view+json": {
       "model_id": "c048585a50c7432f8b3b2cd5519ab45d",
       "version_major": 2,
       "version_minor": 0
      },
      "text/plain": [
       "Evaluating on cuda:0:   0%|          | 0.00/330k [00:00<?, ?triple/s]"
      ]
     },
     "metadata": {},
     "output_type": "display_data"
    },
    {
     "name": "stderr",
     "output_type": "stream",
     "text": [
      "INFO:pykeen.evaluation.evaluator:Evaluation took 1099.32s seconds\n",
      "INFO:pykeen.stoppers.early_stopping:New best result at epoch 20: 0.04530629179184029. Saved model weights to /home/ddofer/.data/pykeen/checkpoints/best-model-weights-840cf381-788a-4243-a951-4ace4f5e72eb.pt\n",
      "INFO:pykeen.training.training_loop:=> Saved checkpoint after having finished epoch 20.\n"
     ]
    },
    {
     "data": {
      "application/vnd.jupyter.widget-view+json": {
       "model_id": "",
       "version_major": 2,
       "version_minor": 0
      },
      "text/plain": [
       "Training batches on cuda:0:   0%|          | 0/61914 [00:00<?, ?batch/s]"
      ]
     },
     "metadata": {},
     "output_type": "display_data"
    },
    {
     "data": {
      "application/vnd.jupyter.widget-view+json": {
       "model_id": "",
       "version_major": 2,
       "version_minor": 0
      },
      "text/plain": [
       "Training batches on cuda:0:   0%|          | 0/61914 [00:00<?, ?batch/s]"
      ]
     },
     "metadata": {},
     "output_type": "display_data"
    },
    {
     "data": {
      "application/vnd.jupyter.widget-view+json": {
       "model_id": "",
       "version_major": 2,
       "version_minor": 0
      },
      "text/plain": [
       "Training batches on cuda:0:   0%|          | 0/61914 [00:00<?, ?batch/s]"
      ]
     },
     "metadata": {},
     "output_type": "display_data"
    },
    {
     "data": {
      "application/vnd.jupyter.widget-view+json": {
       "model_id": "",
       "version_major": 2,
       "version_minor": 0
      },
      "text/plain": [
       "Training batches on cuda:0:   0%|          | 0/61914 [00:00<?, ?batch/s]"
      ]
     },
     "metadata": {},
     "output_type": "display_data"
    },
    {
     "data": {
      "application/vnd.jupyter.widget-view+json": {
       "model_id": "",
       "version_major": 2,
       "version_minor": 0
      },
      "text/plain": [
       "Training batches on cuda:0:   0%|          | 0/61914 [00:00<?, ?batch/s]"
      ]
     },
     "metadata": {},
     "output_type": "display_data"
    },
    {
     "data": {
      "application/vnd.jupyter.widget-view+json": {
       "model_id": "",
       "version_major": 2,
       "version_minor": 0
      },
      "text/plain": [
       "Training batches on cuda:0:   0%|          | 0/61914 [00:00<?, ?batch/s]"
      ]
     },
     "metadata": {},
     "output_type": "display_data"
    },
    {
     "data": {
      "application/vnd.jupyter.widget-view+json": {
       "model_id": "",
       "version_major": 2,
       "version_minor": 0
      },
      "text/plain": [
       "Training batches on cuda:0:   0%|          | 0/61914 [00:00<?, ?batch/s]"
      ]
     },
     "metadata": {},
     "output_type": "display_data"
    },
    {
     "data": {
      "application/vnd.jupyter.widget-view+json": {
       "model_id": "",
       "version_major": 2,
       "version_minor": 0
      },
      "text/plain": [
       "Training batches on cuda:0:   0%|          | 0/61914 [00:00<?, ?batch/s]"
      ]
     },
     "metadata": {},
     "output_type": "display_data"
    },
    {
     "data": {
      "application/vnd.jupyter.widget-view+json": {
       "model_id": "",
       "version_major": 2,
       "version_minor": 0
      },
      "text/plain": [
       "Training batches on cuda:0:   0%|          | 0/61914 [00:00<?, ?batch/s]"
      ]
     },
     "metadata": {},
     "output_type": "display_data"
    },
    {
     "data": {
      "application/vnd.jupyter.widget-view+json": {
       "model_id": "",
       "version_major": 2,
       "version_minor": 0
      },
      "text/plain": [
       "Training batches on cuda:0:   0%|          | 0/61914 [00:00<?, ?batch/s]"
      ]
     },
     "metadata": {},
     "output_type": "display_data"
    },
    {
     "data": {
      "application/vnd.jupyter.widget-view+json": {
       "model_id": "a41906c514ea4937b35f21c5d01ebe5b",
       "version_major": 2,
       "version_minor": 0
      },
      "text/plain": [
       "Evaluating on cuda:0:   0%|          | 0.00/330k [00:00<?, ?triple/s]"
      ]
     },
     "metadata": {},
     "output_type": "display_data"
    },
    {
     "name": "stderr",
     "output_type": "stream",
     "text": [
      "INFO:pykeen.evaluation.evaluator:Evaluation took 1099.26s seconds\n"
     ]
    },
    {
     "data": {
      "application/vnd.jupyter.widget-view+json": {
       "model_id": "",
       "version_major": 2,
       "version_minor": 0
      },
      "text/plain": [
       "Training batches on cuda:0:   0%|          | 0/61914 [00:00<?, ?batch/s]"
      ]
     },
     "metadata": {},
     "output_type": "display_data"
    },
    {
     "data": {
      "application/vnd.jupyter.widget-view+json": {
       "model_id": "",
       "version_major": 2,
       "version_minor": 0
      },
      "text/plain": [
       "Training batches on cuda:0:   0%|          | 0/61914 [00:00<?, ?batch/s]"
      ]
     },
     "metadata": {},
     "output_type": "display_data"
    },
    {
     "data": {
      "application/vnd.jupyter.widget-view+json": {
       "model_id": "",
       "version_major": 2,
       "version_minor": 0
      },
      "text/plain": [
       "Training batches on cuda:0:   0%|          | 0/61914 [00:00<?, ?batch/s]"
      ]
     },
     "metadata": {},
     "output_type": "display_data"
    },
    {
     "data": {
      "application/vnd.jupyter.widget-view+json": {
       "model_id": "",
       "version_major": 2,
       "version_minor": 0
      },
      "text/plain": [
       "Training batches on cuda:0:   0%|          | 0/61914 [00:00<?, ?batch/s]"
      ]
     },
     "metadata": {},
     "output_type": "display_data"
    },
    {
     "data": {
      "application/vnd.jupyter.widget-view+json": {
       "model_id": "",
       "version_major": 2,
       "version_minor": 0
      },
      "text/plain": [
       "Training batches on cuda:0:   0%|          | 0/61914 [00:00<?, ?batch/s]"
      ]
     },
     "metadata": {},
     "output_type": "display_data"
    },
    {
     "data": {
      "application/vnd.jupyter.widget-view+json": {
       "model_id": "",
       "version_major": 2,
       "version_minor": 0
      },
      "text/plain": [
       "Training batches on cuda:0:   0%|          | 0/61914 [00:00<?, ?batch/s]"
      ]
     },
     "metadata": {},
     "output_type": "display_data"
    },
    {
     "data": {
      "application/vnd.jupyter.widget-view+json": {
       "model_id": "",
       "version_major": 2,
       "version_minor": 0
      },
      "text/plain": [
       "Training batches on cuda:0:   0%|          | 0/61914 [00:00<?, ?batch/s]"
      ]
     },
     "metadata": {},
     "output_type": "display_data"
    },
    {
     "data": {
      "application/vnd.jupyter.widget-view+json": {
       "model_id": "",
       "version_major": 2,
       "version_minor": 0
      },
      "text/plain": [
       "Training batches on cuda:0:   0%|          | 0/61914 [00:00<?, ?batch/s]"
      ]
     },
     "metadata": {},
     "output_type": "display_data"
    },
    {
     "data": {
      "application/vnd.jupyter.widget-view+json": {
       "model_id": "",
       "version_major": 2,
       "version_minor": 0
      },
      "text/plain": [
       "Training batches on cuda:0:   0%|          | 0/61914 [00:00<?, ?batch/s]"
      ]
     },
     "metadata": {},
     "output_type": "display_data"
    },
    {
     "data": {
      "application/vnd.jupyter.widget-view+json": {
       "model_id": "",
       "version_major": 2,
       "version_minor": 0
      },
      "text/plain": [
       "Training batches on cuda:0:   0%|          | 0/61914 [00:00<?, ?batch/s]"
      ]
     },
     "metadata": {},
     "output_type": "display_data"
    },
    {
     "data": {
      "application/vnd.jupyter.widget-view+json": {
       "model_id": "470edcb6c111432ab722266c462abc6b",
       "version_major": 2,
       "version_minor": 0
      },
      "text/plain": [
       "Evaluating on cuda:0:   0%|          | 0.00/330k [00:00<?, ?triple/s]"
      ]
     },
     "metadata": {},
     "output_type": "display_data"
    },
    {
     "name": "stderr",
     "output_type": "stream",
     "text": [
      "INFO:pykeen.evaluation.evaluator:Evaluation took 1099.07s seconds\n",
      "INFO:pykeen.stoppers.early_stopping:Stopping early at epoch 40. The best result 0.04530629179184029 occurred at epoch 20.\n",
      "INFO:pykeen.stoppers.early_stopping:Re-loading weights from best epoch from /home/ddofer/.data/pykeen/checkpoints/best-model-weights-840cf381-788a-4243-a951-4ace4f5e72eb.pt\n"
     ]
    },
    {
     "data": {
      "application/vnd.jupyter.widget-view+json": {
       "model_id": "0c241f0bb9aa434a8b81bca68e96620b",
       "version_major": 2,
       "version_minor": 0
      },
      "text/plain": [
       "Evaluating on cuda:0:   0%|          | 0.00/330k [00:00<?, ?triple/s]"
      ]
     },
     "metadata": {},
     "output_type": "display_data"
    },
    {
     "name": "stderr",
     "output_type": "stream",
     "text": [
      "INFO:pykeen.evaluation.evaluator:Evaluation took 1939.54s seconds\n",
      "INFO:pykeen.triples.triples_factory:Stored TriplesFactory(num_entities=105270, num_relations=1, create_inverse_triples=False, num_triples=15849939) to file:///mnt/c/Users/ddofe/OneDrive%20-%20Medtronic%20PLC/Documents/research/InterestingFeats/SemMed/saved/training_triples\n",
      "INFO:pykeen.pipeline.api:Saved to directory: /mnt/c/Users/ddofe/OneDrive - Medtronic PLC/Documents/research/InterestingFeats/SemMed/saved\n"
     ]
    },
    {
     "name": "stdout",
     "output_type": "stream",
     "text": [
      "CPU times: user 9h 10min 5s, sys: 16min 30s, total: 9h 26min 35s\n",
      "Wall time: 9h 28min 52s\n"
     ]
    },
    {
     "data": {
      "text/plain": [
       "PipelineResult(random_seed=42, model=ComplEx(\n",
       "  (loss): MarginRankingLoss(\n",
       "    (margin_activation): ReLU()\n",
       "  )\n",
       "  (interaction): ComplExInteraction()\n",
       "  (entity_representations): ModuleList(\n",
       "    (0): Embedding(\n",
       "      (regularizer): LpRegularizer()\n",
       "      (_embeddings): Embedding(105270, 400)\n",
       "    )\n",
       "  )\n",
       "  (relation_representations): ModuleList(\n",
       "    (0): Embedding(\n",
       "      (regularizer): LpRegularizer()\n",
       "      (_embeddings): Embedding(1, 400)\n",
       "    )\n",
       "  )\n",
       "  (weight_regularizers): ModuleList()\n",
       "), training=TriplesFactory(num_entities=105270, num_relations=1, create_inverse_triples=False, num_triples=15849939), training_loop=<pykeen.training.slcwa.SLCWATrainingLoop object at 0x7f325b6dd270>, losses=[1.3756489105334666, 0.53852825813684, 0.3774341188625575, 0.3078338511132449, 0.2598190537419837, 0.22490091910276794, 0.20074894008072872, 0.1843567073634476, 0.1731472771170624, 0.16476586288015752, 0.15880649133344146, 0.1536467188724548, 0.14927812772025176, 0.14626408621136203, 0.1435445282769162, 0.14109740683231722, 0.13933891375177987, 0.13738986692052374, 0.13617458487738865, 0.1348193662459093, 0.13362182134322392, 0.13264854032932927, 0.13167893138265005, 0.13101259947880164, 0.13015444425361614, 0.12960481531528156, 0.1291684889228796, 0.1286236250165187, 0.1281506521933867, 0.12790143561895786, 0.1273609778761419, 0.12699707366090987, 0.12689769624686376, 0.12651452999419424, 0.1262894251241572, 0.12606115873874035, 0.1258255928774903, 0.1256820718839427, 0.12544123977750032, 0.1252591836280931], metric_results=<pykeen.evaluation.rank_based_evaluator.RankBasedMetricResults object at 0x7f30362b21d0>, train_seconds=32114.59946155548, evaluate_seconds=1939.544098854065, stopper=EarlyStopper(evaluator=<pykeen.evaluation.rank_based_evaluator.RankBasedEvaluator object at 0x7f325b6dfaf0>, training_triples_factory=TriplesFactory(num_entities=105270, num_relations=1, create_inverse_triples=False, num_triples=15849939), evaluation_triples_factory=TriplesFactory(num_entities=105270, num_relations=1, create_inverse_triples=False, num_triples=330208), evaluation_batch_size=None, evaluation_slice_size=None, frequency=10, patience=2, metric='hits_at_k', relative_delta=0.01, larger_is_better=True, result_tracker=<pykeen.trackers.base.MultiResultTracker object at 0x7f325b6de590>, stopped=True, best_model_path=PosixPath('/home/ddofer/.data/pykeen/checkpoints/best-model-weights-840cf381-788a-4243-a951-4ace4f5e72eb.pt'), clean_up_checkpoint=True), configuration={'dataset': '<user defined>', 'training': '<user defined>', 'testing': '<user defined>', 'validation': '<user defined>', 'model': 'ComplEx', 'model_kwargs': {'random_seed': 42, 'loss': MarginRankingLoss(\n",
       "  (margin_activation): ReLU()\n",
       "), 'embedding_dim': 200, 'entity_initializer': <function normal_ at 0x7f32636cac20>, 'relation_initializer': <function normal_ at 0x7f32636cac20>, 'regularizer': <class 'pykeen.regularizers.LpRegularizer'>, 'regularizer_kwargs': None}, 'loss_kwargs': None, 'regularizer_kwargs': None, 'optimizer': 'Adam', 'optimizer_kwargs': {'lr': 0.001, 'betas': (0.9, 0.999), 'eps': 1e-08, 'weight_decay': 0, 'amsgrad': False, 'maximize': False, 'foreach': None, 'capturable': False, 'differentiable': False, 'fused': None}, 'training_loop': 'SLCWATrainingLoop', 'training_loop_kwargs': {}, 'evaluator': 'RankBasedEvaluator', 'evaluator_kwargs': {}, 'num_epochs': 60, 'batch_size': 256, 'evaluation_kwargs': {'additional_filter_triples': {'training': {'sha512': 'e68f299abdd1da9892cf1438dbb7a6f2b7c6ba8f2d581ba4310e70b23ffbcb2c26d063e3a5d1745571bdd4acf9f7a9af5bdca1a3f96dc7584379d0c45cbd3d86'}, 'validation': {'sha512': '882cb769f67de61c9226ee9ef514678b408124a088518a1090f91e88ac7be53612e80126538b480a9c4fcc2a0228a4e1b94e6bb6d27330a009d589dee61805b7'}}}}, metadata={}, version='1.10.2', git_hash='UNHASHED')"
      ]
     },
     "execution_count": 19,
     "metadata": {},
     "output_type": "execute_result"
    },
    {
     "data": {
      "image/png": "[encoded data removed]",
      "text/plain": [
       "<Figure size 1000x400 with 2 Axes>"
      ]
     },
     "metadata": {},
     "output_type": "display_data"
    }
   ],
   "source": [
    "%%time\n",
    "if RETRAIN_KG_MODEL:\n",
    "        \n",
    "    results = pipeline(\n",
    "        training=training,\n",
    "        testing=testing,\n",
    "        validation=validation,\n",
    "        # model= \"TransD\" #\"TransH\"#\"TuckER\"#\"TransD\"#'Complex',#\"TuckER\",\n",
    "        # model='DistMult' ## this seems to work, without crashing, on cpu\n",
    "         # model=\"ermlpe\"\n",
    "        model=\"ComplEx\"\n",
    "        ,epochs= 60#3#80\n",
    "        ,dimensions= 500#128\n",
    "        ,random_seed=42,\n",
    "        # device='mps', ## apple silicon - crashes OOM ; but works with cpu? depends on size, embed size\n",
    "        # device=\"cpu\", # \"cuda\" # runs stably on cuda\n",
    "        evaluation_fallback = True,\n",
    "        stopper='early', ## may crash? \n",
    "        # stopper = None,\n",
    "    \n",
    "        # evaluation_relation_whitelist=subsetPredicates ## evaluate only on subset of relations\n",
    "    \n",
    "        # # training_loop_kwargs=dict(automatic_memory_optimization=False), # ,batch_size=1024\n",
    "        # evaluator_kwargs=dict(automatic_memory_optimization=False,batch_size=64), # batch_size\n",
    "    )\n",
    "    \n",
    "    try:\n",
    "        results.plot()\n",
    "    except:()\n",
    "    \n",
    "    results.save_to_directory('./saved/')\n",
    "\n",
    "\n",
    "# model = torch.load('./saved/trained_model.pkl')\n",
    "\n",
    "results"
   ]
  },
  {
   "cell_type": "code",
   "execution_count": 20,
   "id": "dc419fa4-edbf-4f48-9967-60e7adcf19a0",
   "metadata": {},
   "outputs": [],
   "source": [
    "# results.save_to_directory('./saved/')"
   ]
  },
  {
   "cell_type": "markdown",
   "id": "2be403f8-b6dd-4803-9e6b-8da0cd0fcbbd",
   "metadata": {},
   "source": [
    "#### Transformer embeedder after this - I couldn't get it working great? "
   ]
  },
  {
   "cell_type": "code",
   "execution_count": 21,
   "id": "a6bd8e2d-708c-472e-afe6-605fdb5fdaed",
   "metadata": {},
   "outputs": [],
   "source": [
    "# ## try new \n",
    "# entity_initializer = LabelBasedInitializer.from_triples_factory(\n",
    "#     triples_factory=training,\n",
    "#     for_entities=True,\n",
    "#     encoder=\"transformer\",\n",
    "#      # model_kwargs=dict(device=\"mps\") # doesn't work\n",
    "# )\n",
    "\n",
    "# ### https://pykeen.readthedocs.io/en/latest/tutorial/representations.html#text-based"
   ]
  },
  {
   "cell_type": "code",
   "execution_count": 22,
   "id": "41d01118-f087-4791-9fc2-19cef0842d1d",
   "metadata": {},
   "outputs": [],
   "source": [
    "# # entity_representations = TextRepresentation.from_dataset(\n",
    "# #     dataset=tf,\n",
    "# #     encoder=\"transformer\",\n",
    "# # )\n",
    "\n",
    "# entity_representations = TextRepresentation.from_triples_factory(\n",
    "#     triples_factory=tf,\n",
    "#     encoder=\"transformer\",\n",
    "# )"
   ]
  },
  {
   "cell_type": "code",
   "execution_count": 23,
   "id": "9418c757-fc5b-428e-b8e2-ac07bcbbbb1e",
   "metadata": {
    "scrolled": true
   },
   "outputs": [],
   "source": [
    "# dataset = get_dataset(dataset=\"nations\")\n",
    "# entity_representations = TextRepresentation.from_dataset(\n",
    "#     dataset=dataset,\n",
    "#     encoder=\"transformer\",\n",
    "# )\n",
    "# result = pipeline(\n",
    "#     dataset=dataset,\n",
    "#     model=ERModel,\n",
    "#     model_kwargs=dict(\n",
    "#         # interaction= \"TransE\",, # not using ermlpe -> error\n",
    "#         interaction=\"ermlpe\", # not using ermlpe -> error\n",
    "        \n",
    "#         interaction_kwargs=dict(\n",
    "#             embedding_dim=entity_representations.shape[0],\n",
    "#         ),\n",
    "#         entity_representations=entity_representations,\n",
    "#         relation_representations_kwargs=dict(\n",
    "#             shape=entity_representations.shape,\n",
    "#         ),\n",
    "#     ),\n",
    "#     training_kwargs=dict(\n",
    "#         num_epochs=2,\n",
    "#     ),\n",
    "# )\n",
    "# model = result.model\n",
    "# result.plot()"
   ]
  },
  {
   "cell_type": "code",
   "execution_count": 24,
   "id": "a6c0422a-5256-44c8-87a9-f1eedfa13127",
   "metadata": {},
   "outputs": [],
   "source": [
    "# %%time\n",
    "# from pykeen.models import ERModel\n",
    "# ## memory crash on apple silicon in eval\n",
    "# ## may have cpu memory leak - when running with more epochs. \n",
    "\n",
    "# rot_results = pipeline(\n",
    "#     training=training,\n",
    "#     testing=testing,\n",
    "#     validation=validation,\n",
    "#     model=ERModel, #\"TransE\",#\"TransH\", #\"TransR\",#\"TransE\",#\"TransH\", #'RotatE', # aten::complex.out - not supported on mps\n",
    "#      # model= \"QuatE\",\n",
    "#     # model=\"convKB\", ## To be consistent with the paper, should initialize entity and relation embeddings from TransE.\n",
    "#     # model=\"RotatE\",\n",
    "#     # model=\"TuckER\",\n",
    "#     # epochs=2#35,\n",
    "#     epochs=2,\n",
    "#     # dimensions= 512,\n",
    "#     random_seed=42,\n",
    "#     # device='mps', ## apple silicon - crashes OOM ; but works with cpu? depends on size, embed size\n",
    "#     # device=\"cpu\", # \"cuda\" # runs stably on cuda\n",
    "#     evaluation_fallback = True,\n",
    "#     stopper='early', ## may crash? \n",
    "#     # evaluation_relation_whitelist=subsetPredicates, ## evaluate only on subset of relations\n",
    "    \n",
    "#     # # ## try adding for Transformer embed\n",
    "#     # model_kwargs=dict(entity_representations_kwargs=dict(\n",
    "#     #         # triples_factory=dataset.training,\n",
    "#     #         base_kwargs=dict(\n",
    "#     #             # shape=embedding_dim,\n",
    "#     #             initializer=entity_initializer,\n",
    "#     #         ))),\n",
    "\n",
    "#     model_kwargs=dict(\n",
    "#         interaction=\"ermlpe\",\n",
    "#         # interaction=\"transe\",\n",
    "#         interaction_kwargs=dict(\n",
    "#             embedding_dim=entity_representations.shape[0],\n",
    "#         ),\n",
    "#         entity_representations=entity_representations,\n",
    "#         relation_representations_kwargs=dict(\n",
    "#             shape=entity_representations.shape,\n",
    "#         ),\n",
    "#         ),\n",
    "# )\n",
    "\n",
    "# try:\n",
    "#     rot_results.plot()\n",
    "# except:()\n",
    "\n",
    "# ## 79/80 [39:19<00:11, 11.65s/epoch, loss=0.0471, prev_loss=0.0475]"
   ]
  },
  {
   "cell_type": "code",
   "execution_count": 25,
   "id": "f898825b-3e45-461f-a24a-7a17b687d86c",
   "metadata": {},
   "outputs": [],
   "source": [
    "# from pykeen.models import *\n",
    "# ## not working\n",
    "# model = ERMLPE(\n",
    "#     triples_factory=tf, #I added - try\n",
    "#     embedding_dim=768,  # for BERT base\n",
    "#     entity_initializer=LabelBasedInitializer.from_triples_factory(\n",
    "#         triples_factory=tf #tf #training, #dataset.training,\n",
    "#         ,encoder=\"transformer\",\n",
    "#     ),\n",
    "# )"
   ]
  },
  {
   "cell_type": "code",
   "execution_count": null,
   "id": "6a5273df-bbc2-4ef7-a1d8-82debbf53dc2",
   "metadata": {},
   "outputs": [],
   "source": []
  },
  {
   "cell_type": "code",
   "execution_count": 26,
   "id": "f8b4eab1-0325-40ac-86b7-05b7c16f3187",
   "metadata": {},
   "outputs": [],
   "source": [
    "# conv_results = pipeline(\n",
    "#     training=training,\n",
    "#     testing=testing,\n",
    "#     validation=validation,\n",
    "#     model=\"convKB\",\n",
    "#     epochs=40,\n",
    "#     dimensions=300, #512,\n",
    "#     random_seed=42,\n",
    "#     evaluation_fallback = True,\n",
    "#     stopper='early', ## may crash? \n",
    "#     evaluation_relation_whitelist=subsetPredicates ## evaluate only on subset of relations\n",
    "# )\n",
    "\n",
    "# try:\n",
    "#     conv_results.plot()\n",
    "# except:()\n",
    "#     ## errorrrrr"
   ]
  },
  {
   "cell_type": "code",
   "execution_count": 27,
   "id": "7e71f6c3-2b97-4b49-8303-7020784a355f",
   "metadata": {},
   "outputs": [],
   "source": [
    "# gcn_results = pipeline(\n",
    "#     training=training,\n",
    "#     testing=testing,\n",
    "#     validation=validation,\n",
    "#     model= \"AutoSF\" #\"CompGCN\",\n",
    "#     ,epochs=70,\n",
    "#     dimensions= 300,\n",
    "#     random_seed=42,\n",
    "#     evaluation_fallback = True,\n",
    "#     stopper='early', ## may crash? \n",
    "#     evaluation_relation_whitelist=subsetPredicates ## evaluate only on subset of relations\n",
    "# )\n",
    "# try:\n",
    "#     gcn_results.plot()\n",
    "# except:() # loss=0.0924, prev_loss=0.0923] - autosf , 40 epochs. didn't saturate"
   ]
  },
  {
   "cell_type": "code",
   "execution_count": 28,
   "id": "e5d20dfb-dd0e-4dcc-8865-326b1244a91a",
   "metadata": {},
   "outputs": [],
   "source": [
    "# results =gcn_results"
   ]
  },
  {
   "cell_type": "markdown",
   "id": "55ae1b53-66e8-46cc-9e07-ddbdd707faa1",
   "metadata": {},
   "source": [
    "` 'training_loop_kwargs': {}, 'evaluator': 'RankBasedEvaluator', 'evaluator_kwargs': {},  'batch_size': 256, `"
   ]
  },
  {
   "cell_type": "code",
   "execution_count": 29,
   "id": "1bd07538-6d38-47e8-afa6-a8e7cc1eeb22",
   "metadata": {},
   "outputs": [
    {
     "data": {
      "text/plain": [
       "ComplEx(\n",
       "  (loss): MarginRankingLoss(\n",
       "    (margin_activation): ReLU()\n",
       "  )\n",
       "  (interaction): ComplExInteraction()\n",
       "  (entity_representations): ModuleList(\n",
       "    (0): Embedding(\n",
       "      (regularizer): LpRegularizer()\n",
       "      (_embeddings): Embedding(105270, 400)\n",
       "    )\n",
       "  )\n",
       "  (relation_representations): ModuleList(\n",
       "    (0): Embedding(\n",
       "      (regularizer): LpRegularizer()\n",
       "      (_embeddings): Embedding(1, 400)\n",
       "    )\n",
       "  )\n",
       "  (weight_regularizers): ModuleList()\n",
       ")"
      ]
     },
     "execution_count": 29,
     "metadata": {},
     "output_type": "execute_result"
    }
   ],
   "source": [
    "results.model"
   ]
  },
  {
   "cell_type": "markdown",
   "id": "a36cdc04-556e-479f-98ea-f8292481fd93",
   "metadata": {},
   "source": [
    "### Scoring/try - link prediction\n",
    "* https://pykeen.readthedocs.io/en/v1.10.2/api/pykeen.predict.predict_target.html#pykeen.predict.predict_target"
   ]
  },
  {
   "cell_type": "code",
   "execution_count": 30,
   "id": "01ec2151-0c55-424a-aa12-a01db43385e7",
   "metadata": {},
   "outputs": [
    {
     "data": {
      "text/html": [
       "<div>\n",
       "<style scoped>\n",
       "    .dataframe tbody tr th:only-of-type {\n",
       "        vertical-align: middle;\n",
       "    }\n",
       "\n",
       "    .dataframe tbody tr th {\n",
       "        vertical-align: top;\n",
       "    }\n",
       "\n",
       "    .dataframe thead th {\n",
       "        text-align: right;\n",
       "    }\n",
       "</style>\n",
       "<table border=\"1\" class=\"dataframe\">\n",
       "  <thead>\n",
       "    <tr style=\"text-align: right;\">\n",
       "      <th></th>\n",
       "      <th>SUBJECT_CUI</th>\n",
       "      <th>SUBJECT_NAME</th>\n",
       "      <th>PREDICATE</th>\n",
       "      <th>OBJECT_CUI</th>\n",
       "      <th>OBJECT_NAME</th>\n",
       "    </tr>\n",
       "  </thead>\n",
       "  <tbody>\n",
       "    <tr>\n",
       "      <th>72162</th>\n",
       "      <td>C0008350</td>\n",
       "      <td>Cholelithiasis</td>\n",
       "      <td>link</td>\n",
       "      <td>C0030705</td>\n",
       "      <td>Patients</td>\n",
       "    </tr>\n",
       "    <tr>\n",
       "      <th>360204</th>\n",
       "      <td>C0162522</td>\n",
       "      <td>Cholecystectomy, Laparoscopic</td>\n",
       "      <td>link</td>\n",
       "      <td>C0008350</td>\n",
       "      <td>Cholelithiasis</td>\n",
       "    </tr>\n",
       "    <tr>\n",
       "      <th>166953</th>\n",
       "      <td>C0008350</td>\n",
       "      <td>Cholelithiasis</td>\n",
       "      <td>link</td>\n",
       "      <td>C0012634</td>\n",
       "      <td>Disease</td>\n",
       "    </tr>\n",
       "    <tr>\n",
       "      <th>1330414</th>\n",
       "      <td>C0008320</td>\n",
       "      <td>Cholecystectomy</td>\n",
       "      <td>link</td>\n",
       "      <td>C0008350</td>\n",
       "      <td>Cholelithiasis</td>\n",
       "    </tr>\n",
       "    <tr>\n",
       "      <th>103860091</th>\n",
       "      <td>C0008320</td>\n",
       "      <td>Cholecystectomy procedure</td>\n",
       "      <td>link</td>\n",
       "      <td>C0008350</td>\n",
       "      <td>Cholelithiasis</td>\n",
       "    </tr>\n",
       "    <tr>\n",
       "      <th>...</th>\n",
       "      <td>...</td>\n",
       "      <td>...</td>\n",
       "      <td>...</td>\n",
       "      <td>...</td>\n",
       "      <td>...</td>\n",
       "    </tr>\n",
       "    <tr>\n",
       "      <th>394246</th>\n",
       "      <td>3162</td>\n",
       "      <td>HMOX1</td>\n",
       "      <td>link</td>\n",
       "      <td>C0008350</td>\n",
       "      <td>Cholelithiasis</td>\n",
       "    </tr>\n",
       "    <tr>\n",
       "      <th>80404575</th>\n",
       "      <td>29881</td>\n",
       "      <td>NPC1L1</td>\n",
       "      <td>link</td>\n",
       "      <td>C0008350</td>\n",
       "      <td>Cholelithiasis</td>\n",
       "    </tr>\n",
       "    <tr>\n",
       "      <th>120956921</th>\n",
       "      <td>28982</td>\n",
       "      <td>FLVCR1</td>\n",
       "      <td>link</td>\n",
       "      <td>C0008350</td>\n",
       "      <td>Cholelithiasis</td>\n",
       "    </tr>\n",
       "    <tr>\n",
       "      <th>88660470</th>\n",
       "      <td>2167</td>\n",
       "      <td>FABP4</td>\n",
       "      <td>link</td>\n",
       "      <td>C0008350</td>\n",
       "      <td>Cholelithiasis</td>\n",
       "    </tr>\n",
       "    <tr>\n",
       "      <th>60880536</th>\n",
       "      <td>11001</td>\n",
       "      <td>SLC27A2</td>\n",
       "      <td>link</td>\n",
       "      <td>C0008350</td>\n",
       "      <td>Cholelithiasis</td>\n",
       "    </tr>\n",
       "  </tbody>\n",
       "</table>\n",
       "<p>1829 rows × 5 columns</p>\n",
       "</div>"
      ],
      "text/plain": [
       "          SUBJECT_CUI                   SUBJECT_NAME PREDICATE OBJECT_CUI  \\\n",
       "72162        C0008350                 Cholelithiasis      link   C0030705   \n",
       "360204       C0162522  Cholecystectomy, Laparoscopic      link   C0008350   \n",
       "166953       C0008350                 Cholelithiasis      link   C0012634   \n",
       "1330414      C0008320                Cholecystectomy      link   C0008350   \n",
       "103860091    C0008320      Cholecystectomy procedure      link   C0008350   \n",
       "...               ...                            ...       ...        ...   \n",
       "394246           3162                          HMOX1      link   C0008350   \n",
       "80404575        29881                         NPC1L1      link   C0008350   \n",
       "120956921       28982                         FLVCR1      link   C0008350   \n",
       "88660470         2167                          FABP4      link   C0008350   \n",
       "60880536        11001                        SLC27A2      link   C0008350   \n",
       "\n",
       "              OBJECT_NAME  \n",
       "72162            Patients  \n",
       "360204     Cholelithiasis  \n",
       "166953            Disease  \n",
       "1330414    Cholelithiasis  \n",
       "103860091  Cholelithiasis  \n",
       "...                   ...  \n",
       "394246     Cholelithiasis  \n",
       "80404575   Cholelithiasis  \n",
       "120956921  Cholelithiasis  \n",
       "88660470   Cholelithiasis  \n",
       "60880536   Cholelithiasis  \n",
       "\n",
       "[1829 rows x 5 columns]"
      ]
     },
     "execution_count": 30,
     "metadata": {},
     "output_type": "execute_result"
    }
   ],
   "source": [
    "# query = \"Multiple Sclerosis\"#\"Termination of pregnancy\" #\"Pregnancy\" #\"Diet\"\n",
    "query = \"Cholelithiasis\"\n",
    "df_known = df_kg.loc[(df_kg['SUBJECT_NAME'].str.contains(query,case=False))|(df_kg['OBJECT_NAME'].str.contains(query,case=False))].drop_duplicates()\n",
    "df_known"
   ]
  },
  {
   "cell_type": "code",
   "execution_count": 31,
   "id": "29cc6e47-285b-467e-b935-0f815e046065",
   "metadata": {},
   "outputs": [
    {
     "data": {
      "text/html": [
       "<div>\n",
       "<style scoped>\n",
       "    .dataframe tbody tr th:only-of-type {\n",
       "        vertical-align: middle;\n",
       "    }\n",
       "\n",
       "    .dataframe tbody tr th {\n",
       "        vertical-align: top;\n",
       "    }\n",
       "\n",
       "    .dataframe thead th {\n",
       "        text-align: right;\n",
       "    }\n",
       "</style>\n",
       "<table border=\"1\" class=\"dataframe\">\n",
       "  <thead>\n",
       "    <tr style=\"text-align: right;\">\n",
       "      <th></th>\n",
       "      <th>tail_id</th>\n",
       "      <th>score</th>\n",
       "      <th>tail_label</th>\n",
       "    </tr>\n",
       "  </thead>\n",
       "  <tbody>\n",
       "    <tr>\n",
       "      <th>16106</th>\n",
       "      <td>16106</td>\n",
       "      <td>14.911</td>\n",
       "      <td>Cholelithiasis</td>\n",
       "    </tr>\n",
       "    <tr>\n",
       "      <th>41349</th>\n",
       "      <td>41349</td>\n",
       "      <td>7.906</td>\n",
       "      <td>Jaundice, Obstructive</td>\n",
       "    </tr>\n",
       "    <tr>\n",
       "      <th>22072</th>\n",
       "      <td>22072</td>\n",
       "      <td>7.721</td>\n",
       "      <td>Diabetes Mellitus</td>\n",
       "    </tr>\n",
       "    <tr>\n",
       "      <th>38184</th>\n",
       "      <td>38184</td>\n",
       "      <td>7.694</td>\n",
       "      <td>Icterus</td>\n",
       "    </tr>\n",
       "    <tr>\n",
       "      <th>32028</th>\n",
       "      <td>32028</td>\n",
       "      <td>7.537</td>\n",
       "      <td>Gall Bladder Diseases</td>\n",
       "    </tr>\n",
       "    <tr>\n",
       "      <th>...</th>\n",
       "      <td>...</td>\n",
       "      <td>...</td>\n",
       "      <td>...</td>\n",
       "    </tr>\n",
       "    <tr>\n",
       "      <th>70917</th>\n",
       "      <td>70917</td>\n",
       "      <td>-4.733</td>\n",
       "      <td>Simulations</td>\n",
       "    </tr>\n",
       "    <tr>\n",
       "      <th>101939</th>\n",
       "      <td>101939</td>\n",
       "      <td>-4.757</td>\n",
       "      <td>simulation</td>\n",
       "    </tr>\n",
       "    <tr>\n",
       "      <th>63574</th>\n",
       "      <td>63574</td>\n",
       "      <td>-4.798</td>\n",
       "      <td>Qualitative Research</td>\n",
       "    </tr>\n",
       "    <tr>\n",
       "      <th>82515</th>\n",
       "      <td>82515</td>\n",
       "      <td>-5.231</td>\n",
       "      <td>Work</td>\n",
       "    </tr>\n",
       "    <tr>\n",
       "      <th>98183</th>\n",
       "      <td>98183</td>\n",
       "      <td>-6.192</td>\n",
       "      <td>paradigm</td>\n",
       "    </tr>\n",
       "  </tbody>\n",
       "</table>\n",
       "<p>105270 rows × 3 columns</p>\n",
       "</div>"
      ],
      "text/plain": [
       "        tail_id   score             tail_label\n",
       "16106     16106  14.911         Cholelithiasis\n",
       "41349     41349   7.906  Jaundice, Obstructive\n",
       "22072     22072   7.721      Diabetes Mellitus\n",
       "38184     38184   7.694                Icterus\n",
       "32028     32028   7.537  Gall Bladder Diseases\n",
       "...         ...     ...                    ...\n",
       "70917     70917  -4.733            Simulations\n",
       "101939   101939  -4.757             simulation\n",
       "63574     63574  -4.798   Qualitative Research\n",
       "82515     82515  -5.231                   Work\n",
       "98183     98183  -6.192               paradigm\n",
       "\n",
       "[105270 rows x 3 columns]"
      ]
     },
     "execution_count": 31,
     "metadata": {},
     "output_type": "execute_result"
    }
   ],
   "source": [
    "# df = get_tail_prediction_df(\n",
    "#     model=result.model,\n",
    "#     head_label=\"belgium\",\n",
    "#     relation_label=\"locatedin\",\n",
    "#     triples_factory=result.training,\n",
    "#     add_novelties=False,\n",
    "# )\n",
    "\n",
    "df_preds_res = predict_target(model=results.model,\n",
    "    head=query,\n",
    "      # tail=query,\n",
    "    # relation=\"AFFECTS\",\n",
    "      relation=\"link\",\n",
    "    # triples_factory=results.testing,\n",
    "               triples_factory=tf\n",
    "    ).df\n",
    "\n",
    "df_preds_res = df_preds_res.round(3)\n",
    "df_preds_res"
   ]
  },
  {
   "cell_type": "code",
   "execution_count": 32,
   "id": "f180b426-8604-4abd-89dc-31abdddc0d63",
   "metadata": {},
   "outputs": [],
   "source": [
    "# df_diet_known = df_kg.loc[(df_kg['SUBJECT_NAME']==\"Diet\")&(df_kg['PREDICATE']==\"AFFECTS\")].drop_duplicates()\n",
    "# df_diet_known"
   ]
  },
  {
   "cell_type": "code",
   "execution_count": 33,
   "id": "3eed7b6b-2090-4433-b806-d1bceff44856",
   "metadata": {},
   "outputs": [
    {
     "name": "stdout",
     "output_type": "stream",
     "text": [
      "Cases in known 658\n",
      "lowest scored of real known cases 0.032\n"
     ]
    }
   ],
   "source": [
    "## known preds\n",
    "print(\"Cases in known\",df_preds_res.loc[df_preds_res[\"tail_label\"].isin(df_known[\"OBJECT_NAME\"])].shape[0])\n",
    "min_score_real = df_preds_res.loc[df_preds_res[\"tail_label\"].isin(df_known[\"OBJECT_NAME\"])][\"score\"].min()\n",
    "print(\"lowest scored of real known cases\",min_score_real)"
   ]
  },
  {
   "cell_type": "code",
   "execution_count": 34,
   "id": "cb70ea33-8568-4a31-92a5-8d61959eec6f",
   "metadata": {},
   "outputs": [
    {
     "name": "stdout",
     "output_type": "stream",
     "text": [
      "104612 total unfil novel candidates\n",
      "53942 Filtered score novel candidates\n"
     ]
    },
    {
     "data": {
      "text/html": [
       "<div>\n",
       "<style scoped>\n",
       "    .dataframe tbody tr th:only-of-type {\n",
       "        vertical-align: middle;\n",
       "    }\n",
       "\n",
       "    .dataframe tbody tr th {\n",
       "        vertical-align: top;\n",
       "    }\n",
       "\n",
       "    .dataframe thead th {\n",
       "        text-align: right;\n",
       "    }\n",
       "</style>\n",
       "<table border=\"1\" class=\"dataframe\">\n",
       "  <thead>\n",
       "    <tr style=\"text-align: right;\">\n",
       "      <th></th>\n",
       "      <th>tail_id</th>\n",
       "      <th>score</th>\n",
       "      <th>tail_label</th>\n",
       "      <th>CUI</th>\n",
       "    </tr>\n",
       "  </thead>\n",
       "  <tbody>\n",
       "    <tr>\n",
       "      <th>0</th>\n",
       "      <td>35310</td>\n",
       "      <td>7.169</td>\n",
       "      <td>Helicobacter Infections</td>\n",
       "      <td>C0079487</td>\n",
       "    </tr>\n",
       "    <tr>\n",
       "      <th>1</th>\n",
       "      <td>17173</td>\n",
       "      <td>6.473</td>\n",
       "      <td>Clinical finding</td>\n",
       "      <td>C0586173</td>\n",
       "    </tr>\n",
       "    <tr>\n",
       "      <th>2</th>\n",
       "      <td>17951</td>\n",
       "      <td>6.290</td>\n",
       "      <td>Comorbidity</td>\n",
       "      <td>C0009488</td>\n",
       "    </tr>\n",
       "    <tr>\n",
       "      <th>3</th>\n",
       "      <td>44445</td>\n",
       "      <td>6.279</td>\n",
       "      <td>Liver Abscess</td>\n",
       "      <td>C0023885</td>\n",
       "    </tr>\n",
       "    <tr>\n",
       "      <th>4</th>\n",
       "      <td>14759</td>\n",
       "      <td>6.254</td>\n",
       "      <td>Celiac Disease</td>\n",
       "      <td>C0007570</td>\n",
       "    </tr>\n",
       "    <tr>\n",
       "      <th>...</th>\n",
       "      <td>...</td>\n",
       "      <td>...</td>\n",
       "      <td>...</td>\n",
       "      <td>...</td>\n",
       "    </tr>\n",
       "    <tr>\n",
       "      <th>54172</th>\n",
       "      <td>96037</td>\n",
       "      <td>0.032</td>\n",
       "      <td>methyl 5-aminolevulinate</td>\n",
       "      <td>C1134467</td>\n",
       "    </tr>\n",
       "    <tr>\n",
       "      <th>54173</th>\n",
       "      <td>27725</td>\n",
       "      <td>0.032</td>\n",
       "      <td>Esthesiometer</td>\n",
       "      <td>C0180759</td>\n",
       "    </tr>\n",
       "    <tr>\n",
       "      <th>54174</th>\n",
       "      <td>45373</td>\n",
       "      <td>0.032</td>\n",
       "      <td>M2-Type Pyruvate Kinase</td>\n",
       "      <td>C0079782</td>\n",
       "    </tr>\n",
       "    <tr>\n",
       "      <th>54175</th>\n",
       "      <td>12814</td>\n",
       "      <td>0.032</td>\n",
       "      <td>CNTF</td>\n",
       "      <td>1270</td>\n",
       "    </tr>\n",
       "    <tr>\n",
       "      <th>54176</th>\n",
       "      <td>62427</td>\n",
       "      <td>0.032</td>\n",
       "      <td>Proteasome Pathway</td>\n",
       "      <td>C1752727</td>\n",
       "    </tr>\n",
       "  </tbody>\n",
       "</table>\n",
       "<p>54177 rows × 4 columns</p>\n",
       "</div>"
      ],
      "text/plain": [
       "       tail_id  score                tail_label       CUI\n",
       "0        35310  7.169   Helicobacter Infections  C0079487\n",
       "1        17173  6.473          Clinical finding  C0586173\n",
       "2        17951  6.290               Comorbidity  C0009488\n",
       "3        44445  6.279             Liver Abscess  C0023885\n",
       "4        14759  6.254            Celiac Disease  C0007570\n",
       "...        ...    ...                       ...       ...\n",
       "54172    96037  0.032  methyl 5-aminolevulinate  C1134467\n",
       "54173    27725  0.032             Esthesiometer  C0180759\n",
       "54174    45373  0.032   M2-Type Pyruvate Kinase  C0079782\n",
       "54175    12814  0.032                      CNTF      1270\n",
       "54176    62427  0.032        Proteasome Pathway  C1752727\n",
       "\n",
       "[54177 rows x 4 columns]"
      ]
     },
     "execution_count": 34,
     "metadata": {},
     "output_type": "execute_result"
    }
   ],
   "source": [
    "## novel preds\n",
    "df_novel_cand = df_preds_res.loc[~df_preds_res[\"tail_label\"].isin(df_known[\"OBJECT_NAME\"])]\n",
    "print(df_novel_cand.shape[0],\"total unfil novel candidates\")\n",
    "df_novel_cand = df_novel_cand.loc[df_novel_cand[\"score\"]>=min_score_real]\n",
    "print(df_novel_cand.shape[0],\"Filtered score novel candidates\")\n",
    "# df_novel_cand\n",
    "\n",
    "## get CUIs and free text (for comparing/m,atching)\n",
    "df_novel_cand = df_novel_cand.merge(df_map,left_on=\"tail_label\",right_on=\"name\",how=\"inner\").drop(columns=\"name\").drop_duplicates()\n",
    "df_novel_cand"
   ]
  },
  {
   "cell_type": "markdown",
   "id": "fad87d5f-bfc4-415a-a445-069147d19b75",
   "metadata": {},
   "source": [
    "### Novel candidates that are also likely to be missing links (from our preds): "
   ]
  },
  {
   "cell_type": "code",
   "execution_count": 35,
   "id": "bfea1e2a-af84-4a4e-8ce4-c751c802d05d",
   "metadata": {},
   "outputs": [
    {
     "data": {
      "text/html": [
       "<div>\n",
       "<style scoped>\n",
       "    .dataframe tbody tr th:only-of-type {\n",
       "        vertical-align: middle;\n",
       "    }\n",
       "\n",
       "    .dataframe tbody tr th {\n",
       "        vertical-align: top;\n",
       "    }\n",
       "\n",
       "    .dataframe thead th {\n",
       "        text-align: right;\n",
       "    }\n",
       "</style>\n",
       "<table border=\"1\" class=\"dataframe\">\n",
       "  <thead>\n",
       "    <tr style=\"text-align: right;\">\n",
       "      <th></th>\n",
       "      <th>tail_id</th>\n",
       "      <th>score</th>\n",
       "      <th>tail_label</th>\n",
       "      <th>CUI</th>\n",
       "    </tr>\n",
       "  </thead>\n",
       "  <tbody>\n",
       "    <tr>\n",
       "      <th>14</th>\n",
       "      <td>41023</td>\n",
       "      <td>5.921</td>\n",
       "      <td>Iron deficiency anemia</td>\n",
       "      <td>C0162316</td>\n",
       "    </tr>\n",
       "    <tr>\n",
       "      <th>71</th>\n",
       "      <td>81764</td>\n",
       "      <td>5.392</td>\n",
       "      <td>Vitamin D Deficiency</td>\n",
       "      <td>C0042870</td>\n",
       "    </tr>\n",
       "    <tr>\n",
       "      <th>91</th>\n",
       "      <td>80364</td>\n",
       "      <td>5.273</td>\n",
       "      <td>Uterine Fibroids</td>\n",
       "      <td>C0042133</td>\n",
       "    </tr>\n",
       "    <tr>\n",
       "      <th>96</th>\n",
       "      <td>35654</td>\n",
       "      <td>5.245</td>\n",
       "      <td>Hemorrhoids</td>\n",
       "      <td>C0019112</td>\n",
       "    </tr>\n",
       "    <tr>\n",
       "      <th>131</th>\n",
       "      <td>80834</td>\n",
       "      <td>5.092</td>\n",
       "      <td>Varicosity</td>\n",
       "      <td>C0042345</td>\n",
       "    </tr>\n",
       "    <tr>\n",
       "      <th>...</th>\n",
       "      <td>...</td>\n",
       "      <td>...</td>\n",
       "      <td>...</td>\n",
       "      <td>...</td>\n",
       "    </tr>\n",
       "    <tr>\n",
       "      <th>46784</th>\n",
       "      <td>54561</td>\n",
       "      <td>0.163</td>\n",
       "      <td>Opiates</td>\n",
       "      <td>C0376196</td>\n",
       "    </tr>\n",
       "    <tr>\n",
       "      <th>50946</th>\n",
       "      <td>19432</td>\n",
       "      <td>0.083</td>\n",
       "      <td>Creation of ileostomy</td>\n",
       "      <td>C0020883</td>\n",
       "    </tr>\n",
       "    <tr>\n",
       "      <th>51586</th>\n",
       "      <td>29625</td>\n",
       "      <td>0.073</td>\n",
       "      <td>Female stress incontinence</td>\n",
       "      <td>C0038437</td>\n",
       "    </tr>\n",
       "    <tr>\n",
       "      <th>53013</th>\n",
       "      <td>7867</td>\n",
       "      <td>0.049</td>\n",
       "      <td>Atopic rhinitis</td>\n",
       "      <td>C0002103</td>\n",
       "    </tr>\n",
       "    <tr>\n",
       "      <th>53920</th>\n",
       "      <td>9537</td>\n",
       "      <td>0.035</td>\n",
       "      <td>Benign bone neoplasm</td>\n",
       "      <td>C0684516</td>\n",
       "    </tr>\n",
       "  </tbody>\n",
       "</table>\n",
       "<p>220 rows × 4 columns</p>\n",
       "</div>"
      ],
      "text/plain": [
       "       tail_id  score                  tail_label       CUI\n",
       "14       41023  5.921      Iron deficiency anemia  C0162316\n",
       "71       81764  5.392        Vitamin D Deficiency  C0042870\n",
       "91       80364  5.273            Uterine Fibroids  C0042133\n",
       "96       35654  5.245                 Hemorrhoids  C0019112\n",
       "131      80834  5.092                  Varicosity  C0042345\n",
       "...        ...    ...                         ...       ...\n",
       "46784    54561  0.163                     Opiates  C0376196\n",
       "50946    19432  0.083       Creation of ileostomy  C0020883\n",
       "51586    29625  0.073  Female stress incontinence  C0038437\n",
       "53013     7867  0.049             Atopic rhinitis  C0002103\n",
       "53920     9537  0.035        Benign bone neoplasm  C0684516\n",
       "\n",
       "[220 rows x 4 columns]"
      ]
     },
     "execution_count": 35,
     "metadata": {},
     "output_type": "execute_result"
    }
   ],
   "source": [
    "df_novel_cand.loc[df_novel_cand[\"CUI\"].isin(candidate_feature_cuis_list[\"cui\"])]"
   ]
  },
  {
   "cell_type": "markdown",
   "id": "216eeade-1484-4f1b-8cb4-2ad2002e40c9",
   "metadata": {},
   "source": [
    "* Alt: candidates for what prevents a disease (mayu also want to look at \"neagtuively affected by\")"
   ]
  },
  {
   "cell_type": "code",
   "execution_count": 37,
   "id": "5f7a93ac-9a2a-4a67-98a2-259d6d122ae4",
   "metadata": {},
   "outputs": [],
   "source": [
    "# object_cand_query = \"Multiple Sclerosis\"\n",
    "object_cand_query = \"Cholelithiasis\""
   ]
  },
  {
   "cell_type": "code",
   "execution_count": 38,
   "id": "f9af468e-ae62-46f9-a968-ab354075cbb4",
   "metadata": {},
   "outputs": [
    {
     "name": "stdout",
     "output_type": "stream",
     "text": [
      "link\n"
     ]
    },
    {
     "data": {
      "text/html": [
       "<div>\n",
       "<style scoped>\n",
       "    .dataframe tbody tr th:only-of-type {\n",
       "        vertical-align: middle;\n",
       "    }\n",
       "\n",
       "    .dataframe tbody tr th {\n",
       "        vertical-align: top;\n",
       "    }\n",
       "\n",
       "    .dataframe thead th {\n",
       "        text-align: right;\n",
       "    }\n",
       "</style>\n",
       "<table border=\"1\" class=\"dataframe\">\n",
       "  <thead>\n",
       "    <tr style=\"text-align: right;\">\n",
       "      <th></th>\n",
       "      <th>head_id</th>\n",
       "      <th>score</th>\n",
       "      <th>head_label</th>\n",
       "      <th>predicate</th>\n",
       "    </tr>\n",
       "  </thead>\n",
       "  <tbody>\n",
       "    <tr>\n",
       "      <th>38184</th>\n",
       "      <td>38184</td>\n",
       "      <td>8.92</td>\n",
       "      <td>Icterus</td>\n",
       "      <td>link</td>\n",
       "    </tr>\n",
       "    <tr>\n",
       "      <th>22072</th>\n",
       "      <td>22072</td>\n",
       "      <td>7.76</td>\n",
       "      <td>Diabetes Mellitus</td>\n",
       "      <td>link</td>\n",
       "    </tr>\n",
       "    <tr>\n",
       "      <th>32031</th>\n",
       "      <td>32031</td>\n",
       "      <td>7.67</td>\n",
       "      <td>Gallbladder</td>\n",
       "      <td>link</td>\n",
       "    </tr>\n",
       "    <tr>\n",
       "      <th>9872</th>\n",
       "      <td>9872</td>\n",
       "      <td>7.62</td>\n",
       "      <td>Bile Acids</td>\n",
       "      <td>link</td>\n",
       "    </tr>\n",
       "    <tr>\n",
       "      <th>16076</th>\n",
       "      <td>16076</td>\n",
       "      <td>7.49</td>\n",
       "      <td>Cholecystectomy</td>\n",
       "      <td>link</td>\n",
       "    </tr>\n",
       "    <tr>\n",
       "      <th>...</th>\n",
       "      <td>...</td>\n",
       "      <td>...</td>\n",
       "      <td>...</td>\n",
       "      <td>...</td>\n",
       "    </tr>\n",
       "    <tr>\n",
       "      <th>69411</th>\n",
       "      <td>69411</td>\n",
       "      <td>0.04</td>\n",
       "      <td>Scrophulariaceae</td>\n",
       "      <td>link</td>\n",
       "    </tr>\n",
       "    <tr>\n",
       "      <th>58860</th>\n",
       "      <td>58860</td>\n",
       "      <td>0.04</td>\n",
       "      <td>Phagolysosomes</td>\n",
       "      <td>link</td>\n",
       "    </tr>\n",
       "    <tr>\n",
       "      <th>55776</th>\n",
       "      <td>55776</td>\n",
       "      <td>0.04</td>\n",
       "      <td>PC 16</td>\n",
       "      <td>link</td>\n",
       "    </tr>\n",
       "    <tr>\n",
       "      <th>37518</th>\n",
       "      <td>37518</td>\n",
       "      <td>0.04</td>\n",
       "      <td>Hypochromatism</td>\n",
       "      <td>link</td>\n",
       "    </tr>\n",
       "    <tr>\n",
       "      <th>61823</th>\n",
       "      <td>61823</td>\n",
       "      <td>0.04</td>\n",
       "      <td>Primary spermatocyte</td>\n",
       "      <td>link</td>\n",
       "    </tr>\n",
       "  </tbody>\n",
       "</table>\n",
       "<p>80539 rows × 4 columns</p>\n",
       "</div>"
      ],
      "text/plain": [
       "       head_id  score            head_label predicate\n",
       "38184    38184   8.92               Icterus      link\n",
       "22072    22072   7.76     Diabetes Mellitus      link\n",
       "32031    32031   7.67           Gallbladder      link\n",
       "9872      9872   7.62            Bile Acids      link\n",
       "16076    16076   7.49       Cholecystectomy      link\n",
       "...        ...    ...                   ...       ...\n",
       "69411    69411   0.04      Scrophulariaceae      link\n",
       "58860    58860   0.04        Phagolysosomes      link\n",
       "55776    55776   0.04                 PC 16      link\n",
       "37518    37518   0.04        Hypochromatism      link\n",
       "61823    61823   0.04  Primary spermatocyte      link\n",
       "\n",
       "[80539 rows x 4 columns]"
      ]
     },
     "execution_count": 38,
     "metadata": {},
     "output_type": "execute_result"
    }
   ],
   "source": [
    "\n",
    "# NEG_PREDICATES = [\"CAUSES\",'INHIBITS','PREVENTS', 'TREATS'] # ,'DISRUPTS',  - most common res, includes cytokines\n",
    "NEG_PREDICATES = [\"link\"]\n",
    "df_preds_res = pd.DataFrame()\n",
    "\n",
    "for p in NEG_PREDICATES:\n",
    "    print(p)\n",
    "    df_temp = predict_target(model=results.model,\n",
    "        # head=query,\n",
    "        relation= p,#\"PREVENTS\", ##subsetPredicates\n",
    "         tail=object_cand_query,\n",
    "         triples_factory=tf).df\n",
    "    df_temp[\"predicate\"]= p\n",
    "    df_preds_res = pd.concat([df_preds_res,df_temp])\n",
    "    \n",
    "df_preds_res = df_preds_res.drop_duplicates(subset=[\"head_label\",\"predicate\"]).round(2)\n",
    "# df_known = df_kg.loc[(df_kg['OBJECT_NAME']==object_cand_query)&(df_kg['PREDICATE']==\"PREVENTS\")]\n",
    "df_known = df_kg.loc[(df_kg['OBJECT_NAME']==object_cand_query)&(df_kg['PREDICATE'].isin(NEG_PREDICATES))]\n",
    "df_preds_res = df_preds_res.loc[~df_preds_res[\"head_label\"].isin(df_known[\"OBJECT_NAME\"])].sort_values(\"score\",ascending=False)#.head(25)\n",
    "### filterr by min real score i.e score of known cases\n",
    "min_score_real = df_preds_res.loc[df_preds_res[\"head_label\"].isin(df_known[\"SUBJECT_NAME\"])][\"score\"].min()\n",
    "df_preds_res = df_preds_res.loc[df_preds_res[\"score\"]>=min_score_real]\n",
    "\n",
    "# df_preds_res#.head(25)"
   ]
  },
  {
   "cell_type": "code",
   "execution_count": 39,
   "id": "9a9998c7-5174-4c5d-bcb2-ce0566d2c804",
   "metadata": {},
   "outputs": [
    {
     "name": "stdout",
     "output_type": "stream",
     "text": [
      "80833\n"
     ]
    },
    {
     "data": {
      "text/html": [
       "<div>\n",
       "<style scoped>\n",
       "    .dataframe tbody tr th:only-of-type {\n",
       "        vertical-align: middle;\n",
       "    }\n",
       "\n",
       "    .dataframe tbody tr th {\n",
       "        vertical-align: top;\n",
       "    }\n",
       "\n",
       "    .dataframe thead th {\n",
       "        text-align: right;\n",
       "    }\n",
       "</style>\n",
       "<table border=\"1\" class=\"dataframe\">\n",
       "  <thead>\n",
       "    <tr style=\"text-align: right;\">\n",
       "      <th></th>\n",
       "      <th>head_id</th>\n",
       "      <th>score</th>\n",
       "      <th>head_label</th>\n",
       "      <th>predicate</th>\n",
       "      <th>CUI</th>\n",
       "    </tr>\n",
       "  </thead>\n",
       "  <tbody>\n",
       "    <tr>\n",
       "      <th>138</th>\n",
       "      <td>9924</td>\n",
       "      <td>5.78</td>\n",
       "      <td>Biliary calculi</td>\n",
       "      <td>link</td>\n",
       "      <td>C0242216</td>\n",
       "    </tr>\n",
       "    <tr>\n",
       "      <th>182</th>\n",
       "      <td>16091</td>\n",
       "      <td>5.63</td>\n",
       "      <td>Cholecystolithiasis</td>\n",
       "      <td>link</td>\n",
       "      <td>C0947622</td>\n",
       "    </tr>\n",
       "    <tr>\n",
       "      <th>287</th>\n",
       "      <td>32262</td>\n",
       "      <td>5.36</td>\n",
       "      <td>Gastric ulcer</td>\n",
       "      <td>link</td>\n",
       "      <td>C0038358</td>\n",
       "    </tr>\n",
       "    <tr>\n",
       "      <th>318</th>\n",
       "      <td>41023</td>\n",
       "      <td>5.29</td>\n",
       "      <td>Iron deficiency anemia</td>\n",
       "      <td>link</td>\n",
       "      <td>C0162316</td>\n",
       "    </tr>\n",
       "    <tr>\n",
       "      <th>321</th>\n",
       "      <td>2885</td>\n",
       "      <td>5.28</td>\n",
       "      <td>Abnormality</td>\n",
       "      <td>link</td>\n",
       "      <td>C1704258</td>\n",
       "    </tr>\n",
       "    <tr>\n",
       "      <th>...</th>\n",
       "      <td>...</td>\n",
       "      <td>...</td>\n",
       "      <td>...</td>\n",
       "      <td>...</td>\n",
       "      <td>...</td>\n",
       "    </tr>\n",
       "    <tr>\n",
       "      <th>79881</th>\n",
       "      <td>35173</td>\n",
       "      <td>0.05</td>\n",
       "      <td>Hearing Loss, Partial</td>\n",
       "      <td>link</td>\n",
       "      <td>C0018772</td>\n",
       "    </tr>\n",
       "    <tr>\n",
       "      <th>79884</th>\n",
       "      <td>69897</td>\n",
       "      <td>0.05</td>\n",
       "      <td>Senile cataract</td>\n",
       "      <td>link</td>\n",
       "      <td>C0036646</td>\n",
       "    </tr>\n",
       "    <tr>\n",
       "      <th>79908</th>\n",
       "      <td>77501</td>\n",
       "      <td>0.05</td>\n",
       "      <td>Tobacco Use Disorder</td>\n",
       "      <td>link</td>\n",
       "      <td>C0040336</td>\n",
       "    </tr>\n",
       "    <tr>\n",
       "      <th>80181</th>\n",
       "      <td>32837</td>\n",
       "      <td>0.05</td>\n",
       "      <td>Geographic atrophy</td>\n",
       "      <td>link</td>\n",
       "      <td>C1536085</td>\n",
       "    </tr>\n",
       "    <tr>\n",
       "      <th>80712</th>\n",
       "      <td>15258</td>\n",
       "      <td>0.04</td>\n",
       "      <td>Cerebral artery occlusion NOS</td>\n",
       "      <td>link</td>\n",
       "      <td>C0028790</td>\n",
       "    </tr>\n",
       "  </tbody>\n",
       "</table>\n",
       "<p>228 rows × 5 columns</p>\n",
       "</div>"
      ],
      "text/plain": [
       "       head_id  score                     head_label predicate       CUI\n",
       "138       9924   5.78                Biliary calculi      link  C0242216\n",
       "182      16091   5.63            Cholecystolithiasis      link  C0947622\n",
       "287      32262   5.36                  Gastric ulcer      link  C0038358\n",
       "318      41023   5.29         Iron deficiency anemia      link  C0162316\n",
       "321       2885   5.28                    Abnormality      link  C1704258\n",
       "...        ...    ...                            ...       ...       ...\n",
       "79881    35173   0.05          Hearing Loss, Partial      link  C0018772\n",
       "79884    69897   0.05                Senile cataract      link  C0036646\n",
       "79908    77501   0.05           Tobacco Use Disorder      link  C0040336\n",
       "80181    32837   0.05             Geographic atrophy      link  C1536085\n",
       "80712    15258   0.04  Cerebral artery occlusion NOS      link  C0028790\n",
       "\n",
       "[228 rows x 5 columns]"
      ]
     },
     "execution_count": 39,
     "metadata": {},
     "output_type": "execute_result"
    }
   ],
   "source": [
    "## get CUIs and free text (for comparing/m,atching)\n",
    "df_preds_res = df_preds_res.merge(df_map,left_on=\"head_label\",right_on=\"name\",how=\"inner\").drop(columns=\"name\").drop_duplicates()\n",
    "print(df_preds_res.shape[0])\n",
    "\n",
    "df_preds_res.loc[df_preds_res[\"CUI\"].isin(candidate_feature_cuis_list[\"cui\"])]"
   ]
  },
  {
   "cell_type": "markdown",
   "id": "2733ca43-ed17-45f3-89c7-8896d209aa03",
   "metadata": {},
   "source": [
    "Example feature: (low score but passes)\n",
    "`1.72\tShared Paranoid Disorder\tC0036939`\n",
    "* This actually makes sense! e.g. see: \n",
    "* \"The Surprising Link Between the Liver and Mental Health\"\r",
    "\"ve, liver disease can be a direct cause of mental health symptoms because a compromised liver cannot prevent toxin\"...\n",
    "* \"When liver function is disrupted, toxins accumulate in the blood and often travel to the brain, increasing the likelihood of affecting brain function. Liver disease patients are three times more likely to simultaneously be living with depressive disorders\".\n",
    "\n",
    "\n",
    "Another: `1.72\t Dyspareunia\t\tC1384606`\n",
    "* \"A Case of Gallstones Causing Pelvic Pain\"\n",
    "* \"Missed Gallstones in the Bile Duct and Abdominal Cavity\"v)\r\n",
    "https://www.ncbi.nlm.nih.gov › articles › PMC2664139\r\n",
    "by O Irkorucu · 20,5 The other rare complications of LC are as follows: ovarian stone implantation, tubalithiasis, dyspareunia, chronic pelvic pain, small bowel ..."
   ]
  },
  {
   "cell_type": "code",
   "execution_count": 40,
   "id": "1759731b-d532-4509-8e86-9918643454be",
   "metadata": {},
   "outputs": [
    {
     "data": {
      "text/plain": [
       "count    80833.000000\n",
       "mean         1.231917\n",
       "std          0.994020\n",
       "min          0.040000\n",
       "25%          0.510000\n",
       "50%          0.990000\n",
       "75%          1.660000\n",
       "max          8.920000\n",
       "Name: score, dtype: float64"
      ]
     },
     "execution_count": 40,
     "metadata": {},
     "output_type": "execute_result"
    }
   ],
   "source": [
    "df_preds_res.score.describe()"
   ]
  },
  {
   "cell_type": "code",
   "execution_count": 41,
   "id": "98154dcc-010c-4401-9dc7-3155f012e568",
   "metadata": {},
   "outputs": [
    {
     "data": {
      "text/html": [
       "<div>\n",
       "<style scoped>\n",
       "    .dataframe tbody tr th:only-of-type {\n",
       "        vertical-align: middle;\n",
       "    }\n",
       "\n",
       "    .dataframe tbody tr th {\n",
       "        vertical-align: top;\n",
       "    }\n",
       "\n",
       "    .dataframe thead th {\n",
       "        text-align: right;\n",
       "    }\n",
       "</style>\n",
       "<table border=\"1\" class=\"dataframe\">\n",
       "  <thead>\n",
       "    <tr style=\"text-align: right;\">\n",
       "      <th></th>\n",
       "      <th>head_label</th>\n",
       "      <th>predicate</th>\n",
       "    </tr>\n",
       "  </thead>\n",
       "  <tbody>\n",
       "  </tbody>\n",
       "</table>\n",
       "</div>"
      ],
      "text/plain": [
       "Empty DataFrame\n",
       "Columns: [head_label, predicate]\n",
       "Index: []"
      ]
     },
     "execution_count": 41,
     "metadata": {},
     "output_type": "execute_result"
    }
   ],
   "source": [
    "# df_preds_res.loc[df_preds_res[\"predicate\"]==\"PREVENTS\"][[\"head_label\",\"predicate\"]].head(24)[\"head_label\"].values.to_clipboard()\n",
    "df_preds_res.loc[df_preds_res[\"predicate\"]==\"PREVENTS\"][[\"head_label\",\"predicate\"]].head(24)"
   ]
  },
  {
   "cell_type": "code",
   "execution_count": 42,
   "id": "e0039c01-3d55-4f8f-9e36-b87e3fe0fc71",
   "metadata": {},
   "outputs": [
    {
     "data": {
      "text/html": [
       "<div>\n",
       "<style scoped>\n",
       "    .dataframe tbody tr th:only-of-type {\n",
       "        vertical-align: middle;\n",
       "    }\n",
       "\n",
       "    .dataframe tbody tr th {\n",
       "        vertical-align: top;\n",
       "    }\n",
       "\n",
       "    .dataframe thead th {\n",
       "        text-align: right;\n",
       "    }\n",
       "</style>\n",
       "<table border=\"1\" class=\"dataframe\">\n",
       "  <thead>\n",
       "    <tr style=\"text-align: right;\">\n",
       "      <th></th>\n",
       "      <th>head_label</th>\n",
       "      <th>predicate</th>\n",
       "    </tr>\n",
       "  </thead>\n",
       "  <tbody>\n",
       "  </tbody>\n",
       "</table>\n",
       "</div>"
      ],
      "text/plain": [
       "Empty DataFrame\n",
       "Columns: [head_label, predicate]\n",
       "Index: []"
      ]
     },
     "execution_count": 42,
     "metadata": {},
     "output_type": "execute_result"
    }
   ],
   "source": [
    "# df_preds_res.loc[df_preds_res[\"predicate\"]==\"TREATS\"][[\"head_label\",\"predicate\"]].head(30).to_clipboard()\n",
    "\n",
    "df_preds_res.loc[df_preds_res[\"predicate\"]==\"INHIBITS\"][[\"head_label\",\"predicate\"]].head(30)#.to_clipboard()"
   ]
  },
  {
   "cell_type": "code",
   "execution_count": 43,
   "id": "a42f7ee8-5770-483e-a9ce-46f6a79ba7e9",
   "metadata": {
    "scrolled": true
   },
   "outputs": [
    {
     "data": {
      "text/html": [
       "<div>\n",
       "<style scoped>\n",
       "    .dataframe tbody tr th:only-of-type {\n",
       "        vertical-align: middle;\n",
       "    }\n",
       "\n",
       "    .dataframe tbody tr th {\n",
       "        vertical-align: top;\n",
       "    }\n",
       "\n",
       "    .dataframe thead th {\n",
       "        text-align: right;\n",
       "    }\n",
       "</style>\n",
       "<table border=\"1\" class=\"dataframe\">\n",
       "  <thead>\n",
       "    <tr style=\"text-align: right;\">\n",
       "      <th></th>\n",
       "      <th>head_label</th>\n",
       "      <th>predicate</th>\n",
       "    </tr>\n",
       "  </thead>\n",
       "  <tbody>\n",
       "    <tr>\n",
       "      <th>0</th>\n",
       "      <td>Icterus</td>\n",
       "      <td>link</td>\n",
       "    </tr>\n",
       "    <tr>\n",
       "      <th>1</th>\n",
       "      <td>Diabetes Mellitus</td>\n",
       "      <td>link</td>\n",
       "    </tr>\n",
       "    <tr>\n",
       "      <th>2</th>\n",
       "      <td>Gallbladder</td>\n",
       "      <td>link</td>\n",
       "    </tr>\n",
       "    <tr>\n",
       "      <th>3</th>\n",
       "      <td>Bile Acids</td>\n",
       "      <td>link</td>\n",
       "    </tr>\n",
       "    <tr>\n",
       "      <th>4</th>\n",
       "      <td>Cholecystectomy</td>\n",
       "      <td>link</td>\n",
       "    </tr>\n",
       "    <tr>\n",
       "      <th>5</th>\n",
       "      <td>Hyperlipidemia</td>\n",
       "      <td>link</td>\n",
       "    </tr>\n",
       "    <tr>\n",
       "      <th>6</th>\n",
       "      <td>Cholestasis</td>\n",
       "      <td>link</td>\n",
       "    </tr>\n",
       "    <tr>\n",
       "      <th>7</th>\n",
       "      <td>Cholecystitis</td>\n",
       "      <td>link</td>\n",
       "    </tr>\n",
       "    <tr>\n",
       "      <th>8</th>\n",
       "      <td>Gall Bladder Diseases</td>\n",
       "      <td>link</td>\n",
       "    </tr>\n",
       "    <tr>\n",
       "      <th>9</th>\n",
       "      <td>Entire biliary tract</td>\n",
       "      <td>link</td>\n",
       "    </tr>\n",
       "    <tr>\n",
       "      <th>10</th>\n",
       "      <td>Liver Cirrhosis</td>\n",
       "      <td>link</td>\n",
       "    </tr>\n",
       "    <tr>\n",
       "      <th>11</th>\n",
       "      <td>Gender</td>\n",
       "      <td>link</td>\n",
       "    </tr>\n",
       "    <tr>\n",
       "      <th>12</th>\n",
       "      <td>Jaundice, Obstructive</td>\n",
       "      <td>link</td>\n",
       "    </tr>\n",
       "    <tr>\n",
       "      <th>13</th>\n",
       "      <td>Pancreatic Diseases</td>\n",
       "      <td>link</td>\n",
       "    </tr>\n",
       "    <tr>\n",
       "      <th>14</th>\n",
       "      <td>Bariatric Surgery</td>\n",
       "      <td>link</td>\n",
       "    </tr>\n",
       "    <tr>\n",
       "      <th>15</th>\n",
       "      <td>Exploration procedure</td>\n",
       "      <td>link</td>\n",
       "    </tr>\n",
       "    <tr>\n",
       "      <th>16</th>\n",
       "      <td>Hepatic</td>\n",
       "      <td>link</td>\n",
       "    </tr>\n",
       "    <tr>\n",
       "      <th>17</th>\n",
       "      <td>Early Diagnosis</td>\n",
       "      <td>link</td>\n",
       "    </tr>\n",
       "    <tr>\n",
       "      <th>18</th>\n",
       "      <td>Lithiasis</td>\n",
       "      <td>link</td>\n",
       "    </tr>\n",
       "    <tr>\n",
       "      <th>19</th>\n",
       "      <td>Diversion procedure</td>\n",
       "      <td>link</td>\n",
       "    </tr>\n",
       "    <tr>\n",
       "      <th>20</th>\n",
       "      <td>Pancreatitis</td>\n",
       "      <td>link</td>\n",
       "    </tr>\n",
       "    <tr>\n",
       "      <th>21</th>\n",
       "      <td>Diet</td>\n",
       "      <td>link</td>\n",
       "    </tr>\n",
       "    <tr>\n",
       "      <th>22</th>\n",
       "      <td>Pancreatitis, Chronic</td>\n",
       "      <td>link</td>\n",
       "    </tr>\n",
       "    <tr>\n",
       "      <th>23</th>\n",
       "      <td>Splenectomy</td>\n",
       "      <td>link</td>\n",
       "    </tr>\n",
       "    <tr>\n",
       "      <th>24</th>\n",
       "      <td>Stenosis</td>\n",
       "      <td>link</td>\n",
       "    </tr>\n",
       "    <tr>\n",
       "      <th>25</th>\n",
       "      <td>Hyperplasia</td>\n",
       "      <td>link</td>\n",
       "    </tr>\n",
       "    <tr>\n",
       "      <th>26</th>\n",
       "      <td>Roux-en-Y Gastric Bypass</td>\n",
       "      <td>link</td>\n",
       "    </tr>\n",
       "    <tr>\n",
       "      <th>27</th>\n",
       "      <td>Cholestyramine</td>\n",
       "      <td>link</td>\n",
       "    </tr>\n",
       "    <tr>\n",
       "      <th>28</th>\n",
       "      <td>Hemorrhage</td>\n",
       "      <td>link</td>\n",
       "    </tr>\n",
       "    <tr>\n",
       "      <th>29</th>\n",
       "      <td>Triglycerides</td>\n",
       "      <td>link</td>\n",
       "    </tr>\n",
       "    <tr>\n",
       "      <th>30</th>\n",
       "      <td>Gastrointestinal Hemorrhage</td>\n",
       "      <td>link</td>\n",
       "    </tr>\n",
       "    <tr>\n",
       "      <th>31</th>\n",
       "      <td>Signs and Symptoms</td>\n",
       "      <td>link</td>\n",
       "    </tr>\n",
       "    <tr>\n",
       "      <th>32</th>\n",
       "      <td>Age</td>\n",
       "      <td>link</td>\n",
       "    </tr>\n",
       "  </tbody>\n",
       "</table>\n",
       "</div>"
      ],
      "text/plain": [
       "                     head_label predicate\n",
       "0                       Icterus      link\n",
       "1             Diabetes Mellitus      link\n",
       "2                   Gallbladder      link\n",
       "3                    Bile Acids      link\n",
       "4               Cholecystectomy      link\n",
       "5                Hyperlipidemia      link\n",
       "6                   Cholestasis      link\n",
       "7                 Cholecystitis      link\n",
       "8         Gall Bladder Diseases      link\n",
       "9          Entire biliary tract      link\n",
       "10              Liver Cirrhosis      link\n",
       "11                       Gender      link\n",
       "12        Jaundice, Obstructive      link\n",
       "13          Pancreatic Diseases      link\n",
       "14            Bariatric Surgery      link\n",
       "15        Exploration procedure      link\n",
       "16                      Hepatic      link\n",
       "17              Early Diagnosis      link\n",
       "18                    Lithiasis      link\n",
       "19          Diversion procedure      link\n",
       "20                 Pancreatitis      link\n",
       "21                         Diet      link\n",
       "22        Pancreatitis, Chronic      link\n",
       "23                  Splenectomy      link\n",
       "24                     Stenosis      link\n",
       "25                  Hyperplasia      link\n",
       "26     Roux-en-Y Gastric Bypass      link\n",
       "27               Cholestyramine      link\n",
       "28                   Hemorrhage      link\n",
       "29                Triglycerides      link\n",
       "30  Gastrointestinal Hemorrhage      link\n",
       "31           Signs and Symptoms      link\n",
       "32                          Age      link"
      ]
     },
     "execution_count": 43,
     "metadata": {},
     "output_type": "execute_result"
    }
   ],
   "source": [
    "df_preds_res[[\"head_label\",\"predicate\"]].head(33)"
   ]
  },
  {
   "cell_type": "code",
   "execution_count": 44,
   "id": "faa7529f-c833-4f5e-aef6-ee1a8a7590f7",
   "metadata": {},
   "outputs": [
    {
     "data": {
      "text/html": [
       "<div>\n",
       "<style scoped>\n",
       "    .dataframe tbody tr th:only-of-type {\n",
       "        vertical-align: middle;\n",
       "    }\n",
       "\n",
       "    .dataframe tbody tr th {\n",
       "        vertical-align: top;\n",
       "    }\n",
       "\n",
       "    .dataframe thead th {\n",
       "        text-align: right;\n",
       "    }\n",
       "</style>\n",
       "<table border=\"1\" class=\"dataframe\">\n",
       "  <thead>\n",
       "    <tr style=\"text-align: right;\">\n",
       "      <th></th>\n",
       "      <th>SUBJECT_CUI</th>\n",
       "      <th>SUBJECT_NAME</th>\n",
       "      <th>PREDICATE</th>\n",
       "      <th>OBJECT_CUI</th>\n",
       "      <th>OBJECT_NAME</th>\n",
       "    </tr>\n",
       "  </thead>\n",
       "  <tbody>\n",
       "    <tr>\n",
       "      <th>360204</th>\n",
       "      <td>C0162522</td>\n",
       "      <td>Cholecystectomy, Laparoscopic</td>\n",
       "      <td>link</td>\n",
       "      <td>C0008350</td>\n",
       "      <td>Cholelithiasis</td>\n",
       "    </tr>\n",
       "    <tr>\n",
       "      <th>1330414</th>\n",
       "      <td>C0008320</td>\n",
       "      <td>Cholecystectomy</td>\n",
       "      <td>link</td>\n",
       "      <td>C0008350</td>\n",
       "      <td>Cholelithiasis</td>\n",
       "    </tr>\n",
       "    <tr>\n",
       "      <th>103860091</th>\n",
       "      <td>C0008320</td>\n",
       "      <td>Cholecystectomy procedure</td>\n",
       "      <td>link</td>\n",
       "      <td>C0008350</td>\n",
       "      <td>Cholelithiasis</td>\n",
       "    </tr>\n",
       "    <tr>\n",
       "      <th>1299705</th>\n",
       "      <td>C0543467</td>\n",
       "      <td>Operative Surgical Procedures</td>\n",
       "      <td>link</td>\n",
       "      <td>C0008350</td>\n",
       "      <td>Cholelithiasis</td>\n",
       "    </tr>\n",
       "    <tr>\n",
       "      <th>2030483</th>\n",
       "      <td>C0041618</td>\n",
       "      <td>Ultrasonography</td>\n",
       "      <td>link</td>\n",
       "      <td>C0008350</td>\n",
       "      <td>Cholelithiasis</td>\n",
       "    </tr>\n",
       "    <tr>\n",
       "      <th>...</th>\n",
       "      <td>...</td>\n",
       "      <td>...</td>\n",
       "      <td>...</td>\n",
       "      <td>...</td>\n",
       "      <td>...</td>\n",
       "    </tr>\n",
       "    <tr>\n",
       "      <th>394246</th>\n",
       "      <td>3162</td>\n",
       "      <td>HMOX1</td>\n",
       "      <td>link</td>\n",
       "      <td>C0008350</td>\n",
       "      <td>Cholelithiasis</td>\n",
       "    </tr>\n",
       "    <tr>\n",
       "      <th>80404575</th>\n",
       "      <td>29881</td>\n",
       "      <td>NPC1L1</td>\n",
       "      <td>link</td>\n",
       "      <td>C0008350</td>\n",
       "      <td>Cholelithiasis</td>\n",
       "    </tr>\n",
       "    <tr>\n",
       "      <th>120956921</th>\n",
       "      <td>28982</td>\n",
       "      <td>FLVCR1</td>\n",
       "      <td>link</td>\n",
       "      <td>C0008350</td>\n",
       "      <td>Cholelithiasis</td>\n",
       "    </tr>\n",
       "    <tr>\n",
       "      <th>88660470</th>\n",
       "      <td>2167</td>\n",
       "      <td>FABP4</td>\n",
       "      <td>link</td>\n",
       "      <td>C0008350</td>\n",
       "      <td>Cholelithiasis</td>\n",
       "    </tr>\n",
       "    <tr>\n",
       "      <th>60880536</th>\n",
       "      <td>11001</td>\n",
       "      <td>SLC27A2</td>\n",
       "      <td>link</td>\n",
       "      <td>C0008350</td>\n",
       "      <td>Cholelithiasis</td>\n",
       "    </tr>\n",
       "  </tbody>\n",
       "</table>\n",
       "<p>1172 rows × 5 columns</p>\n",
       "</div>"
      ],
      "text/plain": [
       "          SUBJECT_CUI                   SUBJECT_NAME PREDICATE OBJECT_CUI  \\\n",
       "360204       C0162522  Cholecystectomy, Laparoscopic      link   C0008350   \n",
       "1330414      C0008320                Cholecystectomy      link   C0008350   \n",
       "103860091    C0008320      Cholecystectomy procedure      link   C0008350   \n",
       "1299705      C0543467  Operative Surgical Procedures      link   C0008350   \n",
       "2030483      C0041618                Ultrasonography      link   C0008350   \n",
       "...               ...                            ...       ...        ...   \n",
       "394246           3162                          HMOX1      link   C0008350   \n",
       "80404575        29881                         NPC1L1      link   C0008350   \n",
       "120956921       28982                         FLVCR1      link   C0008350   \n",
       "88660470         2167                          FABP4      link   C0008350   \n",
       "60880536        11001                        SLC27A2      link   C0008350   \n",
       "\n",
       "              OBJECT_NAME  \n",
       "360204     Cholelithiasis  \n",
       "1330414    Cholelithiasis  \n",
       "103860091  Cholelithiasis  \n",
       "1299705    Cholelithiasis  \n",
       "2030483    Cholelithiasis  \n",
       "...                   ...  \n",
       "394246     Cholelithiasis  \n",
       "80404575   Cholelithiasis  \n",
       "120956921  Cholelithiasis  \n",
       "88660470   Cholelithiasis  \n",
       "60880536   Cholelithiasis  \n",
       "\n",
       "[1172 rows x 5 columns]"
      ]
     },
     "execution_count": 44,
     "metadata": {},
     "output_type": "execute_result"
    }
   ],
   "source": [
    "df_known"
   ]
  },
  {
   "cell_type": "code",
   "execution_count": null,
   "id": "d93314cf-2ee3-4245-a76f-95c40334d50f",
   "metadata": {},
   "outputs": [],
   "source": []
  },
  {
   "cell_type": "code",
   "execution_count": null,
   "id": "49100184-f5e0-4925-85b1-2f4b2a7dc651",
   "metadata": {},
   "outputs": [],
   "source": []
  }
 ],
 "metadata": {
  "kernelspec": {
   "display_name": "Python 3 (ipykernel)",
   "language": "python",
   "name": "python3"
  },
  "language_info": {
   "codemirror_mode": {
    "name": "ipython",
    "version": 3
   },
   "file_extension": ".py",
   "mimetype": "text/x-python",
   "name": "python",
   "nbconvert_exporter": "python",
   "pygments_lexer": "ipython3",
   "version": "3.9.7"
  }
 },
 "nbformat": 4,
 "nbformat_minor": 5
}
