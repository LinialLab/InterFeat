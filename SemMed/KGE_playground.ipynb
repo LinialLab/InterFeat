{
 "cells": [
  {
   "cell_type": "markdown",
   "id": "07b78d82-c8c2-46db-93d3-102da541def2",
   "metadata": {},
   "source": [
    "* Play a little with KG embedding learning from semmed kg.\n",
    "* Note: `Subject : Predicate -> Object`\n",
    "\n",
    "  * PyKeen , DL-KGE...\n",
    "* https://pykeen.github.io/2020/08/07/benchmarking.html\n",
    "    * rotatE, TuckER, TransE - do well\n",
    " \n",
    "Relevant other paper did Trans-E on semmed : *\"Evaluating Explanations from AI Algorithms for Clinical Decision-Making: A Social Science-based Approach\"*\n",
    "\n",
    "\n",
    "* pyKeen + curie biomed text represntations from entities to text (e.g. for transformer text rep) ; https://pykeen.readthedocs.io/en/stable/api/pykeen.nn.representation.BiomedicalCURIERepresentation.html#pykeen.nn.representation.BiomedicalCURIERepresentation\n",
    "\n",
    "* * Load Pretrained models/representation, e.g. cui2vec : https://github.com/pykeen/pykeen/issues/637\n",
    "  *  load init - https://pykeen.readthedocs.io/en/v1.8.1/reference/nn/init.html"
   ]
  },
  {
   "cell_type": "code",
   "execution_count": null,
   "id": "fc2e90de-3636-492c-bf89-de64b794648f",
   "metadata": {},
   "outputs": [],
   "source": [
    "MIN_EVIDENCE = 7#5 # filter counts/num of cases /pmids it appeared in - proxy to reduce noise\n",
    "MIN_ENT_FREQ = 170#140#210 # keep only cases with this many occurrences\n",
    "\n",
    "# MIN_EVIDENCE = 9#5\n",
    "# MIN_ENT_FREQ = 350\n",
    "\n",
    "REMOVE_NEG_PREDICATES = True # remove predicates containnig \"neg\" as I don't know if we want them for now"
   ]
  },
  {
   "cell_type": "code",
   "execution_count": 1,
   "id": "81f740d6-6a24-4e99-97ca-b9e4dd650549",
   "metadata": {},
   "outputs": [],
   "source": [
    "import pandas as pd\n",
    "import numpy as np\n",
    "## scispacy, medspacy, medcat, quickumls, semrep...\n",
    "# import spacy"
   ]
  },
  {
   "cell_type": "code",
   "execution_count": 2,
   "id": "c5f194b1-83f7-4744-9246-e2fcf00391b5",
   "metadata": {},
   "outputs": [
    {
     "name": "stderr",
     "output_type": "stream",
     "text": [
      "/opt/anaconda3/envs/nlp/lib/python3.9/site-packages/transformers/utils/generic.py:441: UserWarning: torch.utils._pytree._register_pytree_node is deprecated. Please use torch.utils._pytree.register_pytree_node instead.\n",
      "  _torch_pytree._register_pytree_node(\n"
     ]
    },
    {
     "data": {
      "text/plain": [
       "0"
      ]
     },
     "execution_count": 2,
     "metadata": {},
     "output_type": "execute_result"
    }
   ],
   "source": [
    "from pykeen.pipeline import pipeline\n",
    "from pykeen.models import TransE\n",
    "from pykeen.triples import TriplesFactory\n",
    "# from pykeen.models.predict import get_tail_prediction_df\n",
    "# https://pykeen.readthedocs.io/en/v1.10.2/api/pykeen.predict.predict_target.html#pykeen.predict.predict_target\n",
    "from pykeen.predict import predict_target\n",
    "\n",
    "# # https://pykeen.readthedocs.io/en/latest/tutorial/inductive_lp.html#label-based-transformer-representation\n",
    "# ### \"This is work in progress and not yet available.\" # pykeen.nn.representation import LabelBasedTransformerRepresentation\n",
    "\n",
    "## https://pykeen.readthedocs.io/en/latest/api/pykeen.nn.init.LabelBasedInitializer.html\n",
    "## Initialize entity representations as Transformer encodings of their labels. \n",
    "from pykeen.nn.init import LabelBasedInitializer\n",
    "from pykeen.models import ERMLPE\n",
    "\n",
    "import torch\n",
    "import gc\n",
    "torch.cuda.empty_cache()\n",
    "gc.collect()"
   ]
  },
  {
   "cell_type": "code",
   "execution_count": null,
   "id": "7c87f3cd-99cc-4d0f-9f47-9dc7d5eb59eb",
   "metadata": {},
   "outputs": [],
   "source": []
  },
  {
   "cell_type": "code",
   "execution_count": 3,
   "id": "8c4f63e7-c5e8-4f75-881c-8982b777a296",
   "metadata": {},
   "outputs": [],
   "source": [
    "# !python -m pykeen version"
   ]
  },
  {
   "cell_type": "code",
   "execution_count": 4,
   "id": "0902ac89-d746-4aed-8689-e59d9ef64011",
   "metadata": {},
   "outputs": [],
   "source": [
    "from pykeen.datasets import get_dataset\n",
    "from pykeen.models import ERModel, RotatE, TransR\n",
    "from pykeen.nn.init import LabelBasedInitializer\n",
    "from pykeen.pipeline import pipeline\n",
    "\n",
    "# dataset = get_dataset(dataset=\"nations\", dataset_kwargs=dict(create_inverse_triples=True))\n",
    "# entity_initializer = LabelBasedInitializer.from_triples_factory(\n",
    "#     triples_factory=dataset.training,\n",
    "#     for_entities=True,\n",
    "# )\n",
    "\n",
    "# results = pipeline(\n",
    "#     dataset=dataset,\n",
    "#     # training=training,\n",
    "#     # testing=testing,\n",
    "#     # validation=validation,\n",
    "#     model=\"distmult\",\n",
    "#     epochs=11,\n",
    "#     evaluation_fallback = True,\n",
    "#     stopper='early',\n",
    "#     # device=\"mps\",\n",
    "# )\n"
   ]
  },
  {
   "cell_type": "code",
   "execution_count": 5,
   "id": "ec3fa637-d1fe-4aea-ae48-77b2b2be3a57",
   "metadata": {},
   "outputs": [
    {
     "data": {
      "application/vnd.jupyter.widget-view+json": {
       "model_id": "",
       "version_major": 2,
       "version_minor": 0
      },
      "text/plain": [
       "0it [00:00, ?it/s]"
      ]
     },
     "metadata": {},
     "output_type": "display_data"
    },
    {
     "name": "stderr",
     "output_type": "stream",
     "text": [
      "No random seed is specified. Setting to 2490510728.\n",
      "No cuda devices were available. The model runs on CPU\n",
      "INFO:pykeen.triples.triples_factory:Creating inverse triples.\n"
     ]
    },
    {
     "data": {
      "application/vnd.jupyter.widget-view+json": {
       "model_id": "0374780f39e24a518958e97528c70bc6",
       "version_major": 2,
       "version_minor": 0
      },
      "text/plain": [
       "Training epochs on cpu:   0%|          | 0/5 [00:00<?, ?epoch/s]"
      ]
     },
     "metadata": {},
     "output_type": "display_data"
    },
    {
     "name": "stderr",
     "output_type": "stream",
     "text": [
      "INFO:pykeen.triples.triples_factory:Creating inverse triples.\n"
     ]
    },
    {
     "data": {
      "application/vnd.jupyter.widget-view+json": {
       "model_id": "",
       "version_major": 2,
       "version_minor": 0
      },
      "text/plain": [
       "Training batches on cpu:   0%|          | 0/13 [00:00<?, ?batch/s]"
      ]
     },
     "metadata": {},
     "output_type": "display_data"
    },
    {
     "data": {
      "application/vnd.jupyter.widget-view+json": {
       "model_id": "",
       "version_major": 2,
       "version_minor": 0
      },
      "text/plain": [
       "Training batches on cpu:   0%|          | 0/13 [00:00<?, ?batch/s]"
      ]
     },
     "metadata": {},
     "output_type": "display_data"
    },
    {
     "data": {
      "application/vnd.jupyter.widget-view+json": {
       "model_id": "",
       "version_major": 2,
       "version_minor": 0
      },
      "text/plain": [
       "Training batches on cpu:   0%|          | 0/13 [00:00<?, ?batch/s]"
      ]
     },
     "metadata": {},
     "output_type": "display_data"
    },
    {
     "data": {
      "application/vnd.jupyter.widget-view+json": {
       "model_id": "",
       "version_major": 2,
       "version_minor": 0
      },
      "text/plain": [
       "Training batches on cpu:   0%|          | 0/13 [00:00<?, ?batch/s]"
      ]
     },
     "metadata": {},
     "output_type": "display_data"
    },
    {
     "data": {
      "application/vnd.jupyter.widget-view+json": {
       "model_id": "",
       "version_major": 2,
       "version_minor": 0
      },
      "text/plain": [
       "Training batches on cpu:   0%|          | 0/13 [00:00<?, ?batch/s]"
      ]
     },
     "metadata": {},
     "output_type": "display_data"
    },
    {
     "data": {
      "application/vnd.jupyter.widget-view+json": {
       "model_id": "7618545ac4e34b60bbd8ea31ceafe153",
       "version_major": 2,
       "version_minor": 0
      },
      "text/plain": [
       "Evaluating on cpu:   0%|          | 0.00/201 [00:00<?, ?triple/s]"
      ]
     },
     "metadata": {},
     "output_type": "display_data"
    },
    {
     "name": "stderr",
     "output_type": "stream",
     "text": [
      "WARNING:torch_max_mem.api:Encountered tensors on device_types={'cpu'} while only ['cuda'] are considered safe for automatic memory utilization maximization. This may lead to undocumented crashes (but can be safe, too).\n",
      "INFO:pykeen.evaluation.evaluator:Evaluation took 0.02s seconds\n",
      "/opt/anaconda3/envs/nlp/lib/python3.9/site-packages/seaborn/_oldcore.py:1119: FutureWarning: use_inf_as_na option is deprecated and will be removed in a future version. Convert inf values to NaN before operating instead.\n",
      "  with pd.option_context('mode.use_inf_as_na', True):\n",
      "/opt/anaconda3/envs/nlp/lib/python3.9/site-packages/seaborn/_oldcore.py:1119: FutureWarning: use_inf_as_na option is deprecated and will be removed in a future version. Convert inf values to NaN before operating instead.\n",
      "  with pd.option_context('mode.use_inf_as_na', True):\n"
     ]
    },
    {
     "data": {
      "text/plain": [
       "(<Figure size 1000x400 with 2 Axes>,\n",
       " array([<Axes: title={'center': 'Losses Plot'}, xlabel='Epoch', ylabel='marginranking Loss'>,\n",
       "        <Axes: title={'center': 'Entity Plot using PCA'}>], dtype=object))"
      ]
     },
     "execution_count": 5,
     "metadata": {},
     "output_type": "execute_result"
    },
    {
     "data": {
      "image/png": "[encoded data removed]",
      "text/plain": [
       "<Figure size 1000x400 with 2 Axes>"
      ]
     },
     "metadata": {},
     "output_type": "display_data"
    }
   ],
   "source": [
    "# !pip install torch_geometric \n",
    "\n",
    "from pykeen.datasets import get_dataset\n",
    "from pykeen.models import ERModel, RotatE, TransR\n",
    "from pykeen.nn.init import LabelBasedInitializer\n",
    "from pykeen.pipeline import pipeline\n",
    "\n",
    "dataset = get_dataset(dataset=\"nations\", dataset_kwargs=dict(create_inverse_triples=True))\n",
    "entity_initializer = LabelBasedInitializer.from_triples_factory(\n",
    "    triples_factory=dataset.training,\n",
    "    for_entities=True,\n",
    ")\n",
    "\n",
    "\n",
    "# ## use transformer:\n",
    "# entity_initializer=LabelBasedInitializer.from_triples_factory(\n",
    "#         triples_factory=dataset.training,\n",
    "#         encoder=\"transformer\",\n",
    "#     for_entities=True, # added\n",
    "#     ),\n",
    "\n",
    "(embedding_dim,) = entity_initializer.tensor.shape[1:] # not work with using transformer init\n",
    "\n",
    "\n",
    "r = pipeline(\n",
    "    # device=\"mps\", ## crashes on mac\n",
    "    stopper='early', # added\n",
    "    dataset=dataset,\n",
    "    model=ERModel,\n",
    "\n",
    "    model_kwargs=dict(\n",
    "        # interaction= \"RESCAL\", #\"distmult\", - default\n",
    "        interaction= \"distmult\", #- default\n",
    "        entity_representations=\"SimpleMessagePassing\",\n",
    "        entity_representations_kwargs=dict(\n",
    "            triples_factory=dataset.training,\n",
    "            base_kwargs=dict(\n",
    "                shape=embedding_dim,\n",
    "                initializer=entity_initializer,\n",
    "                trainable=False,\n",
    "            ),\n",
    "            layers=[\"GCN\"] * 1, ## was 2\n",
    "            layers_kwargs=dict(in_channels=embedding_dim, out_channels=embedding_dim),\n",
    "        ),\n",
    "        relation_representations_kwargs=dict(\n",
    "            shape=embedding_dim,\n",
    "        ),\n",
    "    ),\n",
    ")\n",
    "\n",
    "r.plot()"
   ]
  },
  {
   "cell_type": "code",
   "execution_count": 6,
   "id": "c4e8d3c6-e190-4fe9-8acf-f981b655d244",
   "metadata": {},
   "outputs": [],
   "source": [
    "# ## load saved chkpoint from pykeen dir\n",
    "# ## https://pykeen.readthedocs.io/en/stable/tutorial/checkpoints.html\n",
    "# import torch\n",
    "# from pykeen.constants import PYKEEN_CHECKPOINTS\n",
    "# from pykeen.pipeline import pipeline\n",
    "# from pykeen.triples import TriplesFactory\n",
    "# # checkpoint = torch.load(PYKEEN_CHECKPOINTS.joinpath('my_checkpoint.pt'))\n",
    "\n",
    "# # ## more styeps\n",
    "\n",
    "# # from pykeen.models import TransE\n",
    "# # my_model = TransE(triples_factory=train)\n",
    "# # my_model.load_state_dict(checkpoint['model_state_dict'])"
   ]
  },
  {
   "cell_type": "code",
   "execution_count": 7,
   "id": "08e0cfde-c2f8-4cb7-a2ee-4da770c9c8db",
   "metadata": {
    "jp-MarkdownHeadingCollapsed": true
   },
   "outputs": [],
   "source": []
  },
  {
   "cell_type": "code",
   "execution_count": 8,
   "id": "e24035b4-358c-4703-9eb4-2a6c423551c2",
   "metadata": {},
   "outputs": [
    {
     "data": {
      "text/html": [
       "<div>\n",
       "<style scoped>\n",
       "    .dataframe tbody tr th:only-of-type {\n",
       "        vertical-align: middle;\n",
       "    }\n",
       "\n",
       "    .dataframe tbody tr th {\n",
       "        vertical-align: top;\n",
       "    }\n",
       "\n",
       "    .dataframe thead th {\n",
       "        text-align: right;\n",
       "    }\n",
       "</style>\n",
       "<table border=\"1\" class=\"dataframe\">\n",
       "  <thead>\n",
       "    <tr style=\"text-align: right;\">\n",
       "      <th></th>\n",
       "      <th>SUBJECT_CUI</th>\n",
       "      <th>SUBJECT_NAME</th>\n",
       "      <th>SUBJECT_SEMTYPE</th>\n",
       "      <th>PREDICATE</th>\n",
       "      <th>SUBJECT_NOVELTY</th>\n",
       "      <th>OBJECT_CUI</th>\n",
       "      <th>OBJECT_NAME</th>\n",
       "      <th>OBJECT_SEMTYPE</th>\n",
       "      <th>OBJECT_NOVELTY</th>\n",
       "      <th>counts</th>\n",
       "    </tr>\n",
       "  </thead>\n",
       "  <tbody>\n",
       "    <tr>\n",
       "      <th>2101</th>\n",
       "      <td>C0087111</td>\n",
       "      <td>Therapeutic procedure</td>\n",
       "      <td>topp</td>\n",
       "      <td>TREATS</td>\n",
       "      <td>False</td>\n",
       "      <td>C0030705</td>\n",
       "      <td>Patients</td>\n",
       "      <td>podg</td>\n",
       "      <td>False</td>\n",
       "      <td>151392</td>\n",
       "    </tr>\n",
       "    <tr>\n",
       "      <th>747</th>\n",
       "      <td>C0040395</td>\n",
       "      <td>tomography</td>\n",
       "      <td>diap</td>\n",
       "      <td>USES</td>\n",
       "      <td>True</td>\n",
       "      <td>C1441526</td>\n",
       "      <td>COMPUTED</td>\n",
       "      <td>lbpr</td>\n",
       "      <td>False</td>\n",
       "      <td>143421</td>\n",
       "    </tr>\n",
       "    <tr>\n",
       "      <th>3274</th>\n",
       "      <td>C0012634</td>\n",
       "      <td>Disease</td>\n",
       "      <td>dsyn</td>\n",
       "      <td>PROCESS_OF</td>\n",
       "      <td>False</td>\n",
       "      <td>C0030705</td>\n",
       "      <td>Patients</td>\n",
       "      <td>humn</td>\n",
       "      <td>False</td>\n",
       "      <td>136269</td>\n",
       "    </tr>\n",
       "    <tr>\n",
       "      <th>5161</th>\n",
       "      <td>C0543467</td>\n",
       "      <td>Operative Surgical Procedures</td>\n",
       "      <td>topp</td>\n",
       "      <td>TREATS</td>\n",
       "      <td>True</td>\n",
       "      <td>C0030705</td>\n",
       "      <td>Patients</td>\n",
       "      <td>podg</td>\n",
       "      <td>False</td>\n",
       "      <td>104032</td>\n",
       "    </tr>\n",
       "    <tr>\n",
       "      <th>33</th>\n",
       "      <td>C1457887</td>\n",
       "      <td>Symptoms</td>\n",
       "      <td>sosy</td>\n",
       "      <td>PROCESS_OF</td>\n",
       "      <td>False</td>\n",
       "      <td>C0030705</td>\n",
       "      <td>Patients</td>\n",
       "      <td>humn</td>\n",
       "      <td>False</td>\n",
       "      <td>86269</td>\n",
       "    </tr>\n",
       "    <tr>\n",
       "      <th>...</th>\n",
       "      <td>...</td>\n",
       "      <td>...</td>\n",
       "      <td>...</td>\n",
       "      <td>...</td>\n",
       "      <td>...</td>\n",
       "      <td>...</td>\n",
       "      <td>...</td>\n",
       "      <td>...</td>\n",
       "      <td>...</td>\n",
       "      <td>...</td>\n",
       "    </tr>\n",
       "    <tr>\n",
       "      <th>101678940</th>\n",
       "      <td>1</td>\n",
       "      <td>A1BG</td>\n",
       "      <td>gngm</td>\n",
       "      <td>AFFECTS</td>\n",
       "      <td>False</td>\n",
       "      <td>C0036421</td>\n",
       "      <td>Systemic Scleroderma</td>\n",
       "      <td>dsyn</td>\n",
       "      <td>True</td>\n",
       "      <td>1</td>\n",
       "    </tr>\n",
       "    <tr>\n",
       "      <th>69169934</th>\n",
       "      <td>1</td>\n",
       "      <td>A1BG</td>\n",
       "      <td>gngm</td>\n",
       "      <td>AFFECTS</td>\n",
       "      <td>True</td>\n",
       "      <td>C0028754</td>\n",
       "      <td>Obesity</td>\n",
       "      <td>dsyn</td>\n",
       "      <td>True</td>\n",
       "      <td>1</td>\n",
       "    </tr>\n",
       "    <tr>\n",
       "      <th>29880800</th>\n",
       "      <td>1</td>\n",
       "      <td>A1BG</td>\n",
       "      <td>aapp</td>\n",
       "      <td>AFFECTS</td>\n",
       "      <td>True</td>\n",
       "      <td>C0020291</td>\n",
       "      <td>Hydrolysis</td>\n",
       "      <td>npop</td>\n",
       "      <td>True</td>\n",
       "      <td>1</td>\n",
       "    </tr>\n",
       "    <tr>\n",
       "      <th>66983871</th>\n",
       "      <td>1</td>\n",
       "      <td>A1BG</td>\n",
       "      <td>gngm</td>\n",
       "      <td>AFFECTS</td>\n",
       "      <td>True</td>\n",
       "      <td>C0005935</td>\n",
       "      <td>Bone Conduction</td>\n",
       "      <td>ortf</td>\n",
       "      <td>True</td>\n",
       "      <td>1</td>\n",
       "    </tr>\n",
       "    <tr>\n",
       "      <th>4613125</th>\n",
       "      <td>1</td>\n",
       "      <td>A1BG</td>\n",
       "      <td>aapp</td>\n",
       "      <td>ADMINISTERED_TO</td>\n",
       "      <td>True</td>\n",
       "      <td>C0007634</td>\n",
       "      <td>Cells</td>\n",
       "      <td>cell</td>\n",
       "      <td>False</td>\n",
       "      <td>1</td>\n",
       "    </tr>\n",
       "  </tbody>\n",
       "</table>\n",
       "<p>25677725 rows × 10 columns</p>\n",
       "</div>"
      ],
      "text/plain": [
       "          SUBJECT_CUI                   SUBJECT_NAME SUBJECT_SEMTYPE  \\\n",
       "2101         C0087111          Therapeutic procedure            topp   \n",
       "747          C0040395                     tomography            diap   \n",
       "3274         C0012634                        Disease            dsyn   \n",
       "5161         C0543467  Operative Surgical Procedures            topp   \n",
       "33           C1457887                       Symptoms            sosy   \n",
       "...               ...                            ...             ...   \n",
       "101678940           1                           A1BG            gngm   \n",
       "69169934            1                           A1BG            gngm   \n",
       "29880800            1                           A1BG            aapp   \n",
       "66983871            1                           A1BG            gngm   \n",
       "4613125             1                           A1BG            aapp   \n",
       "\n",
       "                 PREDICATE  SUBJECT_NOVELTY OBJECT_CUI           OBJECT_NAME  \\\n",
       "2101                TREATS            False   C0030705              Patients   \n",
       "747                   USES             True   C1441526              COMPUTED   \n",
       "3274            PROCESS_OF            False   C0030705              Patients   \n",
       "5161                TREATS             True   C0030705              Patients   \n",
       "33              PROCESS_OF            False   C0030705              Patients   \n",
       "...                    ...              ...        ...                   ...   \n",
       "101678940          AFFECTS            False   C0036421  Systemic Scleroderma   \n",
       "69169934           AFFECTS             True   C0028754               Obesity   \n",
       "29880800           AFFECTS             True   C0020291            Hydrolysis   \n",
       "66983871           AFFECTS             True   C0005935       Bone Conduction   \n",
       "4613125    ADMINISTERED_TO             True   C0007634                 Cells   \n",
       "\n",
       "          OBJECT_SEMTYPE  OBJECT_NOVELTY  counts  \n",
       "2101                podg           False  151392  \n",
       "747                 lbpr           False  143421  \n",
       "3274                humn           False  136269  \n",
       "5161                podg           False  104032  \n",
       "33                  humn           False   86269  \n",
       "...                  ...             ...     ...  \n",
       "101678940           dsyn            True       1  \n",
       "69169934            dsyn            True       1  \n",
       "29880800            npop            True       1  \n",
       "66983871            ortf            True       1  \n",
       "4613125             cell           False       1  \n",
       "\n",
       "[25677725 rows x 10 columns]"
      ]
     },
     "execution_count": 8,
     "metadata": {},
     "output_type": "execute_result"
    }
   ],
   "source": [
    "df_kg = pd.read_parquet(\"predications.parquet\")\n",
    "\n",
    "if REMOVE_NEG_PREDICATES:\n",
    "    df_kg = df_kg.loc[~df_kg[\"PREDICATE\"].str.contains(\"neg_\",case=False)]\n",
    "df_kg"
   ]
  },
  {
   "cell_type": "code",
   "execution_count": 9,
   "id": "5f26e5c5-e841-48ee-a47d-58fd2ecea334",
   "metadata": {},
   "outputs": [
    {
     "data": {
      "text/plain": [
       "PREDICATE\n",
       "LOCATION_OF           3560376\n",
       "AFFECTS               2524462\n",
       "COEXISTS_WITH         2177057\n",
       "INTERACTS_WITH        2160079\n",
       "TREATS                1903582\n",
       "                       ...   \n",
       "NEG_OCCURS_IN               0\n",
       "NEG_METHOD_OF               0\n",
       "NEG_MEASURES                0\n",
       "NEG_MEASUREMENT_OF          0\n",
       "NEG_LOCATION_OF             0\n",
       "Name: count, Length: 63, dtype: int64"
      ]
     },
     "execution_count": 9,
     "metadata": {},
     "output_type": "execute_result"
    }
   ],
   "source": [
    "df_kg.PREDICATE.value_counts()"
   ]
  },
  {
   "cell_type": "code",
   "execution_count": 10,
   "id": "d75a5857-0bec-4e31-a0f2-8b9d4ed894b7",
   "metadata": {},
   "outputs": [
    {
     "name": "stdout",
     "output_type": "stream",
     "text": [
      "25677725\n",
      "After filtering min count 1901620\n",
      "After filtering entity count 1 567149\n"
     ]
    },
    {
     "name": "stderr",
     "output_type": "stream",
     "text": [
      "<timed exec>:4: FutureWarning: The default of observed=False is deprecated and will be changed to True in a future version of pandas. Pass observed=False to retain current behavior or observed=True to adopt the future default and silence this warning.\n",
      "<timed exec>:4: FutureWarning: The default of observed=False is deprecated and will be changed to True in a future version of pandas. Pass observed=False to retain current behavior or observed=True to adopt the future default and silence this warning.\n",
      "<timed exec>:5: FutureWarning: The default of observed=False is deprecated and will be changed to True in a future version of pandas. Pass observed=False to retain current behavior or observed=True to adopt the future default and silence this warning.\n",
      "<timed exec>:10: FutureWarning: The default of observed=False is deprecated and will be changed to True in a future version of pandas. Pass observed=False to retain current behavior or observed=True to adopt the future default and silence this warning.\n",
      "<timed exec>:10: FutureWarning: The default of observed=False is deprecated and will be changed to True in a future version of pandas. Pass observed=False to retain current behavior or observed=True to adopt the future default and silence this warning.\n",
      "<timed exec>:11: FutureWarning: The default of observed=False is deprecated and will be changed to True in a future version of pandas. Pass observed=False to retain current behavior or observed=True to adopt the future default and silence this warning.\n",
      "<timed exec>:13: FutureWarning: The default of observed=False is deprecated and will be changed to True in a future version of pandas. Pass observed=False to retain current behavior or observed=True to adopt the future default and silence this warning.\n",
      "<timed exec>:13: FutureWarning: The default of observed=False is deprecated and will be changed to True in a future version of pandas. Pass observed=False to retain current behavior or observed=True to adopt the future default and silence this warning.\n",
      "<timed exec>:14: FutureWarning: The default of observed=False is deprecated and will be changed to True in a future version of pandas. Pass observed=False to retain current behavior or observed=True to adopt the future default and silence this warning.\n",
      "<timed exec>:16: FutureWarning: The default of observed=False is deprecated and will be changed to True in a future version of pandas. Pass observed=False to retain current behavior or observed=True to adopt the future default and silence this warning.\n"
     ]
    },
    {
     "name": "stdout",
     "output_type": "stream",
     "text": [
      "After filtering entity count 2 410566\n",
      "After filtering entity names count 3 287034\n",
      "After filtering entity names count 4 213760\n",
      "213760\n",
      "SUBJECT_CUI         618\n",
      "SUBJECT_NAME        680\n",
      "SUBJECT_SEMTYPE      67\n",
      "PREDICATE            24\n",
      "SUBJECT_NOVELTY       2\n",
      "OBJECT_CUI          573\n",
      "OBJECT_NAME         607\n",
      "OBJECT_SEMTYPE       64\n",
      "OBJECT_NOVELTY        2\n",
      "counts             2654\n",
      "dtype: int64\n",
      "CPU times: user 282 ms, sys: 53.7 ms, total: 336 ms\n",
      "Wall time: 305 ms\n"
     ]
    },
    {
     "name": "stderr",
     "output_type": "stream",
     "text": [
      "<timed exec>:16: FutureWarning: The default of observed=False is deprecated and will be changed to True in a future version of pandas. Pass observed=False to retain current behavior or observed=True to adopt the future default and silence this warning.\n",
      "<timed exec>:17: FutureWarning: The default of observed=False is deprecated and will be changed to True in a future version of pandas. Pass observed=False to retain current behavior or observed=True to adopt the future default and silence this warning.\n",
      "<timed exec>:18: FutureWarning: The default of observed=False is deprecated and will be changed to True in a future version of pandas. Pass observed=False to retain current behavior or observed=True to adopt the future default and silence this warning.\n",
      "<timed exec>:18: FutureWarning: The default of observed=False is deprecated and will be changed to True in a future version of pandas. Pass observed=False to retain current behavior or observed=True to adopt the future default and silence this warning.\n",
      "<timed exec>:19: FutureWarning: The default of observed=False is deprecated and will be changed to True in a future version of pandas. Pass observed=False to retain current behavior or observed=True to adopt the future default and silence this warning.\n"
     ]
    }
   ],
   "source": [
    "%%time\n",
    "print(df_kg.shape[0]) # 26M\n",
    "df_kg = df_kg.loc[df_kg[\"counts\"]>=MIN_EVIDENCE].copy()\n",
    "print(\"After filtering min count\",df_kg.shape[0])\n",
    "df_kg = df_kg.loc[(df_kg.groupby(\"SUBJECT_CUI\").transform(\"size\")>MIN_ENT_FREQ) & (df_kg.groupby(\"OBJECT_CUI\").transform(\"size\")>MIN_ENT_FREQ)\\\n",
    " & (df_kg.groupby(\"PREDICATE\").transform(\"size\")>4*MIN_ENT_FREQ)].copy()\n",
    "print(\"After filtering entity count 1\",df_kg.shape[0])\n",
    "for c in df_kg.select_dtypes(\"category\").columns:\n",
    "# remove unobserved categories, in new filtered data\n",
    "    df_kg[c] = df_kg[c].cat.remove_unused_categories()\n",
    "df_kg = df_kg.loc[(df_kg.groupby(\"SUBJECT_CUI\").transform(\"size\")>MIN_ENT_FREQ) & (df_kg.groupby(\"OBJECT_CUI\").transform(\"size\")>MIN_ENT_FREQ)\\\n",
    "& (df_kg.groupby(\"PREDICATE\").transform(\"size\")>4*MIN_ENT_FREQ)].copy()\n",
    "print(\"After filtering entity count 2\",df_kg.shape[0])\n",
    "df_kg = df_kg.loc[(df_kg.groupby(\"SUBJECT_NAME\").transform(\"size\")>MIN_ENT_FREQ) & (df_kg.groupby(\"OBJECT_NAME\").transform(\"size\")>MIN_ENT_FREQ)\\\n",
    "& (df_kg.groupby(\"PREDICATE\").transform(\"size\")>4*MIN_ENT_FREQ)].copy()\n",
    "print(\"After filtering entity names count 3\",df_kg.shape[0])\n",
    "df_kg = df_kg.loc[(df_kg.groupby(\"SUBJECT_NAME\").transform(\"size\")>MIN_ENT_FREQ) & (df_kg.groupby(\"OBJECT_NAME\").transform(\"size\")>MIN_ENT_FREQ\\\n",
    "                                                                                   ) & (df_kg.groupby(\"PREDICATE\").transform(\"size\")>4*MIN_ENT_FREQ)].copy()\n",
    "df_kg = df_kg.loc[(df_kg.groupby(\"SUBJECT_NAME\").transform(\"size\")>MIN_ENT_FREQ) & (df_kg.groupby(\"OBJECT_NAME\").transform(\"size\")>MIN_ENT_FREQ\\\n",
    "                                                                                   ) & (df_kg.groupby(\"PREDICATE\").transform(\"size\")>4*MIN_ENT_FREQ)].copy()\n",
    "\n",
    "print(\"After filtering entity names count 4\",df_kg.shape[0])\n",
    "for c in df_kg.select_dtypes(\"category\").columns:\n",
    "# remove unobserved categories, in new filtered data\n",
    "    df_kg[c] = df_kg[c].cat.remove_unused_categories()\n",
    "print(df_kg.shape[0]) # 4M\n",
    "print(df_kg.nunique())"
   ]
  },
  {
   "cell_type": "code",
   "execution_count": 12,
   "id": "56d9a726-6fab-4e2d-a2c9-8a5096254477",
   "metadata": {},
   "outputs": [
    {
     "data": {
      "text/plain": [
       "PREDICATE\n",
       "AFFECTS            31011\n",
       "LOCATION_OF        21390\n",
       "TREATS             20294\n",
       "PART_OF            15157\n",
       "ASSOCIATED_WITH    14539\n",
       "INTERACTS_WITH     13786\n",
       "COEXISTS_WITH      12993\n",
       "CAUSES             11843\n",
       "STIMULATES         10531\n",
       "PROCESS_OF          9626\n",
       "AUGMENTS            8363\n",
       "DISRUPTS            6284\n",
       "INHIBITS            6272\n",
       "PREDISPOSES         6001\n",
       "ADMINISTERED_TO     5310\n",
       "PRODUCES            4866\n",
       "PREVENTS            4101\n",
       "compared_with       2259\n",
       "USES                1862\n",
       "ISA                 1750\n",
       "MEASURES            1649\n",
       "DIAGNOSES           1544\n",
       "OCCURS_IN           1437\n",
       "PRECEDES             892\n",
       "Name: count, dtype: int64"
      ]
     },
     "execution_count": 12,
     "metadata": {},
     "output_type": "execute_result"
    }
   ],
   "source": [
    "df_kg[\"PREDICATE\"].value_counts()"
   ]
  },
  {
   "cell_type": "code",
   "execution_count": 13,
   "id": "12862a74-71c5-4475-87af-88a24b21b5e2",
   "metadata": {},
   "outputs": [
    {
     "data": {
      "text/html": [
       "<div>\n",
       "<style scoped>\n",
       "    .dataframe tbody tr th:only-of-type {\n",
       "        vertical-align: middle;\n",
       "    }\n",
       "\n",
       "    .dataframe tbody tr th {\n",
       "        vertical-align: top;\n",
       "    }\n",
       "\n",
       "    .dataframe thead th {\n",
       "        text-align: right;\n",
       "    }\n",
       "</style>\n",
       "<table border=\"1\" class=\"dataframe\">\n",
       "  <thead>\n",
       "    <tr style=\"text-align: right;\">\n",
       "      <th></th>\n",
       "      <th>SUBJECT_CUI</th>\n",
       "      <th>SUBJECT_NAME</th>\n",
       "      <th>SUBJECT_SEMTYPE</th>\n",
       "      <th>PREDICATE</th>\n",
       "      <th>SUBJECT_NOVELTY</th>\n",
       "      <th>OBJECT_CUI</th>\n",
       "      <th>OBJECT_NAME</th>\n",
       "      <th>OBJECT_SEMTYPE</th>\n",
       "      <th>OBJECT_NOVELTY</th>\n",
       "      <th>counts</th>\n",
       "    </tr>\n",
       "  </thead>\n",
       "  <tbody>\n",
       "    <tr>\n",
       "      <th>33506</th>\n",
       "      <td>C0087111</td>\n",
       "      <td>Therapeutic procedure</td>\n",
       "      <td>topp</td>\n",
       "      <td>TREATS</td>\n",
       "      <td>False</td>\n",
       "      <td>C0008059</td>\n",
       "      <td>Child</td>\n",
       "      <td>aggp</td>\n",
       "      <td>True</td>\n",
       "      <td>13941</td>\n",
       "    </tr>\n",
       "    <tr>\n",
       "      <th>52844</th>\n",
       "      <td>C0087111</td>\n",
       "      <td>Therapeutic procedure</td>\n",
       "      <td>topp</td>\n",
       "      <td>TREATS</td>\n",
       "      <td>False</td>\n",
       "      <td>C0006826</td>\n",
       "      <td>Malignant Neoplasms</td>\n",
       "      <td>neop</td>\n",
       "      <td>True</td>\n",
       "      <td>9681</td>\n",
       "    </tr>\n",
       "    <tr>\n",
       "      <th>7860</th>\n",
       "      <td>C0087111</td>\n",
       "      <td>Therapeutic procedure</td>\n",
       "      <td>topp</td>\n",
       "      <td>TREATS</td>\n",
       "      <td>False</td>\n",
       "      <td>C0034693</td>\n",
       "      <td>Rattus norvegicus</td>\n",
       "      <td>mamm</td>\n",
       "      <td>True</td>\n",
       "      <td>7771</td>\n",
       "    </tr>\n",
       "    <tr>\n",
       "      <th>6059</th>\n",
       "      <td>C0087111</td>\n",
       "      <td>Therapeutic procedure</td>\n",
       "      <td>topp</td>\n",
       "      <td>TREATS</td>\n",
       "      <td>False</td>\n",
       "      <td>C0043210</td>\n",
       "      <td>Woman</td>\n",
       "      <td>popg</td>\n",
       "      <td>True</td>\n",
       "      <td>7214</td>\n",
       "    </tr>\n",
       "    <tr>\n",
       "      <th>457</th>\n",
       "      <td>C0087111</td>\n",
       "      <td>Therapeutic procedure</td>\n",
       "      <td>topp</td>\n",
       "      <td>TREATS</td>\n",
       "      <td>False</td>\n",
       "      <td>C0026809</td>\n",
       "      <td>Mus</td>\n",
       "      <td>mamm</td>\n",
       "      <td>True</td>\n",
       "      <td>6507</td>\n",
       "    </tr>\n",
       "    <tr>\n",
       "      <th>45596</th>\n",
       "      <td>C0543467</td>\n",
       "      <td>Operative Surgical Procedures</td>\n",
       "      <td>topp</td>\n",
       "      <td>TREATS</td>\n",
       "      <td>True</td>\n",
       "      <td>C0008059</td>\n",
       "      <td>Child</td>\n",
       "      <td>aggp</td>\n",
       "      <td>True</td>\n",
       "      <td>6227</td>\n",
       "    </tr>\n",
       "    <tr>\n",
       "      <th>18581</th>\n",
       "      <td>C0007222</td>\n",
       "      <td>Cardiovascular Diseases</td>\n",
       "      <td>dsyn</td>\n",
       "      <td>CAUSES</td>\n",
       "      <td>True</td>\n",
       "      <td>C0011065</td>\n",
       "      <td>Cessation of life</td>\n",
       "      <td>orgf</td>\n",
       "      <td>True</td>\n",
       "      <td>6142</td>\n",
       "    </tr>\n",
       "    <tr>\n",
       "      <th>4219</th>\n",
       "      <td>C1273869</td>\n",
       "      <td>Intervention regimes</td>\n",
       "      <td>hlca</td>\n",
       "      <td>TREATS</td>\n",
       "      <td>False</td>\n",
       "      <td>C0008059</td>\n",
       "      <td>Child</td>\n",
       "      <td>humn</td>\n",
       "      <td>True</td>\n",
       "      <td>5568</td>\n",
       "    </tr>\n",
       "    <tr>\n",
       "      <th>37643</th>\n",
       "      <td>C0087111</td>\n",
       "      <td>Therapeutic procedure</td>\n",
       "      <td>topp</td>\n",
       "      <td>TREATS</td>\n",
       "      <td>False</td>\n",
       "      <td>C0006142</td>\n",
       "      <td>Malignant neoplasm of breast</td>\n",
       "      <td>neop</td>\n",
       "      <td>True</td>\n",
       "      <td>5426</td>\n",
       "    </tr>\n",
       "    <tr>\n",
       "      <th>7107</th>\n",
       "      <td>C0034618</td>\n",
       "      <td>Radiation therapy</td>\n",
       "      <td>topp</td>\n",
       "      <td>TREATS</td>\n",
       "      <td>True</td>\n",
       "      <td>C0006826</td>\n",
       "      <td>Malignant Neoplasms</td>\n",
       "      <td>neop</td>\n",
       "      <td>True</td>\n",
       "      <td>5313</td>\n",
       "    </tr>\n",
       "    <tr>\n",
       "      <th>1598</th>\n",
       "      <td>C1101610</td>\n",
       "      <td>MicroRNAs</td>\n",
       "      <td>bacs</td>\n",
       "      <td>AFFECTS</td>\n",
       "      <td>True</td>\n",
       "      <td>C0017262</td>\n",
       "      <td>Gene Expression</td>\n",
       "      <td>genf</td>\n",
       "      <td>True</td>\n",
       "      <td>5294</td>\n",
       "    </tr>\n",
       "    <tr>\n",
       "      <th>8256</th>\n",
       "      <td>C0087111</td>\n",
       "      <td>Therapeutic procedure</td>\n",
       "      <td>topp</td>\n",
       "      <td>TREATS</td>\n",
       "      <td>False</td>\n",
       "      <td>C0027651</td>\n",
       "      <td>Neoplasm</td>\n",
       "      <td>neop</td>\n",
       "      <td>True</td>\n",
       "      <td>5188</td>\n",
       "    </tr>\n",
       "    <tr>\n",
       "      <th>103268351</th>\n",
       "      <td>C0087111</td>\n",
       "      <td>Therapeutic procedure</td>\n",
       "      <td>topp</td>\n",
       "      <td>TREATS</td>\n",
       "      <td>False</td>\n",
       "      <td>C0027651</td>\n",
       "      <td>Neoplasms</td>\n",
       "      <td>neop</td>\n",
       "      <td>True</td>\n",
       "      <td>5188</td>\n",
       "    </tr>\n",
       "    <tr>\n",
       "      <th>22756</th>\n",
       "      <td>C0012155</td>\n",
       "      <td>Diet</td>\n",
       "      <td>food</td>\n",
       "      <td>CAUSES</td>\n",
       "      <td>True</td>\n",
       "      <td>C0028754</td>\n",
       "      <td>Obesity</td>\n",
       "      <td>dsyn</td>\n",
       "      <td>True</td>\n",
       "      <td>5142</td>\n",
       "    </tr>\n",
       "    <tr>\n",
       "      <th>3292</th>\n",
       "      <td>C0013216</td>\n",
       "      <td>Pharmacotherapy</td>\n",
       "      <td>topp</td>\n",
       "      <td>TREATS</td>\n",
       "      <td>True</td>\n",
       "      <td>C0006142</td>\n",
       "      <td>Malignant neoplasm of breast</td>\n",
       "      <td>neop</td>\n",
       "      <td>True</td>\n",
       "      <td>4797</td>\n",
       "    </tr>\n",
       "  </tbody>\n",
       "</table>\n",
       "</div>"
      ],
      "text/plain": [
       "          SUBJECT_CUI                   SUBJECT_NAME SUBJECT_SEMTYPE  \\\n",
       "33506        C0087111          Therapeutic procedure            topp   \n",
       "52844        C0087111          Therapeutic procedure            topp   \n",
       "7860         C0087111          Therapeutic procedure            topp   \n",
       "6059         C0087111          Therapeutic procedure            topp   \n",
       "457          C0087111          Therapeutic procedure            topp   \n",
       "45596        C0543467  Operative Surgical Procedures            topp   \n",
       "18581        C0007222        Cardiovascular Diseases            dsyn   \n",
       "4219         C1273869           Intervention regimes            hlca   \n",
       "37643        C0087111          Therapeutic procedure            topp   \n",
       "7107         C0034618              Radiation therapy            topp   \n",
       "1598         C1101610                      MicroRNAs            bacs   \n",
       "8256         C0087111          Therapeutic procedure            topp   \n",
       "103268351    C0087111          Therapeutic procedure            topp   \n",
       "22756        C0012155                           Diet            food   \n",
       "3292         C0013216                Pharmacotherapy            topp   \n",
       "\n",
       "          PREDICATE  SUBJECT_NOVELTY OBJECT_CUI                   OBJECT_NAME  \\\n",
       "33506        TREATS            False   C0008059                         Child   \n",
       "52844        TREATS            False   C0006826           Malignant Neoplasms   \n",
       "7860         TREATS            False   C0034693             Rattus norvegicus   \n",
       "6059         TREATS            False   C0043210                         Woman   \n",
       "457          TREATS            False   C0026809                           Mus   \n",
       "45596        TREATS             True   C0008059                         Child   \n",
       "18581        CAUSES             True   C0011065             Cessation of life   \n",
       "4219         TREATS            False   C0008059                         Child   \n",
       "37643        TREATS            False   C0006142  Malignant neoplasm of breast   \n",
       "7107         TREATS             True   C0006826           Malignant Neoplasms   \n",
       "1598        AFFECTS             True   C0017262               Gene Expression   \n",
       "8256         TREATS            False   C0027651                      Neoplasm   \n",
       "103268351    TREATS            False   C0027651                     Neoplasms   \n",
       "22756        CAUSES             True   C0028754                       Obesity   \n",
       "3292         TREATS             True   C0006142  Malignant neoplasm of breast   \n",
       "\n",
       "          OBJECT_SEMTYPE  OBJECT_NOVELTY  counts  \n",
       "33506               aggp            True   13941  \n",
       "52844               neop            True    9681  \n",
       "7860                mamm            True    7771  \n",
       "6059                popg            True    7214  \n",
       "457                 mamm            True    6507  \n",
       "45596               aggp            True    6227  \n",
       "18581               orgf            True    6142  \n",
       "4219                humn            True    5568  \n",
       "37643               neop            True    5426  \n",
       "7107                neop            True    5313  \n",
       "1598                genf            True    5294  \n",
       "8256                neop            True    5188  \n",
       "103268351           neop            True    5188  \n",
       "22756               dsyn            True    5142  \n",
       "3292                neop            True    4797  "
      ]
     },
     "execution_count": 13,
     "metadata": {},
     "output_type": "execute_result"
    }
   ],
   "source": [
    "## \"novelty\" look?\n",
    "## partial mini list. Not exhaustive\n",
    "subsetPredicates = {\"AFFECTS\",\"TREATS\",\"PREVENTS\",\"INHIBITS\",\"DISRUPTS\",\"INTERACTS_WITH\",\"PREDISPOSES\",\"PREVENTS\",\n",
    "                    \"CAUSES\",\"STIMULATES\",\"AUGMENTS\",\"PREDISPOSES\",\"PRECEDES\",\n",
    "                    \"NEG_TREATS\",\"NEG_AFFECTS\",\"NEG_PROCESS_OF\",\"NEG_ISA\",\"NEG_ASSOCIATED_WITH\",\"NEG_CAUSES\"} # made into set instead of list\n",
    "\n",
    "\n",
    "if REMOVE_NEG_PREDICATES:\n",
    "    subsetPredicates = [x for x in subsetPredicates if \"NEG\" not in x]\n",
    "\n",
    "# df_kg.loc[df_kg[\"SUBJECT_NOVELTY\"] | df_kg[\"OBJECT_NOVELTY\"]].head(10)\n",
    "df_kg.loc[(df_kg[\"OBJECT_NOVELTY\"]) & (df_kg[\"PREDICATE\"].isin(subsetPredicates))].head(4)\n",
    "\n",
    "# subsetPredicates = dict(subsetPredicates)"
   ]
  },
  {
   "cell_type": "code",
   "execution_count": 14,
   "id": "57036a12-7969-4849-8ffe-9d44de6367e6",
   "metadata": {},
   "outputs": [
    {
     "data": {
      "text/html": [
       "<div>\n",
       "<style scoped>\n",
       "    .dataframe tbody tr th:only-of-type {\n",
       "        vertical-align: middle;\n",
       "    }\n",
       "\n",
       "    .dataframe tbody tr th {\n",
       "        vertical-align: top;\n",
       "    }\n",
       "\n",
       "    .dataframe thead th {\n",
       "        text-align: right;\n",
       "    }\n",
       "</style>\n",
       "<table border=\"1\" class=\"dataframe\">\n",
       "  <thead>\n",
       "    <tr style=\"text-align: right;\">\n",
       "      <th></th>\n",
       "      <th>SUBJECT_CUI</th>\n",
       "      <th>SUBJECT_NAME</th>\n",
       "      <th>SUBJECT_SEMTYPE</th>\n",
       "      <th>PREDICATE</th>\n",
       "      <th>SUBJECT_NOVELTY</th>\n",
       "      <th>OBJECT_CUI</th>\n",
       "      <th>OBJECT_NAME</th>\n",
       "      <th>OBJECT_SEMTYPE</th>\n",
       "      <th>OBJECT_NOVELTY</th>\n",
       "      <th>counts</th>\n",
       "    </tr>\n",
       "  </thead>\n",
       "  <tbody>\n",
       "    <tr>\n",
       "      <th>146365</th>\n",
       "      <td>C0003009</td>\n",
       "      <td>Angiotensin II</td>\n",
       "      <td>phsu</td>\n",
       "      <td>TREATS</td>\n",
       "      <td>True</td>\n",
       "      <td>C0034693</td>\n",
       "      <td>Rattus norvegicus</td>\n",
       "      <td>mamm</td>\n",
       "      <td>True</td>\n",
       "      <td>1185</td>\n",
       "    </tr>\n",
       "    <tr>\n",
       "      <th>905483</th>\n",
       "      <td>C0024432</td>\n",
       "      <td>macrophage</td>\n",
       "      <td>cell</td>\n",
       "      <td>AFFECTS</td>\n",
       "      <td>True</td>\n",
       "      <td>C0043240</td>\n",
       "      <td>Wound Healing</td>\n",
       "      <td>orgf</td>\n",
       "      <td>True</td>\n",
       "      <td>278</td>\n",
       "    </tr>\n",
       "    <tr>\n",
       "      <th>526861</th>\n",
       "      <td>C0011581</td>\n",
       "      <td>Depressive disorder</td>\n",
       "      <td>mobd</td>\n",
       "      <td>AFFECTS</td>\n",
       "      <td>True</td>\n",
       "      <td>C0043210</td>\n",
       "      <td>Woman</td>\n",
       "      <td>humn</td>\n",
       "      <td>True</td>\n",
       "      <td>244</td>\n",
       "    </tr>\n",
       "    <tr>\n",
       "      <th>4219</th>\n",
       "      <td>C1273869</td>\n",
       "      <td>Intervention regimes</td>\n",
       "      <td>hlca</td>\n",
       "      <td>TREATS</td>\n",
       "      <td>False</td>\n",
       "      <td>C0008059</td>\n",
       "      <td>Child</td>\n",
       "      <td>humn</td>\n",
       "      <td>True</td>\n",
       "      <td>5568</td>\n",
       "    </tr>\n",
       "    <tr>\n",
       "      <th>4739680</th>\n",
       "      <td>C0596981</td>\n",
       "      <td>Muscle Cells</td>\n",
       "      <td>cell</td>\n",
       "      <td>INTERACTS_WITH</td>\n",
       "      <td>True</td>\n",
       "      <td>C0021641</td>\n",
       "      <td>Insulin</td>\n",
       "      <td>gngm</td>\n",
       "      <td>True</td>\n",
       "      <td>26</td>\n",
       "    </tr>\n",
       "    <tr>\n",
       "      <th>8874</th>\n",
       "      <td>C0694888|5728</td>\n",
       "      <td>PTEN gene|PTEN</td>\n",
       "      <td>gngm</td>\n",
       "      <td>STIMULATES</td>\n",
       "      <td>True</td>\n",
       "      <td>C0031727</td>\n",
       "      <td>Phosphotransferases</td>\n",
       "      <td>gngm</td>\n",
       "      <td>True</td>\n",
       "      <td>381</td>\n",
       "    </tr>\n",
       "    <tr>\n",
       "      <th>103279797</th>\n",
       "      <td>C0020281</td>\n",
       "      <td>hydrogen peroxide</td>\n",
       "      <td>inch</td>\n",
       "      <td>CAUSES</td>\n",
       "      <td>True</td>\n",
       "      <td>C0242606</td>\n",
       "      <td>Oxidative Stress</td>\n",
       "      <td>comd</td>\n",
       "      <td>True</td>\n",
       "      <td>1636</td>\n",
       "    </tr>\n",
       "    <tr>\n",
       "      <th>246381</th>\n",
       "      <td>C0021246</td>\n",
       "      <td>Indomethacin</td>\n",
       "      <td>phsu</td>\n",
       "      <td>TREATS</td>\n",
       "      <td>True</td>\n",
       "      <td>C0034693</td>\n",
       "      <td>Rattus norvegicus</td>\n",
       "      <td>mamm</td>\n",
       "      <td>True</td>\n",
       "      <td>862</td>\n",
       "    </tr>\n",
       "    <tr>\n",
       "      <th>6267</th>\n",
       "      <td>C0011900</td>\n",
       "      <td>Diagnosis</td>\n",
       "      <td>hlca</td>\n",
       "      <td>TREATS</td>\n",
       "      <td>False</td>\n",
       "      <td>C0008059</td>\n",
       "      <td>Child</td>\n",
       "      <td>humn</td>\n",
       "      <td>True</td>\n",
       "      <td>2978</td>\n",
       "    </tr>\n",
       "    <tr>\n",
       "      <th>96554</th>\n",
       "      <td>C0596473</td>\n",
       "      <td>Early Diagnosis</td>\n",
       "      <td>diap</td>\n",
       "      <td>AFFECTS</td>\n",
       "      <td>True</td>\n",
       "      <td>C0006826</td>\n",
       "      <td>Malignant Neoplasms</td>\n",
       "      <td>neop</td>\n",
       "      <td>True</td>\n",
       "      <td>44</td>\n",
       "    </tr>\n",
       "    <tr>\n",
       "      <th>168180</th>\n",
       "      <td>C0021027</td>\n",
       "      <td>Immunoglobulins</td>\n",
       "      <td>phsu</td>\n",
       "      <td>TREATS</td>\n",
       "      <td>True</td>\n",
       "      <td>C0008059</td>\n",
       "      <td>Child</td>\n",
       "      <td>aggp</td>\n",
       "      <td>True</td>\n",
       "      <td>376</td>\n",
       "    </tr>\n",
       "  </tbody>\n",
       "</table>\n",
       "</div>"
      ],
      "text/plain": [
       "             SUBJECT_CUI          SUBJECT_NAME SUBJECT_SEMTYPE  \\\n",
       "146365          C0003009        Angiotensin II            phsu   \n",
       "905483          C0024432            macrophage            cell   \n",
       "526861          C0011581   Depressive disorder            mobd   \n",
       "4219            C1273869  Intervention regimes            hlca   \n",
       "4739680         C0596981          Muscle Cells            cell   \n",
       "8874       C0694888|5728        PTEN gene|PTEN            gngm   \n",
       "103279797       C0020281     hydrogen peroxide            inch   \n",
       "246381          C0021246          Indomethacin            phsu   \n",
       "6267            C0011900             Diagnosis            hlca   \n",
       "96554           C0596473       Early Diagnosis            diap   \n",
       "168180          C0021027       Immunoglobulins            phsu   \n",
       "\n",
       "                PREDICATE  SUBJECT_NOVELTY OBJECT_CUI          OBJECT_NAME  \\\n",
       "146365             TREATS             True   C0034693    Rattus norvegicus   \n",
       "905483            AFFECTS             True   C0043240        Wound Healing   \n",
       "526861            AFFECTS             True   C0043210                Woman   \n",
       "4219               TREATS            False   C0008059                Child   \n",
       "4739680    INTERACTS_WITH             True   C0021641              Insulin   \n",
       "8874           STIMULATES             True   C0031727  Phosphotransferases   \n",
       "103279797          CAUSES             True   C0242606     Oxidative Stress   \n",
       "246381             TREATS             True   C0034693    Rattus norvegicus   \n",
       "6267               TREATS            False   C0008059                Child   \n",
       "96554             AFFECTS             True   C0006826  Malignant Neoplasms   \n",
       "168180             TREATS             True   C0008059                Child   \n",
       "\n",
       "          OBJECT_SEMTYPE  OBJECT_NOVELTY  counts  \n",
       "146365              mamm            True    1185  \n",
       "905483              orgf            True     278  \n",
       "526861              humn            True     244  \n",
       "4219                humn            True    5568  \n",
       "4739680             gngm            True      26  \n",
       "8874                gngm            True     381  \n",
       "103279797           comd            True    1636  \n",
       "246381              mamm            True     862  \n",
       "6267                humn            True    2978  \n",
       "96554               neop            True      44  \n",
       "168180              aggp            True     376  "
      ]
     },
     "execution_count": 14,
     "metadata": {},
     "output_type": "execute_result"
    }
   ],
   "source": [
    "# df_kg.loc[(df_kg[\"OBJECT_NOVELTY\"]) & (df_kg[\"PREDICATE\"].isin(subsetPredicates))].drop_duplicates(\"SUBJECT_NAME\").sample(11)"
   ]
  },
  {
   "cell_type": "markdown",
   "id": "4a5290b1-5302-40fd-aad5-094651ce435b",
   "metadata": {},
   "source": [
    "* Training - assumption of LCWA\n",
    "* https://pykeen.readthedocs.io/en/stable/reference/training.html#local-closed-world-assumption\n",
    "* hetionet example inc loading ,eval: https://github.com/tomasonjo/blogs/blob/master/pykeen/Hetionet%20-%20RotatE.ipynb\n",
    "\n",
    "* mps -> memory issues/crashes?\n",
    "\n",
    "* Another example pykeen : https://pykeen.readthedocs.io/en/stable/tutorial/first_steps.html\n",
    "* RotatE seems good from lit, on hetionet\n",
    "* pubmedKG for text/sentencetransformer embedding?\n",
    "* GCN https://pykeen.readthedocs.io/en/stable/reference/nn/pyg_message_passing.html"
   ]
  },
  {
   "cell_type": "code",
   "execution_count": 15,
   "id": "d0b6e77f-ddd6-499f-91d2-32f923610110",
   "metadata": {},
   "outputs": [
    {
     "name": "stdout",
     "output_type": "stream",
     "text": [
      "213760\n"
     ]
    }
   ],
   "source": [
    "# print(1e3*(df_kg.shape[0]//1e3))\n",
    "# print('{:.2E}'.format(df_kg.shape[0]))\n",
    "print(df_kg.shape[0])"
   ]
  },
  {
   "cell_type": "code",
   "execution_count": 40,
   "id": "d7c1a456-c9d8-40fc-b97b-30ed409e170d",
   "metadata": {},
   "outputs": [
    {
     "name": "stdout",
     "output_type": "stream",
     "text": [
      "CPU times: user 225 ms, sys: 24.5 ms, total: 249 ms\n",
      "Wall time: 227 ms\n"
     ]
    }
   ],
   "source": [
    "%%time\n",
    "from pykeen.nn import TextRepresentation\n",
    "## https://pykeen.readthedocs.io/en/latest/tutorial/representations.html#text-based\n",
    "\n",
    "### load new data example: https://towardsdatascience.com/knowledge-graph-completion-with-pykeen-and-neo4j-6bca734edf43\n",
    "# .astype(\"category\")\n",
    "tf = TriplesFactory.from_labeled_triples(\n",
    "  df_kg.rename(columns={\"SUBJECT_NAME\":\"source\",\n",
    "                        \"PREDICATE\":\"type\",\n",
    "                        \"OBJECT_NAME\":\"target\"})[[\"source\", \"type\", \"target\"]].values ,\n",
    ")"
   ]
  },
  {
   "cell_type": "code",
   "execution_count": 41,
   "id": "25b3c718-95d5-4481-8945-9dd5048101a4",
   "metadata": {
    "scrolled": true
   },
   "outputs": [
    {
     "name": "stderr",
     "output_type": "stream",
     "text": [
      "WARNING:pykeen.utils:using automatically assigned random_state=4289512057\n",
      "INFO:pykeen.triples.splitting:done splitting triples to groups of sizes [168061, 21120, 21121]\n"
     ]
    }
   ],
   "source": [
    "# training, testing, validation = tf.split([.9, .05, .05])\n",
    "training, testing, validation = tf.split([.8, .1, .1])"
   ]
  },
  {
   "cell_type": "code",
   "execution_count": 42,
   "id": "a0a1d043-3a7c-4af8-a3a2-7b1a33c34e80",
   "metadata": {},
   "outputs": [
    {
     "name": "stderr",
     "output_type": "stream",
     "text": [
      "WARNING:pykeen.utils:No cuda devices were available. The model runs on CPU\n"
     ]
    },
    {
     "data": {
      "application/vnd.jupyter.widget-view+json": {
       "model_id": "",
       "version_major": 2,
       "version_minor": 0
      },
      "text/plain": [
       "0it [00:00, ?it/s]"
      ]
     },
     "metadata": {},
     "output_type": "display_data"
    }
   ],
   "source": [
    "## try new \n",
    "entity_initializer = LabelBasedInitializer.from_triples_factory(\n",
    "    triples_factory=training,\n",
    "    for_entities=True,\n",
    "    encoder=\"transformer\",\n",
    "     # model_kwargs=dict(device=\"mps\") # doesn't work\n",
    ")\n",
    "\n",
    "\n",
    "### https://pykeen.readthedocs.io/en/latest/tutorial/representations.html#text-based"
   ]
  },
  {
   "cell_type": "markdown",
   "id": "03544b55-cc69-4890-9bd5-b8276bc2deb3",
   "metadata": {},
   "source": [
    "* Another text-kg example code inc triples:\n",
    "    * https://gist.github.com/airysen/2b4f8b5dff8cc72b8951d4457228a7bd\n",
    "Example of using LM embeddings in pykeen\n",
    "```\n",
    "\n",
    "from pykeen.training import SLCWATrainingLoop\n",
    "from pykeen.datasets import get_dataset\n",
    "from pykeen.nn.representation import TextRepresentation\n",
    "from pykeen.models import ERModel\n",
    "\n",
    "from pykeen.pipeline import pipeline\n",
    "\n",
    "from torch.optim import Adam\n",
    "\n",
    "\n",
    "dataset = get_dataset(dataset=\"nations\")\n",
    "entity_representations = TextRepresentation.from_triples_factory(\n",
    "    triples_factory=dataset.training,\n",
    "    encoder=\"transformer\",\n",
    "    encoder_kwargs=dict(pretrained_model_name_or_path=\"bert-base-multilingual-uncased\", max_length=512)\n",
    ")\n",
    "\n",
    "\n",
    "model = ERModel(\n",
    "    triples_factory=dataset.training,\n",
    "    interaction=\"ermlpe\",\n",
    "    entity_representations=entity_representations,\n",
    "    relation_representations_kwargs=dict(shape=entity_representations.shape),\n",
    "    interaction_kwargs=dict(embedding_dim=entity_representations.shape[0], input_dropout=0.1, hidden_dim=256, hidden_dropout=0.2),\n",
    "    entity_representations_kwargs=dict(max_length=512),\n",
    "    random_seed=42,\n",
    "    # relation_representations_kwargs=dict(embedding_dim=3, dropout=0.1),\n",
    ")\n",
    "\n",
    "\n",
    "```"
   ]
  },
  {
   "cell_type": "code",
   "execution_count": null,
   "id": "5bec3d9e-2c05-4483-b289-8c9988c0f436",
   "metadata": {},
   "outputs": [],
   "source": []
  },
  {
   "cell_type": "code",
   "execution_count": 45,
   "id": "41d01118-f087-4791-9fc2-19cef0842d1d",
   "metadata": {},
   "outputs": [
    {
     "name": "stderr",
     "output_type": "stream",
     "text": [
      "WARNING:pykeen.utils:No cuda devices were available. The model runs on CPU\n"
     ]
    },
    {
     "data": {
      "application/vnd.jupyter.widget-view+json": {
       "model_id": "",
       "version_major": 2,
       "version_minor": 0
      },
      "text/plain": [
       "0it [00:00, ?it/s]"
      ]
     },
     "metadata": {},
     "output_type": "display_data"
    }
   ],
   "source": [
    "# entity_representations = TextRepresentation.from_dataset(\n",
    "#     dataset=tf,\n",
    "#     encoder=\"transformer\",\n",
    "# )\n",
    "\n",
    "entity_representations = TextRepresentation.from_triples_factory(\n",
    "    triples_factory=tf,\n",
    "    encoder=\"transformer\",\n",
    ")"
   ]
  },
  {
   "cell_type": "code",
   "execution_count": 64,
   "id": "9418c757-fc5b-428e-b8e2-ac07bcbbbb1e",
   "metadata": {
    "scrolled": true
   },
   "outputs": [
    {
     "name": "stderr",
     "output_type": "stream",
     "text": [
      "INFO:pykeen.datasets.utils:Loading cached preprocessed dataset from file:///Users/oferd2/.data/pykeen/datasets/nations/cache/47DEQpj8HBSa-_TImW-5JCeuQeRkm5NM\n",
      "INFO:pykeen.triples.triples_factory:Loading from file:///Users/oferd2/.data/pykeen/datasets/nations/cache/47DEQpj8HBSa-_TImW-5JCeuQeRkm5NM/training\n",
      "INFO:pykeen.triples.triples_factory:Loading from file:///Users/oferd2/.data/pykeen/datasets/nations/cache/47DEQpj8HBSa-_TImW-5JCeuQeRkm5NM/testing\n",
      "INFO:pykeen.triples.triples_factory:Loading from file:///Users/oferd2/.data/pykeen/datasets/nations/cache/47DEQpj8HBSa-_TImW-5JCeuQeRkm5NM/validation\n",
      "WARNING:pykeen.utils:No cuda devices were available. The model runs on CPU\n"
     ]
    },
    {
     "data": {
      "application/vnd.jupyter.widget-view+json": {
       "model_id": "",
       "version_major": 2,
       "version_minor": 0
      },
      "text/plain": [
       "0it [00:00, ?it/s]"
      ]
     },
     "metadata": {},
     "output_type": "display_data"
    },
    {
     "name": "stderr",
     "output_type": "stream",
     "text": [
      "WARNING:pykeen.pipeline.api:No random seed is specified. Setting to 4289512057.\n",
      "WARNING:pykeen.utils:No cuda devices were available. The model runs on CPU\n",
      "INFO:pykeen.pipeline.api:Using device: None\n"
     ]
    },
    {
     "data": {
      "application/vnd.jupyter.widget-view+json": {
       "model_id": "11be01b1296f4384a7fa9667894e6a5d",
       "version_major": 2,
       "version_minor": 0
      },
      "text/plain": [
       "Training epochs on cpu:   0%|          | 0/2 [00:00<?, ?epoch/s]"
      ]
     },
     "metadata": {},
     "output_type": "display_data"
    },
    {
     "name": "stderr",
     "output_type": "stream",
     "text": [
      "INFO:pykeen.training.training_loop:Dropping last (incomplete) batch each epoch (1/6 (16.67%) batches).\n"
     ]
    },
    {
     "data": {
      "application/vnd.jupyter.widget-view+json": {
       "model_id": "",
       "version_major": 2,
       "version_minor": 0
      },
      "text/plain": [
       "Training batches on cpu:   0%|          | 0/6 [00:00<?, ?batch/s]"
      ]
     },
     "metadata": {},
     "output_type": "display_data"
    },
    {
     "data": {
      "application/vnd.jupyter.widget-view+json": {
       "model_id": "",
       "version_major": 2,
       "version_minor": 0
      },
      "text/plain": [
       "Training batches on cpu:   0%|          | 0/6 [00:00<?, ?batch/s]"
      ]
     },
     "metadata": {},
     "output_type": "display_data"
    },
    {
     "data": {
      "application/vnd.jupyter.widget-view+json": {
       "model_id": "139f136c78b8428884fcf1c46af7c8bc",
       "version_major": 2,
       "version_minor": 0
      },
      "text/plain": [
       "Evaluating on cpu:   0%|          | 0.00/201 [00:00<?, ?triple/s]"
      ]
     },
     "metadata": {},
     "output_type": "display_data"
    },
    {
     "name": "stderr",
     "output_type": "stream",
     "text": [
      "WARNING:torch_max_mem.api:Encountered tensors on device_types={'cpu'} while only ['cuda'] are considered safe for automatic memory utilization maximization. This may lead to undocumented crashes (but can be safe, too).\n",
      "INFO:pykeen.evaluation.evaluator:Evaluation took 0.27s seconds\n",
      "/opt/anaconda3/envs/nlp/lib/python3.9/site-packages/seaborn/_oldcore.py:1119: FutureWarning: use_inf_as_na option is deprecated and will be removed in a future version. Convert inf values to NaN before operating instead.\n",
      "  with pd.option_context('mode.use_inf_as_na', True):\n",
      "/opt/anaconda3/envs/nlp/lib/python3.9/site-packages/seaborn/_oldcore.py:1119: FutureWarning: use_inf_as_na option is deprecated and will be removed in a future version. Convert inf values to NaN before operating instead.\n",
      "  with pd.option_context('mode.use_inf_as_na', True):\n"
     ]
    },
    {
     "data": {
      "text/plain": [
       "(<Figure size 1000x400 with 2 Axes>,\n",
       " array([<Axes: title={'center': 'Losses Plot'}, xlabel='Epoch', ylabel='marginranking Loss'>,\n",
       "        <Axes: title={'center': 'Entity Plot using PCA'}>], dtype=object))"
      ]
     },
     "execution_count": 64,
     "metadata": {},
     "output_type": "execute_result"
    },
    {
     "data": {
      "image/png": "[encoded data removed]",
      "text/plain": [
       "<Figure size 1000x400 with 2 Axes>"
      ]
     },
     "metadata": {},
     "output_type": "display_data"
    }
   ],
   "source": [
    "from pykeen.pipeline import pipeline\n",
    "from pykeen.datasets import get_dataset\n",
    "from pykeen.nn import TextRepresentation\n",
    "from pykeen.models import ERModel\n",
    "\n",
    "# dataset = get_dataset(dataset=\"nations\")\n",
    "# entity_representations = TextRepresentation.from_dataset(\n",
    "#     dataset=dataset,\n",
    "#     encoder=\"transformer\",\n",
    "# )\n",
    "# result = pipeline(\n",
    "#     dataset=dataset,\n",
    "#     model=ERModel,\n",
    "#     model_kwargs=dict(\n",
    "#         # interaction= \"TransE\",, # not using ermlpe -> error\n",
    "#         interaction=\"ermlpe\", # not using ermlpe -> error\n",
    "        \n",
    "#         interaction_kwargs=dict(\n",
    "#             embedding_dim=entity_representations.shape[0],\n",
    "#         ),\n",
    "#         entity_representations=entity_representations,\n",
    "#         relation_representations_kwargs=dict(\n",
    "#             shape=entity_representations.shape,\n",
    "#         ),\n",
    "#     ),\n",
    "#     training_kwargs=dict(\n",
    "#         num_epochs=2,\n",
    "#     ),\n",
    "# )\n",
    "# model = result.model\n",
    "# result.plot()"
   ]
  },
  {
   "cell_type": "code",
   "execution_count": 63,
   "id": "a6c0422a-5256-44c8-87a9-f1eedfa13127",
   "metadata": {},
   "outputs": [
    {
     "name": "stderr",
     "output_type": "stream",
     "text": [
      "INFO:pykeen.triples.triples_factory:keeping 11/24 (45.83%) relations.\n",
      "INFO:pykeen.triples.triples_factory:keeping 11914/21120 (56.41%) triples.\n",
      "INFO:pykeen.triples.triples_factory:keeping 11/24 (45.83%) relations.\n",
      "INFO:pykeen.triples.triples_factory:keeping 11733/21121 (55.55%) triples.\n",
      "WARNING:pykeen.utils:No cuda devices were available. The model runs on CPU\n",
      "INFO:pykeen.pipeline.api:Using device: None\n"
     ]
    },
    {
     "ename": "KeywordArgumentError",
     "evalue": "ERModel: __init__() missing 1 required keyword-only argument: 'interaction'",
     "output_type": "error",
     "traceback": [
      "\u001b[0;31m---------------------------------------------------------------------------\u001b[0m",
      "\u001b[0;31mKeywordArgumentError\u001b[0m                      Traceback (most recent call last)",
      "File \u001b[0;32m<timed exec>:5\u001b[0m\n",
      "File \u001b[0;32m/opt/anaconda3/envs/nlp/lib/python3.9/site-packages/pykeen/pipeline/api.py:1505\u001b[0m, in \u001b[0;36mpipeline\u001b[0;34m(dataset, dataset_kwargs, training, testing, validation, evaluation_entity_whitelist, evaluation_relation_whitelist, model, model_kwargs, interaction, interaction_kwargs, dimensions, loss, loss_kwargs, regularizer, regularizer_kwargs, optimizer, optimizer_kwargs, clear_optimizer, lr_scheduler, lr_scheduler_kwargs, training_loop, training_loop_kwargs, negative_sampler, negative_sampler_kwargs, epochs, training_kwargs, stopper, stopper_kwargs, evaluator, evaluator_kwargs, evaluation_kwargs, result_tracker, result_tracker_kwargs, metadata, device, random_seed, use_testing_data, evaluation_fallback, filter_validation_when_testing, use_tqdm)\u001b[0m\n\u001b[1;32m   1492\u001b[0m _result_tracker\u001b[38;5;241m.\u001b[39mstart_run(run_name\u001b[38;5;241m=\u001b[39mtitle)\n\u001b[1;32m   1494\u001b[0m training, testing, validation \u001b[38;5;241m=\u001b[39m _handle_dataset(\n\u001b[1;32m   1495\u001b[0m     _result_tracker\u001b[38;5;241m=\u001b[39m_result_tracker,\n\u001b[1;32m   1496\u001b[0m     dataset\u001b[38;5;241m=\u001b[39mdataset,\n\u001b[0;32m   (...)\u001b[0m\n\u001b[1;32m   1502\u001b[0m     evaluation_relation_whitelist\u001b[38;5;241m=\u001b[39mevaluation_relation_whitelist,\n\u001b[1;32m   1503\u001b[0m )\n\u001b[0;32m-> 1505\u001b[0m model_instance \u001b[38;5;241m=\u001b[39m \u001b[43m_handle_model\u001b[49m\u001b[43m(\u001b[49m\n\u001b[1;32m   1506\u001b[0m \u001b[43m    \u001b[49m\u001b[43mdevice\u001b[49m\u001b[38;5;241;43m=\u001b[39;49m\u001b[43mdevice\u001b[49m\u001b[43m,\u001b[49m\n\u001b[1;32m   1507\u001b[0m \u001b[43m    \u001b[49m\u001b[43m_result_tracker\u001b[49m\u001b[38;5;241;43m=\u001b[39;49m\u001b[43m_result_tracker\u001b[49m\u001b[43m,\u001b[49m\n\u001b[1;32m   1508\u001b[0m \u001b[43m    \u001b[49m\u001b[43m_random_seed\u001b[49m\u001b[38;5;241;43m=\u001b[39;49m\u001b[43m_random_seed\u001b[49m\u001b[43m,\u001b[49m\n\u001b[1;32m   1509\u001b[0m \u001b[43m    \u001b[49m\u001b[43mtraining\u001b[49m\u001b[38;5;241;43m=\u001b[39;49m\u001b[43mtraining\u001b[49m\u001b[43m,\u001b[49m\n\u001b[1;32m   1510\u001b[0m \u001b[43m    \u001b[49m\u001b[43mmodel\u001b[49m\u001b[38;5;241;43m=\u001b[39;49m\u001b[43mmodel\u001b[49m\u001b[43m,\u001b[49m\n\u001b[1;32m   1511\u001b[0m \u001b[43m    \u001b[49m\u001b[43mmodel_kwargs\u001b[49m\u001b[38;5;241;43m=\u001b[39;49m\u001b[43mmodel_kwargs\u001b[49m\u001b[43m,\u001b[49m\n\u001b[1;32m   1512\u001b[0m \u001b[43m    \u001b[49m\u001b[43minteraction\u001b[49m\u001b[38;5;241;43m=\u001b[39;49m\u001b[43minteraction\u001b[49m\u001b[43m,\u001b[49m\n\u001b[1;32m   1513\u001b[0m \u001b[43m    \u001b[49m\u001b[43minteraction_kwargs\u001b[49m\u001b[38;5;241;43m=\u001b[39;49m\u001b[43minteraction_kwargs\u001b[49m\u001b[43m,\u001b[49m\n\u001b[1;32m   1514\u001b[0m \u001b[43m    \u001b[49m\u001b[43mdimensions\u001b[49m\u001b[38;5;241;43m=\u001b[39;49m\u001b[43mdimensions\u001b[49m\u001b[43m,\u001b[49m\n\u001b[1;32m   1515\u001b[0m \u001b[43m    \u001b[49m\u001b[43mloss\u001b[49m\u001b[38;5;241;43m=\u001b[39;49m\u001b[43mloss\u001b[49m\u001b[43m,\u001b[49m\n\u001b[1;32m   1516\u001b[0m \u001b[43m    \u001b[49m\u001b[43mloss_kwargs\u001b[49m\u001b[38;5;241;43m=\u001b[39;49m\u001b[43mloss_kwargs\u001b[49m\u001b[43m,\u001b[49m\n\u001b[1;32m   1517\u001b[0m \u001b[43m    \u001b[49m\u001b[43mregularizer\u001b[49m\u001b[38;5;241;43m=\u001b[39;49m\u001b[43mregularizer\u001b[49m\u001b[43m,\u001b[49m\n\u001b[1;32m   1518\u001b[0m \u001b[43m    \u001b[49m\u001b[43mregularizer_kwargs\u001b[49m\u001b[38;5;241;43m=\u001b[39;49m\u001b[43mregularizer_kwargs\u001b[49m\u001b[43m,\u001b[49m\n\u001b[1;32m   1519\u001b[0m \u001b[43m\u001b[49m\u001b[43m)\u001b[49m\n\u001b[1;32m   1521\u001b[0m training_loop_instance \u001b[38;5;241m=\u001b[39m _handle_training_loop(\n\u001b[1;32m   1522\u001b[0m     _result_tracker\u001b[38;5;241m=\u001b[39m_result_tracker,\n\u001b[1;32m   1523\u001b[0m     model_instance\u001b[38;5;241m=\u001b[39mmodel_instance,\n\u001b[0;32m   (...)\u001b[0m\n\u001b[1;32m   1532\u001b[0m     negative_sampler_kwargs\u001b[38;5;241m=\u001b[39mnegative_sampler_kwargs,\n\u001b[1;32m   1533\u001b[0m )\n\u001b[1;32m   1535\u001b[0m evaluator_instance, evaluation_kwargs \u001b[38;5;241m=\u001b[39m _handle_evaluator(\n\u001b[1;32m   1536\u001b[0m     _result_tracker\u001b[38;5;241m=\u001b[39m_result_tracker,\n\u001b[1;32m   1537\u001b[0m     evaluator\u001b[38;5;241m=\u001b[39mevaluator,\n\u001b[1;32m   1538\u001b[0m     evaluator_kwargs\u001b[38;5;241m=\u001b[39mevaluator_kwargs,\n\u001b[1;32m   1539\u001b[0m     evaluation_kwargs\u001b[38;5;241m=\u001b[39mevaluation_kwargs,\n\u001b[1;32m   1540\u001b[0m )\n",
      "File \u001b[0;32m/opt/anaconda3/envs/nlp/lib/python3.9/site-packages/pykeen/pipeline/api.py:979\u001b[0m, in \u001b[0;36m_handle_model\u001b[0;34m(device, _result_tracker, _random_seed, training, model, model_kwargs, interaction, interaction_kwargs, dimensions, loss, loss_kwargs, regularizer, regularizer_kwargs)\u001b[0m\n\u001b[1;32m    975\u001b[0m     model_instance \u001b[38;5;241m=\u001b[39m cast(Model, model)\n\u001b[1;32m    976\u001b[0m     \u001b[38;5;66;03m# TODO should training be reset?\u001b[39;00m\n\u001b[1;32m    977\u001b[0m     \u001b[38;5;66;03m# TODO should kwargs for loss and regularizer be checked and raised for?\u001b[39;00m\n\u001b[1;32m    978\u001b[0m \u001b[38;5;28;01melse\u001b[39;00m:\n\u001b[0;32m--> 979\u001b[0m     model_instance, model_kwargs \u001b[38;5;241m=\u001b[39m \u001b[43m_build_model_helper\u001b[49m\u001b[43m(\u001b[49m\n\u001b[1;32m    980\u001b[0m \u001b[43m        \u001b[49m\u001b[43mmodel\u001b[49m\u001b[38;5;241;43m=\u001b[39;49m\u001b[43mmodel\u001b[49m\u001b[43m,\u001b[49m\n\u001b[1;32m    981\u001b[0m \u001b[43m        \u001b[49m\u001b[43mmodel_kwargs\u001b[49m\u001b[38;5;241;43m=\u001b[39;49m\u001b[43mmodel_kwargs\u001b[49m\u001b[43m,\u001b[49m\n\u001b[1;32m    982\u001b[0m \u001b[43m        \u001b[49m\u001b[43mloss\u001b[49m\u001b[38;5;241;43m=\u001b[39;49m\u001b[43mloss\u001b[49m\u001b[43m,\u001b[49m\n\u001b[1;32m    983\u001b[0m \u001b[43m        \u001b[49m\u001b[43mloss_kwargs\u001b[49m\u001b[38;5;241;43m=\u001b[39;49m\u001b[43mloss_kwargs\u001b[49m\u001b[43m,\u001b[49m\n\u001b[1;32m    984\u001b[0m \u001b[43m        \u001b[49m\u001b[43mregularizer\u001b[49m\u001b[38;5;241;43m=\u001b[39;49m\u001b[43mregularizer\u001b[49m\u001b[43m,\u001b[49m\n\u001b[1;32m    985\u001b[0m \u001b[43m        \u001b[49m\u001b[43mregularizer_kwargs\u001b[49m\u001b[38;5;241;43m=\u001b[39;49m\u001b[43mregularizer_kwargs\u001b[49m\u001b[43m,\u001b[49m\n\u001b[1;32m    986\u001b[0m \u001b[43m        \u001b[49m\u001b[43m_device\u001b[49m\u001b[38;5;241;43m=\u001b[39;49m\u001b[43m_device\u001b[49m\u001b[43m,\u001b[49m\n\u001b[1;32m    987\u001b[0m \u001b[43m        \u001b[49m\u001b[43m_random_seed\u001b[49m\u001b[38;5;241;43m=\u001b[39;49m\u001b[43m_random_seed\u001b[49m\u001b[43m,\u001b[49m\n\u001b[1;32m    988\u001b[0m \u001b[43m        \u001b[49m\u001b[43mtraining_triples_factory\u001b[49m\u001b[38;5;241;43m=\u001b[39;49m\u001b[43mtraining\u001b[49m\u001b[43m,\u001b[49m\n\u001b[1;32m    989\u001b[0m \u001b[43m    \u001b[49m\u001b[43m)\u001b[49m\n\u001b[1;32m    991\u001b[0m model_instance \u001b[38;5;241m=\u001b[39m model_instance\u001b[38;5;241m.\u001b[39mto(_device)\n\u001b[1;32m    993\u001b[0m \u001b[38;5;66;03m# Log model parameters\u001b[39;00m\n",
      "File \u001b[0;32m/opt/anaconda3/envs/nlp/lib/python3.9/site-packages/pykeen/pipeline/api.py:846\u001b[0m, in \u001b[0;36m_build_model_helper\u001b[0;34m(model, model_kwargs, loss, loss_kwargs, _device, _random_seed, regularizer, regularizer_kwargs, training_triples_factory)\u001b[0m\n\u001b[1;32m    842\u001b[0m     \u001b[38;5;28;01mfor\u001b[39;00m param_name, param_default \u001b[38;5;129;01min\u001b[39;00m _get_model_defaults(model)\u001b[38;5;241m.\u001b[39mitems():\n\u001b[1;32m    843\u001b[0m         model_kwargs\u001b[38;5;241m.\u001b[39msetdefault(param_name, param_default)\n\u001b[1;32m    845\u001b[0m \u001b[38;5;28;01mreturn\u001b[39;00m (\n\u001b[0;32m--> 846\u001b[0m     \u001b[43mmodel_resolver\u001b[49m\u001b[38;5;241;43m.\u001b[39;49m\u001b[43mmake\u001b[49m\u001b[43m(\u001b[49m\n\u001b[1;32m    847\u001b[0m \u001b[43m        \u001b[49m\u001b[43mmodel\u001b[49m\u001b[43m,\u001b[49m\n\u001b[1;32m    848\u001b[0m \u001b[43m        \u001b[49m\u001b[43mtriples_factory\u001b[49m\u001b[38;5;241;43m=\u001b[39;49m\u001b[43mtraining_triples_factory\u001b[49m\u001b[43m,\u001b[49m\n\u001b[1;32m    849\u001b[0m \u001b[43m        \u001b[49m\u001b[38;5;241;43m*\u001b[39;49m\u001b[38;5;241;43m*\u001b[39;49m\u001b[43mmodel_kwargs\u001b[49m\u001b[43m,\u001b[49m\n\u001b[1;32m    850\u001b[0m \u001b[43m    \u001b[49m\u001b[43m)\u001b[49m,\n\u001b[1;32m    851\u001b[0m     model_kwargs,\n\u001b[1;32m    852\u001b[0m )\n",
      "File \u001b[0;32m/opt/anaconda3/envs/nlp/lib/python3.9/site-packages/class_resolver/api.py:207\u001b[0m, in \u001b[0;36mClassResolver.make\u001b[0;34m(self, query, pos_kwargs, **kwargs)\u001b[0m\n\u001b[1;32m    205\u001b[0m \u001b[38;5;28;01mexcept\u001b[39;00m \u001b[38;5;167;01mTypeError\u001b[39;00m \u001b[38;5;28;01mas\u001b[39;00m e:\n\u001b[1;32m    206\u001b[0m     \u001b[38;5;28;01mif\u001b[39;00m \u001b[38;5;124m\"\u001b[39m\u001b[38;5;124mrequired keyword-only argument\u001b[39m\u001b[38;5;124m\"\u001b[39m \u001b[38;5;129;01min\u001b[39;00m e\u001b[38;5;241m.\u001b[39margs[\u001b[38;5;241m0\u001b[39m]:\n\u001b[0;32m--> 207\u001b[0m         \u001b[38;5;28;01mraise\u001b[39;00m KeywordArgumentError(\u001b[38;5;28mcls\u001b[39m, e\u001b[38;5;241m.\u001b[39margs[\u001b[38;5;241m0\u001b[39m]) \u001b[38;5;28;01mfrom\u001b[39;00m \u001b[38;5;28;01mNone\u001b[39;00m\n\u001b[1;32m    208\u001b[0m     \u001b[38;5;28;01mif\u001b[39;00m \u001b[38;5;28many\u001b[39m(text \u001b[38;5;129;01min\u001b[39;00m e\u001b[38;5;241m.\u001b[39margs[\u001b[38;5;241m0\u001b[39m] \u001b[38;5;28;01mfor\u001b[39;00m text \u001b[38;5;129;01min\u001b[39;00m MISSING_ARGS):\n\u001b[1;32m    209\u001b[0m         \u001b[38;5;28;01mraise\u001b[39;00m UnexpectedKeywordError(\u001b[38;5;28mcls\u001b[39m) \u001b[38;5;28;01mfrom\u001b[39;00m \u001b[38;5;28;01mNone\u001b[39;00m\n",
      "\u001b[0;31mKeywordArgumentError\u001b[0m: ERModel: __init__() missing 1 required keyword-only argument: 'interaction'"
     ]
    }
   ],
   "source": [
    "%%time\n",
    "from pykeen.models import ERModel\n",
    "## memory crash on apple silicon in eval\n",
    "## may have cpu memory leak - when running with more epochs. \n",
    "\n",
    "rot_results = pipeline(\n",
    "    training=training,\n",
    "    testing=testing,\n",
    "    validation=validation,\n",
    "    model=ERModel, #\"TransE\",#\"TransH\", #\"TransR\",#\"TransE\",#\"TransH\", #'RotatE', # aten::complex.out - not supported on mps\n",
    "     # model= \"QuatE\",\n",
    "    # model=\"convKB\", ## To be consistent with the paper, should initialize entity and relation embeddings from TransE.\n",
    "    # model=\"RotatE\",\n",
    "    # model=\"TuckER\",\n",
    "    # epochs=2#35,\n",
    "    epochs=3,\n",
    "    # dimensions= 512,\n",
    "    random_seed=42,\n",
    "    # device='mps', ## apple silicon - crashes OOM ; but works with cpu? depends on size, embed size\n",
    "    # device=\"cpu\", # \"cuda\" # runs stably on cuda\n",
    "    evaluation_fallback = True,\n",
    "    stopper='early', ## may crash? \n",
    "    evaluation_relation_whitelist=subsetPredicates, ## evaluate only on subset of relations\n",
    "    \n",
    "    # # ## try adding for Transformer embed\n",
    "    # model_kwargs=dict(entity_representations_kwargs=dict(\n",
    "    #         # triples_factory=dataset.training,\n",
    "    #         base_kwargs=dict(\n",
    "    #             # shape=embedding_dim,\n",
    "    #             initializer=entity_initializer,\n",
    "    #         ))),\n",
    "\n",
    "    model_kwargs=dict(\n",
    "        # interaction=\"ermlpe\",\n",
    "        # interaction=\"transe\",\n",
    "        interaction_kwargs=dict(\n",
    "            embedding_dim=entity_representations.shape[0],\n",
    "        ),\n",
    "        entity_representations=entity_representations,\n",
    "        relation_representations_kwargs=dict(\n",
    "            shape=entity_representations.shape,\n",
    "        ),\n",
    "        ),\n",
    ")\n",
    "\n",
    "try:\n",
    "    rot_results.plot()\n",
    "except:()\n",
    "\n",
    "## 79/80 [39:19<00:11, 11.65s/epoch, loss=0.0471, prev_loss=0.0475]"
   ]
  },
  {
   "cell_type": "code",
   "execution_count": 69,
   "id": "3597a037-dfd7-4947-956d-26d0d00b2f5f",
   "metadata": {},
   "outputs": [
    {
     "data": {
      "text/plain": [
       "TriplesFactory(num_entities=924, num_relations=24, create_inverse_triples=False, num_triples=21120)"
      ]
     },
     "execution_count": 69,
     "metadata": {},
     "output_type": "execute_result"
    }
   ],
   "source": [
    "testing"
   ]
  },
  {
   "cell_type": "code",
   "execution_count": 73,
   "id": "f898825b-3e45-461f-a24a-7a17b687d86c",
   "metadata": {},
   "outputs": [
    {
     "name": "stderr",
     "output_type": "stream",
     "text": [
      "WARNING:pykeen.utils:No cuda devices were available. The model runs on CPU\n"
     ]
    },
    {
     "data": {
      "application/vnd.jupyter.widget-view+json": {
       "model_id": "",
       "version_major": 2,
       "version_minor": 0
      },
      "text/plain": [
       "0it [00:00, ?it/s]"
      ]
     },
     "metadata": {},
     "output_type": "display_data"
    },
    {
     "name": "stderr",
     "output_type": "stream",
     "text": [
      "WARNING:pykeen.models.base:No random seed is specified. This may lead to non-reproducible results.\n"
     ]
    },
    {
     "ename": "ValueError",
     "evalue": "shape does not match: expected torch.Size([924, 768]) but got torch.Size([24, 768])",
     "output_type": "error",
     "traceback": [
      "\u001b[0;31m---------------------------------------------------------------------------\u001b[0m",
      "\u001b[0;31mValueError\u001b[0m                                Traceback (most recent call last)",
      "Cell \u001b[0;32mIn[73], line 3\u001b[0m\n\u001b[1;32m      1\u001b[0m \u001b[38;5;28;01mfrom\u001b[39;00m \u001b[38;5;21;01mpykeen\u001b[39;00m\u001b[38;5;21;01m.\u001b[39;00m\u001b[38;5;21;01mmodels\u001b[39;00m \u001b[38;5;28;01mimport\u001b[39;00m \u001b[38;5;241m*\u001b[39m\n\u001b[0;32m----> 3\u001b[0m model \u001b[38;5;241m=\u001b[39m \u001b[43mERMLPE\u001b[49m\u001b[43m(\u001b[49m\n\u001b[1;32m      4\u001b[0m \u001b[43m    \u001b[49m\u001b[43mtriples_factory\u001b[49m\u001b[38;5;241;43m=\u001b[39;49m\u001b[43mtf\u001b[49m\u001b[43m,\u001b[49m\u001b[43m \u001b[49m\u001b[38;5;66;43;03m#tf #training, #dataset.training,\u001b[39;49;00m\n\u001b[1;32m      5\u001b[0m \u001b[43m    \u001b[49m\u001b[43membedding_dim\u001b[49m\u001b[38;5;241;43m=\u001b[39;49m\u001b[38;5;241;43m768\u001b[39;49m\u001b[43m,\u001b[49m\u001b[43m  \u001b[49m\u001b[38;5;66;43;03m# for BERT base\u001b[39;49;00m\n\u001b[1;32m      6\u001b[0m \u001b[43m    \u001b[49m\u001b[43mentity_initializer\u001b[49m\u001b[38;5;241;43m=\u001b[39;49m\u001b[43mLabelBasedInitializer\u001b[49m\u001b[38;5;241;43m.\u001b[39;49m\u001b[43mfrom_triples_factory\u001b[49m\u001b[43m(\u001b[49m\n\u001b[1;32m      7\u001b[0m \u001b[43m        \u001b[49m\u001b[43mtriples_factory\u001b[49m\u001b[38;5;241;43m=\u001b[39;49m\u001b[43mtf\u001b[49m\u001b[43m \u001b[49m\u001b[38;5;66;43;03m#tf #training, #dataset.training,\u001b[39;49;00m\n\u001b[1;32m      8\u001b[0m \u001b[43m        \u001b[49m\u001b[43m,\u001b[49m\u001b[43mencoder\u001b[49m\u001b[38;5;241;43m=\u001b[39;49m\u001b[38;5;124;43m\"\u001b[39;49m\u001b[38;5;124;43mtransformer\u001b[39;49m\u001b[38;5;124;43m\"\u001b[39;49m\u001b[43m,\u001b[49m\n\u001b[1;32m      9\u001b[0m \u001b[43m    \u001b[49m\u001b[43m)\u001b[49m\u001b[43m,\u001b[49m\n\u001b[1;32m     10\u001b[0m \u001b[43m)\u001b[49m\n",
      "File \u001b[0;32m/opt/anaconda3/envs/nlp/lib/python3.9/site-packages/pykeen/models/unimodal/ermlpe.py:90\u001b[0m, in \u001b[0;36mERMLPE.__init__\u001b[0;34m(self, embedding_dim, hidden_dim, input_dropout, hidden_dropout, entity_initializer, relation_initializer, **kwargs)\u001b[0m\n\u001b[1;32m     61\u001b[0m \u001b[38;5;28;01mdef\u001b[39;00m \u001b[38;5;21m__init__\u001b[39m(\n\u001b[1;32m     62\u001b[0m     \u001b[38;5;28mself\u001b[39m,\n\u001b[1;32m     63\u001b[0m     \u001b[38;5;241m*\u001b[39m,\n\u001b[0;32m   (...)\u001b[0m\n\u001b[1;32m     70\u001b[0m     \u001b[38;5;241m*\u001b[39m\u001b[38;5;241m*\u001b[39mkwargs,\n\u001b[1;32m     71\u001b[0m ) \u001b[38;5;241m-\u001b[39m\u001b[38;5;241m>\u001b[39m \u001b[38;5;28;01mNone\u001b[39;00m:\n\u001b[1;32m     72\u001b[0m \u001b[38;5;250m    \u001b[39m\u001b[38;5;124;03m\"\"\"\u001b[39;00m\n\u001b[1;32m     73\u001b[0m \u001b[38;5;124;03m    Initialize the model.\u001b[39;00m\n\u001b[1;32m     74\u001b[0m \n\u001b[0;32m   (...)\u001b[0m\n\u001b[1;32m     88\u001b[0m \u001b[38;5;124;03m        additional keyword-based parameters passed to :meth:`ERModel.__init__`\u001b[39;00m\n\u001b[1;32m     89\u001b[0m \u001b[38;5;124;03m    \"\"\"\u001b[39;00m\n\u001b[0;32m---> 90\u001b[0m     \u001b[38;5;28;43msuper\u001b[39;49m\u001b[43m(\u001b[49m\u001b[43m)\u001b[49m\u001b[38;5;241;43m.\u001b[39;49m\u001b[38;5;21;43m__init__\u001b[39;49m\u001b[43m(\u001b[49m\n\u001b[1;32m     91\u001b[0m \u001b[43m        \u001b[49m\u001b[43minteraction\u001b[49m\u001b[38;5;241;43m=\u001b[39;49m\u001b[43mERMLPEInteraction\u001b[49m\u001b[43m,\u001b[49m\n\u001b[1;32m     92\u001b[0m \u001b[43m        \u001b[49m\u001b[43minteraction_kwargs\u001b[49m\u001b[38;5;241;43m=\u001b[39;49m\u001b[38;5;28;43mdict\u001b[39;49m\u001b[43m(\u001b[49m\n\u001b[1;32m     93\u001b[0m \u001b[43m            \u001b[49m\u001b[43membedding_dim\u001b[49m\u001b[38;5;241;43m=\u001b[39;49m\u001b[43membedding_dim\u001b[49m\u001b[43m,\u001b[49m\n\u001b[1;32m     94\u001b[0m \u001b[43m            \u001b[49m\u001b[43mhidden_dim\u001b[49m\u001b[38;5;241;43m=\u001b[39;49m\u001b[43mhidden_dim\u001b[49m\u001b[43m,\u001b[49m\n\u001b[1;32m     95\u001b[0m \u001b[43m            \u001b[49m\u001b[43minput_dropout\u001b[49m\u001b[38;5;241;43m=\u001b[39;49m\u001b[43minput_dropout\u001b[49m\u001b[43m,\u001b[49m\n\u001b[1;32m     96\u001b[0m \u001b[43m            \u001b[49m\u001b[43mhidden_dropout\u001b[49m\u001b[38;5;241;43m=\u001b[39;49m\u001b[43mhidden_dropout\u001b[49m\u001b[43m,\u001b[49m\n\u001b[1;32m     97\u001b[0m \u001b[43m        \u001b[49m\u001b[43m)\u001b[49m\u001b[43m,\u001b[49m\n\u001b[1;32m     98\u001b[0m \u001b[43m        \u001b[49m\u001b[43mentity_representations_kwargs\u001b[49m\u001b[38;5;241;43m=\u001b[39;49m\u001b[38;5;28;43mdict\u001b[39;49m\u001b[43m(\u001b[49m\n\u001b[1;32m     99\u001b[0m \u001b[43m            \u001b[49m\u001b[43mshape\u001b[49m\u001b[38;5;241;43m=\u001b[39;49m\u001b[43membedding_dim\u001b[49m\u001b[43m,\u001b[49m\n\u001b[1;32m    100\u001b[0m \u001b[43m            \u001b[49m\u001b[43minitializer\u001b[49m\u001b[38;5;241;43m=\u001b[39;49m\u001b[43mentity_initializer\u001b[49m\u001b[43m,\u001b[49m\n\u001b[1;32m    101\u001b[0m \u001b[43m        \u001b[49m\u001b[43m)\u001b[49m\u001b[43m,\u001b[49m\n\u001b[1;32m    102\u001b[0m \u001b[43m        \u001b[49m\u001b[43mrelation_representations_kwargs\u001b[49m\u001b[38;5;241;43m=\u001b[39;49m\u001b[38;5;28;43mdict\u001b[39;49m\u001b[43m(\u001b[49m\n\u001b[1;32m    103\u001b[0m \u001b[43m            \u001b[49m\u001b[43mshape\u001b[49m\u001b[38;5;241;43m=\u001b[39;49m\u001b[43membedding_dim\u001b[49m\u001b[43m,\u001b[49m\n\u001b[1;32m    104\u001b[0m \u001b[43m            \u001b[49m\u001b[43minitializer\u001b[49m\u001b[38;5;241;43m=\u001b[39;49m\u001b[43mrelation_initializer\u001b[49m\u001b[43m \u001b[49m\u001b[38;5;129;43;01mor\u001b[39;49;00m\u001b[43m \u001b[49m\u001b[43mentity_initializer\u001b[49m\u001b[43m,\u001b[49m\n\u001b[1;32m    105\u001b[0m \u001b[43m        \u001b[49m\u001b[43m)\u001b[49m\u001b[43m,\u001b[49m\n\u001b[1;32m    106\u001b[0m \u001b[43m        \u001b[49m\u001b[38;5;241;43m*\u001b[39;49m\u001b[38;5;241;43m*\u001b[39;49m\u001b[43mkwargs\u001b[49m\u001b[43m,\u001b[49m\n\u001b[1;32m    107\u001b[0m \u001b[43m    \u001b[49m\u001b[43m)\u001b[49m\n",
      "File \u001b[0;32m/opt/anaconda3/envs/nlp/lib/python3.9/site-packages/pykeen/models/nbase.py:349\u001b[0m, in \u001b[0;36mERModel.__init__\u001b[0;34m(self, triples_factory, interaction, interaction_kwargs, entity_representations, entity_representations_kwargs, relation_representations, relation_representations_kwargs, skip_checks, **kwargs)\u001b[0m\n\u001b[1;32m    347\u001b[0m \u001b[38;5;28mself\u001b[39m\u001b[38;5;241m.\u001b[39mweight_regularizers \u001b[38;5;241m=\u001b[39m nn\u001b[38;5;241m.\u001b[39mModuleList()\n\u001b[1;32m    348\u001b[0m \u001b[38;5;66;03m# Explicitly call reset_parameters to trigger initialization\u001b[39;00m\n\u001b[0;32m--> 349\u001b[0m \u001b[38;5;28;43mself\u001b[39;49m\u001b[38;5;241;43m.\u001b[39;49m\u001b[43mreset_parameters_\u001b[49m\u001b[43m(\u001b[49m\u001b[43m)\u001b[49m\n",
      "File \u001b[0;32m/opt/anaconda3/envs/nlp/lib/python3.9/site-packages/pykeen/models/base.py:146\u001b[0m, in \u001b[0;36mModel.reset_parameters_\u001b[0;34m(self)\u001b[0m\n\u001b[1;32m    144\u001b[0m \u001b[38;5;28;01mdef\u001b[39;00m \u001b[38;5;21mreset_parameters_\u001b[39m(\u001b[38;5;28mself\u001b[39m):  \u001b[38;5;66;03m# noqa: D401\u001b[39;00m\n\u001b[1;32m    145\u001b[0m \u001b[38;5;250m    \u001b[39m\u001b[38;5;124;03m\"\"\"Reset all parameters of the model and enforce model constraints.\"\"\"\u001b[39;00m\n\u001b[0;32m--> 146\u001b[0m     \u001b[38;5;28;43mself\u001b[39;49m\u001b[38;5;241;43m.\u001b[39;49m\u001b[43m_reset_parameters_\u001b[49m\u001b[43m(\u001b[49m\u001b[43m)\u001b[49m\n\u001b[1;32m    147\u001b[0m     \u001b[38;5;66;03m# TODO: why do we need to empty the cache?\u001b[39;00m\n\u001b[1;32m    148\u001b[0m     torch\u001b[38;5;241m.\u001b[39mcuda\u001b[38;5;241m.\u001b[39mempty_cache()\n",
      "File \u001b[0;32m/opt/anaconda3/envs/nlp/lib/python3.9/site-packages/pykeen/models/nbase.py:100\u001b[0m, in \u001b[0;36m_NewAbstractModel._reset_parameters_\u001b[0;34m(self)\u001b[0m\n\u001b[1;32m     97\u001b[0m \u001b[38;5;66;03m# initialize from bottom to top\u001b[39;00m\n\u001b[1;32m     98\u001b[0m \u001b[38;5;66;03m# This ensures that specialized initializations will take priority over the default ones of its components.\u001b[39;00m\n\u001b[1;32m     99\u001b[0m \u001b[38;5;28;01mfor\u001b[39;00m module \u001b[38;5;129;01min\u001b[39;00m \u001b[38;5;28mmap\u001b[39m(itemgetter(\u001b[38;5;241m1\u001b[39m), \u001b[38;5;28msorted\u001b[39m(task_list, reverse\u001b[38;5;241m=\u001b[39m\u001b[38;5;28;01mTrue\u001b[39;00m, key\u001b[38;5;241m=\u001b[39mitemgetter(\u001b[38;5;241m0\u001b[39m))):\n\u001b[0;32m--> 100\u001b[0m     \u001b[43mmodule\u001b[49m\u001b[38;5;241;43m.\u001b[39;49m\u001b[43mreset_parameters\u001b[49m\u001b[43m(\u001b[49m\u001b[43m)\u001b[49m\n\u001b[1;32m    101\u001b[0m     uninitialized_parameters\u001b[38;5;241m.\u001b[39mdifference_update(\u001b[38;5;28mmap\u001b[39m(\u001b[38;5;28mid\u001b[39m, module\u001b[38;5;241m.\u001b[39mparameters()))\n\u001b[1;32m    103\u001b[0m \u001b[38;5;66;03m# emit warning if there where parameters which were not initialised by reset_parameters.\u001b[39;00m\n",
      "File \u001b[0;32m/opt/anaconda3/envs/nlp/lib/python3.9/site-packages/pykeen/nn/representation.py:411\u001b[0m, in \u001b[0;36mEmbedding.reset_parameters\u001b[0;34m(self)\u001b[0m\n\u001b[1;32m    409\u001b[0m \u001b[38;5;28;01mdef\u001b[39;00m \u001b[38;5;21mreset_parameters\u001b[39m(\u001b[38;5;28mself\u001b[39m) \u001b[38;5;241m-\u001b[39m\u001b[38;5;241m>\u001b[39m \u001b[38;5;28;01mNone\u001b[39;00m:  \u001b[38;5;66;03m# noqa: D102\u001b[39;00m\n\u001b[1;32m    410\u001b[0m     \u001b[38;5;66;03m# initialize weights in-place\u001b[39;00m\n\u001b[0;32m--> 411\u001b[0m     \u001b[38;5;28mself\u001b[39m\u001b[38;5;241m.\u001b[39m_embeddings\u001b[38;5;241m.\u001b[39mweight\u001b[38;5;241m.\u001b[39mdata \u001b[38;5;241m=\u001b[39m \u001b[38;5;28;43mself\u001b[39;49m\u001b[38;5;241;43m.\u001b[39;49m\u001b[43minitializer\u001b[49m\u001b[43m(\u001b[49m\n\u001b[1;32m    412\u001b[0m \u001b[43m        \u001b[49m\u001b[38;5;28;43mself\u001b[39;49m\u001b[38;5;241;43m.\u001b[39;49m\u001b[43m_embeddings\u001b[49m\u001b[38;5;241;43m.\u001b[39;49m\u001b[43mweight\u001b[49m\u001b[38;5;241;43m.\u001b[39;49m\u001b[43mdata\u001b[49m\u001b[38;5;241;43m.\u001b[39;49m\u001b[43mview\u001b[49m\u001b[43m(\u001b[49m\u001b[38;5;28;43mself\u001b[39;49m\u001b[38;5;241;43m.\u001b[39;49m\u001b[43mmax_id\u001b[49m\u001b[43m,\u001b[49m\u001b[43m \u001b[49m\u001b[38;5;241;43m*\u001b[39;49m\u001b[38;5;28;43mself\u001b[39;49m\u001b[38;5;241;43m.\u001b[39;49m\u001b[43m_shape\u001b[49m\u001b[43m)\u001b[49m\u001b[43m,\u001b[49m\n\u001b[1;32m    413\u001b[0m \u001b[43m    \u001b[49m\u001b[43m)\u001b[49m\u001b[38;5;241m.\u001b[39mview(\u001b[38;5;241m*\u001b[39m\u001b[38;5;28mself\u001b[39m\u001b[38;5;241m.\u001b[39m_embeddings\u001b[38;5;241m.\u001b[39mweight\u001b[38;5;241m.\u001b[39mdata\u001b[38;5;241m.\u001b[39mshape)\n",
      "File \u001b[0;32m/opt/anaconda3/envs/nlp/lib/python3.9/site-packages/pykeen/nn/init.py:240\u001b[0m, in \u001b[0;36mPretrainedInitializer.__call__\u001b[0;34m(self, x)\u001b[0m\n\u001b[1;32m    238\u001b[0m \u001b[38;5;250m\u001b[39m\u001b[38;5;124;03m\"\"\"Initialize the tensor with the given tensor.\"\"\"\u001b[39;00m\n\u001b[1;32m    239\u001b[0m \u001b[38;5;28;01mif\u001b[39;00m x\u001b[38;5;241m.\u001b[39mshape \u001b[38;5;241m!=\u001b[39m \u001b[38;5;28mself\u001b[39m\u001b[38;5;241m.\u001b[39mtensor\u001b[38;5;241m.\u001b[39mshape:\n\u001b[0;32m--> 240\u001b[0m     \u001b[38;5;28;01mraise\u001b[39;00m \u001b[38;5;167;01mValueError\u001b[39;00m(\u001b[38;5;124mf\u001b[39m\u001b[38;5;124m\"\u001b[39m\u001b[38;5;124mshape does not match: expected \u001b[39m\u001b[38;5;132;01m{\u001b[39;00m\u001b[38;5;28mself\u001b[39m\u001b[38;5;241m.\u001b[39mtensor\u001b[38;5;241m.\u001b[39mshape\u001b[38;5;132;01m}\u001b[39;00m\u001b[38;5;124m but got \u001b[39m\u001b[38;5;132;01m{\u001b[39;00mx\u001b[38;5;241m.\u001b[39mshape\u001b[38;5;132;01m}\u001b[39;00m\u001b[38;5;124m\"\u001b[39m)\n\u001b[1;32m    241\u001b[0m \u001b[38;5;28;01mreturn\u001b[39;00m \u001b[38;5;28mself\u001b[39m\u001b[38;5;241m.\u001b[39mtensor\u001b[38;5;241m.\u001b[39mto(device\u001b[38;5;241m=\u001b[39mx\u001b[38;5;241m.\u001b[39mdevice, dtype\u001b[38;5;241m=\u001b[39mx\u001b[38;5;241m.\u001b[39mdtype)\n",
      "\u001b[0;31mValueError\u001b[0m: shape does not match: expected torch.Size([924, 768]) but got torch.Size([24, 768])"
     ]
    }
   ],
   "source": [
    "# from pykeen.models import *\n",
    "# ## not working\n",
    "# model = ERMLPE(\n",
    "#     triples_factory=tf, #I added - try\n",
    "#     embedding_dim=768,  # for BERT base\n",
    "#     entity_initializer=LabelBasedInitializer.from_triples_factory(\n",
    "#         triples_factory=tf #tf #training, #dataset.training,\n",
    "#         ,encoder=\"transformer\",\n",
    "#     ),\n",
    "# )"
   ]
  },
  {
   "cell_type": "code",
   "execution_count": 20,
   "id": "9adc591d-6c2a-4c56-a9be-32e1cd3d8ff1",
   "metadata": {},
   "outputs": [],
   "source": [
    "# results = rot_results"
   ]
  },
  {
   "cell_type": "code",
   "execution_count": 21,
   "id": "2c2d1fc5-5a88-44a5-86d3-14c697252d08",
   "metadata": {},
   "outputs": [],
   "source": [
    "# %%time\n",
    "# results = pipeline(\n",
    "#     training=training,\n",
    "#     testing=testing,\n",
    "#     validation=validation,\n",
    "#     model=\"TuckER\",\n",
    "#     epochs= 2#80\n",
    "#     ,dimensions= 320,\n",
    "#     random_seed=42,\n",
    "#     device='mps', ## apple silicon - crashes OOM ; but works with cpu? depends on size, embed size\n",
    "#     # device=\"cpu\", # \"cuda\" # runs stably on cuda\n",
    "#     evaluation_fallback = True,\n",
    "#     stopper='early', ## may crash? \n",
    "\n",
    "#     evaluation_relation_whitelist=subsetPredicates ## evaluate only on subset of relations\n",
    "#     # ,training_kwargs=dict(\n",
    "#     #     checkpoint_on_failure=True,\n",
    "#     #     checkpoint_name='my_checkpoint.pt',\n",
    "#     #     checkpoint_frequency=10,\n",
    "#     # ),\n",
    "# )\n",
    "\n",
    "# try:\n",
    "#     results.plot()\n",
    "# except:()\n",
    "#     ## \n",
    "# # 29/80 [24:06<21:44, 25.57s/epoch, loss=0.00466, prev_loss=0.00503]"
   ]
  },
  {
   "cell_type": "code",
   "execution_count": 22,
   "id": "fd6eee2e-1445-4252-8eb2-cf58e5bd2b3b",
   "metadata": {},
   "outputs": [],
   "source": [
    "# results.save_to_directory('./saved/')\n",
    "# model = torch.load('./saved/trained_model.pkl')"
   ]
  },
  {
   "cell_type": "code",
   "execution_count": 23,
   "id": "6a5273df-bbc2-4ef7-a1d8-82debbf53dc2",
   "metadata": {},
   "outputs": [],
   "source": [
    "# results"
   ]
  },
  {
   "cell_type": "code",
   "execution_count": 24,
   "id": "f8b4eab1-0325-40ac-86b7-05b7c16f3187",
   "metadata": {},
   "outputs": [],
   "source": [
    "# conv_results = pipeline(\n",
    "#     training=training,\n",
    "#     testing=testing,\n",
    "#     validation=validation,\n",
    "#     model=\"convKB\",\n",
    "#     epochs=40,\n",
    "#     dimensions=300, #512,\n",
    "#     random_seed=42,\n",
    "#     evaluation_fallback = True,\n",
    "#     stopper='early', ## may crash? \n",
    "#     evaluation_relation_whitelist=subsetPredicates ## evaluate only on subset of relations\n",
    "# )\n",
    "\n",
    "# try:\n",
    "#     conv_results.plot()\n",
    "# except:()\n",
    "#     ## errorrrrr"
   ]
  },
  {
   "cell_type": "code",
   "execution_count": 25,
   "id": "7e71f6c3-2b97-4b49-8303-7020784a355f",
   "metadata": {},
   "outputs": [],
   "source": [
    "# gcn_results = pipeline(\n",
    "#     training=training,\n",
    "#     testing=testing,\n",
    "#     validation=validation,\n",
    "#     model= \"AutoSF\" #\"CompGCN\",\n",
    "#     ,epochs=70,\n",
    "#     dimensions= 300,\n",
    "#     random_seed=42,\n",
    "#     evaluation_fallback = True,\n",
    "#     stopper='early', ## may crash? \n",
    "#     evaluation_relation_whitelist=subsetPredicates ## evaluate only on subset of relations\n",
    "# )\n",
    "# try:\n",
    "#     gcn_results.plot()\n",
    "# except:() # loss=0.0924, prev_loss=0.0923] - autosf , 40 epochs. didn't saturate"
   ]
  },
  {
   "cell_type": "code",
   "execution_count": 26,
   "id": "e5d20dfb-dd0e-4dcc-8865-326b1244a91a",
   "metadata": {},
   "outputs": [],
   "source": [
    "# results =gcn_results"
   ]
  },
  {
   "cell_type": "markdown",
   "id": "55ae1b53-66e8-46cc-9e07-ddbdd707faa1",
   "metadata": {},
   "source": [
    "` 'training_loop_kwargs': {}, 'evaluator': 'RankBasedEvaluator', 'evaluator_kwargs': {},  'batch_size': 256, `"
   ]
  },
  {
   "cell_type": "code",
   "execution_count": 27,
   "id": "1bd07538-6d38-47e8-afa6-a8e7cc1eeb22",
   "metadata": {},
   "outputs": [
    {
     "ename": "NameError",
     "evalue": "name 'results' is not defined",
     "output_type": "error",
     "traceback": [
      "\u001b[0;31m---------------------------------------------------------------------------\u001b[0m",
      "\u001b[0;31mNameError\u001b[0m                                 Traceback (most recent call last)",
      "Cell \u001b[0;32mIn[27], line 1\u001b[0m\n\u001b[0;32m----> 1\u001b[0m \u001b[43mresults\u001b[49m\u001b[38;5;241m.\u001b[39mmodel\n",
      "\u001b[0;31mNameError\u001b[0m: name 'results' is not defined"
     ]
    }
   ],
   "source": [
    "results.model"
   ]
  },
  {
   "cell_type": "markdown",
   "id": "a36cdc04-556e-479f-98ea-f8292481fd93",
   "metadata": {},
   "source": [
    "### Scoring/try - link prediction\n",
    "* https://pykeen.readthedocs.io/en/v1.10.2/api/pykeen.predict.predict_target.html#pykeen.predict.predict_target"
   ]
  },
  {
   "cell_type": "code",
   "execution_count": null,
   "id": "01ec2151-0c55-424a-aa12-a01db43385e7",
   "metadata": {},
   "outputs": [],
   "source": [
    "query = \"Multiple Sclerosis\"#\"Termination of pregnancy\" #\"Pregnancy\" #\"Diet\"\n",
    "df_kg.loc[(df_kg['SUBJECT_NAME']==query)|(df_kg['OBJECT_NAME']==query)].drop_duplicates()"
   ]
  },
  {
   "cell_type": "code",
   "execution_count": null,
   "id": "29cc6e47-285b-467e-b935-0f815e046065",
   "metadata": {},
   "outputs": [],
   "source": [
    "# df = get_tail_prediction_df(\n",
    "#     model=result.model,\n",
    "#     head_label=\"belgium\",\n",
    "#     relation_label=\"locatedin\",\n",
    "#     triples_factory=result.training,\n",
    "#     add_novelties=False,\n",
    "# )\n",
    "\n",
    "df_preds_res = predict_target(model=results.model,\n",
    "    head=query,\n",
    "    relation=\"AFFECTS\",\n",
    "    # triples_factory=results.testing,\n",
    "               triples_factory=tf\n",
    "    ).df\n",
    "\n",
    "df_preds_res"
   ]
  },
  {
   "cell_type": "code",
   "execution_count": null,
   "id": "f180b426-8604-4abd-89dc-31abdddc0d63",
   "metadata": {},
   "outputs": [],
   "source": [
    "df_diet_known = df_kg.loc[(df_kg['SUBJECT_NAME']==\"Diet\")&(df_kg['PREDICATE']==\"AFFECTS\")].drop_duplicates()\n",
    "df_diet_known"
   ]
  },
  {
   "cell_type": "code",
   "execution_count": null,
   "id": "3eed7b6b-2090-4433-b806-d1bceff44856",
   "metadata": {},
   "outputs": [],
   "source": [
    "## known preds\n",
    "print(\"Cases in known\",df_preds_res.loc[df_preds_res[\"tail_label\"].isin(df_diet_known[\"OBJECT_NAME\"])].shape[0])\n",
    "min_score_real = df_preds_res.loc[df_preds_res[\"tail_label\"].isin(df_diet_known[\"OBJECT_NAME\"])][\"score\"].min()\n",
    "print(\"lowest scored of real known cases\",min_score_real)"
   ]
  },
  {
   "cell_type": "code",
   "execution_count": null,
   "id": "cb70ea33-8568-4a31-92a5-8d61959eec6f",
   "metadata": {},
   "outputs": [],
   "source": [
    "## novel preds\n",
    "df_novel_cand = df_preds_res.loc[~df_preds_res[\"tail_label\"].isin(df_diet_known[\"OBJECT_NAME\"])]\n",
    "print(df_novel_cand.shape[0],\"total unfil novel candidates\")\n",
    "df_novel_cand.loc[df_novel_cand[\"score\"]>=min_score_real]"
   ]
  },
  {
   "cell_type": "markdown",
   "id": "216eeade-1484-4f1b-8cb4-2ad2002e40c9",
   "metadata": {},
   "source": [
    "* Alt: candidates for what prevents a disease (mayu also want to look at \"neagtuively affected by\")"
   ]
  },
  {
   "cell_type": "code",
   "execution_count": null,
   "id": "ea1cbc48-d0be-4b2a-bc6a-e23ba821f6b5",
   "metadata": {},
   "outputs": [],
   "source": [
    "subsetPredicates"
   ]
  },
  {
   "cell_type": "code",
   "execution_count": null,
   "id": "f9af468e-ae62-46f9-a968-ab354075cbb4",
   "metadata": {},
   "outputs": [],
   "source": [
    "object_cand_query = \"Multiple Sclerosis\"\n",
    "NEG_PREDICATES = [\"CAUSES\",'INHIBITS','PREVENTS', 'TREATS'] # ,'DISRUPTS',  - most common res, includes cytokines\n",
    "df_preds_res = pd.DataFrame()\n",
    "\n",
    "for p in NEG_PREDICATES:\n",
    "    print(p)\n",
    "    df_temp = predict_target(model=results.model,\n",
    "        # head=query,\n",
    "        relation= p,#\"PREVENTS\", ##subsetPredicates\n",
    "         tail=object_cand_query,\n",
    "         triples_factory=tf).df\n",
    "    df_temp[\"predicate\"]= p\n",
    "    df_preds_res = pd.concat([df_preds_res,df_temp])\n",
    "    \n",
    "df_preds_res = df_preds_res.drop_duplicates(subset=[\"head_label\",\"predicate\"]).round(2)\n",
    "# df_known = df_kg.loc[(df_kg['OBJECT_NAME']==object_cand_query)&(df_kg['PREDICATE']==\"PREVENTS\")]\n",
    "df_known = df_kg.loc[(df_kg['OBJECT_NAME']==object_cand_query)&(df_kg['PREDICATE'].isin(NEG_PREDICATES))]\n",
    "df_preds_res = df_preds_res.loc[~df_preds_res[\"head_label\"].isin(df_known[\"OBJECT_NAME\"])].sort_values(\"score\",ascending=False)#.head(25)\n",
    "### filterr by min real score i.e score of known cases\n",
    "min_score_real = df_preds_res.loc[df_preds_res[\"head_label\"].isin(df_known[\"SUBJECT_NAME\"])][\"score\"].min()\n",
    "df_preds_res = df_preds_res.loc[df_preds_res[\"score\"]>=min_score_real]\n",
    "\n",
    "df_preds_res#.head(25)"
   ]
  },
  {
   "cell_type": "code",
   "execution_count": null,
   "id": "98154dcc-010c-4401-9dc7-3155f012e568",
   "metadata": {},
   "outputs": [],
   "source": [
    "# df_preds_res.loc[df_preds_res[\"predicate\"]==\"PREVENTS\"][[\"head_label\",\"predicate\"]].head(24)[\"head_label\"].values.to_clipboard()\n",
    "df_preds_res.loc[df_preds_res[\"predicate\"]==\"PREVENTS\"][[\"head_label\",\"predicate\"]].head(24)"
   ]
  },
  {
   "cell_type": "code",
   "execution_count": null,
   "id": "e0039c01-3d55-4f8f-9e36-b87e3fe0fc71",
   "metadata": {},
   "outputs": [],
   "source": [
    "# df_preds_res.loc[df_preds_res[\"predicate\"]==\"TREATS\"][[\"head_label\",\"predicate\"]].head(30).to_clipboard()\n",
    "\n",
    "df_preds_res.loc[df_preds_res[\"predicate\"]==\"INHIBITS\"][[\"head_label\",\"predicate\"]].head(30)#.to_clipboard()"
   ]
  },
  {
   "cell_type": "code",
   "execution_count": null,
   "id": "a42f7ee8-5770-483e-a9ce-46f6a79ba7e9",
   "metadata": {},
   "outputs": [],
   "source": [
    "df_preds_res[[\"head_label\",\"predicate\"]].head(33)"
   ]
  },
  {
   "cell_type": "code",
   "execution_count": null,
   "id": "faa7529f-c833-4f5e-aef6-ee1a8a7590f7",
   "metadata": {},
   "outputs": [],
   "source": [
    "df_known"
   ]
  },
  {
   "cell_type": "code",
   "execution_count": null,
   "id": "d93314cf-2ee3-4245-a76f-95c40334d50f",
   "metadata": {},
   "outputs": [],
   "source": []
  },
  {
   "cell_type": "code",
   "execution_count": null,
   "id": "49100184-f5e0-4925-85b1-2f4b2a7dc651",
   "metadata": {},
   "outputs": [],
   "source": []
  }
 ],
 "metadata": {
  "kernelspec": {
   "display_name": "Python 3 (ipykernel)",
   "language": "python",
   "name": "python3"
  },
  "language_info": {
   "codemirror_mode": {
    "name": "ipython",
    "version": 3
   },
   "file_extension": ".py",
   "mimetype": "text/x-python",
   "name": "python",
   "nbconvert_exporter": "python",
   "pygments_lexer": "ipython3",
   "version": "3.9.7"
  }
 },
 "nbformat": 4,
 "nbformat_minor": 5
}
